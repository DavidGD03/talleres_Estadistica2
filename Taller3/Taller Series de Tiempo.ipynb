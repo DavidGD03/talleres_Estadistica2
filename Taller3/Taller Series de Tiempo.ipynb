{
 "cells": [
  {
   "cell_type": "markdown",
   "metadata": {
    "colab_type": "text",
    "id": "wyYaRwJoLixG"
   },
   "source": [
    "# <center>**TALLER III - Estadística II**</center>\n",
    "\n",
    "<center>\n",
    "<img height=\"150px\" src=\"https://ediciones.uis.edu.co/public/presses/1/pageHeaderLogoImage_es_ES.png\">\n",
    "</center>\n",
    "\n",
    "\n",
    "---\n",
    "\n",
    "#### **Integrantes**: \n",
    "\n",
    "*   Nicolás Galván\n",
    "*   David Rojas\n",
    "*   Christian Ruiz Lagos\n",
    "\n",
    "\n"
   ]
  },
  {
   "cell_type": "markdown",
   "metadata": {
    "colab_type": "text",
    "id": "7k0oXOJGLixI"
   },
   "source": [
    "## Ejercicio 1 - Análisis de series de tiempo"
   ]
  },
  {
   "cell_type": "markdown",
   "metadata": {
    "colab_type": "text",
    "id": "LcREB-fELixJ"
   },
   "source": [
    "Use los datos de COVID - 19 en Colombia para hacer el análisis de series de tiempo. La tabla la encuentra en https://www.datos.gov.co/Salud-y-Protecci-n-Social/Casos-positivos-de-COVID-19-en-Colombia/gt2j-8ykr/data o ya generada en https://www.dropbox.com/s/6zhlsye308tikf9/covid_19.csv?dl=0\n",
    "Compare los casos mediante Fecha de Notificación, Fecha de Diagnóstico, etc."
   ]
  },
  {
   "cell_type": "code",
   "execution_count": 1,
   "metadata": {},
   "outputs": [
    {
     "name": "stderr",
     "output_type": "stream",
     "text": [
      "Warning message:\n",
      "\"package 'forecast' was built under R version 3.6.3\"Registered S3 method overwritten by 'xts':\n",
      "  method     from\n",
      "  as.zoo.xts zoo \n",
      "Registered S3 method overwritten by 'quantmod':\n",
      "  method            from\n",
      "  as.zoo.data.frame zoo \n",
      "\n",
      "Attaching package: 'dplyr'\n",
      "\n",
      "The following objects are masked from 'package:stats':\n",
      "\n",
      "    filter, lag\n",
      "\n",
      "The following objects are masked from 'package:base':\n",
      "\n",
      "    intersect, setdiff, setequal, union\n",
      "\n"
     ]
    }
   ],
   "source": [
    "library(readr)\n",
    "library(forecast)\n",
    "library(dplyr)"
   ]
  },
  {
   "cell_type": "code",
   "execution_count": 2,
   "metadata": {},
   "outputs": [
    {
     "name": "stderr",
     "output_type": "stream",
     "text": [
      "Parsed with column specification:\n",
      "cols(\n",
      "  .default = col_character(),\n",
      "  `ID de caso` = col_double(),\n",
      "  `Fecha de notificación` = col_datetime(format = \"\"),\n",
      "  Edad = col_double(),\n",
      "  `Fecha de muerte` = col_datetime(format = \"\"),\n",
      "  `Fecha diagnostico` = col_datetime(format = \"\"),\n",
      "  `Fecha recuperado` = col_datetime(format = \"\"),\n",
      "  `fecha reporte web` = col_datetime(format = \"\"),\n",
      "  `Codigo departamento` = col_double(),\n",
      "  `Codigo pais` = col_double()\n",
      ")\n",
      "See spec(...) for full column specifications.\n"
     ]
    }
   ],
   "source": [
    "covid_19 <- read_csv(\"https://www.dropbox.com/s/6zhlsye308tikf9/covid_19.csv?dl=1\")"
   ]
  },
  {
   "cell_type": "code",
   "execution_count": 3,
   "metadata": {},
   "outputs": [
    {
     "data": {
      "text/html": [
       "<table>\n",
       "<thead><tr><th scope=col>ID de caso</th><th scope=col>Fecha de notificación</th><th scope=col>Código DIVIPOLA</th><th scope=col>Ciudad de ubicación</th><th scope=col>Departamento o Distrito</th><th scope=col>atención</th><th scope=col>Edad</th><th scope=col>Sexo</th><th scope=col>Tipo</th><th scope=col>Estado</th><th scope=col>...</th><th scope=col>FIS</th><th scope=col>Fecha de muerte</th><th scope=col>Fecha diagnostico</th><th scope=col>Fecha recuperado</th><th scope=col>fecha reporte web</th><th scope=col>Tipo recuperación</th><th scope=col>Codigo departamento</th><th scope=col>Codigo pais</th><th scope=col>Pertenencia etnica</th><th scope=col>Nombre grupo etnico</th></tr></thead>\n",
       "<tbody>\n",
       "\t<tr><td>1                      </td><td>2020-03-02             </td><td>11001                  </td><td>Bogotá D.C.            </td><td>Bogotá D.C.            </td><td>Recuperado             </td><td>19                     </td><td>F                      </td><td>Importado              </td><td>Leve                   </td><td>...                    </td><td>2020-02-27T00:00:00.000</td><td>NA                     </td><td>2020-03-06             </td><td>2020-03-13             </td><td>2020-03-06             </td><td>PCR                    </td><td>11                     </td><td>380                    </td><td>Otro                   </td><td>NA                     </td></tr>\n",
       "\t<tr><td>2                      </td><td>2020-03-06             </td><td>76111                  </td><td>Guadalajara de Buga    </td><td>Valle del Cauca        </td><td>Recuperado             </td><td>34                     </td><td>M                      </td><td>Importado              </td><td>Leve                   </td><td>...                    </td><td>2020-03-04T00:00:00.000</td><td>NA                     </td><td>2020-03-09             </td><td>2020-03-19             </td><td>2020-03-09             </td><td>PCR                    </td><td>76                     </td><td>724                    </td><td>Otro                   </td><td>NA                     </td></tr>\n",
       "\t<tr><td>3                      </td><td>2020-03-07             </td><td>05001                  </td><td>Medellín               </td><td>Antioquia              </td><td>Recuperado             </td><td>50                     </td><td>F                      </td><td>Importado              </td><td>Leve                   </td><td>...                    </td><td>2020-02-29T00:00:00.000</td><td>NA                     </td><td>2020-03-09             </td><td>2020-03-15             </td><td>2020-03-09             </td><td>PCR                    </td><td> 5                     </td><td>724                    </td><td>Otro                   </td><td>NA                     </td></tr>\n",
       "\t<tr><td>4                      </td><td>2020-03-09             </td><td>05001                  </td><td>Medellín               </td><td>Antioquia              </td><td>Recuperado             </td><td>55                     </td><td>M                      </td><td>Relacionado            </td><td>Leve                   </td><td>...                    </td><td>2020-03-06T00:00:00.000</td><td>NA                     </td><td>2020-03-11             </td><td>2020-03-26             </td><td>2020-03-11             </td><td>PCR                    </td><td> 5                     </td><td> NA                    </td><td>Otro                   </td><td>NA                     </td></tr>\n",
       "\t<tr><td>5                      </td><td>2020-03-09             </td><td>05001                  </td><td>Medellín               </td><td>Antioquia              </td><td>Recuperado             </td><td>25                     </td><td>M                      </td><td>Relacionado            </td><td>Leve                   </td><td>...                    </td><td>2020-03-08T00:00:00.000</td><td>NA                     </td><td>2020-03-11             </td><td>2020-03-23             </td><td>2020-03-11             </td><td>PCR                    </td><td> 5                     </td><td> NA                    </td><td>Otro                   </td><td>NA                     </td></tr>\n",
       "\t<tr><td>6                      </td><td>2020-03-10             </td><td>05360                  </td><td>Itagüí                 </td><td>Antioquia              </td><td>Recuperado             </td><td>27                     </td><td>F                      </td><td>Relacionado            </td><td>Leve                   </td><td>...                    </td><td>2020-03-06T00:00:00.000</td><td>NA                     </td><td>2020-03-11             </td><td>2020-03-26             </td><td>2020-03-11             </td><td>PCR                    </td><td> 5                     </td><td> NA                    </td><td>Otro                   </td><td>NA                     </td></tr>\n",
       "</tbody>\n",
       "</table>\n"
      ],
      "text/latex": [
       "\\begin{tabular}{r|lllllllllllllllllllll}\n",
       " ID de caso & Fecha de notificación & Código DIVIPOLA & Ciudad de ubicación & Departamento o Distrito & atención & Edad & Sexo & Tipo & Estado & ... & FIS & Fecha de muerte & Fecha diagnostico & Fecha recuperado & fecha reporte web & Tipo recuperación & Codigo departamento & Codigo pais & Pertenencia etnica & Nombre grupo etnico\\\\\n",
       "\\hline\n",
       "\t 1                       & 2020-03-02              & 11001                   & Bogotá D.C.             & Bogotá D.C.             & Recuperado              & 19                      & F                       & Importado               & Leve                    & ...                     & 2020-02-27T00:00:00.000 & NA                      & 2020-03-06              & 2020-03-13              & 2020-03-06              & PCR                     & 11                      & 380                     & Otro                    & NA                     \\\\\n",
       "\t 2                       & 2020-03-06              & 76111                   & Guadalajara de Buga     & Valle del Cauca         & Recuperado              & 34                      & M                       & Importado               & Leve                    & ...                     & 2020-03-04T00:00:00.000 & NA                      & 2020-03-09              & 2020-03-19              & 2020-03-09              & PCR                     & 76                      & 724                     & Otro                    & NA                     \\\\\n",
       "\t 3                       & 2020-03-07              & 05001                   & Medellín                & Antioquia               & Recuperado              & 50                      & F                       & Importado               & Leve                    & ...                     & 2020-02-29T00:00:00.000 & NA                      & 2020-03-09              & 2020-03-15              & 2020-03-09              & PCR                     &  5                      & 724                     & Otro                    & NA                     \\\\\n",
       "\t 4                       & 2020-03-09              & 05001                   & Medellín                & Antioquia               & Recuperado              & 55                      & M                       & Relacionado             & Leve                    & ...                     & 2020-03-06T00:00:00.000 & NA                      & 2020-03-11              & 2020-03-26              & 2020-03-11              & PCR                     &  5                      &  NA                     & Otro                    & NA                     \\\\\n",
       "\t 5                       & 2020-03-09              & 05001                   & Medellín                & Antioquia               & Recuperado              & 25                      & M                       & Relacionado             & Leve                    & ...                     & 2020-03-08T00:00:00.000 & NA                      & 2020-03-11              & 2020-03-23              & 2020-03-11              & PCR                     &  5                      &  NA                     & Otro                    & NA                     \\\\\n",
       "\t 6                       & 2020-03-10              & 05360                   & Itagüí                  & Antioquia               & Recuperado              & 27                      & F                       & Relacionado             & Leve                    & ...                     & 2020-03-06T00:00:00.000 & NA                      & 2020-03-11              & 2020-03-26              & 2020-03-11              & PCR                     &  5                      &  NA                     & Otro                    & NA                     \\\\\n",
       "\\end{tabular}\n"
      ],
      "text/markdown": [
       "\n",
       "| ID de caso | Fecha de notificación | Código DIVIPOLA | Ciudad de ubicación | Departamento o Distrito | atención | Edad | Sexo | Tipo | Estado | ... | FIS | Fecha de muerte | Fecha diagnostico | Fecha recuperado | fecha reporte web | Tipo recuperación | Codigo departamento | Codigo pais | Pertenencia etnica | Nombre grupo etnico |\n",
       "|---|---|---|---|---|---|---|---|---|---|---|---|---|---|---|---|---|---|---|---|---|\n",
       "| 1                       | 2020-03-02              | 11001                   | Bogotá D.C.             | Bogotá D.C.             | Recuperado              | 19                      | F                       | Importado               | Leve                    | ...                     | 2020-02-27T00:00:00.000 | NA                      | 2020-03-06              | 2020-03-13              | 2020-03-06              | PCR                     | 11                      | 380                     | Otro                    | NA                      |\n",
       "| 2                       | 2020-03-06              | 76111                   | Guadalajara de Buga     | Valle del Cauca         | Recuperado              | 34                      | M                       | Importado               | Leve                    | ...                     | 2020-03-04T00:00:00.000 | NA                      | 2020-03-09              | 2020-03-19              | 2020-03-09              | PCR                     | 76                      | 724                     | Otro                    | NA                      |\n",
       "| 3                       | 2020-03-07              | 05001                   | Medellín                | Antioquia               | Recuperado              | 50                      | F                       | Importado               | Leve                    | ...                     | 2020-02-29T00:00:00.000 | NA                      | 2020-03-09              | 2020-03-15              | 2020-03-09              | PCR                     |  5                      | 724                     | Otro                    | NA                      |\n",
       "| 4                       | 2020-03-09              | 05001                   | Medellín                | Antioquia               | Recuperado              | 55                      | M                       | Relacionado             | Leve                    | ...                     | 2020-03-06T00:00:00.000 | NA                      | 2020-03-11              | 2020-03-26              | 2020-03-11              | PCR                     |  5                      |  NA                     | Otro                    | NA                      |\n",
       "| 5                       | 2020-03-09              | 05001                   | Medellín                | Antioquia               | Recuperado              | 25                      | M                       | Relacionado             | Leve                    | ...                     | 2020-03-08T00:00:00.000 | NA                      | 2020-03-11              | 2020-03-23              | 2020-03-11              | PCR                     |  5                      |  NA                     | Otro                    | NA                      |\n",
       "| 6                       | 2020-03-10              | 05360                   | Itagüí                  | Antioquia               | Recuperado              | 27                      | F                       | Relacionado             | Leve                    | ...                     | 2020-03-06T00:00:00.000 | NA                      | 2020-03-11              | 2020-03-26              | 2020-03-11              | PCR                     |  5                      |  NA                     | Otro                    | NA                      |\n",
       "\n"
      ],
      "text/plain": [
       "  ID de caso Fecha de notificación Código DIVIPOLA Ciudad de ubicación\n",
       "1 1          2020-03-02            11001           Bogotá D.C.        \n",
       "2 2          2020-03-06            76111           Guadalajara de Buga\n",
       "3 3          2020-03-07            05001           Medellín           \n",
       "4 4          2020-03-09            05001           Medellín           \n",
       "5 5          2020-03-09            05001           Medellín           \n",
       "6 6          2020-03-10            05360           Itagüí             \n",
       "  Departamento o Distrito atención   Edad Sexo Tipo        Estado ...\n",
       "1 Bogotá D.C.             Recuperado 19   F    Importado   Leve   ...\n",
       "2 Valle del Cauca         Recuperado 34   M    Importado   Leve   ...\n",
       "3 Antioquia               Recuperado 50   F    Importado   Leve   ...\n",
       "4 Antioquia               Recuperado 55   M    Relacionado Leve   ...\n",
       "5 Antioquia               Recuperado 25   M    Relacionado Leve   ...\n",
       "6 Antioquia               Recuperado 27   F    Relacionado Leve   ...\n",
       "  FIS                     Fecha de muerte Fecha diagnostico Fecha recuperado\n",
       "1 2020-02-27T00:00:00.000 <NA>            2020-03-06        2020-03-13      \n",
       "2 2020-03-04T00:00:00.000 <NA>            2020-03-09        2020-03-19      \n",
       "3 2020-02-29T00:00:00.000 <NA>            2020-03-09        2020-03-15      \n",
       "4 2020-03-06T00:00:00.000 <NA>            2020-03-11        2020-03-26      \n",
       "5 2020-03-08T00:00:00.000 <NA>            2020-03-11        2020-03-23      \n",
       "6 2020-03-06T00:00:00.000 <NA>            2020-03-11        2020-03-26      \n",
       "  fecha reporte web Tipo recuperación Codigo departamento Codigo pais\n",
       "1 2020-03-06        PCR               11                  380        \n",
       "2 2020-03-09        PCR               76                  724        \n",
       "3 2020-03-09        PCR                5                  724        \n",
       "4 2020-03-11        PCR                5                   NA        \n",
       "5 2020-03-11        PCR                5                   NA        \n",
       "6 2020-03-11        PCR                5                   NA        \n",
       "  Pertenencia etnica Nombre grupo etnico\n",
       "1 Otro               NA                 \n",
       "2 Otro               NA                 \n",
       "3 Otro               NA                 \n",
       "4 Otro               NA                 \n",
       "5 Otro               NA                 \n",
       "6 Otro               NA                 "
      ]
     },
     "metadata": {},
     "output_type": "display_data"
    }
   ],
   "source": [
    "head(covid_19)"
   ]
  },
  {
   "cell_type": "code",
   "execution_count": 4,
   "metadata": {},
   "outputs": [
    {
     "data": {
      "text/html": [
       "<ol class=list-inline>\n",
       "\t<li>276055</li>\n",
       "\t<li>21</li>\n",
       "</ol>\n"
      ],
      "text/latex": [
       "\\begin{enumerate*}\n",
       "\\item 276055\n",
       "\\item 21\n",
       "\\end{enumerate*}\n"
      ],
      "text/markdown": [
       "1. 276055\n",
       "2. 21\n",
       "\n",
       "\n"
      ],
      "text/plain": [
       "[1] 276055     21"
      ]
     },
     "metadata": {},
     "output_type": "display_data"
    }
   ],
   "source": [
    "dim(covid_19)"
   ]
  },
  {
   "cell_type": "code",
   "execution_count": 5,
   "metadata": {},
   "outputs": [],
   "source": [
    "covid_19$'Fecha diagnostico' <- as.Date(covid_19$'Fecha diagnostico')\n",
    "covid_19$'fecha reporte web' <- as.Date(covid_19$'fecha reporte web')\n",
    "covid_19$'Fecha de notificación' <- as.Date(covid_19$'Fecha de notificación')"
   ]
  },
  {
   "cell_type": "code",
   "execution_count": 6,
   "metadata": {},
   "outputs": [
    {
     "data": {
      "text/html": [
       "<ol class=list-inline>\n",
       "\t<li><time datetime=\"2020-03-06\">2020-03-06</time></li>\n",
       "\t<li><time datetime=\"2020-03-09\">2020-03-09</time></li>\n",
       "\t<li><time datetime=\"2020-03-11\">2020-03-11</time></li>\n",
       "\t<li><time datetime=\"2020-03-12\">2020-03-12</time></li>\n",
       "\t<li><time datetime=\"2020-03-13\">2020-03-13</time></li>\n",
       "\t<li><time datetime=\"2020-03-14\">2020-03-14</time></li>\n",
       "\t<li><time datetime=\"2020-03-15\">2020-03-15</time></li>\n",
       "\t<li><time datetime=\"2020-03-16\">2020-03-16</time></li>\n",
       "\t<li><time datetime=\"2020-03-17\">2020-03-17</time></li>\n",
       "\t<li><time datetime=\"2020-03-18\">2020-03-18</time></li>\n",
       "\t<li><time datetime=\"2020-03-19\">2020-03-19</time></li>\n",
       "\t<li><time datetime=\"2020-03-20\">2020-03-20</time></li>\n",
       "\t<li><time datetime=\"2020-03-21\">2020-03-21</time></li>\n",
       "\t<li><time datetime=\"2020-03-22\">2020-03-22</time></li>\n",
       "\t<li><time datetime=\"2020-03-23\">2020-03-23</time></li>\n",
       "\t<li><time datetime=\"2020-03-24\">2020-03-24</time></li>\n",
       "\t<li><time datetime=\"2020-03-27\">2020-03-27</time></li>\n",
       "\t<li><time datetime=\"2020-03-25\">2020-03-25</time></li>\n",
       "\t<li><time datetime=\"2020-03-26\">2020-03-26</time></li>\n",
       "\t<li><time datetime=\"2020-03-28\">2020-03-28</time></li>\n",
       "\t<li><time datetime=\"2020-03-29\">2020-03-29</time></li>\n",
       "\t<li><time datetime=\"2020-03-30\">2020-03-30</time></li>\n",
       "\t<li><time datetime=\"2020-03-31\">2020-03-31</time></li>\n",
       "\t<li><time datetime=\"2020-04-01\">2020-04-01</time></li>\n",
       "\t<li><time datetime=\"2020-04-02\">2020-04-02</time></li>\n",
       "\t<li><time datetime=\"2020-04-03\">2020-04-03</time></li>\n",
       "\t<li><time datetime=\"2020-04-04\">2020-04-04</time></li>\n",
       "\t<li><time datetime=\"2020-04-05\">2020-04-05</time></li>\n",
       "\t<li><time datetime=\"2020-04-06\">2020-04-06</time></li>\n",
       "\t<li><time datetime=\"2020-04-07\">2020-04-07</time></li>\n",
       "\t<li><time datetime=\"2020-04-08\">2020-04-08</time></li>\n",
       "\t<li><time datetime=\"2020-04-09\">2020-04-09</time></li>\n",
       "\t<li><time datetime=\"2020-04-10\">2020-04-10</time></li>\n",
       "\t<li><time datetime=\"2020-04-11\">2020-04-11</time></li>\n",
       "\t<li><time datetime=\"2020-04-12\">2020-04-12</time></li>\n",
       "\t<li><time datetime=\"2020-04-13\">2020-04-13</time></li>\n",
       "\t<li><time datetime=\"2020-04-14\">2020-04-14</time></li>\n",
       "\t<li><time datetime=\"2020-04-19\">2020-04-19</time></li>\n",
       "\t<li><time datetime=\"2020-04-15\">2020-04-15</time></li>\n",
       "\t<li><time datetime=\"2020-04-28\">2020-04-28</time></li>\n",
       "\t<li><time datetime=\"2020-04-16\">2020-04-16</time></li>\n",
       "\t<li><time datetime=\"2020-04-17\">2020-04-17</time></li>\n",
       "\t<li><time datetime=\"2020-04-18\">2020-04-18</time></li>\n",
       "\t<li><time datetime=\"2020-04-20\">2020-04-20</time></li>\n",
       "\t<li><time datetime=\"2020-04-22\">2020-04-22</time></li>\n",
       "\t<li><time datetime=\"2020-04-21\">2020-04-21</time></li>\n",
       "\t<li><time datetime=\"2020-04-23\">2020-04-23</time></li>\n",
       "\t<li><time datetime=\"2020-05-01\">2020-05-01</time></li>\n",
       "\t<li><time datetime=\"2020-04-24\">2020-04-24</time></li>\n",
       "\t<li><time datetime=\"2020-05-05\">2020-05-05</time></li>\n",
       "\t<li><time datetime=\"2020-04-25\">2020-04-25</time></li>\n",
       "\t<li><time datetime=\"2020-04-26\">2020-04-26</time></li>\n",
       "\t<li><time datetime=\"2020-04-27\">2020-04-27</time></li>\n",
       "\t<li><time datetime=\"2020-04-29\">2020-04-29</time></li>\n",
       "\t<li><time datetime=\"2020-04-30\">2020-04-30</time></li>\n",
       "\t<li><time datetime=\"2020-05-02\">2020-05-02</time></li>\n",
       "\t<li><time datetime=\"2020-05-04\">2020-05-04</time></li>\n",
       "\t<li><time datetime=\"2020-05-03\">2020-05-03</time></li>\n",
       "\t<li><time datetime=\"&lt;NA&gt;\">&lt;NA&gt;</time></li>\n",
       "\t<li><time datetime=\"2020-05-06\">2020-05-06</time></li>\n",
       "\t<li><time datetime=\"2020-05-07\">2020-05-07</time></li>\n",
       "\t<li><time datetime=\"2020-05-08\">2020-05-08</time></li>\n",
       "\t<li><time datetime=\"2020-05-09\">2020-05-09</time></li>\n",
       "\t<li><time datetime=\"2020-05-10\">2020-05-10</time></li>\n",
       "\t<li><time datetime=\"2020-05-11\">2020-05-11</time></li>\n",
       "\t<li><time datetime=\"2020-05-12\">2020-05-12</time></li>\n",
       "\t<li><time datetime=\"2020-05-13\">2020-05-13</time></li>\n",
       "\t<li><time datetime=\"2020-07-05\">2020-07-05</time></li>\n",
       "\t<li><time datetime=\"2020-05-14\">2020-05-14</time></li>\n",
       "\t<li><time datetime=\"2020-05-15\">2020-05-15</time></li>\n",
       "\t<li><time datetime=\"2020-05-16\">2020-05-16</time></li>\n",
       "\t<li><time datetime=\"2020-05-17\">2020-05-17</time></li>\n",
       "\t<li><time datetime=\"2020-05-18\">2020-05-18</time></li>\n",
       "\t<li><time datetime=\"2020-05-19\">2020-05-19</time></li>\n",
       "\t<li><time datetime=\"2020-05-20\">2020-05-20</time></li>\n",
       "\t<li><time datetime=\"2020-05-29\">2020-05-29</time></li>\n",
       "\t<li><time datetime=\"2020-05-21\">2020-05-21</time></li>\n",
       "\t<li><time datetime=\"2020-05-22\">2020-05-22</time></li>\n",
       "\t<li><time datetime=\"2020-07-07\">2020-07-07</time></li>\n",
       "\t<li><time datetime=\"2020-05-23\">2020-05-23</time></li>\n",
       "\t<li><time datetime=\"2020-06-01\">2020-06-01</time></li>\n",
       "\t<li><time datetime=\"2020-05-24\">2020-05-24</time></li>\n",
       "\t<li><time datetime=\"2020-05-25\">2020-05-25</time></li>\n",
       "\t<li><time datetime=\"2020-05-26\">2020-05-26</time></li>\n",
       "\t<li><time datetime=\"2020-05-27\">2020-05-27</time></li>\n",
       "\t<li><time datetime=\"2020-05-28\">2020-05-28</time></li>\n",
       "\t<li><time datetime=\"2020-05-30\">2020-05-30</time></li>\n",
       "\t<li><time datetime=\"2020-05-31\">2020-05-31</time></li>\n",
       "\t<li><time datetime=\"2020-06-03\">2020-06-03</time></li>\n",
       "\t<li><time datetime=\"2020-06-02\">2020-06-02</time></li>\n",
       "\t<li><time datetime=\"2020-06-05\">2020-06-05</time></li>\n",
       "\t<li><time datetime=\"2020-06-04\">2020-06-04</time></li>\n",
       "\t<li><time datetime=\"2020-06-06\">2020-06-06</time></li>\n",
       "\t<li><time datetime=\"2020-06-07\">2020-06-07</time></li>\n",
       "\t<li><time datetime=\"2020-06-26\">2020-06-26</time></li>\n",
       "\t<li><time datetime=\"2020-06-08\">2020-06-08</time></li>\n",
       "\t<li><time datetime=\"2020-06-28\">2020-06-28</time></li>\n",
       "\t<li><time datetime=\"2020-06-09\">2020-06-09</time></li>\n",
       "\t<li><time datetime=\"2020-06-10\">2020-06-10</time></li>\n",
       "\t<li><time datetime=\"2020-06-11\">2020-06-11</time></li>\n",
       "\t<li><time datetime=\"2020-06-12\">2020-06-12</time></li>\n",
       "\t<li><time datetime=\"2020-06-16\">2020-06-16</time></li>\n",
       "\t<li><time datetime=\"2020-06-13\">2020-06-13</time></li>\n",
       "\t<li><time datetime=\"2020-06-14\">2020-06-14</time></li>\n",
       "\t<li><time datetime=\"2020-07-19\">2020-07-19</time></li>\n",
       "\t<li><time datetime=\"2020-06-15\">2020-06-15</time></li>\n",
       "\t<li><time datetime=\"2020-06-17\">2020-06-17</time></li>\n",
       "\t<li><time datetime=\"2020-06-20\">2020-06-20</time></li>\n",
       "\t<li><time datetime=\"2020-07-17\">2020-07-17</time></li>\n",
       "\t<li><time datetime=\"2020-06-25\">2020-06-25</time></li>\n",
       "\t<li><time datetime=\"2020-06-18\">2020-06-18</time></li>\n",
       "\t<li><time datetime=\"2020-06-23\">2020-06-23</time></li>\n",
       "\t<li><time datetime=\"2020-06-19\">2020-06-19</time></li>\n",
       "\t<li><time datetime=\"2020-07-02\">2020-07-02</time></li>\n",
       "\t<li><time datetime=\"2020-06-21\">2020-06-21</time></li>\n",
       "\t<li><time datetime=\"2020-07-04\">2020-07-04</time></li>\n",
       "\t<li><time datetime=\"2020-07-01\">2020-07-01</time></li>\n",
       "\t<li><time datetime=\"2020-06-29\">2020-06-29</time></li>\n",
       "\t<li><time datetime=\"2020-06-30\">2020-06-30</time></li>\n",
       "\t<li><time datetime=\"2020-07-16\">2020-07-16</time></li>\n",
       "\t<li><time datetime=\"2020-07-03\">2020-07-03</time></li>\n",
       "\t<li><time datetime=\"2020-06-22\">2020-06-22</time></li>\n",
       "\t<li><time datetime=\"2020-06-24\">2020-06-24</time></li>\n",
       "\t<li><time datetime=\"2020-07-11\">2020-07-11</time></li>\n",
       "\t<li><time datetime=\"2020-07-09\">2020-07-09</time></li>\n",
       "\t<li><time datetime=\"2020-07-08\">2020-07-08</time></li>\n",
       "\t<li><time datetime=\"2020-06-27\">2020-06-27</time></li>\n",
       "\t<li><time datetime=\"2020-07-14\">2020-07-14</time></li>\n",
       "\t<li><time datetime=\"2020-07-18\">2020-07-18</time></li>\n",
       "\t<li><time datetime=\"2020-07-06\">2020-07-06</time></li>\n",
       "\t<li><time datetime=\"2020-07-10\">2020-07-10</time></li>\n",
       "\t<li><time datetime=\"2020-07-12\">2020-07-12</time></li>\n",
       "\t<li><time datetime=\"2020-07-13\">2020-07-13</time></li>\n",
       "\t<li><time datetime=\"2020-07-15\">2020-07-15</time></li>\n",
       "\t<li><time datetime=\"2020-07-24\">2020-07-24</time></li>\n",
       "\t<li><time datetime=\"2020-07-20\">2020-07-20</time></li>\n",
       "\t<li><time datetime=\"2020-07-21\">2020-07-21</time></li>\n",
       "\t<li><time datetime=\"2020-07-22\">2020-07-22</time></li>\n",
       "\t<li><time datetime=\"2020-07-26\">2020-07-26</time></li>\n",
       "\t<li><time datetime=\"2020-07-23\">2020-07-23</time></li>\n",
       "\t<li><time datetime=\"2020-07-25\">2020-07-25</time></li>\n",
       "\t<li><time datetime=\"2020-07-27\">2020-07-27</time></li>\n",
       "\t<li><time datetime=\"2020-07-29\">2020-07-29</time></li>\n",
       "\t<li><time datetime=\"2020-07-28\">2020-07-28</time></li>\n",
       "</ol>\n"
      ],
      "text/latex": [
       "\\begin{enumerate*}\n",
       "\\item 2020-03-06\n",
       "\\item 2020-03-09\n",
       "\\item 2020-03-11\n",
       "\\item 2020-03-12\n",
       "\\item 2020-03-13\n",
       "\\item 2020-03-14\n",
       "\\item 2020-03-15\n",
       "\\item 2020-03-16\n",
       "\\item 2020-03-17\n",
       "\\item 2020-03-18\n",
       "\\item 2020-03-19\n",
       "\\item 2020-03-20\n",
       "\\item 2020-03-21\n",
       "\\item 2020-03-22\n",
       "\\item 2020-03-23\n",
       "\\item 2020-03-24\n",
       "\\item 2020-03-27\n",
       "\\item 2020-03-25\n",
       "\\item 2020-03-26\n",
       "\\item 2020-03-28\n",
       "\\item 2020-03-29\n",
       "\\item 2020-03-30\n",
       "\\item 2020-03-31\n",
       "\\item 2020-04-01\n",
       "\\item 2020-04-02\n",
       "\\item 2020-04-03\n",
       "\\item 2020-04-04\n",
       "\\item 2020-04-05\n",
       "\\item 2020-04-06\n",
       "\\item 2020-04-07\n",
       "\\item 2020-04-08\n",
       "\\item 2020-04-09\n",
       "\\item 2020-04-10\n",
       "\\item 2020-04-11\n",
       "\\item 2020-04-12\n",
       "\\item 2020-04-13\n",
       "\\item 2020-04-14\n",
       "\\item 2020-04-19\n",
       "\\item 2020-04-15\n",
       "\\item 2020-04-28\n",
       "\\item 2020-04-16\n",
       "\\item 2020-04-17\n",
       "\\item 2020-04-18\n",
       "\\item 2020-04-20\n",
       "\\item 2020-04-22\n",
       "\\item 2020-04-21\n",
       "\\item 2020-04-23\n",
       "\\item 2020-05-01\n",
       "\\item 2020-04-24\n",
       "\\item 2020-05-05\n",
       "\\item 2020-04-25\n",
       "\\item 2020-04-26\n",
       "\\item 2020-04-27\n",
       "\\item 2020-04-29\n",
       "\\item 2020-04-30\n",
       "\\item 2020-05-02\n",
       "\\item 2020-05-04\n",
       "\\item 2020-05-03\n",
       "\\item <NA>\n",
       "\\item 2020-05-06\n",
       "\\item 2020-05-07\n",
       "\\item 2020-05-08\n",
       "\\item 2020-05-09\n",
       "\\item 2020-05-10\n",
       "\\item 2020-05-11\n",
       "\\item 2020-05-12\n",
       "\\item 2020-05-13\n",
       "\\item 2020-07-05\n",
       "\\item 2020-05-14\n",
       "\\item 2020-05-15\n",
       "\\item 2020-05-16\n",
       "\\item 2020-05-17\n",
       "\\item 2020-05-18\n",
       "\\item 2020-05-19\n",
       "\\item 2020-05-20\n",
       "\\item 2020-05-29\n",
       "\\item 2020-05-21\n",
       "\\item 2020-05-22\n",
       "\\item 2020-07-07\n",
       "\\item 2020-05-23\n",
       "\\item 2020-06-01\n",
       "\\item 2020-05-24\n",
       "\\item 2020-05-25\n",
       "\\item 2020-05-26\n",
       "\\item 2020-05-27\n",
       "\\item 2020-05-28\n",
       "\\item 2020-05-30\n",
       "\\item 2020-05-31\n",
       "\\item 2020-06-03\n",
       "\\item 2020-06-02\n",
       "\\item 2020-06-05\n",
       "\\item 2020-06-04\n",
       "\\item 2020-06-06\n",
       "\\item 2020-06-07\n",
       "\\item 2020-06-26\n",
       "\\item 2020-06-08\n",
       "\\item 2020-06-28\n",
       "\\item 2020-06-09\n",
       "\\item 2020-06-10\n",
       "\\item 2020-06-11\n",
       "\\item 2020-06-12\n",
       "\\item 2020-06-16\n",
       "\\item 2020-06-13\n",
       "\\item 2020-06-14\n",
       "\\item 2020-07-19\n",
       "\\item 2020-06-15\n",
       "\\item 2020-06-17\n",
       "\\item 2020-06-20\n",
       "\\item 2020-07-17\n",
       "\\item 2020-06-25\n",
       "\\item 2020-06-18\n",
       "\\item 2020-06-23\n",
       "\\item 2020-06-19\n",
       "\\item 2020-07-02\n",
       "\\item 2020-06-21\n",
       "\\item 2020-07-04\n",
       "\\item 2020-07-01\n",
       "\\item 2020-06-29\n",
       "\\item 2020-06-30\n",
       "\\item 2020-07-16\n",
       "\\item 2020-07-03\n",
       "\\item 2020-06-22\n",
       "\\item 2020-06-24\n",
       "\\item 2020-07-11\n",
       "\\item 2020-07-09\n",
       "\\item 2020-07-08\n",
       "\\item 2020-06-27\n",
       "\\item 2020-07-14\n",
       "\\item 2020-07-18\n",
       "\\item 2020-07-06\n",
       "\\item 2020-07-10\n",
       "\\item 2020-07-12\n",
       "\\item 2020-07-13\n",
       "\\item 2020-07-15\n",
       "\\item 2020-07-24\n",
       "\\item 2020-07-20\n",
       "\\item 2020-07-21\n",
       "\\item 2020-07-22\n",
       "\\item 2020-07-26\n",
       "\\item 2020-07-23\n",
       "\\item 2020-07-25\n",
       "\\item 2020-07-27\n",
       "\\item 2020-07-29\n",
       "\\item 2020-07-28\n",
       "\\end{enumerate*}\n"
      ],
      "text/markdown": [
       "1. 2020-03-06\n",
       "2. 2020-03-09\n",
       "3. 2020-03-11\n",
       "4. 2020-03-12\n",
       "5. 2020-03-13\n",
       "6. 2020-03-14\n",
       "7. 2020-03-15\n",
       "8. 2020-03-16\n",
       "9. 2020-03-17\n",
       "10. 2020-03-18\n",
       "11. 2020-03-19\n",
       "12. 2020-03-20\n",
       "13. 2020-03-21\n",
       "14. 2020-03-22\n",
       "15. 2020-03-23\n",
       "16. 2020-03-24\n",
       "17. 2020-03-27\n",
       "18. 2020-03-25\n",
       "19. 2020-03-26\n",
       "20. 2020-03-28\n",
       "21. 2020-03-29\n",
       "22. 2020-03-30\n",
       "23. 2020-03-31\n",
       "24. 2020-04-01\n",
       "25. 2020-04-02\n",
       "26. 2020-04-03\n",
       "27. 2020-04-04\n",
       "28. 2020-04-05\n",
       "29. 2020-04-06\n",
       "30. 2020-04-07\n",
       "31. 2020-04-08\n",
       "32. 2020-04-09\n",
       "33. 2020-04-10\n",
       "34. 2020-04-11\n",
       "35. 2020-04-12\n",
       "36. 2020-04-13\n",
       "37. 2020-04-14\n",
       "38. 2020-04-19\n",
       "39. 2020-04-15\n",
       "40. 2020-04-28\n",
       "41. 2020-04-16\n",
       "42. 2020-04-17\n",
       "43. 2020-04-18\n",
       "44. 2020-04-20\n",
       "45. 2020-04-22\n",
       "46. 2020-04-21\n",
       "47. 2020-04-23\n",
       "48. 2020-05-01\n",
       "49. 2020-04-24\n",
       "50. 2020-05-05\n",
       "51. 2020-04-25\n",
       "52. 2020-04-26\n",
       "53. 2020-04-27\n",
       "54. 2020-04-29\n",
       "55. 2020-04-30\n",
       "56. 2020-05-02\n",
       "57. 2020-05-04\n",
       "58. 2020-05-03\n",
       "59. &lt;NA&gt;\n",
       "60. 2020-05-06\n",
       "61. 2020-05-07\n",
       "62. 2020-05-08\n",
       "63. 2020-05-09\n",
       "64. 2020-05-10\n",
       "65. 2020-05-11\n",
       "66. 2020-05-12\n",
       "67. 2020-05-13\n",
       "68. 2020-07-05\n",
       "69. 2020-05-14\n",
       "70. 2020-05-15\n",
       "71. 2020-05-16\n",
       "72. 2020-05-17\n",
       "73. 2020-05-18\n",
       "74. 2020-05-19\n",
       "75. 2020-05-20\n",
       "76. 2020-05-29\n",
       "77. 2020-05-21\n",
       "78. 2020-05-22\n",
       "79. 2020-07-07\n",
       "80. 2020-05-23\n",
       "81. 2020-06-01\n",
       "82. 2020-05-24\n",
       "83. 2020-05-25\n",
       "84. 2020-05-26\n",
       "85. 2020-05-27\n",
       "86. 2020-05-28\n",
       "87. 2020-05-30\n",
       "88. 2020-05-31\n",
       "89. 2020-06-03\n",
       "90. 2020-06-02\n",
       "91. 2020-06-05\n",
       "92. 2020-06-04\n",
       "93. 2020-06-06\n",
       "94. 2020-06-07\n",
       "95. 2020-06-26\n",
       "96. 2020-06-08\n",
       "97. 2020-06-28\n",
       "98. 2020-06-09\n",
       "99. 2020-06-10\n",
       "100. 2020-06-11\n",
       "101. 2020-06-12\n",
       "102. 2020-06-16\n",
       "103. 2020-06-13\n",
       "104. 2020-06-14\n",
       "105. 2020-07-19\n",
       "106. 2020-06-15\n",
       "107. 2020-06-17\n",
       "108. 2020-06-20\n",
       "109. 2020-07-17\n",
       "110. 2020-06-25\n",
       "111. 2020-06-18\n",
       "112. 2020-06-23\n",
       "113. 2020-06-19\n",
       "114. 2020-07-02\n",
       "115. 2020-06-21\n",
       "116. 2020-07-04\n",
       "117. 2020-07-01\n",
       "118. 2020-06-29\n",
       "119. 2020-06-30\n",
       "120. 2020-07-16\n",
       "121. 2020-07-03\n",
       "122. 2020-06-22\n",
       "123. 2020-06-24\n",
       "124. 2020-07-11\n",
       "125. 2020-07-09\n",
       "126. 2020-07-08\n",
       "127. 2020-06-27\n",
       "128. 2020-07-14\n",
       "129. 2020-07-18\n",
       "130. 2020-07-06\n",
       "131. 2020-07-10\n",
       "132. 2020-07-12\n",
       "133. 2020-07-13\n",
       "134. 2020-07-15\n",
       "135. 2020-07-24\n",
       "136. 2020-07-20\n",
       "137. 2020-07-21\n",
       "138. 2020-07-22\n",
       "139. 2020-07-26\n",
       "140. 2020-07-23\n",
       "141. 2020-07-25\n",
       "142. 2020-07-27\n",
       "143. 2020-07-29\n",
       "144. 2020-07-28\n",
       "\n",
       "\n"
      ],
      "text/plain": [
       "  [1] \"2020-03-06\" \"2020-03-09\" \"2020-03-11\" \"2020-03-12\" \"2020-03-13\"\n",
       "  [6] \"2020-03-14\" \"2020-03-15\" \"2020-03-16\" \"2020-03-17\" \"2020-03-18\"\n",
       " [11] \"2020-03-19\" \"2020-03-20\" \"2020-03-21\" \"2020-03-22\" \"2020-03-23\"\n",
       " [16] \"2020-03-24\" \"2020-03-27\" \"2020-03-25\" \"2020-03-26\" \"2020-03-28\"\n",
       " [21] \"2020-03-29\" \"2020-03-30\" \"2020-03-31\" \"2020-04-01\" \"2020-04-02\"\n",
       " [26] \"2020-04-03\" \"2020-04-04\" \"2020-04-05\" \"2020-04-06\" \"2020-04-07\"\n",
       " [31] \"2020-04-08\" \"2020-04-09\" \"2020-04-10\" \"2020-04-11\" \"2020-04-12\"\n",
       " [36] \"2020-04-13\" \"2020-04-14\" \"2020-04-19\" \"2020-04-15\" \"2020-04-28\"\n",
       " [41] \"2020-04-16\" \"2020-04-17\" \"2020-04-18\" \"2020-04-20\" \"2020-04-22\"\n",
       " [46] \"2020-04-21\" \"2020-04-23\" \"2020-05-01\" \"2020-04-24\" \"2020-05-05\"\n",
       " [51] \"2020-04-25\" \"2020-04-26\" \"2020-04-27\" \"2020-04-29\" \"2020-04-30\"\n",
       " [56] \"2020-05-02\" \"2020-05-04\" \"2020-05-03\" NA           \"2020-05-06\"\n",
       " [61] \"2020-05-07\" \"2020-05-08\" \"2020-05-09\" \"2020-05-10\" \"2020-05-11\"\n",
       " [66] \"2020-05-12\" \"2020-05-13\" \"2020-07-05\" \"2020-05-14\" \"2020-05-15\"\n",
       " [71] \"2020-05-16\" \"2020-05-17\" \"2020-05-18\" \"2020-05-19\" \"2020-05-20\"\n",
       " [76] \"2020-05-29\" \"2020-05-21\" \"2020-05-22\" \"2020-07-07\" \"2020-05-23\"\n",
       " [81] \"2020-06-01\" \"2020-05-24\" \"2020-05-25\" \"2020-05-26\" \"2020-05-27\"\n",
       " [86] \"2020-05-28\" \"2020-05-30\" \"2020-05-31\" \"2020-06-03\" \"2020-06-02\"\n",
       " [91] \"2020-06-05\" \"2020-06-04\" \"2020-06-06\" \"2020-06-07\" \"2020-06-26\"\n",
       " [96] \"2020-06-08\" \"2020-06-28\" \"2020-06-09\" \"2020-06-10\" \"2020-06-11\"\n",
       "[101] \"2020-06-12\" \"2020-06-16\" \"2020-06-13\" \"2020-06-14\" \"2020-07-19\"\n",
       "[106] \"2020-06-15\" \"2020-06-17\" \"2020-06-20\" \"2020-07-17\" \"2020-06-25\"\n",
       "[111] \"2020-06-18\" \"2020-06-23\" \"2020-06-19\" \"2020-07-02\" \"2020-06-21\"\n",
       "[116] \"2020-07-04\" \"2020-07-01\" \"2020-06-29\" \"2020-06-30\" \"2020-07-16\"\n",
       "[121] \"2020-07-03\" \"2020-06-22\" \"2020-06-24\" \"2020-07-11\" \"2020-07-09\"\n",
       "[126] \"2020-07-08\" \"2020-06-27\" \"2020-07-14\" \"2020-07-18\" \"2020-07-06\"\n",
       "[131] \"2020-07-10\" \"2020-07-12\" \"2020-07-13\" \"2020-07-15\" \"2020-07-24\"\n",
       "[136] \"2020-07-20\" \"2020-07-21\" \"2020-07-22\" \"2020-07-26\" \"2020-07-23\"\n",
       "[141] \"2020-07-25\" \"2020-07-27\" \"2020-07-29\" \"2020-07-28\""
      ]
     },
     "metadata": {},
     "output_type": "display_data"
    }
   ],
   "source": [
    "# Imprimiendo  los registros únicos de fecha de diagnóstico\n",
    "unique(covid_19$'Fecha diagnostico')"
   ]
  },
  {
   "cell_type": "code",
   "execution_count": 7,
   "metadata": {},
   "outputs": [
    {
     "data": {
      "text/html": [
       "<ol class=list-inline>\n",
       "\t<li><time datetime=\"2020-03-02\">2020-03-02</time></li>\n",
       "\t<li><time datetime=\"2020-03-06\">2020-03-06</time></li>\n",
       "\t<li><time datetime=\"2020-03-07\">2020-03-07</time></li>\n",
       "\t<li><time datetime=\"2020-03-09\">2020-03-09</time></li>\n",
       "\t<li><time datetime=\"2020-03-10\">2020-03-10</time></li>\n",
       "\t<li><time datetime=\"2020-03-08\">2020-03-08</time></li>\n",
       "\t<li><time datetime=\"2020-03-12\">2020-03-12</time></li>\n",
       "\t<li><time datetime=\"2020-03-11\">2020-03-11</time></li>\n",
       "\t<li><time datetime=\"2020-03-13\">2020-03-13</time></li>\n",
       "\t<li><time datetime=\"2020-03-15\">2020-03-15</time></li>\n",
       "\t<li><time datetime=\"2020-03-14\">2020-03-14</time></li>\n",
       "\t<li><time datetime=\"2020-03-16\">2020-03-16</time></li>\n",
       "\t<li><time datetime=\"2020-03-17\">2020-03-17</time></li>\n",
       "\t<li><time datetime=\"2020-03-18\">2020-03-18</time></li>\n",
       "\t<li><time datetime=\"2020-03-19\">2020-03-19</time></li>\n",
       "\t<li><time datetime=\"2020-03-20\">2020-03-20</time></li>\n",
       "\t<li><time datetime=\"2020-03-21\">2020-03-21</time></li>\n",
       "\t<li><time datetime=\"2020-03-22\">2020-03-22</time></li>\n",
       "\t<li><time datetime=\"2020-03-23\">2020-03-23</time></li>\n",
       "\t<li><time datetime=\"2020-03-24\">2020-03-24</time></li>\n",
       "\t<li><time datetime=\"2020-03-27\">2020-03-27</time></li>\n",
       "\t<li><time datetime=\"2020-03-25\">2020-03-25</time></li>\n",
       "\t<li><time datetime=\"2020-03-26\">2020-03-26</time></li>\n",
       "\t<li><time datetime=\"2020-03-28\">2020-03-28</time></li>\n",
       "\t<li><time datetime=\"2020-03-30\">2020-03-30</time></li>\n",
       "\t<li><time datetime=\"2020-03-31\">2020-03-31</time></li>\n",
       "\t<li><time datetime=\"2020-03-29\">2020-03-29</time></li>\n",
       "\t<li><time datetime=\"2020-04-01\">2020-04-01</time></li>\n",
       "\t<li><time datetime=\"2020-04-02\">2020-04-02</time></li>\n",
       "\t<li><time datetime=\"2020-04-03\">2020-04-03</time></li>\n",
       "\t<li><time datetime=\"2020-04-04\">2020-04-04</time></li>\n",
       "\t<li><time datetime=\"2020-04-05\">2020-04-05</time></li>\n",
       "\t<li><time datetime=\"2020-04-06\">2020-04-06</time></li>\n",
       "\t<li><time datetime=\"2020-04-08\">2020-04-08</time></li>\n",
       "\t<li><time datetime=\"2020-04-07\">2020-04-07</time></li>\n",
       "\t<li><time datetime=\"2020-04-09\">2020-04-09</time></li>\n",
       "\t<li><time datetime=\"2020-04-10\">2020-04-10</time></li>\n",
       "\t<li><time datetime=\"2020-04-11\">2020-04-11</time></li>\n",
       "\t<li><time datetime=\"2020-04-12\">2020-04-12</time></li>\n",
       "\t<li><time datetime=\"2020-04-13\">2020-04-13</time></li>\n",
       "\t<li><time datetime=\"2020-04-14\">2020-04-14</time></li>\n",
       "\t<li><time datetime=\"2020-04-17\">2020-04-17</time></li>\n",
       "\t<li><time datetime=\"2020-04-23\">2020-04-23</time></li>\n",
       "\t<li><time datetime=\"2020-04-15\">2020-04-15</time></li>\n",
       "\t<li><time datetime=\"2020-04-16\">2020-04-16</time></li>\n",
       "\t<li><time datetime=\"2020-04-18\">2020-04-18</time></li>\n",
       "\t<li><time datetime=\"2020-04-19\">2020-04-19</time></li>\n",
       "\t<li><time datetime=\"2020-04-20\">2020-04-20</time></li>\n",
       "\t<li><time datetime=\"2020-04-21\">2020-04-21</time></li>\n",
       "\t<li><time datetime=\"2020-04-28\">2020-04-28</time></li>\n",
       "\t<li><time datetime=\"2020-04-22\">2020-04-22</time></li>\n",
       "\t<li><time datetime=\"2020-04-29\">2020-04-29</time></li>\n",
       "\t<li><time datetime=\"2020-04-24\">2020-04-24</time></li>\n",
       "\t<li><time datetime=\"2020-05-01\">2020-05-01</time></li>\n",
       "\t<li><time datetime=\"2020-04-25\">2020-04-25</time></li>\n",
       "\t<li><time datetime=\"2020-04-26\">2020-04-26</time></li>\n",
       "\t<li><time datetime=\"2020-04-27\">2020-04-27</time></li>\n",
       "\t<li><time datetime=\"2020-04-30\">2020-04-30</time></li>\n",
       "\t<li><time datetime=\"2020-05-02\">2020-05-02</time></li>\n",
       "\t<li><time datetime=\"2020-05-04\">2020-05-04</time></li>\n",
       "\t<li><time datetime=\"2020-05-03\">2020-05-03</time></li>\n",
       "\t<li><time datetime=\"2020-05-26\">2020-05-26</time></li>\n",
       "\t<li><time datetime=\"2020-05-05\">2020-05-05</time></li>\n",
       "\t<li><time datetime=\"2020-05-06\">2020-05-06</time></li>\n",
       "\t<li><time datetime=\"2020-05-07\">2020-05-07</time></li>\n",
       "\t<li><time datetime=\"2020-05-08\">2020-05-08</time></li>\n",
       "\t<li><time datetime=\"2020-05-09\">2020-05-09</time></li>\n",
       "\t<li><time datetime=\"2020-05-10\">2020-05-10</time></li>\n",
       "\t<li><time datetime=\"2020-05-11\">2020-05-11</time></li>\n",
       "\t<li><time datetime=\"2020-06-27\">2020-06-27</time></li>\n",
       "\t<li><time datetime=\"2020-05-12\">2020-05-12</time></li>\n",
       "\t<li><time datetime=\"2020-05-13\">2020-05-13</time></li>\n",
       "\t<li><time datetime=\"2020-06-26\">2020-06-26</time></li>\n",
       "\t<li><time datetime=\"2020-05-18\">2020-05-18</time></li>\n",
       "\t<li><time datetime=\"2020-05-14\">2020-05-14</time></li>\n",
       "\t<li><time datetime=\"2020-05-15\">2020-05-15</time></li>\n",
       "\t<li><time datetime=\"2020-05-16\">2020-05-16</time></li>\n",
       "\t<li><time datetime=\"2020-05-17\">2020-05-17</time></li>\n",
       "\t<li><time datetime=\"2020-05-19\">2020-05-19</time></li>\n",
       "\t<li><time datetime=\"2020-05-20\">2020-05-20</time></li>\n",
       "\t<li><time datetime=\"2020-06-25\">2020-06-25</time></li>\n",
       "\t<li><time datetime=\"2020-05-21\">2020-05-21</time></li>\n",
       "\t<li><time datetime=\"2020-05-22\">2020-05-22</time></li>\n",
       "\t<li><time datetime=\"2020-07-01\">2020-07-01</time></li>\n",
       "\t<li><time datetime=\"2020-05-31\">2020-05-31</time></li>\n",
       "\t<li><time datetime=\"2020-05-23\">2020-05-23</time></li>\n",
       "\t<li><time datetime=\"2020-05-24\">2020-05-24</time></li>\n",
       "\t<li><time datetime=\"2020-05-25\">2020-05-25</time></li>\n",
       "\t<li><time datetime=\"2020-05-28\">2020-05-28</time></li>\n",
       "\t<li><time datetime=\"2020-05-29\">2020-05-29</time></li>\n",
       "\t<li><time datetime=\"2020-05-27\">2020-05-27</time></li>\n",
       "\t<li><time datetime=\"2020-05-30\">2020-05-30</time></li>\n",
       "\t<li><time datetime=\"2020-06-01\">2020-06-01</time></li>\n",
       "\t<li><time datetime=\"2020-06-18\">2020-06-18</time></li>\n",
       "\t<li><time datetime=\"2020-06-03\">2020-06-03</time></li>\n",
       "\t<li><time datetime=\"2020-06-29\">2020-06-29</time></li>\n",
       "\t<li><time datetime=\"2020-06-02\">2020-06-02</time></li>\n",
       "\t<li><time datetime=\"2020-06-14\">2020-06-14</time></li>\n",
       "\t<li><time datetime=\"2020-06-04\">2020-06-04</time></li>\n",
       "\t<li><time datetime=\"2020-06-05\">2020-06-05</time></li>\n",
       "\t<li><time datetime=\"2020-06-06\">2020-06-06</time></li>\n",
       "\t<li><time datetime=\"2020-06-07\">2020-06-07</time></li>\n",
       "\t<li><time datetime=\"2020-06-08\">2020-06-08</time></li>\n",
       "\t<li><time datetime=\"2020-06-30\">2020-06-30</time></li>\n",
       "\t<li><time datetime=\"2020-06-23\">2020-06-23</time></li>\n",
       "\t<li><time datetime=\"2020-06-09\">2020-06-09</time></li>\n",
       "\t<li><time datetime=\"2020-06-10\">2020-06-10</time></li>\n",
       "\t<li><time datetime=\"2020-06-19\">2020-06-19</time></li>\n",
       "\t<li><time datetime=\"2020-06-24\">2020-06-24</time></li>\n",
       "\t<li><time datetime=\"2020-06-11\">2020-06-11</time></li>\n",
       "\t<li><time datetime=\"2020-06-12\">2020-06-12</time></li>\n",
       "\t<li><time datetime=\"2020-06-16\">2020-06-16</time></li>\n",
       "\t<li><time datetime=\"2020-06-13\">2020-06-13</time></li>\n",
       "\t<li><time datetime=\"2020-07-02\">2020-07-02</time></li>\n",
       "\t<li><time datetime=\"2020-06-15\">2020-06-15</time></li>\n",
       "\t<li><time datetime=\"2020-07-06\">2020-07-06</time></li>\n",
       "\t<li><time datetime=\"2020-07-13\">2020-07-13</time></li>\n",
       "\t<li><time datetime=\"2020-06-17\">2020-06-17</time></li>\n",
       "\t<li><time datetime=\"2020-06-20\">2020-06-20</time></li>\n",
       "\t<li><time datetime=\"2020-06-28\">2020-06-28</time></li>\n",
       "\t<li><time datetime=\"2020-06-22\">2020-06-22</time></li>\n",
       "\t<li><time datetime=\"2020-06-21\">2020-06-21</time></li>\n",
       "\t<li><time datetime=\"2020-07-04\">2020-07-04</time></li>\n",
       "\t<li><time datetime=\"2020-07-08\">2020-07-08</time></li>\n",
       "\t<li><time datetime=\"2020-07-10\">2020-07-10</time></li>\n",
       "\t<li><time datetime=\"2020-07-03\">2020-07-03</time></li>\n",
       "\t<li><time datetime=\"2020-07-05\">2020-07-05</time></li>\n",
       "\t<li><time datetime=\"2020-07-09\">2020-07-09</time></li>\n",
       "\t<li><time datetime=\"2020-07-15\">2020-07-15</time></li>\n",
       "\t<li><time datetime=\"2020-07-07\">2020-07-07</time></li>\n",
       "\t<li><time datetime=\"2020-07-12\">2020-07-12</time></li>\n",
       "\t<li><time datetime=\"2020-07-11\">2020-07-11</time></li>\n",
       "\t<li><time datetime=\"2020-07-14\">2020-07-14</time></li>\n",
       "\t<li><time datetime=\"2020-07-16\">2020-07-16</time></li>\n",
       "\t<li><time datetime=\"2020-07-17\">2020-07-17</time></li>\n",
       "\t<li><time datetime=\"2020-07-18\">2020-07-18</time></li>\n",
       "\t<li><time datetime=\"2020-07-19\">2020-07-19</time></li>\n",
       "\t<li><time datetime=\"2020-07-20\">2020-07-20</time></li>\n",
       "\t<li><time datetime=\"2020-07-21\">2020-07-21</time></li>\n",
       "\t<li><time datetime=\"2020-07-22\">2020-07-22</time></li>\n",
       "\t<li><time datetime=\"2020-07-23\">2020-07-23</time></li>\n",
       "\t<li><time datetime=\"2020-07-24\">2020-07-24</time></li>\n",
       "\t<li><time datetime=\"2020-07-25\">2020-07-25</time></li>\n",
       "\t<li><time datetime=\"2020-07-26\">2020-07-26</time></li>\n",
       "\t<li><time datetime=\"2020-07-27\">2020-07-27</time></li>\n",
       "\t<li><time datetime=\"2020-07-28\">2020-07-28</time></li>\n",
       "\t<li><time datetime=\"2020-07-29\">2020-07-29</time></li>\n",
       "</ol>\n"
      ],
      "text/latex": [
       "\\begin{enumerate*}\n",
       "\\item 2020-03-02\n",
       "\\item 2020-03-06\n",
       "\\item 2020-03-07\n",
       "\\item 2020-03-09\n",
       "\\item 2020-03-10\n",
       "\\item 2020-03-08\n",
       "\\item 2020-03-12\n",
       "\\item 2020-03-11\n",
       "\\item 2020-03-13\n",
       "\\item 2020-03-15\n",
       "\\item 2020-03-14\n",
       "\\item 2020-03-16\n",
       "\\item 2020-03-17\n",
       "\\item 2020-03-18\n",
       "\\item 2020-03-19\n",
       "\\item 2020-03-20\n",
       "\\item 2020-03-21\n",
       "\\item 2020-03-22\n",
       "\\item 2020-03-23\n",
       "\\item 2020-03-24\n",
       "\\item 2020-03-27\n",
       "\\item 2020-03-25\n",
       "\\item 2020-03-26\n",
       "\\item 2020-03-28\n",
       "\\item 2020-03-30\n",
       "\\item 2020-03-31\n",
       "\\item 2020-03-29\n",
       "\\item 2020-04-01\n",
       "\\item 2020-04-02\n",
       "\\item 2020-04-03\n",
       "\\item 2020-04-04\n",
       "\\item 2020-04-05\n",
       "\\item 2020-04-06\n",
       "\\item 2020-04-08\n",
       "\\item 2020-04-07\n",
       "\\item 2020-04-09\n",
       "\\item 2020-04-10\n",
       "\\item 2020-04-11\n",
       "\\item 2020-04-12\n",
       "\\item 2020-04-13\n",
       "\\item 2020-04-14\n",
       "\\item 2020-04-17\n",
       "\\item 2020-04-23\n",
       "\\item 2020-04-15\n",
       "\\item 2020-04-16\n",
       "\\item 2020-04-18\n",
       "\\item 2020-04-19\n",
       "\\item 2020-04-20\n",
       "\\item 2020-04-21\n",
       "\\item 2020-04-28\n",
       "\\item 2020-04-22\n",
       "\\item 2020-04-29\n",
       "\\item 2020-04-24\n",
       "\\item 2020-05-01\n",
       "\\item 2020-04-25\n",
       "\\item 2020-04-26\n",
       "\\item 2020-04-27\n",
       "\\item 2020-04-30\n",
       "\\item 2020-05-02\n",
       "\\item 2020-05-04\n",
       "\\item 2020-05-03\n",
       "\\item 2020-05-26\n",
       "\\item 2020-05-05\n",
       "\\item 2020-05-06\n",
       "\\item 2020-05-07\n",
       "\\item 2020-05-08\n",
       "\\item 2020-05-09\n",
       "\\item 2020-05-10\n",
       "\\item 2020-05-11\n",
       "\\item 2020-06-27\n",
       "\\item 2020-05-12\n",
       "\\item 2020-05-13\n",
       "\\item 2020-06-26\n",
       "\\item 2020-05-18\n",
       "\\item 2020-05-14\n",
       "\\item 2020-05-15\n",
       "\\item 2020-05-16\n",
       "\\item 2020-05-17\n",
       "\\item 2020-05-19\n",
       "\\item 2020-05-20\n",
       "\\item 2020-06-25\n",
       "\\item 2020-05-21\n",
       "\\item 2020-05-22\n",
       "\\item 2020-07-01\n",
       "\\item 2020-05-31\n",
       "\\item 2020-05-23\n",
       "\\item 2020-05-24\n",
       "\\item 2020-05-25\n",
       "\\item 2020-05-28\n",
       "\\item 2020-05-29\n",
       "\\item 2020-05-27\n",
       "\\item 2020-05-30\n",
       "\\item 2020-06-01\n",
       "\\item 2020-06-18\n",
       "\\item 2020-06-03\n",
       "\\item 2020-06-29\n",
       "\\item 2020-06-02\n",
       "\\item 2020-06-14\n",
       "\\item 2020-06-04\n",
       "\\item 2020-06-05\n",
       "\\item 2020-06-06\n",
       "\\item 2020-06-07\n",
       "\\item 2020-06-08\n",
       "\\item 2020-06-30\n",
       "\\item 2020-06-23\n",
       "\\item 2020-06-09\n",
       "\\item 2020-06-10\n",
       "\\item 2020-06-19\n",
       "\\item 2020-06-24\n",
       "\\item 2020-06-11\n",
       "\\item 2020-06-12\n",
       "\\item 2020-06-16\n",
       "\\item 2020-06-13\n",
       "\\item 2020-07-02\n",
       "\\item 2020-06-15\n",
       "\\item 2020-07-06\n",
       "\\item 2020-07-13\n",
       "\\item 2020-06-17\n",
       "\\item 2020-06-20\n",
       "\\item 2020-06-28\n",
       "\\item 2020-06-22\n",
       "\\item 2020-06-21\n",
       "\\item 2020-07-04\n",
       "\\item 2020-07-08\n",
       "\\item 2020-07-10\n",
       "\\item 2020-07-03\n",
       "\\item 2020-07-05\n",
       "\\item 2020-07-09\n",
       "\\item 2020-07-15\n",
       "\\item 2020-07-07\n",
       "\\item 2020-07-12\n",
       "\\item 2020-07-11\n",
       "\\item 2020-07-14\n",
       "\\item 2020-07-16\n",
       "\\item 2020-07-17\n",
       "\\item 2020-07-18\n",
       "\\item 2020-07-19\n",
       "\\item 2020-07-20\n",
       "\\item 2020-07-21\n",
       "\\item 2020-07-22\n",
       "\\item 2020-07-23\n",
       "\\item 2020-07-24\n",
       "\\item 2020-07-25\n",
       "\\item 2020-07-26\n",
       "\\item 2020-07-27\n",
       "\\item 2020-07-28\n",
       "\\item 2020-07-29\n",
       "\\end{enumerate*}\n"
      ],
      "text/markdown": [
       "1. 2020-03-02\n",
       "2. 2020-03-06\n",
       "3. 2020-03-07\n",
       "4. 2020-03-09\n",
       "5. 2020-03-10\n",
       "6. 2020-03-08\n",
       "7. 2020-03-12\n",
       "8. 2020-03-11\n",
       "9. 2020-03-13\n",
       "10. 2020-03-15\n",
       "11. 2020-03-14\n",
       "12. 2020-03-16\n",
       "13. 2020-03-17\n",
       "14. 2020-03-18\n",
       "15. 2020-03-19\n",
       "16. 2020-03-20\n",
       "17. 2020-03-21\n",
       "18. 2020-03-22\n",
       "19. 2020-03-23\n",
       "20. 2020-03-24\n",
       "21. 2020-03-27\n",
       "22. 2020-03-25\n",
       "23. 2020-03-26\n",
       "24. 2020-03-28\n",
       "25. 2020-03-30\n",
       "26. 2020-03-31\n",
       "27. 2020-03-29\n",
       "28. 2020-04-01\n",
       "29. 2020-04-02\n",
       "30. 2020-04-03\n",
       "31. 2020-04-04\n",
       "32. 2020-04-05\n",
       "33. 2020-04-06\n",
       "34. 2020-04-08\n",
       "35. 2020-04-07\n",
       "36. 2020-04-09\n",
       "37. 2020-04-10\n",
       "38. 2020-04-11\n",
       "39. 2020-04-12\n",
       "40. 2020-04-13\n",
       "41. 2020-04-14\n",
       "42. 2020-04-17\n",
       "43. 2020-04-23\n",
       "44. 2020-04-15\n",
       "45. 2020-04-16\n",
       "46. 2020-04-18\n",
       "47. 2020-04-19\n",
       "48. 2020-04-20\n",
       "49. 2020-04-21\n",
       "50. 2020-04-28\n",
       "51. 2020-04-22\n",
       "52. 2020-04-29\n",
       "53. 2020-04-24\n",
       "54. 2020-05-01\n",
       "55. 2020-04-25\n",
       "56. 2020-04-26\n",
       "57. 2020-04-27\n",
       "58. 2020-04-30\n",
       "59. 2020-05-02\n",
       "60. 2020-05-04\n",
       "61. 2020-05-03\n",
       "62. 2020-05-26\n",
       "63. 2020-05-05\n",
       "64. 2020-05-06\n",
       "65. 2020-05-07\n",
       "66. 2020-05-08\n",
       "67. 2020-05-09\n",
       "68. 2020-05-10\n",
       "69. 2020-05-11\n",
       "70. 2020-06-27\n",
       "71. 2020-05-12\n",
       "72. 2020-05-13\n",
       "73. 2020-06-26\n",
       "74. 2020-05-18\n",
       "75. 2020-05-14\n",
       "76. 2020-05-15\n",
       "77. 2020-05-16\n",
       "78. 2020-05-17\n",
       "79. 2020-05-19\n",
       "80. 2020-05-20\n",
       "81. 2020-06-25\n",
       "82. 2020-05-21\n",
       "83. 2020-05-22\n",
       "84. 2020-07-01\n",
       "85. 2020-05-31\n",
       "86. 2020-05-23\n",
       "87. 2020-05-24\n",
       "88. 2020-05-25\n",
       "89. 2020-05-28\n",
       "90. 2020-05-29\n",
       "91. 2020-05-27\n",
       "92. 2020-05-30\n",
       "93. 2020-06-01\n",
       "94. 2020-06-18\n",
       "95. 2020-06-03\n",
       "96. 2020-06-29\n",
       "97. 2020-06-02\n",
       "98. 2020-06-14\n",
       "99. 2020-06-04\n",
       "100. 2020-06-05\n",
       "101. 2020-06-06\n",
       "102. 2020-06-07\n",
       "103. 2020-06-08\n",
       "104. 2020-06-30\n",
       "105. 2020-06-23\n",
       "106. 2020-06-09\n",
       "107. 2020-06-10\n",
       "108. 2020-06-19\n",
       "109. 2020-06-24\n",
       "110. 2020-06-11\n",
       "111. 2020-06-12\n",
       "112. 2020-06-16\n",
       "113. 2020-06-13\n",
       "114. 2020-07-02\n",
       "115. 2020-06-15\n",
       "116. 2020-07-06\n",
       "117. 2020-07-13\n",
       "118. 2020-06-17\n",
       "119. 2020-06-20\n",
       "120. 2020-06-28\n",
       "121. 2020-06-22\n",
       "122. 2020-06-21\n",
       "123. 2020-07-04\n",
       "124. 2020-07-08\n",
       "125. 2020-07-10\n",
       "126. 2020-07-03\n",
       "127. 2020-07-05\n",
       "128. 2020-07-09\n",
       "129. 2020-07-15\n",
       "130. 2020-07-07\n",
       "131. 2020-07-12\n",
       "132. 2020-07-11\n",
       "133. 2020-07-14\n",
       "134. 2020-07-16\n",
       "135. 2020-07-17\n",
       "136. 2020-07-18\n",
       "137. 2020-07-19\n",
       "138. 2020-07-20\n",
       "139. 2020-07-21\n",
       "140. 2020-07-22\n",
       "141. 2020-07-23\n",
       "142. 2020-07-24\n",
       "143. 2020-07-25\n",
       "144. 2020-07-26\n",
       "145. 2020-07-27\n",
       "146. 2020-07-28\n",
       "147. 2020-07-29\n",
       "\n",
       "\n"
      ],
      "text/plain": [
       "  [1] \"2020-03-02\" \"2020-03-06\" \"2020-03-07\" \"2020-03-09\" \"2020-03-10\"\n",
       "  [6] \"2020-03-08\" \"2020-03-12\" \"2020-03-11\" \"2020-03-13\" \"2020-03-15\"\n",
       " [11] \"2020-03-14\" \"2020-03-16\" \"2020-03-17\" \"2020-03-18\" \"2020-03-19\"\n",
       " [16] \"2020-03-20\" \"2020-03-21\" \"2020-03-22\" \"2020-03-23\" \"2020-03-24\"\n",
       " [21] \"2020-03-27\" \"2020-03-25\" \"2020-03-26\" \"2020-03-28\" \"2020-03-30\"\n",
       " [26] \"2020-03-31\" \"2020-03-29\" \"2020-04-01\" \"2020-04-02\" \"2020-04-03\"\n",
       " [31] \"2020-04-04\" \"2020-04-05\" \"2020-04-06\" \"2020-04-08\" \"2020-04-07\"\n",
       " [36] \"2020-04-09\" \"2020-04-10\" \"2020-04-11\" \"2020-04-12\" \"2020-04-13\"\n",
       " [41] \"2020-04-14\" \"2020-04-17\" \"2020-04-23\" \"2020-04-15\" \"2020-04-16\"\n",
       " [46] \"2020-04-18\" \"2020-04-19\" \"2020-04-20\" \"2020-04-21\" \"2020-04-28\"\n",
       " [51] \"2020-04-22\" \"2020-04-29\" \"2020-04-24\" \"2020-05-01\" \"2020-04-25\"\n",
       " [56] \"2020-04-26\" \"2020-04-27\" \"2020-04-30\" \"2020-05-02\" \"2020-05-04\"\n",
       " [61] \"2020-05-03\" \"2020-05-26\" \"2020-05-05\" \"2020-05-06\" \"2020-05-07\"\n",
       " [66] \"2020-05-08\" \"2020-05-09\" \"2020-05-10\" \"2020-05-11\" \"2020-06-27\"\n",
       " [71] \"2020-05-12\" \"2020-05-13\" \"2020-06-26\" \"2020-05-18\" \"2020-05-14\"\n",
       " [76] \"2020-05-15\" \"2020-05-16\" \"2020-05-17\" \"2020-05-19\" \"2020-05-20\"\n",
       " [81] \"2020-06-25\" \"2020-05-21\" \"2020-05-22\" \"2020-07-01\" \"2020-05-31\"\n",
       " [86] \"2020-05-23\" \"2020-05-24\" \"2020-05-25\" \"2020-05-28\" \"2020-05-29\"\n",
       " [91] \"2020-05-27\" \"2020-05-30\" \"2020-06-01\" \"2020-06-18\" \"2020-06-03\"\n",
       " [96] \"2020-06-29\" \"2020-06-02\" \"2020-06-14\" \"2020-06-04\" \"2020-06-05\"\n",
       "[101] \"2020-06-06\" \"2020-06-07\" \"2020-06-08\" \"2020-06-30\" \"2020-06-23\"\n",
       "[106] \"2020-06-09\" \"2020-06-10\" \"2020-06-19\" \"2020-06-24\" \"2020-06-11\"\n",
       "[111] \"2020-06-12\" \"2020-06-16\" \"2020-06-13\" \"2020-07-02\" \"2020-06-15\"\n",
       "[116] \"2020-07-06\" \"2020-07-13\" \"2020-06-17\" \"2020-06-20\" \"2020-06-28\"\n",
       "[121] \"2020-06-22\" \"2020-06-21\" \"2020-07-04\" \"2020-07-08\" \"2020-07-10\"\n",
       "[126] \"2020-07-03\" \"2020-07-05\" \"2020-07-09\" \"2020-07-15\" \"2020-07-07\"\n",
       "[131] \"2020-07-12\" \"2020-07-11\" \"2020-07-14\" \"2020-07-16\" \"2020-07-17\"\n",
       "[136] \"2020-07-18\" \"2020-07-19\" \"2020-07-20\" \"2020-07-21\" \"2020-07-22\"\n",
       "[141] \"2020-07-23\" \"2020-07-24\" \"2020-07-25\" \"2020-07-26\" \"2020-07-27\"\n",
       "[146] \"2020-07-28\" \"2020-07-29\""
      ]
     },
     "metadata": {},
     "output_type": "display_data"
    }
   ],
   "source": [
    "# Imprimiendo los registros únicos de fecha de notificación\n",
    "unique(covid_19$'Fecha de notificación')"
   ]
  },
  {
   "cell_type": "code",
   "execution_count": 8,
   "metadata": {},
   "outputs": [
    {
     "data": {
      "text/html": [
       "<ol class=list-inline>\n",
       "\t<li><time datetime=\"2020-03-06\">2020-03-06</time></li>\n",
       "\t<li><time datetime=\"2020-03-09\">2020-03-09</time></li>\n",
       "\t<li><time datetime=\"2020-03-11\">2020-03-11</time></li>\n",
       "\t<li><time datetime=\"2020-03-12\">2020-03-12</time></li>\n",
       "\t<li><time datetime=\"2020-03-13\">2020-03-13</time></li>\n",
       "\t<li><time datetime=\"2020-03-14\">2020-03-14</time></li>\n",
       "\t<li><time datetime=\"2020-03-15\">2020-03-15</time></li>\n",
       "\t<li><time datetime=\"2020-03-16\">2020-03-16</time></li>\n",
       "\t<li><time datetime=\"2020-03-17\">2020-03-17</time></li>\n",
       "\t<li><time datetime=\"2020-03-18\">2020-03-18</time></li>\n",
       "\t<li><time datetime=\"2020-03-19\">2020-03-19</time></li>\n",
       "\t<li><time datetime=\"2020-03-20\">2020-03-20</time></li>\n",
       "\t<li><time datetime=\"2020-03-21\">2020-03-21</time></li>\n",
       "\t<li><time datetime=\"2020-03-22\">2020-03-22</time></li>\n",
       "\t<li><time datetime=\"2020-03-23\">2020-03-23</time></li>\n",
       "\t<li><time datetime=\"2020-03-24\">2020-03-24</time></li>\n",
       "\t<li><time datetime=\"2020-03-27\">2020-03-27</time></li>\n",
       "\t<li><time datetime=\"2020-03-25\">2020-03-25</time></li>\n",
       "\t<li><time datetime=\"2020-03-26\">2020-03-26</time></li>\n",
       "\t<li><time datetime=\"2020-03-28\">2020-03-28</time></li>\n",
       "\t<li><time datetime=\"2020-03-29\">2020-03-29</time></li>\n",
       "\t<li><time datetime=\"2020-03-30\">2020-03-30</time></li>\n",
       "\t<li><time datetime=\"2020-03-31\">2020-03-31</time></li>\n",
       "\t<li><time datetime=\"2020-04-01\">2020-04-01</time></li>\n",
       "\t<li><time datetime=\"2020-04-02\">2020-04-02</time></li>\n",
       "\t<li><time datetime=\"2020-04-03\">2020-04-03</time></li>\n",
       "\t<li><time datetime=\"2020-04-04\">2020-04-04</time></li>\n",
       "\t<li><time datetime=\"2020-04-05\">2020-04-05</time></li>\n",
       "\t<li><time datetime=\"2020-04-06\">2020-04-06</time></li>\n",
       "\t<li><time datetime=\"2020-04-07\">2020-04-07</time></li>\n",
       "\t<li><time datetime=\"2020-04-08\">2020-04-08</time></li>\n",
       "\t<li><time datetime=\"2020-04-09\">2020-04-09</time></li>\n",
       "\t<li><time datetime=\"2020-04-10\">2020-04-10</time></li>\n",
       "\t<li><time datetime=\"2020-04-11\">2020-04-11</time></li>\n",
       "\t<li><time datetime=\"2020-04-12\">2020-04-12</time></li>\n",
       "\t<li><time datetime=\"2020-04-13\">2020-04-13</time></li>\n",
       "\t<li><time datetime=\"2020-04-14\">2020-04-14</time></li>\n",
       "\t<li><time datetime=\"2020-04-19\">2020-04-19</time></li>\n",
       "\t<li><time datetime=\"2020-04-15\">2020-04-15</time></li>\n",
       "\t<li><time datetime=\"2020-04-28\">2020-04-28</time></li>\n",
       "\t<li><time datetime=\"2020-04-16\">2020-04-16</time></li>\n",
       "\t<li><time datetime=\"2020-04-17\">2020-04-17</time></li>\n",
       "\t<li><time datetime=\"2020-04-18\">2020-04-18</time></li>\n",
       "\t<li><time datetime=\"2020-04-20\">2020-04-20</time></li>\n",
       "\t<li><time datetime=\"2020-04-22\">2020-04-22</time></li>\n",
       "\t<li><time datetime=\"2020-04-21\">2020-04-21</time></li>\n",
       "\t<li><time datetime=\"2020-04-23\">2020-04-23</time></li>\n",
       "\t<li><time datetime=\"2020-05-01\">2020-05-01</time></li>\n",
       "\t<li><time datetime=\"2020-04-24\">2020-04-24</time></li>\n",
       "\t<li><time datetime=\"2020-05-05\">2020-05-05</time></li>\n",
       "\t<li><time datetime=\"2020-04-25\">2020-04-25</time></li>\n",
       "\t<li><time datetime=\"2020-04-26\">2020-04-26</time></li>\n",
       "\t<li><time datetime=\"2020-04-27\">2020-04-27</time></li>\n",
       "\t<li><time datetime=\"2020-04-29\">2020-04-29</time></li>\n",
       "\t<li><time datetime=\"2020-04-30\">2020-04-30</time></li>\n",
       "\t<li><time datetime=\"2020-05-02\">2020-05-02</time></li>\n",
       "\t<li><time datetime=\"2020-05-04\">2020-05-04</time></li>\n",
       "\t<li><time datetime=\"2020-05-03\">2020-05-03</time></li>\n",
       "\t<li><time datetime=\"2020-05-06\">2020-05-06</time></li>\n",
       "\t<li><time datetime=\"2020-05-07\">2020-05-07</time></li>\n",
       "\t<li><time datetime=\"2020-05-08\">2020-05-08</time></li>\n",
       "\t<li><time datetime=\"2020-05-09\">2020-05-09</time></li>\n",
       "\t<li><time datetime=\"2020-05-10\">2020-05-10</time></li>\n",
       "\t<li><time datetime=\"2020-05-11\">2020-05-11</time></li>\n",
       "\t<li><time datetime=\"2020-05-12\">2020-05-12</time></li>\n",
       "\t<li><time datetime=\"2020-05-13\">2020-05-13</time></li>\n",
       "\t<li><time datetime=\"2020-05-14\">2020-05-14</time></li>\n",
       "\t<li><time datetime=\"2020-05-15\">2020-05-15</time></li>\n",
       "\t<li><time datetime=\"2020-05-16\">2020-05-16</time></li>\n",
       "\t<li><time datetime=\"2020-05-17\">2020-05-17</time></li>\n",
       "\t<li><time datetime=\"2020-05-18\">2020-05-18</time></li>\n",
       "\t<li><time datetime=\"2020-05-19\">2020-05-19</time></li>\n",
       "\t<li><time datetime=\"2020-05-20\">2020-05-20</time></li>\n",
       "\t<li><time datetime=\"2020-05-21\">2020-05-21</time></li>\n",
       "\t<li><time datetime=\"2020-05-22\">2020-05-22</time></li>\n",
       "\t<li><time datetime=\"2020-05-23\">2020-05-23</time></li>\n",
       "\t<li><time datetime=\"2020-05-24\">2020-05-24</time></li>\n",
       "\t<li><time datetime=\"2020-05-25\">2020-05-25</time></li>\n",
       "\t<li><time datetime=\"2020-05-26\">2020-05-26</time></li>\n",
       "\t<li><time datetime=\"2020-05-27\">2020-05-27</time></li>\n",
       "\t<li><time datetime=\"2020-05-28\">2020-05-28</time></li>\n",
       "\t<li><time datetime=\"2020-05-29\">2020-05-29</time></li>\n",
       "\t<li><time datetime=\"2020-05-30\">2020-05-30</time></li>\n",
       "\t<li><time datetime=\"2020-05-31\">2020-05-31</time></li>\n",
       "\t<li><time datetime=\"2020-06-01\">2020-06-01</time></li>\n",
       "\t<li><time datetime=\"2020-06-02\">2020-06-02</time></li>\n",
       "\t<li><time datetime=\"2020-06-03\">2020-06-03</time></li>\n",
       "\t<li><time datetime=\"2020-06-04\">2020-06-04</time></li>\n",
       "\t<li><time datetime=\"2020-06-05\">2020-06-05</time></li>\n",
       "\t<li><time datetime=\"2020-06-06\">2020-06-06</time></li>\n",
       "\t<li><time datetime=\"2020-06-07\">2020-06-07</time></li>\n",
       "\t<li><time datetime=\"2020-06-08\">2020-06-08</time></li>\n",
       "\t<li><time datetime=\"2020-06-09\">2020-06-09</time></li>\n",
       "\t<li><time datetime=\"2020-06-10\">2020-06-10</time></li>\n",
       "\t<li><time datetime=\"2020-06-11\">2020-06-11</time></li>\n",
       "\t<li><time datetime=\"2020-06-12\">2020-06-12</time></li>\n",
       "\t<li><time datetime=\"2020-06-13\">2020-06-13</time></li>\n",
       "\t<li><time datetime=\"2020-06-14\">2020-06-14</time></li>\n",
       "\t<li><time datetime=\"2020-06-15\">2020-06-15</time></li>\n",
       "\t<li><time datetime=\"2020-06-16\">2020-06-16</time></li>\n",
       "\t<li><time datetime=\"2020-06-17\">2020-06-17</time></li>\n",
       "\t<li><time datetime=\"2020-06-18\">2020-06-18</time></li>\n",
       "\t<li><time datetime=\"2020-06-19\">2020-06-19</time></li>\n",
       "\t<li><time datetime=\"2020-06-20\">2020-06-20</time></li>\n",
       "\t<li><time datetime=\"2020-06-21\">2020-06-21</time></li>\n",
       "\t<li><time datetime=\"2020-06-22\">2020-06-22</time></li>\n",
       "\t<li><time datetime=\"2020-06-23\">2020-06-23</time></li>\n",
       "\t<li><time datetime=\"2020-06-24\">2020-06-24</time></li>\n",
       "\t<li><time datetime=\"2020-06-25\">2020-06-25</time></li>\n",
       "\t<li><time datetime=\"2020-06-26\">2020-06-26</time></li>\n",
       "\t<li><time datetime=\"2020-06-27\">2020-06-27</time></li>\n",
       "\t<li><time datetime=\"2020-06-28\">2020-06-28</time></li>\n",
       "\t<li><time datetime=\"2020-06-29\">2020-06-29</time></li>\n",
       "\t<li><time datetime=\"2020-06-30\">2020-06-30</time></li>\n",
       "\t<li><time datetime=\"2020-07-01\">2020-07-01</time></li>\n",
       "\t<li><time datetime=\"2020-07-02\">2020-07-02</time></li>\n",
       "\t<li><time datetime=\"2020-07-03\">2020-07-03</time></li>\n",
       "\t<li><time datetime=\"2020-07-04\">2020-07-04</time></li>\n",
       "\t<li><time datetime=\"2020-07-05\">2020-07-05</time></li>\n",
       "\t<li><time datetime=\"2020-07-06\">2020-07-06</time></li>\n",
       "\t<li><time datetime=\"2020-07-07\">2020-07-07</time></li>\n",
       "\t<li><time datetime=\"2020-07-08\">2020-07-08</time></li>\n",
       "\t<li><time datetime=\"2020-07-09\">2020-07-09</time></li>\n",
       "\t<li><time datetime=\"2020-07-10\">2020-07-10</time></li>\n",
       "\t<li><time datetime=\"2020-07-11\">2020-07-11</time></li>\n",
       "\t<li><time datetime=\"2020-07-12\">2020-07-12</time></li>\n",
       "\t<li><time datetime=\"2020-07-13\">2020-07-13</time></li>\n",
       "\t<li><time datetime=\"2020-07-14\">2020-07-14</time></li>\n",
       "\t<li><time datetime=\"2020-07-15\">2020-07-15</time></li>\n",
       "\t<li><time datetime=\"2020-07-16\">2020-07-16</time></li>\n",
       "\t<li><time datetime=\"2020-07-17\">2020-07-17</time></li>\n",
       "\t<li><time datetime=\"2020-07-18\">2020-07-18</time></li>\n",
       "\t<li><time datetime=\"2020-07-19\">2020-07-19</time></li>\n",
       "\t<li><time datetime=\"2020-07-20\">2020-07-20</time></li>\n",
       "\t<li><time datetime=\"2020-07-21\">2020-07-21</time></li>\n",
       "\t<li><time datetime=\"2020-07-22\">2020-07-22</time></li>\n",
       "\t<li><time datetime=\"2020-07-23\">2020-07-23</time></li>\n",
       "\t<li><time datetime=\"2020-07-24\">2020-07-24</time></li>\n",
       "\t<li><time datetime=\"2020-07-25\">2020-07-25</time></li>\n",
       "\t<li><time datetime=\"2020-07-26\">2020-07-26</time></li>\n",
       "\t<li><time datetime=\"2020-07-27\">2020-07-27</time></li>\n",
       "\t<li><time datetime=\"2020-07-28\">2020-07-28</time></li>\n",
       "\t<li><time datetime=\"2020-07-29\">2020-07-29</time></li>\n",
       "</ol>\n"
      ],
      "text/latex": [
       "\\begin{enumerate*}\n",
       "\\item 2020-03-06\n",
       "\\item 2020-03-09\n",
       "\\item 2020-03-11\n",
       "\\item 2020-03-12\n",
       "\\item 2020-03-13\n",
       "\\item 2020-03-14\n",
       "\\item 2020-03-15\n",
       "\\item 2020-03-16\n",
       "\\item 2020-03-17\n",
       "\\item 2020-03-18\n",
       "\\item 2020-03-19\n",
       "\\item 2020-03-20\n",
       "\\item 2020-03-21\n",
       "\\item 2020-03-22\n",
       "\\item 2020-03-23\n",
       "\\item 2020-03-24\n",
       "\\item 2020-03-27\n",
       "\\item 2020-03-25\n",
       "\\item 2020-03-26\n",
       "\\item 2020-03-28\n",
       "\\item 2020-03-29\n",
       "\\item 2020-03-30\n",
       "\\item 2020-03-31\n",
       "\\item 2020-04-01\n",
       "\\item 2020-04-02\n",
       "\\item 2020-04-03\n",
       "\\item 2020-04-04\n",
       "\\item 2020-04-05\n",
       "\\item 2020-04-06\n",
       "\\item 2020-04-07\n",
       "\\item 2020-04-08\n",
       "\\item 2020-04-09\n",
       "\\item 2020-04-10\n",
       "\\item 2020-04-11\n",
       "\\item 2020-04-12\n",
       "\\item 2020-04-13\n",
       "\\item 2020-04-14\n",
       "\\item 2020-04-19\n",
       "\\item 2020-04-15\n",
       "\\item 2020-04-28\n",
       "\\item 2020-04-16\n",
       "\\item 2020-04-17\n",
       "\\item 2020-04-18\n",
       "\\item 2020-04-20\n",
       "\\item 2020-04-22\n",
       "\\item 2020-04-21\n",
       "\\item 2020-04-23\n",
       "\\item 2020-05-01\n",
       "\\item 2020-04-24\n",
       "\\item 2020-05-05\n",
       "\\item 2020-04-25\n",
       "\\item 2020-04-26\n",
       "\\item 2020-04-27\n",
       "\\item 2020-04-29\n",
       "\\item 2020-04-30\n",
       "\\item 2020-05-02\n",
       "\\item 2020-05-04\n",
       "\\item 2020-05-03\n",
       "\\item 2020-05-06\n",
       "\\item 2020-05-07\n",
       "\\item 2020-05-08\n",
       "\\item 2020-05-09\n",
       "\\item 2020-05-10\n",
       "\\item 2020-05-11\n",
       "\\item 2020-05-12\n",
       "\\item 2020-05-13\n",
       "\\item 2020-05-14\n",
       "\\item 2020-05-15\n",
       "\\item 2020-05-16\n",
       "\\item 2020-05-17\n",
       "\\item 2020-05-18\n",
       "\\item 2020-05-19\n",
       "\\item 2020-05-20\n",
       "\\item 2020-05-21\n",
       "\\item 2020-05-22\n",
       "\\item 2020-05-23\n",
       "\\item 2020-05-24\n",
       "\\item 2020-05-25\n",
       "\\item 2020-05-26\n",
       "\\item 2020-05-27\n",
       "\\item 2020-05-28\n",
       "\\item 2020-05-29\n",
       "\\item 2020-05-30\n",
       "\\item 2020-05-31\n",
       "\\item 2020-06-01\n",
       "\\item 2020-06-02\n",
       "\\item 2020-06-03\n",
       "\\item 2020-06-04\n",
       "\\item 2020-06-05\n",
       "\\item 2020-06-06\n",
       "\\item 2020-06-07\n",
       "\\item 2020-06-08\n",
       "\\item 2020-06-09\n",
       "\\item 2020-06-10\n",
       "\\item 2020-06-11\n",
       "\\item 2020-06-12\n",
       "\\item 2020-06-13\n",
       "\\item 2020-06-14\n",
       "\\item 2020-06-15\n",
       "\\item 2020-06-16\n",
       "\\item 2020-06-17\n",
       "\\item 2020-06-18\n",
       "\\item 2020-06-19\n",
       "\\item 2020-06-20\n",
       "\\item 2020-06-21\n",
       "\\item 2020-06-22\n",
       "\\item 2020-06-23\n",
       "\\item 2020-06-24\n",
       "\\item 2020-06-25\n",
       "\\item 2020-06-26\n",
       "\\item 2020-06-27\n",
       "\\item 2020-06-28\n",
       "\\item 2020-06-29\n",
       "\\item 2020-06-30\n",
       "\\item 2020-07-01\n",
       "\\item 2020-07-02\n",
       "\\item 2020-07-03\n",
       "\\item 2020-07-04\n",
       "\\item 2020-07-05\n",
       "\\item 2020-07-06\n",
       "\\item 2020-07-07\n",
       "\\item 2020-07-08\n",
       "\\item 2020-07-09\n",
       "\\item 2020-07-10\n",
       "\\item 2020-07-11\n",
       "\\item 2020-07-12\n",
       "\\item 2020-07-13\n",
       "\\item 2020-07-14\n",
       "\\item 2020-07-15\n",
       "\\item 2020-07-16\n",
       "\\item 2020-07-17\n",
       "\\item 2020-07-18\n",
       "\\item 2020-07-19\n",
       "\\item 2020-07-20\n",
       "\\item 2020-07-21\n",
       "\\item 2020-07-22\n",
       "\\item 2020-07-23\n",
       "\\item 2020-07-24\n",
       "\\item 2020-07-25\n",
       "\\item 2020-07-26\n",
       "\\item 2020-07-27\n",
       "\\item 2020-07-28\n",
       "\\item 2020-07-29\n",
       "\\end{enumerate*}\n"
      ],
      "text/markdown": [
       "1. 2020-03-06\n",
       "2. 2020-03-09\n",
       "3. 2020-03-11\n",
       "4. 2020-03-12\n",
       "5. 2020-03-13\n",
       "6. 2020-03-14\n",
       "7. 2020-03-15\n",
       "8. 2020-03-16\n",
       "9. 2020-03-17\n",
       "10. 2020-03-18\n",
       "11. 2020-03-19\n",
       "12. 2020-03-20\n",
       "13. 2020-03-21\n",
       "14. 2020-03-22\n",
       "15. 2020-03-23\n",
       "16. 2020-03-24\n",
       "17. 2020-03-27\n",
       "18. 2020-03-25\n",
       "19. 2020-03-26\n",
       "20. 2020-03-28\n",
       "21. 2020-03-29\n",
       "22. 2020-03-30\n",
       "23. 2020-03-31\n",
       "24. 2020-04-01\n",
       "25. 2020-04-02\n",
       "26. 2020-04-03\n",
       "27. 2020-04-04\n",
       "28. 2020-04-05\n",
       "29. 2020-04-06\n",
       "30. 2020-04-07\n",
       "31. 2020-04-08\n",
       "32. 2020-04-09\n",
       "33. 2020-04-10\n",
       "34. 2020-04-11\n",
       "35. 2020-04-12\n",
       "36. 2020-04-13\n",
       "37. 2020-04-14\n",
       "38. 2020-04-19\n",
       "39. 2020-04-15\n",
       "40. 2020-04-28\n",
       "41. 2020-04-16\n",
       "42. 2020-04-17\n",
       "43. 2020-04-18\n",
       "44. 2020-04-20\n",
       "45. 2020-04-22\n",
       "46. 2020-04-21\n",
       "47. 2020-04-23\n",
       "48. 2020-05-01\n",
       "49. 2020-04-24\n",
       "50. 2020-05-05\n",
       "51. 2020-04-25\n",
       "52. 2020-04-26\n",
       "53. 2020-04-27\n",
       "54. 2020-04-29\n",
       "55. 2020-04-30\n",
       "56. 2020-05-02\n",
       "57. 2020-05-04\n",
       "58. 2020-05-03\n",
       "59. 2020-05-06\n",
       "60. 2020-05-07\n",
       "61. 2020-05-08\n",
       "62. 2020-05-09\n",
       "63. 2020-05-10\n",
       "64. 2020-05-11\n",
       "65. 2020-05-12\n",
       "66. 2020-05-13\n",
       "67. 2020-05-14\n",
       "68. 2020-05-15\n",
       "69. 2020-05-16\n",
       "70. 2020-05-17\n",
       "71. 2020-05-18\n",
       "72. 2020-05-19\n",
       "73. 2020-05-20\n",
       "74. 2020-05-21\n",
       "75. 2020-05-22\n",
       "76. 2020-05-23\n",
       "77. 2020-05-24\n",
       "78. 2020-05-25\n",
       "79. 2020-05-26\n",
       "80. 2020-05-27\n",
       "81. 2020-05-28\n",
       "82. 2020-05-29\n",
       "83. 2020-05-30\n",
       "84. 2020-05-31\n",
       "85. 2020-06-01\n",
       "86. 2020-06-02\n",
       "87. 2020-06-03\n",
       "88. 2020-06-04\n",
       "89. 2020-06-05\n",
       "90. 2020-06-06\n",
       "91. 2020-06-07\n",
       "92. 2020-06-08\n",
       "93. 2020-06-09\n",
       "94. 2020-06-10\n",
       "95. 2020-06-11\n",
       "96. 2020-06-12\n",
       "97. 2020-06-13\n",
       "98. 2020-06-14\n",
       "99. 2020-06-15\n",
       "100. 2020-06-16\n",
       "101. 2020-06-17\n",
       "102. 2020-06-18\n",
       "103. 2020-06-19\n",
       "104. 2020-06-20\n",
       "105. 2020-06-21\n",
       "106. 2020-06-22\n",
       "107. 2020-06-23\n",
       "108. 2020-06-24\n",
       "109. 2020-06-25\n",
       "110. 2020-06-26\n",
       "111. 2020-06-27\n",
       "112. 2020-06-28\n",
       "113. 2020-06-29\n",
       "114. 2020-06-30\n",
       "115. 2020-07-01\n",
       "116. 2020-07-02\n",
       "117. 2020-07-03\n",
       "118. 2020-07-04\n",
       "119. 2020-07-05\n",
       "120. 2020-07-06\n",
       "121. 2020-07-07\n",
       "122. 2020-07-08\n",
       "123. 2020-07-09\n",
       "124. 2020-07-10\n",
       "125. 2020-07-11\n",
       "126. 2020-07-12\n",
       "127. 2020-07-13\n",
       "128. 2020-07-14\n",
       "129. 2020-07-15\n",
       "130. 2020-07-16\n",
       "131. 2020-07-17\n",
       "132. 2020-07-18\n",
       "133. 2020-07-19\n",
       "134. 2020-07-20\n",
       "135. 2020-07-21\n",
       "136. 2020-07-22\n",
       "137. 2020-07-23\n",
       "138. 2020-07-24\n",
       "139. 2020-07-25\n",
       "140. 2020-07-26\n",
       "141. 2020-07-27\n",
       "142. 2020-07-28\n",
       "143. 2020-07-29\n",
       "\n",
       "\n"
      ],
      "text/plain": [
       "  [1] \"2020-03-06\" \"2020-03-09\" \"2020-03-11\" \"2020-03-12\" \"2020-03-13\"\n",
       "  [6] \"2020-03-14\" \"2020-03-15\" \"2020-03-16\" \"2020-03-17\" \"2020-03-18\"\n",
       " [11] \"2020-03-19\" \"2020-03-20\" \"2020-03-21\" \"2020-03-22\" \"2020-03-23\"\n",
       " [16] \"2020-03-24\" \"2020-03-27\" \"2020-03-25\" \"2020-03-26\" \"2020-03-28\"\n",
       " [21] \"2020-03-29\" \"2020-03-30\" \"2020-03-31\" \"2020-04-01\" \"2020-04-02\"\n",
       " [26] \"2020-04-03\" \"2020-04-04\" \"2020-04-05\" \"2020-04-06\" \"2020-04-07\"\n",
       " [31] \"2020-04-08\" \"2020-04-09\" \"2020-04-10\" \"2020-04-11\" \"2020-04-12\"\n",
       " [36] \"2020-04-13\" \"2020-04-14\" \"2020-04-19\" \"2020-04-15\" \"2020-04-28\"\n",
       " [41] \"2020-04-16\" \"2020-04-17\" \"2020-04-18\" \"2020-04-20\" \"2020-04-22\"\n",
       " [46] \"2020-04-21\" \"2020-04-23\" \"2020-05-01\" \"2020-04-24\" \"2020-05-05\"\n",
       " [51] \"2020-04-25\" \"2020-04-26\" \"2020-04-27\" \"2020-04-29\" \"2020-04-30\"\n",
       " [56] \"2020-05-02\" \"2020-05-04\" \"2020-05-03\" \"2020-05-06\" \"2020-05-07\"\n",
       " [61] \"2020-05-08\" \"2020-05-09\" \"2020-05-10\" \"2020-05-11\" \"2020-05-12\"\n",
       " [66] \"2020-05-13\" \"2020-05-14\" \"2020-05-15\" \"2020-05-16\" \"2020-05-17\"\n",
       " [71] \"2020-05-18\" \"2020-05-19\" \"2020-05-20\" \"2020-05-21\" \"2020-05-22\"\n",
       " [76] \"2020-05-23\" \"2020-05-24\" \"2020-05-25\" \"2020-05-26\" \"2020-05-27\"\n",
       " [81] \"2020-05-28\" \"2020-05-29\" \"2020-05-30\" \"2020-05-31\" \"2020-06-01\"\n",
       " [86] \"2020-06-02\" \"2020-06-03\" \"2020-06-04\" \"2020-06-05\" \"2020-06-06\"\n",
       " [91] \"2020-06-07\" \"2020-06-08\" \"2020-06-09\" \"2020-06-10\" \"2020-06-11\"\n",
       " [96] \"2020-06-12\" \"2020-06-13\" \"2020-06-14\" \"2020-06-15\" \"2020-06-16\"\n",
       "[101] \"2020-06-17\" \"2020-06-18\" \"2020-06-19\" \"2020-06-20\" \"2020-06-21\"\n",
       "[106] \"2020-06-22\" \"2020-06-23\" \"2020-06-24\" \"2020-06-25\" \"2020-06-26\"\n",
       "[111] \"2020-06-27\" \"2020-06-28\" \"2020-06-29\" \"2020-06-30\" \"2020-07-01\"\n",
       "[116] \"2020-07-02\" \"2020-07-03\" \"2020-07-04\" \"2020-07-05\" \"2020-07-06\"\n",
       "[121] \"2020-07-07\" \"2020-07-08\" \"2020-07-09\" \"2020-07-10\" \"2020-07-11\"\n",
       "[126] \"2020-07-12\" \"2020-07-13\" \"2020-07-14\" \"2020-07-15\" \"2020-07-16\"\n",
       "[131] \"2020-07-17\" \"2020-07-18\" \"2020-07-19\" \"2020-07-20\" \"2020-07-21\"\n",
       "[136] \"2020-07-22\" \"2020-07-23\" \"2020-07-24\" \"2020-07-25\" \"2020-07-26\"\n",
       "[141] \"2020-07-27\" \"2020-07-28\" \"2020-07-29\""
      ]
     },
     "metadata": {},
     "output_type": "display_data"
    }
   ],
   "source": [
    "# Imprimiendo  los registros únicos de fecha de reporte web\n",
    "unique(covid_19$'fecha reporte web')"
   ]
  },
  {
   "cell_type": "code",
   "execution_count": 46,
   "metadata": {},
   "outputs": [],
   "source": [
    "casos.fn <- with(covid_19,data.frame(table(`Fecha de notificación`)))\n",
    "casos.fd <- with(covid_19,data.frame(table(`Fecha diagnostico`)))\n",
    "casos.frw <- with(covid_19,data.frame(table(`fecha reporte web`)))"
   ]
  },
  {
   "cell_type": "code",
   "execution_count": 48,
   "metadata": {},
   "outputs": [
    {
     "data": {
      "text/html": [
       "<table>\n",
       "<thead><tr><th scope=col>Fecha.de.notificación</th><th scope=col>Freq</th></tr></thead>\n",
       "<tbody>\n",
       "\t<tr><td>2020-03-02</td><td>1         </td></tr>\n",
       "\t<tr><td>2020-03-06</td><td>1         </td></tr>\n",
       "\t<tr><td>2020-03-07</td><td>1         </td></tr>\n",
       "\t<tr><td>2020-03-08</td><td>2         </td></tr>\n",
       "\t<tr><td>2020-03-09</td><td>3         </td></tr>\n",
       "\t<tr><td>2020-03-10</td><td>4         </td></tr>\n",
       "</tbody>\n",
       "</table>\n"
      ],
      "text/latex": [
       "\\begin{tabular}{r|ll}\n",
       " Fecha.de.notificación & Freq\\\\\n",
       "\\hline\n",
       "\t 2020-03-02 & 1         \\\\\n",
       "\t 2020-03-06 & 1         \\\\\n",
       "\t 2020-03-07 & 1         \\\\\n",
       "\t 2020-03-08 & 2         \\\\\n",
       "\t 2020-03-09 & 3         \\\\\n",
       "\t 2020-03-10 & 4         \\\\\n",
       "\\end{tabular}\n"
      ],
      "text/markdown": [
       "\n",
       "| Fecha.de.notificación | Freq |\n",
       "|---|---|\n",
       "| 2020-03-02 | 1          |\n",
       "| 2020-03-06 | 1          |\n",
       "| 2020-03-07 | 1          |\n",
       "| 2020-03-08 | 2          |\n",
       "| 2020-03-09 | 3          |\n",
       "| 2020-03-10 | 4          |\n",
       "\n"
      ],
      "text/plain": [
       "  Fecha.de.notificación Freq\n",
       "1 2020-03-02            1   \n",
       "2 2020-03-06            1   \n",
       "3 2020-03-07            1   \n",
       "4 2020-03-08            2   \n",
       "5 2020-03-09            3   \n",
       "6 2020-03-10            4   "
      ]
     },
     "metadata": {},
     "output_type": "display_data"
    },
    {
     "data": {
      "text/html": [
       "<table>\n",
       "<thead><tr><th scope=col>Fecha.diagnostico</th><th scope=col>Freq</th></tr></thead>\n",
       "<tbody>\n",
       "\t<tr><td>2020-03-06</td><td> 1        </td></tr>\n",
       "\t<tr><td>2020-03-09</td><td> 2        </td></tr>\n",
       "\t<tr><td>2020-03-11</td><td> 6        </td></tr>\n",
       "\t<tr><td>2020-03-12</td><td> 5        </td></tr>\n",
       "\t<tr><td>2020-03-13</td><td> 5        </td></tr>\n",
       "\t<tr><td>2020-03-14</td><td>18        </td></tr>\n",
       "</tbody>\n",
       "</table>\n"
      ],
      "text/latex": [
       "\\begin{tabular}{r|ll}\n",
       " Fecha.diagnostico & Freq\\\\\n",
       "\\hline\n",
       "\t 2020-03-06 &  1        \\\\\n",
       "\t 2020-03-09 &  2        \\\\\n",
       "\t 2020-03-11 &  6        \\\\\n",
       "\t 2020-03-12 &  5        \\\\\n",
       "\t 2020-03-13 &  5        \\\\\n",
       "\t 2020-03-14 & 18        \\\\\n",
       "\\end{tabular}\n"
      ],
      "text/markdown": [
       "\n",
       "| Fecha.diagnostico | Freq |\n",
       "|---|---|\n",
       "| 2020-03-06 |  1         |\n",
       "| 2020-03-09 |  2         |\n",
       "| 2020-03-11 |  6         |\n",
       "| 2020-03-12 |  5         |\n",
       "| 2020-03-13 |  5         |\n",
       "| 2020-03-14 | 18         |\n",
       "\n"
      ],
      "text/plain": [
       "  Fecha.diagnostico Freq\n",
       "1 2020-03-06         1  \n",
       "2 2020-03-09         2  \n",
       "3 2020-03-11         6  \n",
       "4 2020-03-12         5  \n",
       "5 2020-03-13         5  \n",
       "6 2020-03-14        18  "
      ]
     },
     "metadata": {},
     "output_type": "display_data"
    },
    {
     "data": {
      "text/html": [
       "<table>\n",
       "<thead><tr><th scope=col>fecha.reporte.web</th><th scope=col>Freq</th></tr></thead>\n",
       "<tbody>\n",
       "\t<tr><td>2020-03-06</td><td> 1        </td></tr>\n",
       "\t<tr><td>2020-03-09</td><td> 2        </td></tr>\n",
       "\t<tr><td>2020-03-11</td><td> 6        </td></tr>\n",
       "\t<tr><td>2020-03-12</td><td> 5        </td></tr>\n",
       "\t<tr><td>2020-03-13</td><td> 5        </td></tr>\n",
       "\t<tr><td>2020-03-14</td><td>18        </td></tr>\n",
       "</tbody>\n",
       "</table>\n"
      ],
      "text/latex": [
       "\\begin{tabular}{r|ll}\n",
       " fecha.reporte.web & Freq\\\\\n",
       "\\hline\n",
       "\t 2020-03-06 &  1        \\\\\n",
       "\t 2020-03-09 &  2        \\\\\n",
       "\t 2020-03-11 &  6        \\\\\n",
       "\t 2020-03-12 &  5        \\\\\n",
       "\t 2020-03-13 &  5        \\\\\n",
       "\t 2020-03-14 & 18        \\\\\n",
       "\\end{tabular}\n"
      ],
      "text/markdown": [
       "\n",
       "| fecha.reporte.web | Freq |\n",
       "|---|---|\n",
       "| 2020-03-06 |  1         |\n",
       "| 2020-03-09 |  2         |\n",
       "| 2020-03-11 |  6         |\n",
       "| 2020-03-12 |  5         |\n",
       "| 2020-03-13 |  5         |\n",
       "| 2020-03-14 | 18         |\n",
       "\n"
      ],
      "text/plain": [
       "  fecha.reporte.web Freq\n",
       "1 2020-03-06         1  \n",
       "2 2020-03-09         2  \n",
       "3 2020-03-11         6  \n",
       "4 2020-03-12         5  \n",
       "5 2020-03-13         5  \n",
       "6 2020-03-14        18  "
      ]
     },
     "metadata": {},
     "output_type": "display_data"
    }
   ],
   "source": [
    "head(casos.fn)\n",
    "head(casos.fd)\n",
    "head(casos.frw)"
   ]
  },
  {
   "cell_type": "markdown",
   "metadata": {},
   "source": [
    "## FECHA DE NOTIFICACIÓN"
   ]
  },
  {
   "cell_type": "code",
   "execution_count": 49,
   "metadata": {},
   "outputs": [
    {
     "data": {
      "image/png": "[encoded data removed]",
      "text/plain": [
       "plot without title"
      ]
     },
     "metadata": {},
     "output_type": "display_data"
    }
   ],
   "source": [
    "with(casos.fn, plot(Fecha.de.notificación, Freq))"
   ]
  },
  {
   "cell_type": "markdown",
   "metadata": {},
   "source": [
    "Se puede observar un descenso en la frecuencia de notificación de los casos en los últimos días."
   ]
  },
  {
   "cell_type": "code",
   "execution_count": 50,
   "metadata": {},
   "outputs": [],
   "source": [
    "casosfn <- casos.fn$Freq"
   ]
  },
  {
   "cell_type": "markdown",
   "metadata": {},
   "source": [
    "Se trabajará con dos escenarios de estacionalidad, uno sin estacionalidad y otro con estacionalidad de 7 días."
   ]
  },
  {
   "cell_type": "code",
   "execution_count": 58,
   "metadata": {},
   "outputs": [],
   "source": [
    "# estacionalidad\n",
    "casosfn.ts1<-ts(casosfn[-1], frequency = 7)\n",
    "casosfn.ts2<-ts(casosfn[-1])"
   ]
  },
  {
   "cell_type": "code",
   "execution_count": 59,
   "metadata": {},
   "outputs": [
    {
     "data": {
      "image/png": "[encoded data removed]",
      "text/plain": [
       "plot without title"
      ]
     },
     "metadata": {},
     "output_type": "display_data"
    },
    {
     "data": {
      "image/png": "[encoded data removed]",
      "text/plain": [
       "plot without title"
      ]
     },
     "metadata": {},
     "output_type": "display_data"
    }
   ],
   "source": [
    "plot(casosfn.ts1)\n",
    "plot(casosfn.ts2)"
   ]
  },
  {
   "cell_type": "markdown",
   "metadata": {},
   "source": [
    "Podemos observar como la frecuencia no influye en la estructura de la serie de tiempo."
   ]
  },
  {
   "cell_type": "markdown",
   "metadata": {},
   "source": [
    "Descomponiendo la primera serie (la que posee un componente estacional)"
   ]
  },
  {
   "cell_type": "code",
   "execution_count": 53,
   "metadata": {},
   "outputs": [
    {
     "data": {
      "image/png": "[encoded data removed]",
      "text/plain": [
       "plot without title"
      ]
     },
     "metadata": {},
     "output_type": "display_data"
    }
   ],
   "source": [
    "plot(decompose(casosfn.ts1))"
   ]
  },
  {
   "cell_type": "markdown",
   "metadata": {},
   "source": [
    "El componente estacional se va haciendo cada vez mayor, luego podría plantearse modelar la serie con descomposición de tipo multiplicativa."
   ]
  },
  {
   "cell_type": "code",
   "execution_count": 54,
   "metadata": {},
   "outputs": [
    {
     "data": {
      "image/png": "[encoded data removed]",
      "text/plain": [
       "plot without title"
      ]
     },
     "metadata": {},
     "output_type": "display_data"
    }
   ],
   "source": [
    "plot(decompose(casosfn.ts1, type = 'multiplicative'))"
   ]
  },
  {
   "cell_type": "markdown",
   "metadata": {},
   "source": [
    "Se aprecia una mejoría en el componente aleatorio del modelo por descomposición multiplicativa con respecto a la descomposición clásica (aditiva)."
   ]
  },
  {
   "cell_type": "code",
   "execution_count": 62,
   "metadata": {},
   "outputs": [
    {
     "data": {
      "text/plain": [
       "Series: casosfn.ts1 \n",
       "ARIMA(2,1,0)(1,0,0)[7] \n",
       "\n",
       "Coefficients:\n",
       "          ar1      ar2    sar1\n",
       "      -0.3944  -0.1941  0.6407\n",
       "s.e.   0.0876   0.0839  0.0683\n",
       "\n",
       "sigma^2 estimated as 253590:  log likelihood=-1108.33\n",
       "AIC=2224.66   AICc=2224.94   BIC=2236.56"
      ]
     },
     "metadata": {},
     "output_type": "display_data"
    },
    {
     "data": {
      "text/plain": [
       "Series: casosfn.ts2 \n",
       "ARIMA(0,1,0) \n",
       "\n",
       "sigma^2 estimated as 412155:  log likelihood=-1143.11\n",
       "AIC=2288.22   AICc=2288.25   BIC=2291.2"
      ]
     },
     "metadata": {},
     "output_type": "display_data"
    }
   ],
   "source": [
    "auto.arima(casosfn.ts1)\n"
   ]
  },
  {
   "cell_type": "markdown",
   "metadata": {},
   "source": [
    "Podemos ver que es un modelo auto-regresivo de orden 2, en donde los valores observados a la fecha de hoy están influenciados hasta por los valores observados dos días antes, se integra con los errores aunque estos no presentan ningún patrón. Además, lo observado en el día de hoy está influenciado por lo que se observó hace 7 días."
   ]
  },
  {
   "cell_type": "markdown",
   "metadata": {},
   "source": [
    "Para analizar mejor lo que está pasando, veamos las funciones de autocorrelación simple y autocorrelación parcial"
   ]
  },
  {
   "cell_type": "code",
   "execution_count": 56,
   "metadata": {},
   "outputs": [
    {
     "data": {
      "image/png": "[encoded data removed]",
      "text/plain": [
       "Plot with title \"Series  casosfn.ts2\""
      ]
     },
     "metadata": {},
     "output_type": "display_data"
    }
   ],
   "source": [
    "par(mfrow = c(2,2))\n",
    "acf(casosfn.ts1) #Función de autocorrelación simple\n",
    "pacf(casosfn.ts1) #Función de autocorrelación parcial\n",
    "acf(casosfn.ts2)\n",
    "pacf(casosfn.ts2)"
   ]
  },
  {
   "cell_type": "markdown",
   "metadata": {},
   "source": [
    "Podemos observar que ambos modelos son ARIMA, sin embargo, no hay claridad en la autocorrelación parcial."
   ]
  },
  {
   "cell_type": "code",
   "execution_count": 57,
   "metadata": {},
   "outputs": [
    {
     "name": "stderr",
     "output_type": "stream",
     "text": [
      "ERROR while rich displaying an object: Error in if (many_rows) {: argument is of length zero\n",
      "\n",
      "Traceback:\n",
      "1. FUN(X[[i]], ...)\n",
      "2. tryCatch(withCallingHandlers({\n",
      " .     if (!mime %in% names(repr::mime2repr)) \n",
      " .         stop(\"No repr_* for mimetype \", mime, \" in repr::mime2repr\")\n",
      " .     rpr <- repr::mime2repr[[mime]](obj)\n",
      " .     if (is.null(rpr)) \n",
      " .         return(NULL)\n",
      " .     prepare_content(is.raw(rpr), rpr)\n",
      " . }, error = error_handler), error = outer_handler)\n",
      "3. tryCatchList(expr, classes, parentenv, handlers)\n",
      "4. tryCatchOne(expr, names, parentenv, handlers[[1L]])\n",
      "5. doTryCatch(return(expr), name, parentenv, handler)\n",
      "6. withCallingHandlers({\n",
      " .     if (!mime %in% names(repr::mime2repr)) \n",
      " .         stop(\"No repr_* for mimetype \", mime, \" in repr::mime2repr\")\n",
      " .     rpr <- repr::mime2repr[[mime]](obj)\n",
      " .     if (is.null(rpr)) \n",
      " .         return(NULL)\n",
      " .     prepare_content(is.raw(rpr), rpr)\n",
      " . }, error = error_handler)\n",
      "7. repr::mime2repr[[mime]](obj)\n",
      "8. repr_html.list(obj)\n",
      "9. repr_list_generic(obj, \"html\", \"\\t<li>%s</li>\\n\", \"\\t<dt>$%s</dt>\\n\\t\\t<dd>%s</dd>\\n\", \n",
      " .     \"<strong>$%s</strong> = %s\", \"<ol>\\n%s</ol>\\n\", \"<dl>\\n%s</dl>\\n\", \n",
      " .     numeric_item = \"\\t<dt>[[%s]]</dt>\\n\\t\\t<dd>%s</dd>\\n\", escape_fun = html_escape)\n",
      "10. lapply(vec, format2repr[[fmt]])\n",
      "11. FUN(X[[i]], ...)\n",
      "12. repr_html.ts(X[[i]], ...)\n",
      "13. repr_ts_generic(obj, repr_html.matrix, ...)\n",
      "14. repr_func(m, ..., rows = nrow(m), cols = ncol(m))\n",
      "15. repr_matrix_generic(obj, \"<table>\\n%s%s</table>\\n\", \"<thead><tr>%s</tr></thead>\\n\", \n",
      "  .     \"<th></th>\", \"<th scope=col>%s</th>\", \"<tbody>\\n%s</tbody>\\n\", \n",
      "  .     \"\\t<tr>%s</tr>\\n\", \"<th scope=row>%s</th>\", \"<td>%s</td>\", \n",
      "  .     escape_fun = html_escape_vec, ...)\n",
      "16. ellip_limit_arr(flatten(x), rows, cols)\n",
      "17. arr_partition(a, rows, cols)\n",
      "ERROR while rich displaying an object: Error in repr_matrix_generic(obj, \"\\n%s%s\\n\", sprintf(\"|%%s\\n|%s|\\n\", : formal argument \"cols\" matched by multiple actual arguments\n",
      "\n",
      "Traceback:\n",
      "1. FUN(X[[i]], ...)\n",
      "2. tryCatch(withCallingHandlers({\n",
      " .     if (!mime %in% names(repr::mime2repr)) \n",
      " .         stop(\"No repr_* for mimetype \", mime, \" in repr::mime2repr\")\n",
      " .     rpr <- repr::mime2repr[[mime]](obj)\n",
      " .     if (is.null(rpr)) \n",
      " .         return(NULL)\n",
      " .     prepare_content(is.raw(rpr), rpr)\n",
      " . }, error = error_handler), error = outer_handler)\n",
      "3. tryCatchList(expr, classes, parentenv, handlers)\n",
      "4. tryCatchOne(expr, names, parentenv, handlers[[1L]])\n",
      "5. doTryCatch(return(expr), name, parentenv, handler)\n",
      "6. withCallingHandlers({\n",
      " .     if (!mime %in% names(repr::mime2repr)) \n",
      " .         stop(\"No repr_* for mimetype \", mime, \" in repr::mime2repr\")\n",
      " .     rpr <- repr::mime2repr[[mime]](obj)\n",
      " .     if (is.null(rpr)) \n",
      " .         return(NULL)\n",
      " .     prepare_content(is.raw(rpr), rpr)\n",
      " . }, error = error_handler)\n",
      "7. repr::mime2repr[[mime]](obj)\n",
      "8. repr_markdown.list(obj)\n",
      "9. repr_list_generic(obj, \"markdown\", \"%s. %s\\n\", \"$%s\\n:   %s\\n\", \n",
      " .     \"**$%s** = %s\", \"%s\\n\\n\", numeric_item = \"[[%s]]\\n:   %s\\n\", \n",
      " .     item_uses_numbers = TRUE, escape_fun = html_escape)\n",
      "10. lapply(vec, format2repr[[fmt]])\n",
      "11. FUN(X[[i]], ...)\n",
      "12. repr_markdown.ts(X[[i]], ...)\n",
      "13. repr_ts_generic(obj, repr_markdown.matrix, ...)\n",
      "14. repr_func(m, ..., rows = nrow(m), cols = ncol(m))\n",
      "ERROR while rich displaying an object: Error in rep(colspec$col, ncol(obj)): invalid 'times' argument\n",
      "\n",
      "Traceback:\n",
      "1. FUN(X[[i]], ...)\n",
      "2. tryCatch(withCallingHandlers({\n",
      " .     if (!mime %in% names(repr::mime2repr)) \n",
      " .         stop(\"No repr_* for mimetype \", mime, \" in repr::mime2repr\")\n",
      " .     rpr <- repr::mime2repr[[mime]](obj)\n",
      " .     if (is.null(rpr)) \n",
      " .         return(NULL)\n",
      " .     prepare_content(is.raw(rpr), rpr)\n",
      " . }, error = error_handler), error = outer_handler)\n",
      "3. tryCatchList(expr, classes, parentenv, handlers)\n",
      "4. tryCatchOne(expr, names, parentenv, handlers[[1L]])\n",
      "5. doTryCatch(return(expr), name, parentenv, handler)\n",
      "6. withCallingHandlers({\n",
      " .     if (!mime %in% names(repr::mime2repr)) \n",
      " .         stop(\"No repr_* for mimetype \", mime, \" in repr::mime2repr\")\n",
      " .     rpr <- repr::mime2repr[[mime]](obj)\n",
      " .     if (is.null(rpr)) \n",
      " .         return(NULL)\n",
      " .     prepare_content(is.raw(rpr), rpr)\n",
      " . }, error = error_handler)\n",
      "7. repr::mime2repr[[mime]](obj)\n",
      "8. repr_latex.list(obj)\n",
      "9. repr_list_generic(obj, \"latex\", \"\\\\item %s\\n\", \"\\\\item[\\\\$%s] %s\\n\", \n",
      " .     \"\\\\textbf{\\\\$%s} = %s\", enum_wrap = \"\\\\begin{enumerate}\\n%s\\\\end{enumerate}\\n\", \n",
      " .     named_wrap = \"\\\\begin{description}\\n%s\\\\end{description}\\n\", \n",
      " .     numeric_item = \"\\\\item[{[[%s]]}] %s\\n\", escape_fun = latex_escape)\n",
      "10. lapply(vec, format2repr[[fmt]])\n",
      "11. FUN(X[[i]], ...)\n",
      "12. repr_latex.ts(X[[i]], ...)\n",
      "13. repr_ts_generic(obj, repr_latex.matrix, ..., colspec = colspec)\n",
      "14. repr_func(m, ..., rows = nrow(m), cols = ncol(m))\n",
      "15. paste0(paste(rep(colspec$col, ncol(obj)), collapse = \"\"), colspec$end)\n",
      "16. paste(rep(colspec$col, ncol(obj)), collapse = \"\")\n"
     ]
    },
    {
     "data": {
      "text/plain": [
       "$pred\n",
       "Time Series:\n",
       "Start = 147 \n",
       "End = 151 \n",
       "Frequency = 1 \n",
       "[1] 19 19 19 19 19\n",
       "\n",
       "$se\n",
       "Time Series:\n",
       "Start = 147 \n",
       "End = 151 \n",
       "Frequency = 1 \n",
       "[1]  641.9932  907.9155 1111.9648 1283.9864 1435.5404\n"
      ]
     },
     "metadata": {},
     "output_type": "display_data"
    }
   ],
   "source": [
    "predict(auto.arima(casosfn.ts2),5)"
   ]
  },
  {
   "cell_type": "markdown",
   "metadata": {},
   "source": [
    "La predicción parece indicar que los valores van a estar fluctuando con crecimientos y decaimientos constantes."
   ]
  },
  {
   "cell_type": "markdown",
   "metadata": {},
   "source": [
    "La predicción parece señalar que los valores van a estar fluctuando con crecimientos y decaimientos constantes.\n",
    "Observemos la serie en la primera diferencia para ver si se puede clarificar más el proceso."
   ]
  },
  {
   "cell_type": "code",
   "execution_count": 69,
   "metadata": {},
   "outputs": [
    {
     "data": {
      "image/png": "[encoded data removed]",
      "text/plain": [
       "Plot with title \"Series  diff(casosfn.ts2, 1)\""
      ]
     },
     "metadata": {},
     "output_type": "display_data"
    },
    {
     "data": {
      "image/png": "[encoded data removed]",
      "text/plain": [
       "Plot with title \"Series  diff(casosfn.ts2, 1)\""
      ]
     },
     "metadata": {},
     "output_type": "display_data"
    }
   ],
   "source": [
    "acf(diff(casosfn.ts2,1))\n",
    "pacf(diff(casosfn.ts2,1))"
   ]
  },
  {
   "cell_type": "code",
   "execution_count": 70,
   "metadata": {},
   "outputs": [
    {
     "data": {
      "text/plain": [
       "Series: diff(casosfn.ts2, 1) \n",
       "ARIMA(0,0,0) with zero mean \n",
       "\n",
       "sigma^2 estimated as 412155:  log likelihood=-1143.11\n",
       "AIC=2288.22   AICc=2288.25   BIC=2291.2"
      ]
     },
     "metadata": {},
     "output_type": "display_data"
    }
   ],
   "source": [
    "auto.arima(diff(casosfn.ts2,1))"
   ]
  },
  {
   "cell_type": "markdown",
   "metadata": {},
   "source": [
    "Vemos como no es muy diciente, siendo mejor modelo la consideración auto-regresiva estacional."
   ]
  },
  {
   "cell_type": "markdown",
   "metadata": {},
   "source": [
    "## FECHA DE DIAGNÓSTICO"
   ]
  },
  {
   "cell_type": "code",
   "execution_count": 11,
   "metadata": {},
   "outputs": [
    {
     "data": {
      "image/png": "[encoded data removed]",
      "text/plain": [
       "plot without title"
      ]
     },
     "metadata": {},
     "output_type": "display_data"
    }
   ],
   "source": [
    "with(casos.fd, plot(Fecha.diagnostico, Freq))"
   ]
  },
  {
   "cell_type": "code",
   "execution_count": 12,
   "metadata": {},
   "outputs": [],
   "source": [
    "freq_casos_fd <- casos.fd$Freq"
   ]
  },
  {
   "cell_type": "code",
   "execution_count": 17,
   "metadata": {},
   "outputs": [],
   "source": [
    "# Estacionalidad de 7 días\n",
    "freq_casos_fd.ts1 <- ts(freq_casos_fd[-1], frequency = 7)\n",
    "# Sin estacionalidad\n",
    "freq_casos_fd.ts2 <- ts(freq_casos_fd[-1])"
   ]
  },
  {
   "cell_type": "code",
   "execution_count": 18,
   "metadata": {},
   "outputs": [
    {
     "data": {
      "image/png": "[encoded data removed]",
      "text/plain": [
       "plot without title"
      ]
     },
     "metadata": {},
     "output_type": "display_data"
    },
    {
     "data": {
      "image/png": "[encoded data removed]",
      "text/plain": [
       "plot without title"
      ]
     },
     "metadata": {},
     "output_type": "display_data"
    }
   ],
   "source": [
    "plot(freq_casos_fd.ts1)\n",
    "plot(freq_casos_fd.ts2)"
   ]
  },
  {
   "cell_type": "markdown",
   "metadata": {},
   "source": [
    "Se puede observar que la frecuencia no influye en la gráfica de series de tiempo."
   ]
  },
  {
   "cell_type": "code",
   "execution_count": 19,
   "metadata": {},
   "outputs": [
    {
     "data": {
      "image/png": "[encoded data removed]",
      "text/plain": [
       "plot without title"
      ]
     },
     "metadata": {},
     "output_type": "display_data"
    }
   ],
   "source": [
    "plot(decompose(freq_casos_fd.ts1))"
   ]
  },
  {
   "cell_type": "code",
   "execution_count": 20,
   "metadata": {},
   "outputs": [
    {
     "data": {
      "text/html": [
       "<pre class=language-r><code>function (x, type = c(\"additive\", \"multiplicative\"), filter = NULL) \n",
       "NULL</code></pre>"
      ],
      "text/latex": [
       "\\begin{minted}{r}\n",
       "function (x, type = c(\"additive\", \"multiplicative\"), filter = NULL) \n",
       "NULL\n",
       "\\end{minted}"
      ],
      "text/markdown": [
       "```r\n",
       "function (x, type = c(\"additive\", \"multiplicative\"), filter = NULL) \n",
       "NULL\n",
       "```"
      ],
      "text/plain": [
       "function (x, type = c(\"additive\", \"multiplicative\"), filter = NULL) \n",
       "NULL"
      ]
     },
     "metadata": {},
     "output_type": "display_data"
    }
   ],
   "source": [
    "args(decompose)"
   ]
  },
  {
   "cell_type": "code",
   "execution_count": 21,
   "metadata": {},
   "outputs": [
    {
     "data": {
      "image/png": "[encoded data removed]",
      "text/plain": [
       "plot without title"
      ]
     },
     "metadata": {},
     "output_type": "display_data"
    }
   ],
   "source": [
    "plot(decompose(freq_casos_fd.ts1, type = 'multiplicative'))"
   ]
  },
  {
   "cell_type": "code",
   "execution_count": 22,
   "metadata": {},
   "outputs": [
    {
     "data": {
      "text/plain": [
       "Series: freq_casos_fd.ts1 \n",
       "ARIMA(2,1,0) \n",
       "\n",
       "Coefficients:\n",
       "          ar1      ar2\n",
       "      -0.6227  -0.7469\n",
       "s.e.   0.0917   0.0915\n",
       "\n",
       "sigma^2 estimated as 1089612:  log likelihood=-1179.99\n",
       "AIC=2365.98   AICc=2366.16   BIC=2374.83"
      ]
     },
     "metadata": {},
     "output_type": "display_data"
    },
    {
     "data": {
      "text/plain": [
       "Series: freq_casos_fd.ts2 \n",
       "ARIMA(2,1,0) \n",
       "\n",
       "Coefficients:\n",
       "          ar1      ar2\n",
       "      -0.6227  -0.7469\n",
       "s.e.   0.0917   0.0915\n",
       "\n",
       "sigma^2 estimated as 1089612:  log likelihood=-1179.99\n",
       "AIC=2365.98   AICc=2366.16   BIC=2374.83"
      ]
     },
     "metadata": {},
     "output_type": "display_data"
    }
   ],
   "source": [
    "auto.arima(freq_casos_fd.ts1)\n",
    "auto.arima(freq_casos_fd.ts2)"
   ]
  },
  {
   "cell_type": "markdown",
   "metadata": {},
   "source": [
    "Vemos como es un modelo auto-regresivo de orden 2, además, no hubo ninguna diferencia en la periodicidad de estacionalidad con el modelo que no tiene estacionalidad, es decir, puede que no se esté presentando dicho componente estacional, esto es, los datos observados un día específico están influenciados por los datos observados con anterioridad. Además, se integra con los errores aunque estos no presentan ningún patrón"
   ]
  },
  {
   "cell_type": "code",
   "execution_count": 23,
   "metadata": {},
   "outputs": [
    {
     "data": {
      "image/png": "[encoded data removed]",
      "text/plain": [
       "Plot with title \"Series  freq_casos_fd.ts2\""
      ]
     },
     "metadata": {},
     "output_type": "display_data"
    }
   ],
   "source": [
    "par(mfrow = c(3,2))\n",
    "acf(freq_casos_fd.ts1)\n",
    "pacf(freq_casos_fd.ts1)\n",
    "acf(freq_casos_fd.ts2)\n",
    "pacf(freq_casos_fd.ts2)"
   ]
  },
  {
   "cell_type": "markdown",
   "metadata": {},
   "source": [
    "Podemos observar que ambos modelos son ARIMA, tampoco se identifica un componente estacional."
   ]
  },
  {
   "cell_type": "code",
   "execution_count": 67,
   "metadata": {},
   "outputs": [
    {
     "name": "stderr",
     "output_type": "stream",
     "text": [
      "ERROR while rich displaying an object: Error in if (many_rows) {: argument is of length zero\n",
      "\n",
      "Traceback:\n",
      "1. FUN(X[[i]], ...)\n",
      "2. tryCatch(withCallingHandlers({\n",
      " .     if (!mime %in% names(repr::mime2repr)) \n",
      " .         stop(\"No repr_* for mimetype \", mime, \" in repr::mime2repr\")\n",
      " .     rpr <- repr::mime2repr[[mime]](obj)\n",
      " .     if (is.null(rpr)) \n",
      " .         return(NULL)\n",
      " .     prepare_content(is.raw(rpr), rpr)\n",
      " . }, error = error_handler), error = outer_handler)\n",
      "3. tryCatchList(expr, classes, parentenv, handlers)\n",
      "4. tryCatchOne(expr, names, parentenv, handlers[[1L]])\n",
      "5. doTryCatch(return(expr), name, parentenv, handler)\n",
      "6. withCallingHandlers({\n",
      " .     if (!mime %in% names(repr::mime2repr)) \n",
      " .         stop(\"No repr_* for mimetype \", mime, \" in repr::mime2repr\")\n",
      " .     rpr <- repr::mime2repr[[mime]](obj)\n",
      " .     if (is.null(rpr)) \n",
      " .         return(NULL)\n",
      " .     prepare_content(is.raw(rpr), rpr)\n",
      " . }, error = error_handler)\n",
      "7. repr::mime2repr[[mime]](obj)\n",
      "8. repr_html.list(obj)\n",
      "9. repr_list_generic(obj, \"html\", \"\\t<li>%s</li>\\n\", \"\\t<dt>$%s</dt>\\n\\t\\t<dd>%s</dd>\\n\", \n",
      " .     \"<strong>$%s</strong> = %s\", \"<ol>\\n%s</ol>\\n\", \"<dl>\\n%s</dl>\\n\", \n",
      " .     numeric_item = \"\\t<dt>[[%s]]</dt>\\n\\t\\t<dd>%s</dd>\\n\", escape_fun = html_escape)\n",
      "10. lapply(vec, format2repr[[fmt]])\n",
      "11. FUN(X[[i]], ...)\n",
      "12. repr_html.ts(X[[i]], ...)\n",
      "13. repr_ts_generic(obj, repr_html.matrix, ...)\n",
      "14. repr_func(m, ..., rows = nrow(m), cols = ncol(m))\n",
      "15. repr_matrix_generic(obj, \"<table>\\n%s%s</table>\\n\", \"<thead><tr>%s</tr></thead>\\n\", \n",
      "  .     \"<th></th>\", \"<th scope=col>%s</th>\", \"<tbody>\\n%s</tbody>\\n\", \n",
      "  .     \"\\t<tr>%s</tr>\\n\", \"<th scope=row>%s</th>\", \"<td>%s</td>\", \n",
      "  .     escape_fun = html_escape_vec, ...)\n",
      "16. ellip_limit_arr(flatten(x), rows, cols)\n",
      "17. arr_partition(a, rows, cols)\n",
      "ERROR while rich displaying an object: Error in repr_matrix_generic(obj, \"\\n%s%s\\n\", sprintf(\"|%%s\\n|%s|\\n\", : formal argument \"cols\" matched by multiple actual arguments\n",
      "\n",
      "Traceback:\n",
      "1. FUN(X[[i]], ...)\n",
      "2. tryCatch(withCallingHandlers({\n",
      " .     if (!mime %in% names(repr::mime2repr)) \n",
      " .         stop(\"No repr_* for mimetype \", mime, \" in repr::mime2repr\")\n",
      " .     rpr <- repr::mime2repr[[mime]](obj)\n",
      " .     if (is.null(rpr)) \n",
      " .         return(NULL)\n",
      " .     prepare_content(is.raw(rpr), rpr)\n",
      " . }, error = error_handler), error = outer_handler)\n",
      "3. tryCatchList(expr, classes, parentenv, handlers)\n",
      "4. tryCatchOne(expr, names, parentenv, handlers[[1L]])\n",
      "5. doTryCatch(return(expr), name, parentenv, handler)\n",
      "6. withCallingHandlers({\n",
      " .     if (!mime %in% names(repr::mime2repr)) \n",
      " .         stop(\"No repr_* for mimetype \", mime, \" in repr::mime2repr\")\n",
      " .     rpr <- repr::mime2repr[[mime]](obj)\n",
      " .     if (is.null(rpr)) \n",
      " .         return(NULL)\n",
      " .     prepare_content(is.raw(rpr), rpr)\n",
      " . }, error = error_handler)\n",
      "7. repr::mime2repr[[mime]](obj)\n",
      "8. repr_markdown.list(obj)\n",
      "9. repr_list_generic(obj, \"markdown\", \"%s. %s\\n\", \"$%s\\n:   %s\\n\", \n",
      " .     \"**$%s** = %s\", \"%s\\n\\n\", numeric_item = \"[[%s]]\\n:   %s\\n\", \n",
      " .     item_uses_numbers = TRUE, escape_fun = html_escape)\n",
      "10. lapply(vec, format2repr[[fmt]])\n",
      "11. FUN(X[[i]], ...)\n",
      "12. repr_markdown.ts(X[[i]], ...)\n",
      "13. repr_ts_generic(obj, repr_markdown.matrix, ...)\n",
      "14. repr_func(m, ..., rows = nrow(m), cols = ncol(m))\n",
      "ERROR while rich displaying an object: Error in rep(colspec$col, ncol(obj)): invalid 'times' argument\n",
      "\n",
      "Traceback:\n",
      "1. FUN(X[[i]], ...)\n",
      "2. tryCatch(withCallingHandlers({\n",
      " .     if (!mime %in% names(repr::mime2repr)) \n",
      " .         stop(\"No repr_* for mimetype \", mime, \" in repr::mime2repr\")\n",
      " .     rpr <- repr::mime2repr[[mime]](obj)\n",
      " .     if (is.null(rpr)) \n",
      " .         return(NULL)\n",
      " .     prepare_content(is.raw(rpr), rpr)\n",
      " . }, error = error_handler), error = outer_handler)\n",
      "3. tryCatchList(expr, classes, parentenv, handlers)\n",
      "4. tryCatchOne(expr, names, parentenv, handlers[[1L]])\n",
      "5. doTryCatch(return(expr), name, parentenv, handler)\n",
      "6. withCallingHandlers({\n",
      " .     if (!mime %in% names(repr::mime2repr)) \n",
      " .         stop(\"No repr_* for mimetype \", mime, \" in repr::mime2repr\")\n",
      " .     rpr <- repr::mime2repr[[mime]](obj)\n",
      " .     if (is.null(rpr)) \n",
      " .         return(NULL)\n",
      " .     prepare_content(is.raw(rpr), rpr)\n",
      " . }, error = error_handler)\n",
      "7. repr::mime2repr[[mime]](obj)\n",
      "8. repr_latex.list(obj)\n",
      "9. repr_list_generic(obj, \"latex\", \"\\\\item %s\\n\", \"\\\\item[\\\\$%s] %s\\n\", \n",
      " .     \"\\\\textbf{\\\\$%s} = %s\", enum_wrap = \"\\\\begin{enumerate}\\n%s\\\\end{enumerate}\\n\", \n",
      " .     named_wrap = \"\\\\begin{description}\\n%s\\\\end{description}\\n\", \n",
      " .     numeric_item = \"\\\\item[{[[%s]]}] %s\\n\", escape_fun = latex_escape)\n",
      "10. lapply(vec, format2repr[[fmt]])\n",
      "11. FUN(X[[i]], ...)\n",
      "12. repr_latex.ts(X[[i]], ...)\n",
      "13. repr_ts_generic(obj, repr_latex.matrix, ..., colspec = colspec)\n",
      "14. repr_func(m, ..., rows = nrow(m), cols = ncol(m))\n",
      "15. paste0(paste(rep(colspec$col, ncol(obj)), collapse = \"\"), colspec$end)\n",
      "16. paste(rep(colspec$col, ncol(obj)), collapse = \"\")\n"
     ]
    },
    {
     "data": {
      "text/plain": [
       "$pred\n",
       "Time Series:\n",
       "Start = 143 \n",
       "End = 147 \n",
       "Frequency = 1 \n",
       "[1] 4060.890 9864.633 3365.703 3077.623 8110.964\n",
       "\n",
       "$se\n",
       "Time Series:\n",
       "Start = 143 \n",
       "End = 147 \n",
       "Frequency = 1 \n",
       "[1] 1043.845 1115.685 1115.846 1337.739 1454.211\n"
      ]
     },
     "metadata": {},
     "output_type": "display_data"
    }
   ],
   "source": [
    "predict(auto.arima(freq_casos_fd.ts2),5)"
   ]
  },
  {
   "cell_type": "markdown",
   "metadata": {},
   "source": [
    "La predicción parece señalar que los valores van a estar fluctuando.\n",
    "Observemos la serie en la primera diferencia para ver si se puede clarificar más el proceso."
   ]
  },
  {
   "cell_type": "code",
   "execution_count": 68,
   "metadata": {},
   "outputs": [
    {
     "data": {
      "image/png": "[encoded data removed]",
      "text/plain": [
       "Plot with title \"Series  diff(freq_casos_fd.ts2, 1)\""
      ]
     },
     "metadata": {},
     "output_type": "display_data"
    },
    {
     "data": {
      "image/png": "[encoded data removed]",
      "text/plain": [
       "Plot with title \"Series  diff(freq_casos_fd.ts2, 1)\""
      ]
     },
     "metadata": {},
     "output_type": "display_data"
    }
   ],
   "source": [
    "acf(diff(freq_casos_fd.ts2,1))\n",
    "pacf(diff(freq_casos_fd.ts2,1))"
   ]
  },
  {
   "cell_type": "code",
   "execution_count": 26,
   "metadata": {},
   "outputs": [
    {
     "data": {
      "text/plain": [
       "Series: diff(freq_casos_fd.ts2, 1) \n",
       "ARIMA(2,0,0) with zero mean \n",
       "\n",
       "Coefficients:\n",
       "          ar1      ar2\n",
       "      -0.6227  -0.7469\n",
       "s.e.   0.0917   0.0915\n",
       "\n",
       "sigma^2 estimated as 1089612:  log likelihood=-1179.99\n",
       "AIC=2365.98   AICc=2366.16   BIC=2374.83"
      ]
     },
     "metadata": {},
     "output_type": "display_data"
    }
   ],
   "source": [
    "auto.arima(diff(freq_casos_fd.ts2,1))"
   ]
  },
  {
   "cell_type": "markdown",
   "metadata": {},
   "source": [
    "Vemos como el modelo obtenido a partir de la primera diferencia nos proporciona practicamente el mismo modelo obtenido con anterioridad, incluso con los mismos valores de AIC y BIC."
   ]
  },
  {
   "cell_type": "markdown",
   "metadata": {},
   "source": [
    "## FECHA REPORTE WEB"
   ]
  },
  {
   "cell_type": "code",
   "execution_count": 36,
   "metadata": {},
   "outputs": [
    {
     "data": {
      "image/png": "[encoded data removed]",
      "text/plain": [
       "plot without title"
      ]
     },
     "metadata": {},
     "output_type": "display_data"
    }
   ],
   "source": [
    "with(casos.frw, plot(fecha.reporte.web, Freq))"
   ]
  },
  {
   "cell_type": "markdown",
   "metadata": {},
   "source": [
    "Se puede apreciar un aumento en los reportes web."
   ]
  },
  {
   "cell_type": "code",
   "execution_count": 37,
   "metadata": {},
   "outputs": [],
   "source": [
    "casosfrw <- casos.frw$Freq"
   ]
  },
  {
   "cell_type": "code",
   "execution_count": 38,
   "metadata": {},
   "outputs": [],
   "source": [
    "casosfrw.ts1<-ts(casosfrw[-1], frequency = 7)\n",
    "casosfrw.ts2<-ts(casosfrw[-1])"
   ]
  },
  {
   "cell_type": "code",
   "execution_count": 39,
   "metadata": {},
   "outputs": [
    {
     "data": {
      "image/png": "[encoded data removed]",
      "text/plain": [
       "plot without title"
      ]
     },
     "metadata": {},
     "output_type": "display_data"
    }
   ],
   "source": [
    "plot(casosfrw.ts2)"
   ]
  },
  {
   "cell_type": "code",
   "execution_count": 40,
   "metadata": {},
   "outputs": [
    {
     "data": {
      "image/png": "[encoded data removed]",
      "text/plain": [
       "plot without title"
      ]
     },
     "metadata": {},
     "output_type": "display_data"
    }
   ],
   "source": [
    "plot(decompose(casosfrw.ts1))"
   ]
  },
  {
   "cell_type": "code",
   "execution_count": 41,
   "metadata": {},
   "outputs": [
    {
     "data": {
      "image/png": "[encoded data removed]",
      "text/plain": [
       "plot without title"
      ]
     },
     "metadata": {},
     "output_type": "display_data"
    }
   ],
   "source": [
    "plot(decompose(casosfrw.ts1, type = 'multiplicative'))"
   ]
  },
  {
   "cell_type": "code",
   "execution_count": 42,
   "metadata": {},
   "outputs": [
    {
     "data": {
      "text/plain": [
       "Series: casosfrw.ts1 \n",
       "ARIMA(1,1,1)(1,0,1)[7] with drift \n",
       "\n",
       "Coefficients:\n",
       "         ar1      ma1     sar1    sma1    drift\n",
       "      0.3066  -0.7291  -0.5499  0.8882  61.7615\n",
       "s.e.  0.1270   0.0799   0.1421  0.1055  20.4220\n",
       "\n",
       "sigma^2 estimated as 263201:  log likelihood=-1079.55\n",
       "AIC=2171.11   AICc=2171.73   BIC=2188.8"
      ]
     },
     "metadata": {},
     "output_type": "display_data"
    },
    {
     "data": {
      "text/plain": [
       "Series: casosfrw.ts2 \n",
       "ARIMA(1,1,1) with drift \n",
       "\n",
       "Coefficients:\n",
       "         ar1      ma1    drift\n",
       "      0.3840  -0.7295  62.1318\n",
       "s.e.  0.1207   0.0785  20.0147\n",
       "\n",
       "sigma^2 estimated as 290231:  log likelihood=-1085.46\n",
       "AIC=2178.93   AICc=2179.22   BIC=2190.72"
      ]
     },
     "metadata": {},
     "output_type": "display_data"
    }
   ],
   "source": [
    "auto.arima(casosfrw.ts1)\n",
    "auto.arima(casosfrw.ts2)"
   ]
  },
  {
   "cell_type": "markdown",
   "metadata": {},
   "source": [
    "Podemos observar que se trata también de un modelo auto-regresivo de orden 2. Sin embargo, pese a ser un modelo estacional de orden 7, los valores observados no parecen estar muy influenciados (-0.5499)."
   ]
  },
  {
   "cell_type": "code",
   "execution_count": 43,
   "metadata": {},
   "outputs": [
    {
     "data": {
      "image/png": "[encoded data removed]",
      "text/plain": [
       "Plot with title \"Series  casosfrw.ts2\""
      ]
     },
     "metadata": {},
     "output_type": "display_data"
    }
   ],
   "source": [
    "par(mfrow = c(2,2))\n",
    "acf(casosfrw.ts1)\n",
    "pacf(casosfrw.ts1)\n",
    "acf(casosfrw.ts2)\n",
    "pacf(casosfrw.ts2)"
   ]
  },
  {
   "cell_type": "markdown",
   "metadata": {},
   "source": [
    "Podemos observar que ambos modelos son ARIMA, tampoco se identifica un componente estacional."
   ]
  },
  {
   "cell_type": "code",
   "execution_count": 45,
   "metadata": {},
   "outputs": [
    {
     "data": {
      "image/png": "[encoded data removed]",
      "text/plain": [
       "Plot with title \"Series  diff(casosfrw.ts1, 1)\""
      ]
     },
     "metadata": {},
     "output_type": "display_data"
    },
    {
     "data": {
      "image/png": "[encoded data removed]",
      "text/plain": [
       "Plot with title \"Series  diff(casosfrw.ts2, 1)\""
      ]
     },
     "metadata": {},
     "output_type": "display_data"
    }
   ],
   "source": [
    "acf(diff(casosfrw.ts1,1))\n",
    "pacf(diff(casosfrw.ts2,1))"
   ]
  },
  {
   "cell_type": "code",
   "execution_count": 71,
   "metadata": {},
   "outputs": [
    {
     "data": {
      "text/plain": [
       "Series: diff(casosfrw.ts2, 1) \n",
       "ARIMA(1,0,1) with non-zero mean \n",
       "\n",
       "Coefficients:\n",
       "         ar1      ma1     mean\n",
       "      0.3840  -0.7295  62.1318\n",
       "s.e.  0.1207   0.0785  20.0147\n",
       "\n",
       "sigma^2 estimated as 290231:  log likelihood=-1085.46\n",
       "AIC=2178.93   AICc=2179.22   BIC=2190.72"
      ]
     },
     "metadata": {},
     "output_type": "display_data"
    }
   ],
   "source": [
    "auto.arima(diff(casosfrw.ts2,1))"
   ]
  },
  {
   "cell_type": "markdown",
   "metadata": {},
   "source": [
    "Vemos como se trata de un modelo auto-regresivo de orden 1."
   ]
  },
  {
   "cell_type": "markdown",
   "metadata": {
    "colab_type": "text",
    "id": "MTakekWvLiyn"
   },
   "source": [
    "## Ejercicio 2 - Métodos No Paramétricos en Estadística"
   ]
  },
  {
   "cell_type": "markdown",
   "metadata": {
    "colab_type": "text",
    "id": "CtjZvZufLiyo"
   },
   "source": [
    "Con base en los datos trabajados en el módulo de muestreo (archivo adjunto en el enlace) extraiga una muestra representativa (calcule el tamaño para un nivel de confianza de 89% y un error de 3% y use ese tamaño específico) y determine si la clasificación en niveles de desempeño en dos de las cinco competencias genéricas son producto del azar o no.\n",
    "\n",
    "Determine si esos resultados son independientes o dependientes entre sí.\n",
    "\n",
    "Con la muestra, calcule un promedio general por estudiante para las cinco competencia y realice un ranking inicial y un ranking final por departamento; determine si hubo cambios significativos en esa clasificación\n",
    "\n",
    "[Descargue el archivo aquí](https://www.dropbox.com/s/xgsf3l5gjw0h0q4/saberpro.RData?dl=1)"
   ]
  },
  {
   "cell_type": "markdown",
   "metadata": {
    "colab_type": "text",
    "id": "EPesUMDHLiyo"
   },
   "source": [
    "### Librerías"
   ]
  },
  {
   "cell_type": "code",
   "execution_count": 1,
   "metadata": {
    "colab": {},
    "colab_type": "code",
    "id": "Ny4n-1r8Liyo",
    "outputId": "83d8099e-5a57-4691-972f-c7e94fa2aabd"
   },
   "outputs": [
    {
     "name": "stderr",
     "output_type": "stream",
     "text": [
      "also installing the dependencies 'TH.data', 'sandwich', 'libcoin', 'matrixStats', 'modeltools', 'multcomp'\n",
      "\n"
     ]
    },
    {
     "name": "stdout",
     "output_type": "stream",
     "text": [
      "package 'TH.data' successfully unpacked and MD5 sums checked\n",
      "package 'sandwich' successfully unpacked and MD5 sums checked\n",
      "package 'libcoin' successfully unpacked and MD5 sums checked\n",
      "package 'matrixStats' successfully unpacked and MD5 sums checked\n",
      "package 'modeltools' successfully unpacked and MD5 sums checked\n",
      "package 'multcomp' successfully unpacked and MD5 sums checked\n",
      "package 'coin' successfully unpacked and MD5 sums checked\n",
      "\n",
      "The downloaded binary packages are in\n",
      "\tC:\\Users\\David\\AppData\\Local\\Temp\\RtmpAZf1Bo\\downloaded_packages\n"
     ]
    }
   ],
   "source": [
    "install.packages('coin')"
   ]
  },
  {
   "cell_type": "code",
   "execution_count": 2,
   "metadata": {
    "colab": {},
    "colab_type": "code",
    "id": "Xkgm1Wk5Liyq",
    "outputId": "01c9c6c7-3873-45c7-8155-41dbdc9b7e38"
   },
   "outputs": [
    {
     "name": "stderr",
     "output_type": "stream",
     "text": [
      "Warning message:\n",
      "\"package 'devtools' was built under R version 3.6.3\"Loading required package: usethis\n",
      "Warning message:\n",
      "\"package 'usethis' was built under R version 3.6.3\"Warning message:\n",
      "\"package 'samplingbook' was built under R version 3.6.3\"Loading required package: pps\n",
      "Loading required package: sampling\n",
      "Warning message:\n",
      "\"package 'sampling' was built under R version 3.6.3\"Loading required package: survey\n",
      "Warning message:\n",
      "\"package 'survey' was built under R version 3.6.3\"Loading required package: grid\n",
      "Loading required package: Matrix\n",
      "Loading required package: survival\n",
      "Warning message:\n",
      "\"package 'survival' was built under R version 3.6.3\"\n",
      "Attaching package: 'survival'\n",
      "\n",
      "The following objects are masked from 'package:sampling':\n",
      "\n",
      "    cluster, strata\n",
      "\n",
      "\n",
      "Attaching package: 'survey'\n",
      "\n",
      "The following object is masked from 'package:graphics':\n",
      "\n",
      "    dotchart\n",
      "\n",
      "\n",
      "Attaching package: 'dplyr'\n",
      "\n",
      "The following objects are masked from 'package:plyr':\n",
      "\n",
      "    arrange, count, desc, failwith, id, mutate, rename, summarise,\n",
      "    summarize\n",
      "\n",
      "The following objects are masked from 'package:stats':\n",
      "\n",
      "    filter, lag\n",
      "\n",
      "The following objects are masked from 'package:base':\n",
      "\n",
      "    intersect, setdiff, setequal, union\n",
      "\n",
      "Warning message:\n",
      "\"package 'coin' was built under R version 3.6.3\""
     ]
    }
   ],
   "source": [
    "library(devtools)\n",
    "library(plyr) #Librería necesaria para revalue\n",
    "library(samplingbook)\n",
    "library(SamplingUtil) \n",
    "library(magrittr) # Permite leer la función %>%\n",
    "library(dplyr) # Contiene la función select\n",
    "library(coin)"
   ]
  },
  {
   "cell_type": "markdown",
   "metadata": {
    "colab_type": "text",
    "id": "R-ztt-uxLiys"
   },
   "source": [
    "### Preprocesamiento de los datos"
   ]
  },
  {
   "cell_type": "code",
   "execution_count": 3,
   "metadata": {
    "colab": {},
    "colab_type": "code",
    "id": "DuvwkRLTLiyt"
   },
   "outputs": [],
   "source": [
    "load(url('https://www.dropbox.com/s/xgsf3l5gjw0h0q4/saberpro.RData?dl=1')) #Se cargan los datos"
   ]
  },
  {
   "cell_type": "code",
   "execution_count": 4,
   "metadata": {
    "colab": {},
    "colab_type": "code",
    "id": "8lYeBPQXLiyv",
    "outputId": "0f6463ef-10d8-4725-8446-e6090aa3a060"
   },
   "outputs": [
    {
     "data": {
      "text/html": [
       "'sp161718'"
      ],
      "text/latex": [
       "'sp161718'"
      ],
      "text/markdown": [
       "'sp161718'"
      ],
      "text/plain": [
       "[1] \"sp161718\""
      ]
     },
     "metadata": {},
     "output_type": "display_data"
    },
    {
     "data": {
      "text/html": [
       "<ol class=list-inline>\n",
       "\t<li>725295</li>\n",
       "\t<li>16</li>\n",
       "</ol>\n"
      ],
      "text/latex": [
       "\\begin{enumerate*}\n",
       "\\item 725295\n",
       "\\item 16\n",
       "\\end{enumerate*}\n"
      ],
      "text/markdown": [
       "1. 725295\n",
       "2. 16\n",
       "\n",
       "\n"
      ],
      "text/plain": [
       "[1] 725295     16"
      ]
     },
     "metadata": {},
     "output_type": "display_data"
    },
    {
     "data": {
      "text/html": [
       "<ol class=list-inline>\n",
       "\t<li>'periodo'</li>\n",
       "\t<li>'apli_consecutivo'</li>\n",
       "\t<li>'estu_depto_reside'</li>\n",
       "\t<li>'estu_cod_reside_depto'</li>\n",
       "\t<li>'inst_cod_institucion'</li>\n",
       "\t<li>'inst_nombre_institucion'</li>\n",
       "\t<li>'raz_cuant_punt'</li>\n",
       "\t<li>'raz_cuant_des'</li>\n",
       "\t<li>'lect_crit_punt'</li>\n",
       "\t<li>'lect_crit_des'</li>\n",
       "\t<li>'comp_ciud_punt'</li>\n",
       "\t<li>'comp_ciud_des'</li>\n",
       "\t<li>'ingles_punt'</li>\n",
       "\t<li>'ingles_desem'</li>\n",
       "\t<li>'comu_escr_punt'</li>\n",
       "\t<li>'comu_escr_des'</li>\n",
       "</ol>\n"
      ],
      "text/latex": [
       "\\begin{enumerate*}\n",
       "\\item 'periodo'\n",
       "\\item 'apli\\_consecutivo'\n",
       "\\item 'estu\\_depto\\_reside'\n",
       "\\item 'estu\\_cod\\_reside\\_depto'\n",
       "\\item 'inst\\_cod\\_institucion'\n",
       "\\item 'inst\\_nombre\\_institucion'\n",
       "\\item 'raz\\_cuant\\_punt'\n",
       "\\item 'raz\\_cuant\\_des'\n",
       "\\item 'lect\\_crit\\_punt'\n",
       "\\item 'lect\\_crit\\_des'\n",
       "\\item 'comp\\_ciud\\_punt'\n",
       "\\item 'comp\\_ciud\\_des'\n",
       "\\item 'ingles\\_punt'\n",
       "\\item 'ingles\\_desem'\n",
       "\\item 'comu\\_escr\\_punt'\n",
       "\\item 'comu\\_escr\\_des'\n",
       "\\end{enumerate*}\n"
      ],
      "text/markdown": [
       "1. 'periodo'\n",
       "2. 'apli_consecutivo'\n",
       "3. 'estu_depto_reside'\n",
       "4. 'estu_cod_reside_depto'\n",
       "5. 'inst_cod_institucion'\n",
       "6. 'inst_nombre_institucion'\n",
       "7. 'raz_cuant_punt'\n",
       "8. 'raz_cuant_des'\n",
       "9. 'lect_crit_punt'\n",
       "10. 'lect_crit_des'\n",
       "11. 'comp_ciud_punt'\n",
       "12. 'comp_ciud_des'\n",
       "13. 'ingles_punt'\n",
       "14. 'ingles_desem'\n",
       "15. 'comu_escr_punt'\n",
       "16. 'comu_escr_des'\n",
       "\n",
       "\n"
      ],
      "text/plain": [
       " [1] \"periodo\"                 \"apli_consecutivo\"       \n",
       " [3] \"estu_depto_reside\"       \"estu_cod_reside_depto\"  \n",
       " [5] \"inst_cod_institucion\"    \"inst_nombre_institucion\"\n",
       " [7] \"raz_cuant_punt\"          \"raz_cuant_des\"          \n",
       " [9] \"lect_crit_punt\"          \"lect_crit_des\"          \n",
       "[11] \"comp_ciud_punt\"          \"comp_ciud_des\"          \n",
       "[13] \"ingles_punt\"             \"ingles_desem\"           \n",
       "[15] \"comu_escr_punt\"          \"comu_escr_des\"          "
      ]
     },
     "metadata": {},
     "output_type": "display_data"
    }
   ],
   "source": [
    "ls()\n",
    "dim(sp161718) #dimensiones Dataframe\n",
    "names(sp161718) #Nombres Variables"
   ]
  },
  {
   "cell_type": "code",
   "execution_count": 5,
   "metadata": {
    "colab": {},
    "colab_type": "code",
    "id": "HhDru0huLiyx"
   },
   "outputs": [],
   "source": [
    "data<-data.frame(index = 1:nrow(sp161718),\n",
    "                 Periodo=sp161718$periodo, \n",
    "                 Departamento=sp161718$estu_depto_reside,\n",
    "                 RazonamientoPunt=sp161718$raz_cuant_punt, \n",
    "                 RazonamientoDes=sp161718$raz_cuant_des,\n",
    "                 LecturaP=sp161718$lect_crit_punt, \n",
    "                 LecturaDes=sp161718$lect_crit_des, \n",
    "                 CompetenciasPunt=sp161718$comp_ciud_punt, \n",
    "                 CompetenciasDest=sp161718$comp_ciud_des, \n",
    "                 InglesPunt=sp161718$ingles_punt,\n",
    "                 InglesDes=sp161718$ingles_desem,\n",
    "                 ComunicacionPunt=sp161718$comu_escr_punt, \n",
    "                 ComunicacionDes=sp161718$comu_escr_des) #Nuevo Dataframe a usar"
   ]
  },
  {
   "cell_type": "code",
   "execution_count": 6,
   "metadata": {
    "colab": {},
    "colab_type": "code",
    "id": "LkcsTK5eLiyz"
   },
   "outputs": [],
   "source": [
    "temp<-factor(data$Periodo) #vamos a cambiar el periodo para solo tener en cuenta el año\n",
    "data$Periodo<-revalue(temp, c(\"20163\"=\"2016\", \"20162\"=\"2016\", \"20173\"=\"2017\", \"20172\"=\"2017\",\"20183\"=\"2018\",\"20182\"=\"2018\",\"20184\"=\"2018\")) #Uso de revalue\n",
    "temp<-factor(data$Departamento)#eliminamos la ñ para evitar problemas de compilacion\n",
    "data$Departamento<-revalue(temp, c(\"NARIÃ‘O\"=\"NARINO\", \"NARIÃƒâ\\200\\230O\"=\"NARINO\"))\n",
    "data <- na.omit(data) \n",
    "data$RazonamientoDes = as.factor(data$RazonamientoDes) \n",
    "data$LecturaDes = as.factor (data$LecturaDes) \n",
    "data$CompetenciasDest = as.factor(data$CompetenciasDest) \n",
    "data$InglesDes = as.factor(data$InglesDes) \n",
    "data$ComunicacionDes = as.factor(data$ComunicacionDes)"
   ]
  },
  {
   "cell_type": "code",
   "execution_count": 7,
   "metadata": {
    "colab": {},
    "colab_type": "code",
    "id": "tMQuNaJ5Liy1",
    "outputId": "6b2cb6ad-3db6-4478-9d71-4610fda6fdca"
   },
   "outputs": [
    {
     "data": {
      "text/html": [
       "<table>\n",
       "<thead><tr><th scope=col>index</th><th scope=col>Periodo</th><th scope=col>Departamento</th><th scope=col>RazonamientoPunt</th><th scope=col>RazonamientoDes</th><th scope=col>LecturaP</th><th scope=col>LecturaDes</th><th scope=col>CompetenciasPunt</th><th scope=col>CompetenciasDest</th><th scope=col>InglesPunt</th><th scope=col>InglesDes</th><th scope=col>ComunicacionPunt</th><th scope=col>ComunicacionDes</th></tr></thead>\n",
       "<tbody>\n",
       "\t<tr><td>1           </td><td>2016        </td><td>ATLANTICO   </td><td>160         </td><td>3           </td><td>130         </td><td>2           </td><td>167         </td><td>3           </td><td>160         </td><td>A2          </td><td>155         </td><td>3           </td></tr>\n",
       "\t<tr><td>2           </td><td>2016        </td><td>CUNDINAMARCA</td><td>138         </td><td>2           </td><td>132         </td><td>2           </td><td> 77         </td><td>1           </td><td>125         </td><td>A1          </td><td>164         </td><td>3           </td></tr>\n",
       "\t<tr><td>3           </td><td>2016        </td><td>CALDAS      </td><td>146         </td><td>2           </td><td>157         </td><td>2           </td><td>150         </td><td>2           </td><td>104         </td><td>A1-         </td><td>122         </td><td>2           </td></tr>\n",
       "\t<tr><td>4           </td><td>2016        </td><td>MAGDALENA   </td><td>160         </td><td>3           </td><td>172         </td><td>3           </td><td>151         </td><td>2           </td><td>160         </td><td>A2          </td><td>192         </td><td>4           </td></tr>\n",
       "\t<tr><td>5           </td><td>2016        </td><td>CORDOBA     </td><td>130         </td><td>2           </td><td>122         </td><td>1           </td><td>144         </td><td>2           </td><td>192         </td><td>B1          </td><td>131         </td><td>2           </td></tr>\n",
       "\t<tr><td>6           </td><td>2016        </td><td>CAUCA       </td><td>159         </td><td>3           </td><td>129         </td><td>2           </td><td>147         </td><td>2           </td><td>108         </td><td>A1-         </td><td>154         </td><td>3           </td></tr>\n",
       "</tbody>\n",
       "</table>\n"
      ],
      "text/latex": [
       "\\begin{tabular}{r|lllllllllllll}\n",
       " index & Periodo & Departamento & RazonamientoPunt & RazonamientoDes & LecturaP & LecturaDes & CompetenciasPunt & CompetenciasDest & InglesPunt & InglesDes & ComunicacionPunt & ComunicacionDes\\\\\n",
       "\\hline\n",
       "\t 1            & 2016         & ATLANTICO    & 160          & 3            & 130          & 2            & 167          & 3            & 160          & A2           & 155          & 3           \\\\\n",
       "\t 2            & 2016         & CUNDINAMARCA & 138          & 2            & 132          & 2            &  77          & 1            & 125          & A1           & 164          & 3           \\\\\n",
       "\t 3            & 2016         & CALDAS       & 146          & 2            & 157          & 2            & 150          & 2            & 104          & A1-          & 122          & 2           \\\\\n",
       "\t 4            & 2016         & MAGDALENA    & 160          & 3            & 172          & 3            & 151          & 2            & 160          & A2           & 192          & 4           \\\\\n",
       "\t 5            & 2016         & CORDOBA      & 130          & 2            & 122          & 1            & 144          & 2            & 192          & B1           & 131          & 2           \\\\\n",
       "\t 6            & 2016         & CAUCA        & 159          & 3            & 129          & 2            & 147          & 2            & 108          & A1-          & 154          & 3           \\\\\n",
       "\\end{tabular}\n"
      ],
      "text/markdown": [
       "\n",
       "| index | Periodo | Departamento | RazonamientoPunt | RazonamientoDes | LecturaP | LecturaDes | CompetenciasPunt | CompetenciasDest | InglesPunt | InglesDes | ComunicacionPunt | ComunicacionDes |\n",
       "|---|---|---|---|---|---|---|---|---|---|---|---|---|\n",
       "| 1            | 2016         | ATLANTICO    | 160          | 3            | 130          | 2            | 167          | 3            | 160          | A2           | 155          | 3            |\n",
       "| 2            | 2016         | CUNDINAMARCA | 138          | 2            | 132          | 2            |  77          | 1            | 125          | A1           | 164          | 3            |\n",
       "| 3            | 2016         | CALDAS       | 146          | 2            | 157          | 2            | 150          | 2            | 104          | A1-          | 122          | 2            |\n",
       "| 4            | 2016         | MAGDALENA    | 160          | 3            | 172          | 3            | 151          | 2            | 160          | A2           | 192          | 4            |\n",
       "| 5            | 2016         | CORDOBA      | 130          | 2            | 122          | 1            | 144          | 2            | 192          | B1           | 131          | 2            |\n",
       "| 6            | 2016         | CAUCA        | 159          | 3            | 129          | 2            | 147          | 2            | 108          | A1-          | 154          | 3            |\n",
       "\n"
      ],
      "text/plain": [
       "  index Periodo Departamento RazonamientoPunt RazonamientoDes LecturaP\n",
       "1 1     2016    ATLANTICO    160              3               130     \n",
       "2 2     2016    CUNDINAMARCA 138              2               132     \n",
       "3 3     2016    CALDAS       146              2               157     \n",
       "4 4     2016    MAGDALENA    160              3               172     \n",
       "5 5     2016    CORDOBA      130              2               122     \n",
       "6 6     2016    CAUCA        159              3               129     \n",
       "  LecturaDes CompetenciasPunt CompetenciasDest InglesPunt InglesDes\n",
       "1 2          167              3                160        A2       \n",
       "2 2           77              1                125        A1       \n",
       "3 2          150              2                104        A1-      \n",
       "4 3          151              2                160        A2       \n",
       "5 1          144              2                192        B1       \n",
       "6 2          147              2                108        A1-      \n",
       "  ComunicacionPunt ComunicacionDes\n",
       "1 155              3              \n",
       "2 164              3              \n",
       "3 122              2              \n",
       "4 192              4              \n",
       "5 131              2              \n",
       "6 154              3              "
      ]
     },
     "metadata": {},
     "output_type": "display_data"
    }
   ],
   "source": [
    "head(data)"
   ]
  },
  {
   "cell_type": "markdown",
   "metadata": {
    "colab_type": "text",
    "id": "qkBaXodYLiy4"
   },
   "source": [
    "### Muestra"
   ]
  },
  {
   "cell_type": "markdown",
   "metadata": {
    "colab_type": "text",
    "id": "AuawJThtLiy4"
   },
   "source": [
    "Se toma una muestra representativa con un nivel de confianza del 89% y un error de 3%, usando muestreo aleatorio simple"
   ]
  },
  {
   "cell_type": "code",
   "execution_count": 8,
   "metadata": {
    "colab": {},
    "colab_type": "code",
    "id": "B_iWraRBLiy6",
    "outputId": "0d2e394f-8636-4217-bd63-0b020686871d"
   },
   "outputs": [
    {
     "name": "stdout",
     "output_type": "stream",
     "text": [
      "[1] 709\n"
     ]
    }
   ],
   "source": [
    "tmuestra<-sample.size.prop(e=0.03, P = 0.5, N = nrow(data), level = 0.89)$n\n",
    "print(tmuestra)"
   ]
  },
  {
   "cell_type": "code",
   "execution_count": 9,
   "metadata": {
    "colab": {},
    "colab_type": "code",
    "id": "TINOg0tXLiy-",
    "outputId": "5daf3267-907b-488f-dc70-7decc90a4d37"
   },
   "outputs": [
    {
     "data": {
      "text/html": [
       "<ol class=list-inline>\n",
       "\t<li>423376</li>\n",
       "\t<li>341130</li>\n",
       "\t<li>415072</li>\n",
       "\t<li>21523</li>\n",
       "\t<li>628833</li>\n",
       "\t<li>259233</li>\n",
       "</ol>\n"
      ],
      "text/latex": [
       "\\begin{enumerate*}\n",
       "\\item 423376\n",
       "\\item 341130\n",
       "\\item 415072\n",
       "\\item 21523\n",
       "\\item 628833\n",
       "\\item 259233\n",
       "\\end{enumerate*}\n"
      ],
      "text/markdown": [
       "1. 423376\n",
       "2. 341130\n",
       "3. 415072\n",
       "4. 21523\n",
       "5. 628833\n",
       "6. 259233\n",
       "\n",
       "\n"
      ],
      "text/plain": [
       "[1] 423376 341130 415072  21523 628833 259233"
      ]
     },
     "metadata": {},
     "output_type": "display_data"
    },
    {
     "data": {
      "text/html": [
       "<table>\n",
       "<thead><tr><th></th><th scope=col>index</th><th scope=col>Periodo</th><th scope=col>Departamento</th><th scope=col>RazonamientoPunt</th><th scope=col>RazonamientoDes</th><th scope=col>LecturaP</th><th scope=col>LecturaDes</th><th scope=col>CompetenciasPunt</th><th scope=col>CompetenciasDest</th><th scope=col>InglesPunt</th><th scope=col>InglesDes</th><th scope=col>ComunicacionPunt</th><th scope=col>ComunicacionDes</th></tr></thead>\n",
       "<tbody>\n",
       "\t<tr><th scope=row>435503</th><td>435503      </td><td>2017        </td><td>SANTANDER   </td><td> 88         </td><td>1           </td><td> 98         </td><td>1           </td><td>119         </td><td>1           </td><td>128         </td><td>A1          </td><td>127         </td><td>2           </td></tr>\n",
       "\t<tr><th scope=row>349063</th><td>349063      </td><td>2017        </td><td>BOGOTA      </td><td>110         </td><td>1           </td><td>129         </td><td>2           </td><td>155         </td><td>2           </td><td>115         </td><td>A1-         </td><td>134         </td><td>2           </td></tr>\n",
       "\t<tr><th scope=row>426749</th><td>426749      </td><td>2017        </td><td>BOGOTA      </td><td>164         </td><td>3           </td><td>198         </td><td>3           </td><td>168         </td><td>3           </td><td>154         </td><td>A2          </td><td>178         </td><td>3           </td></tr>\n",
       "\t<tr><th scope=row>21759</th><td> 21759      </td><td>2016        </td><td>BOGOTA      </td><td>196         </td><td>3           </td><td>168         </td><td>3           </td><td>163         </td><td>3           </td><td>198         </td><td>B1          </td><td>194         </td><td>4           </td></tr>\n",
       "\t<tr><th scope=row>648500</th><td>648500      </td><td>2018        </td><td>BOGOTA      </td><td>150         </td><td>2           </td><td>125         </td><td>2           </td><td>155         </td><td>2           </td><td>115         </td><td>A1-         </td><td>181         </td><td>3           </td></tr>\n",
       "\t<tr><th scope=row>263077</th><td>263077      </td><td>2017        </td><td>CUNDINAMARCA</td><td>138         </td><td>2           </td><td>124         </td><td>1           </td><td>116         </td><td>1           </td><td>127         </td><td>A1          </td><td>161         </td><td>3           </td></tr>\n",
       "</tbody>\n",
       "</table>\n"
      ],
      "text/latex": [
       "\\begin{tabular}{r|lllllllllllll}\n",
       "  & index & Periodo & Departamento & RazonamientoPunt & RazonamientoDes & LecturaP & LecturaDes & CompetenciasPunt & CompetenciasDest & InglesPunt & InglesDes & ComunicacionPunt & ComunicacionDes\\\\\n",
       "\\hline\n",
       "\t435503 & 435503       & 2017         & SANTANDER    &  88          & 1            &  98          & 1            & 119          & 1            & 128          & A1           & 127          & 2           \\\\\n",
       "\t349063 & 349063       & 2017         & BOGOTA       & 110          & 1            & 129          & 2            & 155          & 2            & 115          & A1-          & 134          & 2           \\\\\n",
       "\t426749 & 426749       & 2017         & BOGOTA       & 164          & 3            & 198          & 3            & 168          & 3            & 154          & A2           & 178          & 3           \\\\\n",
       "\t21759 &  21759       & 2016         & BOGOTA       & 196          & 3            & 168          & 3            & 163          & 3            & 198          & B1           & 194          & 4           \\\\\n",
       "\t648500 & 648500       & 2018         & BOGOTA       & 150          & 2            & 125          & 2            & 155          & 2            & 115          & A1-          & 181          & 3           \\\\\n",
       "\t263077 & 263077       & 2017         & CUNDINAMARCA & 138          & 2            & 124          & 1            & 116          & 1            & 127          & A1           & 161          & 3           \\\\\n",
       "\\end{tabular}\n"
      ],
      "text/markdown": [
       "\n",
       "| <!--/--> | index | Periodo | Departamento | RazonamientoPunt | RazonamientoDes | LecturaP | LecturaDes | CompetenciasPunt | CompetenciasDest | InglesPunt | InglesDes | ComunicacionPunt | ComunicacionDes |\n",
       "|---|---|---|---|---|---|---|---|---|---|---|---|---|---|\n",
       "| 435503 | 435503       | 2017         | SANTANDER    |  88          | 1            |  98          | 1            | 119          | 1            | 128          | A1           | 127          | 2            |\n",
       "| 349063 | 349063       | 2017         | BOGOTA       | 110          | 1            | 129          | 2            | 155          | 2            | 115          | A1-          | 134          | 2            |\n",
       "| 426749 | 426749       | 2017         | BOGOTA       | 164          | 3            | 198          | 3            | 168          | 3            | 154          | A2           | 178          | 3            |\n",
       "| 21759 |  21759       | 2016         | BOGOTA       | 196          | 3            | 168          | 3            | 163          | 3            | 198          | B1           | 194          | 4            |\n",
       "| 648500 | 648500       | 2018         | BOGOTA       | 150          | 2            | 125          | 2            | 155          | 2            | 115          | A1-          | 181          | 3            |\n",
       "| 263077 | 263077       | 2017         | CUNDINAMARCA | 138          | 2            | 124          | 1            | 116          | 1            | 127          | A1           | 161          | 3            |\n",
       "\n"
      ],
      "text/plain": [
       "       index  Periodo Departamento RazonamientoPunt RazonamientoDes LecturaP\n",
       "435503 435503 2017    SANTANDER     88              1                98     \n",
       "349063 349063 2017    BOGOTA       110              1               129     \n",
       "426749 426749 2017    BOGOTA       164              3               198     \n",
       "21759   21759 2016    BOGOTA       196              3               168     \n",
       "648500 648500 2018    BOGOTA       150              2               125     \n",
       "263077 263077 2017    CUNDINAMARCA 138              2               124     \n",
       "       LecturaDes CompetenciasPunt CompetenciasDest InglesPunt InglesDes\n",
       "435503 1          119              1                128        A1       \n",
       "349063 2          155              2                115        A1-      \n",
       "426749 3          168              3                154        A2       \n",
       "21759  3          163              3                198        B1       \n",
       "648500 2          155              2                115        A1-      \n",
       "263077 1          116              1                127        A1       \n",
       "       ComunicacionPunt ComunicacionDes\n",
       "435503 127              2              \n",
       "349063 134              2              \n",
       "426749 178              3              \n",
       "21759  194              4              \n",
       "648500 181              3              \n",
       "263077 161              3              "
      ]
     },
     "metadata": {},
     "output_type": "display_data"
    }
   ],
   "source": [
    "mas<- sample(1:nrow(data),size=tmuestra,replace=FALSE) #Se realiza el MAS\n",
    "tmas<-data[mas,]\n",
    "head(mas)\n",
    "head(tmas)"
   ]
  },
  {
   "cell_type": "markdown",
   "metadata": {
    "colab_type": "text",
    "id": "5U0YF0-fLizA"
   },
   "source": [
    "#### Determine si la clasificación en niveles de desempeño en dos de las cinco competencias genéricas son producto del azar o no."
   ]
  },
  {
   "cell_type": "markdown",
   "metadata": {
    "colab_type": "text",
    "id": "zuxyq6oNLizA"
   },
   "source": [
    "Las hipótesis :\n",
    "\n",
    "* $H_{0}:$ No hay diferencia entre las proporciones de las categorías.\n",
    "* $H_{1}:$ Existe diferencia entre las proporciones de las categorías."
   ]
  },
  {
   "cell_type": "markdown",
   "metadata": {
    "colab_type": "text",
    "id": "wVxJDH25LizB"
   },
   "source": [
    "### Razonamiento Cuantitativo"
   ]
  },
  {
   "cell_type": "code",
   "execution_count": 10,
   "metadata": {
    "colab": {},
    "colab_type": "code",
    "id": "_YKLKByNLizC",
    "outputId": "892dd4c7-9ce3-41ae-fa14-4e734c75a6f1"
   },
   "outputs": [
    {
     "data": {
      "text/plain": [
       "RC\n",
       "  1   2   3   4 \n",
       "167 238 276  28 "
      ]
     },
     "metadata": {},
     "output_type": "display_data"
    }
   ],
   "source": [
    "RC<- tmas\n",
    "RC<- data.frame(RC$RazonamientoDes)\n",
    "table(RC)"
   ]
  },
  {
   "cell_type": "markdown",
   "metadata": {
    "colab_type": "text",
    "id": "yjENf8iLLizF"
   },
   "source": [
    "prueba"
   ]
  },
  {
   "cell_type": "code",
   "execution_count": 11,
   "metadata": {
    "colab": {},
    "colab_type": "code",
    "id": "RljFfdJlLizF",
    "outputId": "0a41a302-910c-423a-d4f0-044121ba7597"
   },
   "outputs": [
    {
     "data": {
      "text/plain": [
       "\n",
       "\tChi-squared test for given probabilities\n",
       "\n",
       "data:  table(RC)\n",
       "X-squared = 202.1, df = 3, p-value < 2.2e-16\n"
      ]
     },
     "metadata": {},
     "output_type": "display_data"
    }
   ],
   "source": [
    "chisq.test(table(RC))"
   ]
  },
  {
   "cell_type": "code",
   "execution_count": 12,
   "metadata": {
    "colab": {},
    "colab_type": "code",
    "id": "vYqhQdelLizI",
    "outputId": "065bd1d2-491a-459a-8bec-63154a3aeb37"
   },
   "outputs": [
    {
     "data": {
      "text/html": [
       "<table>\n",
       "<thead><tr><th scope=col>RC</th><th scope=col>Freq</th><th scope=col>expected</th></tr></thead>\n",
       "<tbody>\n",
       "\t<tr><td>1     </td><td>167   </td><td>177.25</td></tr>\n",
       "\t<tr><td>2     </td><td>238   </td><td>177.25</td></tr>\n",
       "\t<tr><td>3     </td><td>276   </td><td>177.25</td></tr>\n",
       "\t<tr><td>4     </td><td> 28   </td><td>177.25</td></tr>\n",
       "</tbody>\n",
       "</table>\n"
      ],
      "text/latex": [
       "\\begin{tabular}{r|lll}\n",
       " RC & Freq & expected\\\\\n",
       "\\hline\n",
       "\t 1      & 167    & 177.25\\\\\n",
       "\t 2      & 238    & 177.25\\\\\n",
       "\t 3      & 276    & 177.25\\\\\n",
       "\t 4      &  28    & 177.25\\\\\n",
       "\\end{tabular}\n"
      ],
      "text/markdown": [
       "\n",
       "| RC | Freq | expected |\n",
       "|---|---|---|\n",
       "| 1      | 167    | 177.25 |\n",
       "| 2      | 238    | 177.25 |\n",
       "| 3      | 276    | 177.25 |\n",
       "| 4      |  28    | 177.25 |\n",
       "\n"
      ],
      "text/plain": [
       "  RC Freq expected\n",
       "1 1  167  177.25  \n",
       "2 2  238  177.25  \n",
       "3 3  276  177.25  \n",
       "4 4   28  177.25  "
      ]
     },
     "metadata": {},
     "output_type": "display_data"
    }
   ],
   "source": [
    "with(chisq.test(table(RC)), data.frame(observed,expected))"
   ]
  },
  {
   "cell_type": "markdown",
   "metadata": {
    "colab_type": "text",
    "id": "PviOqqBNLizL"
   },
   "source": [
    "Debido al valor de p-value(menor a  $\\alpha=0.05$) se rechaza la hipotesis nula en la competencia de Razonamiento Cuantitativo,y debido a esto existe una diferencia entre las proporciones de las categorias, por lo cual se concluye que los datos no son producto del azar, Tambien se puede observar una mayor frecuencia en los niveles de desempeño 2 y 3."
   ]
  },
  {
   "cell_type": "markdown",
   "metadata": {
    "colab_type": "text",
    "id": "4EUFSRjSLizM"
   },
   "source": [
    "### Lectura Critica"
   ]
  },
  {
   "cell_type": "code",
   "execution_count": 13,
   "metadata": {
    "colab": {},
    "colab_type": "code",
    "id": "FWoRVP9FLizM",
    "outputId": "02cfefcf-7ed4-4355-f9c8-6406f60ca6b4"
   },
   "outputs": [
    {
     "data": {
      "text/plain": [
       "LC\n",
       "  1   2   3   4 \n",
       "159 254 256  40 "
      ]
     },
     "metadata": {},
     "output_type": "display_data"
    }
   ],
   "source": [
    "LC<- tmas\n",
    "LC<-data.frame(LC$LecturaDes)\n",
    "table(LC)"
   ]
  },
  {
   "cell_type": "markdown",
   "metadata": {
    "colab_type": "text",
    "id": "5bNqLRpiLizP"
   },
   "source": [
    "Prueba:"
   ]
  },
  {
   "cell_type": "code",
   "execution_count": 14,
   "metadata": {
    "colab": {},
    "colab_type": "code",
    "id": "aITzK-rZLizP",
    "outputId": "458b3152-1e2c-4091-8370-91aa99dbe203"
   },
   "outputs": [
    {
     "data": {
      "text/plain": [
       "\n",
       "\tChi-squared test for given probabilities\n",
       "\n",
       "data:  table(LC)\n",
       "X-squared = 176.38, df = 3, p-value < 2.2e-16\n"
      ]
     },
     "metadata": {},
     "output_type": "display_data"
    }
   ],
   "source": [
    "chisq.test(table(LC)) "
   ]
  },
  {
   "cell_type": "code",
   "execution_count": 15,
   "metadata": {
    "colab": {},
    "colab_type": "code",
    "id": "x2fAG14tLizS",
    "outputId": "ac343a28-1e18-428d-9d5e-4cd36094ee7b"
   },
   "outputs": [
    {
     "data": {
      "text/html": [
       "<table>\n",
       "<thead><tr><th scope=col>LC</th><th scope=col>Freq</th><th scope=col>expected</th></tr></thead>\n",
       "<tbody>\n",
       "\t<tr><td>1     </td><td>159   </td><td>177.25</td></tr>\n",
       "\t<tr><td>2     </td><td>254   </td><td>177.25</td></tr>\n",
       "\t<tr><td>3     </td><td>256   </td><td>177.25</td></tr>\n",
       "\t<tr><td>4     </td><td> 40   </td><td>177.25</td></tr>\n",
       "</tbody>\n",
       "</table>\n"
      ],
      "text/latex": [
       "\\begin{tabular}{r|lll}\n",
       " LC & Freq & expected\\\\\n",
       "\\hline\n",
       "\t 1      & 159    & 177.25\\\\\n",
       "\t 2      & 254    & 177.25\\\\\n",
       "\t 3      & 256    & 177.25\\\\\n",
       "\t 4      &  40    & 177.25\\\\\n",
       "\\end{tabular}\n"
      ],
      "text/markdown": [
       "\n",
       "| LC | Freq | expected |\n",
       "|---|---|---|\n",
       "| 1      | 159    | 177.25 |\n",
       "| 2      | 254    | 177.25 |\n",
       "| 3      | 256    | 177.25 |\n",
       "| 4      |  40    | 177.25 |\n",
       "\n"
      ],
      "text/plain": [
       "  LC Freq expected\n",
       "1 1  159  177.25  \n",
       "2 2  254  177.25  \n",
       "3 3  256  177.25  \n",
       "4 4   40  177.25  "
      ]
     },
     "metadata": {},
     "output_type": "display_data"
    }
   ],
   "source": [
    "with(chisq.test(table(LC)), data.frame(observed,expected))"
   ]
  },
  {
   "cell_type": "markdown",
   "metadata": {
    "colab_type": "text",
    "id": "ylHB7O1OLizV"
   },
   "source": [
    "Debido al valor de p-value(menor a  $\\alpha=0.05$) se rechaza la hipotesis nula,y  se concluye que las competencias de Razonamiento Cuantitativo y la competencia de Lectura Critica son dependientes entre si."
   ]
  },
  {
   "cell_type": "markdown",
   "metadata": {
    "colab_type": "text",
    "id": "isdxfX--LizV"
   },
   "source": [
    "#### Con la muestra, calcule un promedio general por estudiante para las cinco competencia y realice un ranking inicial y un ranking final por departamento; determine si hubo cambios significativos en esa clasificación."
   ]
  },
  {
   "cell_type": "markdown",
   "metadata": {
    "colab_type": "text",
    "id": "suFndOD9LizV"
   },
   "source": [
    "Las hipótesis:\n",
    "\n",
    "* $H_{0}: mediana = 0$\n",
    "* $H_{1}: mediana \\neq 0$"
   ]
  },
  {
   "cell_type": "markdown",
   "metadata": {
    "colab_type": "text",
    "id": "WFibrfOBLizW"
   },
   "source": [
    "Agrupación por año y departamento con el promedio de puntajes, y separación de cada periodo"
   ]
  },
  {
   "cell_type": "code",
   "execution_count": 16,
   "metadata": {
    "colab": {},
    "colab_type": "code",
    "id": "owRxn_-OLizW"
   },
   "outputs": [],
   "source": [
    "promedio <- data.frame(\n",
    "  Periodo = data$Periodo,\n",
    "  Departamento = data$Departamento,\n",
    "  Promedio = with(data, (CompetenciasPunt+ComunicacionPunt+InglesPunt+LecturaP+RazonamientoPunt)/5)\n",
    ")\n",
    "\n",
    "departamentos <- promedio %>%\n",
    "  select(Departamento,Periodo,Promedio) %>%\n",
    "  group_by(Departamento,Periodo) %>%\n",
    "  summarise(Puntaje=mean(Promedio))\n",
    "\n",
    "periodo2016<-departamentos[departamentos$Periodo=='2016',c('Departamento','Puntaje')]\n",
    "periodo2017<-departamentos[departamentos$Periodo=='2017',c('Departamento','Puntaje')]\n",
    "periodo2018<-departamentos[departamentos$Periodo=='2018',c('Departamento','Puntaje')]"
   ]
  },
  {
   "cell_type": "markdown",
   "metadata": {
    "colab_type": "text",
    "id": "8lRqKE9lLizZ"
   },
   "source": [
    "Se ordenan los departamentos con un ranking dependiente del puntaje de cada uno y luego se vuelven a ordenar por departamento para así poder ver las variaciones de cada departamento y puntaje en cada periodo o año."
   ]
  },
  {
   "cell_type": "code",
   "execution_count": 17,
   "metadata": {
    "colab": {},
    "colab_type": "code",
    "id": "EGVyEBE7Liza"
   },
   "outputs": [],
   "source": [
    "p2016<-periodo2016 %>% arrange(desc(Puntaje))\n",
    "p2017<-periodo2017 %>% arrange(desc(Puntaje))\n",
    "p2018<-periodo2018 %>% arrange(desc(Puntaje))\n",
    "\n",
    "p2016$puesto  <- 1:nrow(p2016)\n",
    "p2017$puesto  <- 1:nrow(p2017)\n",
    "p2018$puesto  <- 1:nrow(p2018)\n",
    "\n",
    "p2016 <- p2016[order(p2016$Departamento),]\n",
    "p2017 <- p2017[order(p2017$Departamento),]\n",
    "p2018 <- p2018[order(p2018$Departamento),]"
   ]
  },
  {
   "cell_type": "code",
   "execution_count": 18,
   "metadata": {
    "colab": {},
    "colab_type": "code",
    "id": "9Vrp8ZQfLizd",
    "outputId": "40bfd50a-800f-429f-e2f3-7cc45687e1a0"
   },
   "outputs": [
    {
     "data": {
      "text/html": [
       "<table>\n",
       "<thead><tr><th scope=col>Departamento</th><th scope=col>Puesto2016</th><th scope=col>Puesto2017</th><th scope=col>Puesto2018</th></tr></thead>\n",
       "<tbody>\n",
       "\t<tr><td>               </td><td>35             </td><td> 1             </td><td>12             </td></tr>\n",
       "\t<tr><td>AMAZONAS       </td><td>26             </td><td>25             </td><td>26             </td></tr>\n",
       "\t<tr><td>ANTIOQUIA      </td><td> 2             </td><td> 4             </td><td> 3             </td></tr>\n",
       "\t<tr><td>ARAUCA         </td><td>29             </td><td>32             </td><td>29             </td></tr>\n",
       "\t<tr><td>ATLANTICO      </td><td>10             </td><td>12             </td><td>11             </td></tr>\n",
       "\t<tr><td>BOGOTA         </td><td> 1             </td><td> 3             </td><td> 2             </td></tr>\n",
       "\t<tr><td>BOLIVAR        </td><td>20             </td><td>13             </td><td>13             </td></tr>\n",
       "\t<tr><td>BOYACA         </td><td> 6             </td><td> 7             </td><td> 6             </td></tr>\n",
       "\t<tr><td>CALDAS         </td><td> 3             </td><td> 6             </td><td> 5             </td></tr>\n",
       "\t<tr><td>CAQUETA        </td><td>22             </td><td>28             </td><td>28             </td></tr>\n",
       "\t<tr><td>CASANARE       </td><td>21             </td><td>24             </td><td>20             </td></tr>\n",
       "\t<tr><td>CAUCA          </td><td>12             </td><td>16             </td><td>16             </td></tr>\n",
       "\t<tr><td>CESAR          </td><td>25             </td><td>22             </td><td>22             </td></tr>\n",
       "\t<tr><td>CHOCO          </td><td>33             </td><td>35             </td><td>35             </td></tr>\n",
       "\t<tr><td>CORDOBA        </td><td>24             </td><td>23             </td><td>24             </td></tr>\n",
       "\t<tr><td>CUNDINAMARCA   </td><td> 8             </td><td> 9             </td><td> 7             </td></tr>\n",
       "\t<tr><td>EXTRANJERO     </td><td>16             </td><td> 2             </td><td> 1             </td></tr>\n",
       "\t<tr><td>GUAINIA        </td><td>23             </td><td>31             </td><td>32             </td></tr>\n",
       "\t<tr><td>GUAVIARE       </td><td>30             </td><td>29             </td><td>27             </td></tr>\n",
       "\t<tr><td>HUILA          </td><td>19             </td><td>20             </td><td>21             </td></tr>\n",
       "\t<tr><td>LA GUAJIRA     </td><td>32             </td><td>34             </td><td>31             </td></tr>\n",
       "\t<tr><td>MAGDALENA      </td><td>17             </td><td>18             </td><td>19             </td></tr>\n",
       "\t<tr><td>META           </td><td>15             </td><td>19             </td><td>17             </td></tr>\n",
       "\t<tr><td>NARINO         </td><td>13             </td><td>14             </td><td>14             </td></tr>\n",
       "\t<tr><td>NORTE SANTANDER</td><td>11             </td><td>17             </td><td>15             </td></tr>\n",
       "\t<tr><td>PUTUMAYO       </td><td>28             </td><td>33             </td><td>30             </td></tr>\n",
       "\t<tr><td>QUINDIO        </td><td> 7             </td><td>11             </td><td>10             </td></tr>\n",
       "\t<tr><td>RISARALDA      </td><td> 5             </td><td>10             </td><td> 9             </td></tr>\n",
       "\t<tr><td>SAN ANDRES     </td><td>18             </td><td>27             </td><td>23             </td></tr>\n",
       "\t<tr><td>SANTANDER      </td><td> 4             </td><td> 5             </td><td> 4             </td></tr>\n",
       "\t<tr><td>SUCRE          </td><td>27             </td><td>21             </td><td>25             </td></tr>\n",
       "\t<tr><td>TOLIMA         </td><td>14             </td><td>15             </td><td>18             </td></tr>\n",
       "\t<tr><td>VALLE          </td><td> 9             </td><td> 8             </td><td> 8             </td></tr>\n",
       "\t<tr><td>VAUPES         </td><td>31             </td><td>26             </td><td>34             </td></tr>\n",
       "\t<tr><td>VICHADA        </td><td>34             </td><td>30             </td><td>33             </td></tr>\n",
       "</tbody>\n",
       "</table>\n"
      ],
      "text/latex": [
       "\\begin{tabular}{r|llll}\n",
       " Departamento & Puesto2016 & Puesto2017 & Puesto2018\\\\\n",
       "\\hline\n",
       "\t                 & 35              &  1              & 12             \\\\\n",
       "\t AMAZONAS        & 26              & 25              & 26             \\\\\n",
       "\t ANTIOQUIA       &  2              &  4              &  3             \\\\\n",
       "\t ARAUCA          & 29              & 32              & 29             \\\\\n",
       "\t ATLANTICO       & 10              & 12              & 11             \\\\\n",
       "\t BOGOTA          &  1              &  3              &  2             \\\\\n",
       "\t BOLIVAR         & 20              & 13              & 13             \\\\\n",
       "\t BOYACA          &  6              &  7              &  6             \\\\\n",
       "\t CALDAS          &  3              &  6              &  5             \\\\\n",
       "\t CAQUETA         & 22              & 28              & 28             \\\\\n",
       "\t CASANARE        & 21              & 24              & 20             \\\\\n",
       "\t CAUCA           & 12              & 16              & 16             \\\\\n",
       "\t CESAR           & 25              & 22              & 22             \\\\\n",
       "\t CHOCO           & 33              & 35              & 35             \\\\\n",
       "\t CORDOBA         & 24              & 23              & 24             \\\\\n",
       "\t CUNDINAMARCA    &  8              &  9              &  7             \\\\\n",
       "\t EXTRANJERO      & 16              &  2              &  1             \\\\\n",
       "\t GUAINIA         & 23              & 31              & 32             \\\\\n",
       "\t GUAVIARE        & 30              & 29              & 27             \\\\\n",
       "\t HUILA           & 19              & 20              & 21             \\\\\n",
       "\t LA GUAJIRA      & 32              & 34              & 31             \\\\\n",
       "\t MAGDALENA       & 17              & 18              & 19             \\\\\n",
       "\t META            & 15              & 19              & 17             \\\\\n",
       "\t NARINO          & 13              & 14              & 14             \\\\\n",
       "\t NORTE SANTANDER & 11              & 17              & 15             \\\\\n",
       "\t PUTUMAYO        & 28              & 33              & 30             \\\\\n",
       "\t QUINDIO         &  7              & 11              & 10             \\\\\n",
       "\t RISARALDA       &  5              & 10              &  9             \\\\\n",
       "\t SAN ANDRES      & 18              & 27              & 23             \\\\\n",
       "\t SANTANDER       &  4              &  5              &  4             \\\\\n",
       "\t SUCRE           & 27              & 21              & 25             \\\\\n",
       "\t TOLIMA          & 14              & 15              & 18             \\\\\n",
       "\t VALLE           &  9              &  8              &  8             \\\\\n",
       "\t VAUPES          & 31              & 26              & 34             \\\\\n",
       "\t VICHADA         & 34              & 30              & 33             \\\\\n",
       "\\end{tabular}\n"
      ],
      "text/markdown": [
       "\n",
       "| Departamento | Puesto2016 | Puesto2017 | Puesto2018 |\n",
       "|---|---|---|---|\n",
       "|                 | 35              |  1              | 12              |\n",
       "| AMAZONAS        | 26              | 25              | 26              |\n",
       "| ANTIOQUIA       |  2              |  4              |  3              |\n",
       "| ARAUCA          | 29              | 32              | 29              |\n",
       "| ATLANTICO       | 10              | 12              | 11              |\n",
       "| BOGOTA          |  1              |  3              |  2              |\n",
       "| BOLIVAR         | 20              | 13              | 13              |\n",
       "| BOYACA          |  6              |  7              |  6              |\n",
       "| CALDAS          |  3              |  6              |  5              |\n",
       "| CAQUETA         | 22              | 28              | 28              |\n",
       "| CASANARE        | 21              | 24              | 20              |\n",
       "| CAUCA           | 12              | 16              | 16              |\n",
       "| CESAR           | 25              | 22              | 22              |\n",
       "| CHOCO           | 33              | 35              | 35              |\n",
       "| CORDOBA         | 24              | 23              | 24              |\n",
       "| CUNDINAMARCA    |  8              |  9              |  7              |\n",
       "| EXTRANJERO      | 16              |  2              |  1              |\n",
       "| GUAINIA         | 23              | 31              | 32              |\n",
       "| GUAVIARE        | 30              | 29              | 27              |\n",
       "| HUILA           | 19              | 20              | 21              |\n",
       "| LA GUAJIRA      | 32              | 34              | 31              |\n",
       "| MAGDALENA       | 17              | 18              | 19              |\n",
       "| META            | 15              | 19              | 17              |\n",
       "| NARINO          | 13              | 14              | 14              |\n",
       "| NORTE SANTANDER | 11              | 17              | 15              |\n",
       "| PUTUMAYO        | 28              | 33              | 30              |\n",
       "| QUINDIO         |  7              | 11              | 10              |\n",
       "| RISARALDA       |  5              | 10              |  9              |\n",
       "| SAN ANDRES      | 18              | 27              | 23              |\n",
       "| SANTANDER       |  4              |  5              |  4              |\n",
       "| SUCRE           | 27              | 21              | 25              |\n",
       "| TOLIMA          | 14              | 15              | 18              |\n",
       "| VALLE           |  9              |  8              |  8              |\n",
       "| VAUPES          | 31              | 26              | 34              |\n",
       "| VICHADA         | 34              | 30              | 33              |\n",
       "\n"
      ],
      "text/plain": [
       "   Departamento    Puesto2016 Puesto2017 Puesto2018\n",
       "1                  35          1         12        \n",
       "2  AMAZONAS        26         25         26        \n",
       "3  ANTIOQUIA        2          4          3        \n",
       "4  ARAUCA          29         32         29        \n",
       "5  ATLANTICO       10         12         11        \n",
       "6  BOGOTA           1          3          2        \n",
       "7  BOLIVAR         20         13         13        \n",
       "8  BOYACA           6          7          6        \n",
       "9  CALDAS           3          6          5        \n",
       "10 CAQUETA         22         28         28        \n",
       "11 CASANARE        21         24         20        \n",
       "12 CAUCA           12         16         16        \n",
       "13 CESAR           25         22         22        \n",
       "14 CHOCO           33         35         35        \n",
       "15 CORDOBA         24         23         24        \n",
       "16 CUNDINAMARCA     8          9          7        \n",
       "17 EXTRANJERO      16          2          1        \n",
       "18 GUAINIA         23         31         32        \n",
       "19 GUAVIARE        30         29         27        \n",
       "20 HUILA           19         20         21        \n",
       "21 LA GUAJIRA      32         34         31        \n",
       "22 MAGDALENA       17         18         19        \n",
       "23 META            15         19         17        \n",
       "24 NARINO          13         14         14        \n",
       "25 NORTE SANTANDER 11         17         15        \n",
       "26 PUTUMAYO        28         33         30        \n",
       "27 QUINDIO          7         11         10        \n",
       "28 RISARALDA        5         10          9        \n",
       "29 SAN ANDRES      18         27         23        \n",
       "30 SANTANDER        4          5          4        \n",
       "31 SUCRE           27         21         25        \n",
       "32 TOLIMA          14         15         18        \n",
       "33 VALLE            9          8          8        \n",
       "34 VAUPES          31         26         34        \n",
       "35 VICHADA         34         30         33        "
      ]
     },
     "metadata": {},
     "output_type": "display_data"
    }
   ],
   "source": [
    "ord<- data.frame(Departamento=p2016$Departamento,Puesto2016=p2016$puesto,Puesto2017= p2017$puesto,Puesto2018=p2018$puesto)\n",
    "ord"
   ]
  },
  {
   "cell_type": "code",
   "execution_count": 19,
   "metadata": {
    "colab": {},
    "colab_type": "code",
    "id": "7YCUmpX9Lizg",
    "outputId": "c0433e0c-656a-44bc-d818-176e594ef501"
   },
   "outputs": [
    {
     "data": {
      "text/plain": [
       "\n",
       "\tExact Wilcoxon-Pratt Signed-Rank Test\n",
       "\n",
       "data:  y by x (pos, neg) \n",
       "\t stratified by block\n",
       "Z = -1.5631, p-value = 0.12\n",
       "alternative hypothesis: true mu is not equal to 0\n"
      ]
     },
     "metadata": {},
     "output_type": "display_data"
    }
   ],
   "source": [
    "wilcoxsign_test(p2016$puesto ~ p2017$puesto,  distribution = \"exact\")"
   ]
  },
  {
   "cell_type": "code",
   "execution_count": 20,
   "metadata": {
    "colab": {},
    "colab_type": "code",
    "id": "FSK1cinPLizi",
    "outputId": "f0cfb7a4-03b2-435c-9c69-85ca20fdaaff"
   },
   "outputs": [
    {
     "data": {
      "text/plain": [
       "\n",
       "\tExact Wilcoxon-Pratt Signed-Rank Test\n",
       "\n",
       "data:  y by x (pos, neg) \n",
       "\t stratified by block\n",
       "Z = 1.1865, p-value = 0.241\n",
       "alternative hypothesis: true mu is not equal to 0\n"
      ]
     },
     "metadata": {},
     "output_type": "display_data"
    }
   ],
   "source": [
    "wilcoxsign_test(p2017$puesto ~ p2018$puesto,  distribution = \"exact\")"
   ]
  },
  {
   "cell_type": "code",
   "execution_count": 21,
   "metadata": {
    "colab": {},
    "colab_type": "code",
    "id": "PzsGVpV8Lizm",
    "outputId": "494bdd79-394a-449c-8384-7743c3c7769b"
   },
   "outputs": [
    {
     "data": {
      "text/plain": [
       "\n",
       "\tExact Wilcoxon-Pratt Signed-Rank Test\n",
       "\n",
       "data:  y by x (pos, neg) \n",
       "\t stratified by block\n",
       "Z = -1.5064, p-value = 0.1345\n",
       "alternative hypothesis: true mu is not equal to 0\n"
      ]
     },
     "metadata": {},
     "output_type": "display_data"
    }
   ],
   "source": [
    "wilcoxsign_test(p2016$puesto ~ p2018$puesto,  distribution = \"exact\")"
   ]
  },
  {
   "cell_type": "code",
   "execution_count": 22,
   "metadata": {
    "colab": {},
    "colab_type": "code",
    "id": "3JB1CBazLizo",
    "outputId": "a9162c07-683d-4527-c303-e473420acbc9"
   },
   "outputs": [
    {
     "data": {
      "text/plain": [
       " Periodo             Departamento       Promedio    \n",
       " 2016:239830   BOGOTA      :205650   Min.   : 14.0  \n",
       " 2017:233791   ANTIOQUIA   : 84126   1st Qu.:132.4  \n",
       " 2018:229560   VALLE       : 54452   Median :147.6  \n",
       "               ATLANTICO   : 39878   Mean   :149.2  \n",
       "               CUNDINAMARCA: 38129   3rd Qu.:164.6  \n",
       "               SANTANDER   : 35313   Max.   :268.8  \n",
       "               (Other)     :245633                  "
      ]
     },
     "metadata": {},
     "output_type": "display_data"
    }
   ],
   "source": [
    "summary(promedio)"
   ]
  },
  {
   "cell_type": "markdown",
   "metadata": {
    "colab_type": "text",
    "id": "9Bk5m9ruLizq"
   },
   "source": [
    "Se observa que el p-valor obtenido para cada una de las pruebas es mayor que $\\alpha=0.05$, entonces no se rechaza la hipótesis nula. Por lo tanto, podemos afirmar que en el ranking y pruebas aplicadas para 2016-2017, 2017-2018 y 2016-2018 se tiene una mediana diferente de cero y con cambios en la mayoria de los puestos de los departamentos. Para comprobarlo, se puede observar la tabla que se generó anteriormente sobre los puestos y se observa que efectivamente la mediana cambio de posición superando más del 50% en los puestos asignados a los departamentos."
   ]
  },
  {
   "cell_type": "code",
   "execution_count": null,
   "metadata": {
    "colab": {},
    "colab_type": "code",
    "id": "9MPF5SUaLizr"
   },
   "outputs": [],
   "source": []
  },
  {
   "cell_type": "markdown",
   "metadata": {
    "colab_type": "text",
    "id": "RLL0kPCHLv55"
   },
   "source": [
    "##Ejercicio 3 - Diseño de experimentos"
   ]
  },
  {
   "cell_type": "markdown",
   "metadata": {
    "colab_type": "text",
    "id": "k4YgcHfZ3oUW"
   },
   "source": [
    "\n",
    "Plantee un ejercicio, a su gusto, donde sea posible hacer uso de los distintos tipos de Diseño de Experimentos:\n",
    "\n",
    "\n",
    "*   ANOVA de un Factor (Efectos Fijos)\n",
    "*   Anova de un Factor (Efectos Aleatorios)\n",
    "*   Diseño por Bloques\n",
    "*   Diseño Factorial (Dos Factores)\n",
    "*   Cuadrado Latino\n",
    "\n"
   ]
  },
  {
   "cell_type": "markdown",
   "metadata": {
    "colab_type": "text",
    "id": "iPObQtG73oUX"
   },
   "source": [
    "### ANOVA - Efectos Fijos\n",
    "\n",
    "Los miembros de un equipo ciclista se dividen al azar en cuatro grupos que entrenan con métodos diferentes. El primer grupo realiza largos recorridos a ritmo pausado, el segundo grupo realiza series cortas de alta intensidad, el tercero trabaja en el gimnasio con pesas y se ejercita en el pedaleo de alta frecuencia, y el cuarto realiza ejercicios intensos a un ritmo moderado. Después de un mes de entrenamiento se realiza un test de rendimiento consistente en un recorrido cronometrado de 9 Km. A un nivel de confianza del 95% ¿Puede considerarse que los tres métodos producen resultados equivalentes? O por el contrario ¿Hay algún método superior a los demás?. Los tiempos empleados fueron los siguientes:"
   ]
  },
  {
   "cell_type": "code",
   "execution_count": 23,
   "metadata": {
    "colab": {
     "base_uri": "https://localhost:8080/",
     "height": 204
    },
    "colab_type": "code",
    "id": "xIGQ_80e3oUY",
    "outputId": "581746da-ee74-4d76-92db-479d0ce155c4"
   },
   "outputs": [
    {
     "data": {
      "text/html": [
       "<table>\n",
       "<thead><tr><th scope=col>Metodo</th><th scope=col>Resultado</th></tr></thead>\n",
       "<tbody>\n",
       "\t<tr><td>1 </td><td>15</td></tr>\n",
       "\t<tr><td>1 </td><td>16</td></tr>\n",
       "\t<tr><td>1 </td><td>16</td></tr>\n",
       "\t<tr><td>1 </td><td>15</td></tr>\n",
       "\t<tr><td>1 </td><td>17</td></tr>\n",
       "\t<tr><td>2 </td><td>14</td></tr>\n",
       "</tbody>\n",
       "</table>\n"
      ],
      "text/latex": [
       "\\begin{tabular}{r|ll}\n",
       " Metodo & Resultado\\\\\n",
       "\\hline\n",
       "\t 1  & 15\\\\\n",
       "\t 1  & 16\\\\\n",
       "\t 1  & 16\\\\\n",
       "\t 1  & 15\\\\\n",
       "\t 1  & 17\\\\\n",
       "\t 2  & 14\\\\\n",
       "\\end{tabular}\n"
      ],
      "text/markdown": [
       "\n",
       "| Metodo | Resultado |\n",
       "|---|---|\n",
       "| 1  | 15 |\n",
       "| 1  | 16 |\n",
       "| 1  | 16 |\n",
       "| 1  | 15 |\n",
       "| 1  | 17 |\n",
       "| 2  | 14 |\n",
       "\n"
      ],
      "text/plain": [
       "  Metodo Resultado\n",
       "1 1      15       \n",
       "2 1      16       \n",
       "3 1      16       \n",
       "4 1      15       \n",
       "5 1      17       \n",
       "6 2      14       "
      ]
     },
     "metadata": {},
     "output_type": "display_data"
    }
   ],
   "source": [
    "#Conjunto de datos\n",
    "input1 = (\" Metodo Resultado\n",
    "'1'  15\n",
    "'1'  16\n",
    "'1'  16\n",
    "'1'  15\n",
    "'1'  17\n",
    "'2'  14\n",
    "'2'  15\n",
    "'2'  15\n",
    "'2'  16\n",
    "'2'  14\n",
    "'3'  13\n",
    "'3'  12\n",
    "'3'  11\n",
    "'3'  15\n",
    "'3'  11\n",
    "'4'  13\n",
    "'4'  14\n",
    "'4'  12\n",
    "'4'  13\n",
    "'4'  11\n",
    "\")\n",
    "\n",
    "datos1<-read.table(textConnection(input1),header=TRUE)\n",
    "head(datos1)"
   ]
  },
  {
   "cell_type": "markdown",
   "metadata": {
    "colab_type": "text",
    "id": "8RtN0yc13oUb"
   },
   "source": [
    "Por lo tanto la hipótesis es:\n",
    "\n",
    "\\begin{equation}\n",
    "H_{0} : \\tau_{j} = 0 , \\quad j=1,2,...,4.\n",
    "\\end{equation}"
   ]
  },
  {
   "cell_type": "code",
   "execution_count": 24,
   "metadata": {
    "colab": {
     "base_uri": "https://localhost:8080/",
     "height": 437
    },
    "colab_type": "code",
    "id": "2mEyqBeu3oUc",
    "outputId": "13a46f8c-76fd-4b9f-9a01-775b85cf35f0",
    "scrolled": true
   },
   "outputs": [
    {
     "data": {
      "image/png": "[encoded data removed]",
      "text/plain": [
       "plot without title"
      ]
     },
     "metadata": {},
     "output_type": "display_data"
    }
   ],
   "source": [
    "#Gráfica\n",
    "datos1$Metodo<-factor(datos1$Metodo)\n",
    "with(datos1, plot(Metodo,Resultado))"
   ]
  },
  {
   "cell_type": "markdown",
   "metadata": {
    "colab_type": "text",
    "id": "_JS8z-NR3oUf"
   },
   "source": [
    "Con la gráfica se puede observar que los métodos tienen diferentes medias, y que los métodos 1 y 2 suelen presentar resultados de rendimiento más similares por lo que tienen poca desviación. Por otro lado, vemos que el 3 tiene mayor desviación y un resultado de rendimiento menor en promedio. Sin embargo, aún no podemos rechazar del todo la hipótesis nula, por lo que procedemos a agrupar la información en una tabla de de análisis de varianza para sacar una conclusión:"
   ]
  },
  {
   "cell_type": "code",
   "execution_count": null,
   "metadata": {
    "colab": {
     "base_uri": "https://localhost:8080/",
     "height": 102
    },
    "colab_type": "code",
    "id": "W-Q8VKbo3oUf",
    "outputId": "3a779a18-800c-4e23-9a51-b314ca5f647c"
   },
   "outputs": [
    {
     "data": {
      "text/plain": [
       "            Df Sum Sq Mean Sq F value   Pr(>F)    \n",
       "Metodo       3   41.8  13.933   10.13 0.000556 ***\n",
       "Residuals   16   22.0   1.375                     \n",
       "---\n",
       "Signif. codes:  0 ‘***’ 0.001 ‘**’ 0.01 ‘*’ 0.05 ‘.’ 0.1 ‘ ’ 1"
      ]
     },
     "metadata": {
      "tags": []
     },
     "output_type": "display_data"
    }
   ],
   "source": [
    "# La ANOVA en detalle\n",
    "m.aov1<-lm(Resultado~Metodo,data=datos1)\n",
    "aov.m1<-aov(m.aov1)\n",
    "summary(aov.m1)"
   ]
  },
  {
   "cell_type": "code",
   "execution_count": null,
   "metadata": {
    "colab": {
     "base_uri": "https://localhost:8080/",
     "height": 357
    },
    "colab_type": "code",
    "id": "y2kC6qsM3oUi",
    "outputId": "5a5e3492-dc76-448c-8b5e-ee1742b1bea9"
   },
   "outputs": [
    {
     "data": {
      "text/plain": [
       "\n",
       "Call:\n",
       "lm(formula = Resultado ~ Metodo, data = datos1)\n",
       "\n",
       "Residuals:\n",
       "   Min     1Q Median     3Q    Max \n",
       " -1.60  -0.80   0.20   0.45   2.60 \n",
       "\n",
       "Coefficients:\n",
       "            Estimate Std. Error t value Pr(>|t|)    \n",
       "(Intercept)  15.8000     0.5244  30.129  1.6e-15 ***\n",
       "Metodo2      -1.0000     0.7416  -1.348 0.196309    \n",
       "Metodo3      -3.4000     0.7416  -4.585 0.000305 ***\n",
       "Metodo4      -3.2000     0.7416  -4.315 0.000534 ***\n",
       "---\n",
       "Signif. codes:  0 ‘***’ 0.001 ‘**’ 0.01 ‘*’ 0.05 ‘.’ 0.1 ‘ ’ 1\n",
       "\n",
       "Residual standard error: 1.173 on 16 degrees of freedom\n",
       "Multiple R-squared:  0.6552,\tAdjusted R-squared:  0.5905 \n",
       "F-statistic: 10.13 on 3 and 16 DF,  p-value: 0.0005556\n"
      ]
     },
     "metadata": {
      "tags": []
     },
     "output_type": "display_data"
    }
   ],
   "source": [
    "summary(m.aov1)"
   ]
  },
  {
   "cell_type": "markdown",
   "metadata": {
    "colab_type": "text",
    "id": "fxxctKAw3oUl"
   },
   "source": [
    "Con esta tabla podemos observar el intercepto con el método 1. De igual forma, por medio del p-valor podemos notar que existen diferencias significativas con los demás métodos excepto con el número 2. \n",
    "\n",
    "Finalmente, realizamos el test de medias:"
   ]
  },
  {
   "cell_type": "code",
   "execution_count": null,
   "metadata": {
    "colab": {
     "base_uri": "https://localhost:8080/",
     "height": 204
    },
    "colab_type": "code",
    "id": "gHQCVZYN3oUl",
    "outputId": "12063a78-1b5b-41ec-9ec1-adb57c10d16b"
   },
   "outputs": [
    {
     "data": {
      "text/plain": [
       "\n",
       "\tPairwise comparisons using t tests with pooled SD \n",
       "\n",
       "data:  datos1$Resultado and datos1$Metodo \n",
       "\n",
       "  1      2      3     \n",
       "2 1.0000 -      -     \n",
       "3 0.0018 0.0310 -     \n",
       "4 0.0032 0.0546 1.0000\n",
       "\n",
       "P value adjustment method: bonferroni "
      ]
     },
     "metadata": {
      "tags": []
     },
     "output_type": "display_data"
    }
   ],
   "source": [
    "# Test de comparación de medias:\n",
    "library(stats)\n",
    "pairwise.t.test(datos1$Resultado,datos1$Metodo, p.adjust.method=\"bonferroni\")"
   ]
  },
  {
   "cell_type": "code",
   "execution_count": null,
   "metadata": {
    "colab": {
     "base_uri": "https://localhost:8080/",
     "height": 238
    },
    "colab_type": "code",
    "id": "dMQKdsSE3oUo",
    "outputId": "cce3050f-6e11-46db-bb50-f103d3013d14",
    "scrolled": true
   },
   "outputs": [
    {
     "data": {
      "text/plain": [
       "  Tukey multiple comparisons of means\n",
       "    95% family-wise confidence level\n",
       "\n",
       "Fit: aov(formula = m.aov1)\n",
       "\n",
       "$Metodo\n",
       "    diff       lwr         upr     p adj\n",
       "2-1 -1.0 -3.121789  1.12178909 0.5473602\n",
       "3-1 -3.4 -5.521789 -1.27821091 0.0015646\n",
       "4-1 -3.2 -5.321789 -1.07821091 0.0026999\n",
       "3-2 -2.4 -4.521789 -0.27821091 0.0240019\n",
       "4-2 -2.2 -4.321789 -0.07821091 0.0407941\n",
       "4-3  0.2 -1.921789  2.32178909 0.9928647\n"
      ]
     },
     "metadata": {
      "tags": []
     },
     "output_type": "display_data"
    }
   ],
   "source": [
    "tk.aov.m1<-TukeyHSD(aov.m1)\n",
    "tk.aov.m1"
   ]
  },
  {
   "cell_type": "code",
   "execution_count": null,
   "metadata": {
    "colab": {
     "base_uri": "https://localhost:8080/",
     "height": 437
    },
    "colab_type": "code",
    "id": "n5_8Z7C_3oUr",
    "outputId": "a7b9917e-032a-4def-9ff1-b52bf44e140c"
   },
   "outputs": [
    {
     "data": {
      "image/png": "[encoded data removed]",
      "text/plain": [
       "Plot with title “95% family-wise confidence level\n",
       "”"
      ]
     },
     "metadata": {
      "image/png": {
       "height": 420,
       "width": 420
      },
      "tags": []
     },
     "output_type": "display_data"
    }
   ],
   "source": [
    "plot(tk.aov.m1)"
   ]
  },
  {
   "cell_type": "markdown",
   "metadata": {
    "colab_type": "text",
    "id": "IzlbyLkz3oUu"
   },
   "source": [
    "Por último, vemos que en la gráfica el 0 atraviesa más hacia el centro del intervalo de confianza en los métodos 2-1 y 4-3, por lo que se rechaza así la hipótesis nula y se concluye que los cuatro métodos de entrenamiento producen diferencias significativas."
   ]
  },
  {
   "cell_type": "markdown",
   "metadata": {
    "colab_type": "text",
    "id": "E7dpMYek3oUv"
   },
   "source": [
    "### ANOVA - Efectos Aleatorios\n",
    "\n",
    "Una fábrica textil produce un tipo de tela en un número grande de telares. Se desea obtener una tela de resistencia uniforme.\n",
    "\n",
    "El ingeniero a cargo sospecha que además de la variación usual en resistencia de muestras de tela del mismo telar, puede haber variaciones en resistencia entre diferentes telares. \n",
    "\n",
    "Para investigar esto, selecciona al azar 4 telares y hace 4 determinaciones de resistencia en la tela producida por cada telar. El experimento se corre en orden aleatorio\n",
    "\n",
    "| Telar 1 | Telar 2 | Telar 3 | Telar 4 |\n",
    "|------|------|------| ------|\n",
    "| 98    | 91    | 96   | 95 |\n",
    "| 97   | 90   | 95   |  96 |\n",
    "| 99   | 93   | 97 |  99  |\n",
    "| 96   | 92   | 95   |   98|\n",
    "\n",
    "La Hipótesis nula del problema es:\n",
    "\\begin{equation}\n",
    "H_{0} : \\sigma²_{\\tau} = 0\n",
    "\\end{equation}"
   ]
  },
  {
   "cell_type": "code",
   "execution_count": null,
   "metadata": {
    "colab": {
     "base_uri": "https://localhost:8080/",
     "height": 204
    },
    "colab_type": "code",
    "id": "XlKVf7xM3oUv",
    "outputId": "1ad0c888-e166-4892-bd67-15640b066fd2"
   },
   "outputs": [
    {
     "data": {
      "text/html": [
       "<table>\n",
       "<caption>A data.frame: 6 × 2</caption>\n",
       "<thead>\n",
       "\t<tr><th></th><th scope=col>Telar</th><th scope=col>Resistencia</th></tr>\n",
       "\t<tr><th></th><th scope=col>&lt;int&gt;</th><th scope=col>&lt;int&gt;</th></tr>\n",
       "</thead>\n",
       "<tbody>\n",
       "\t<tr><th scope=row>1</th><td>1</td><td>98</td></tr>\n",
       "\t<tr><th scope=row>2</th><td>1</td><td>97</td></tr>\n",
       "\t<tr><th scope=row>3</th><td>1</td><td>99</td></tr>\n",
       "\t<tr><th scope=row>4</th><td>1</td><td>96</td></tr>\n",
       "\t<tr><th scope=row>5</th><td>2</td><td>91</td></tr>\n",
       "\t<tr><th scope=row>6</th><td>2</td><td>90</td></tr>\n",
       "</tbody>\n",
       "</table>\n"
      ],
      "text/latex": [
       "A data.frame: 6 × 2\n",
       "\\begin{tabular}{r|ll}\n",
       "  & Telar & Resistencia\\\\\n",
       "  & <int> & <int>\\\\\n",
       "\\hline\n",
       "\t1 & 1 & 98\\\\\n",
       "\t2 & 1 & 97\\\\\n",
       "\t3 & 1 & 99\\\\\n",
       "\t4 & 1 & 96\\\\\n",
       "\t5 & 2 & 91\\\\\n",
       "\t6 & 2 & 90\\\\\n",
       "\\end{tabular}\n"
      ],
      "text/markdown": [
       "\n",
       "A data.frame: 6 × 2\n",
       "\n",
       "| <!--/--> | Telar &lt;int&gt; | Resistencia &lt;int&gt; |\n",
       "|---|---|---|\n",
       "| 1 | 1 | 98 |\n",
       "| 2 | 1 | 97 |\n",
       "| 3 | 1 | 99 |\n",
       "| 4 | 1 | 96 |\n",
       "| 5 | 2 | 91 |\n",
       "| 6 | 2 | 90 |\n",
       "\n"
      ],
      "text/plain": [
       "  Telar Resistencia\n",
       "1 1     98         \n",
       "2 1     97         \n",
       "3 1     99         \n",
       "4 1     96         \n",
       "5 2     91         \n",
       "6 2     90         "
      ]
     },
     "metadata": {
      "tags": []
     },
     "output_type": "display_data"
    }
   ],
   "source": [
    "#Conjunto de datos\n",
    "Input2 = (\" Telar Resistencia\n",
    "'1'  98\n",
    "'1'  97\n",
    "'1'  99\n",
    "'1'  96\n",
    "'2'  91\n",
    "'2'  90\n",
    "'2'  93\n",
    "'2'  92\n",
    "'3'  96\n",
    "'3'  95\n",
    "'3'  97\n",
    "'3'  95\n",
    "'4'  95\n",
    "'4'  96\n",
    "'4'  99\n",
    "'4'  98\n",
    "\")\n",
    "\n",
    "datos2<-read.table(textConnection(Input2),header=TRUE)\n",
    "head(datos2)"
   ]
  },
  {
   "cell_type": "code",
   "execution_count": null,
   "metadata": {
    "colab": {
     "base_uri": "https://localhost:8080/",
     "height": 437
    },
    "colab_type": "code",
    "id": "j1Bzpl7K3oUy",
    "outputId": "40131c89-1634-46c3-a3dd-e9ceb72d3e3f"
   },
   "outputs": [
    {
     "data": {
      "image/png": "[encoded data removed]",
      "text/plain": [
       "plot without title"
      ]
     },
     "metadata": {
      "image/png": {
       "height": 420,
       "width": 420
      },
      "tags": []
     },
     "output_type": "display_data"
    }
   ],
   "source": [
    "#Gráfica\n",
    "datos2$Telar<-factor(datos2$Telar)\n",
    "with(datos2, plot(Telar,Resistencia))"
   ]
  },
  {
   "cell_type": "markdown",
   "metadata": {
    "colab_type": "text",
    "id": "r-hQgsTv3oU3"
   },
   "source": [
    "En la gráfica podemos observar que los telares 1 y 2 presentan una dispersión homogénea, lo que en un primer momento nos podría indicar de que las varianzas entre ellos son iguales. Por otro lado, notamos que el telar 4 cuenta con una alta dispersión. A continuación, nos apoyamos en el análisis de la varianza:"
   ]
  },
  {
   "cell_type": "code",
   "execution_count": null,
   "metadata": {
    "colab": {
     "base_uri": "https://localhost:8080/",
     "height": 357
    },
    "colab_type": "code",
    "id": "k_DHVIZR3oU4",
    "outputId": "232500f5-2d3a-472a-806d-127c1615a52a"
   },
   "outputs": [
    {
     "data": {
      "text/plain": [
       "\n",
       "Call:\n",
       "lm(formula = Resistencia ~ Telar, data = datos2)\n",
       "\n",
       "Residuals:\n",
       "    Min      1Q  Median      3Q     Max \n",
       "-2.0000 -0.8125 -0.1250  1.0625  2.0000 \n",
       "\n",
       "Coefficients:\n",
       "            Estimate Std. Error t value Pr(>|t|)    \n",
       "(Intercept)  97.5000     0.6884 141.623  < 2e-16 ***\n",
       "Telar2       -6.0000     0.9736  -6.163 4.85e-05 ***\n",
       "Telar3       -1.7500     0.9736  -1.797   0.0975 .  \n",
       "Telar4       -0.5000     0.9736  -0.514   0.6169    \n",
       "---\n",
       "Signif. codes:  0 ‘***’ 0.001 ‘**’ 0.01 ‘*’ 0.05 ‘.’ 0.1 ‘ ’ 1\n",
       "\n",
       "Residual standard error: 1.377 on 12 degrees of freedom\n",
       "Multiple R-squared:  0.7968,\tAdjusted R-squared:  0.746 \n",
       "F-statistic: 15.68 on 3 and 12 DF,  p-value: 0.0001878\n"
      ]
     },
     "metadata": {
      "tags": []
     },
     "output_type": "display_data"
    }
   ],
   "source": [
    "m.aov2<-lm(Resistencia~Telar,data=datos2)\n",
    "summary(m.aov2)"
   ]
  },
  {
   "cell_type": "markdown",
   "metadata": {
    "colab_type": "text",
    "id": "1rM1JT_a3oU9"
   },
   "source": [
    "Podemos observar que el p-valor > 0, lo que refutaría la hipótesis nula de la varianza siendo 0. Podemos estimar la varianza de las resistencias y qué proporción de esta puede atribuirse a la diferencia de los telares."
   ]
  },
  {
   "cell_type": "code",
   "execution_count": null,
   "metadata": {
    "colab": {
     "base_uri": "https://localhost:8080/",
     "height": 102
    },
    "colab_type": "code",
    "id": "EVxAAtgg3oU7",
    "outputId": "9fa9615f-c81a-4068-bb47-33ebbdb9f75f"
   },
   "outputs": [
    {
     "data": {
      "text/plain": [
       "            Df Sum Sq Mean Sq F value   Pr(>F)    \n",
       "Telar        3  89.19  29.729   15.68 0.000188 ***\n",
       "Residuals   12  22.75   1.896                     \n",
       "---\n",
       "Signif. codes:  0 ‘***’ 0.001 ‘**’ 0.01 ‘*’ 0.05 ‘.’ 0.1 ‘ ’ 1"
      ]
     },
     "metadata": {
      "tags": []
     },
     "output_type": "display_data"
    }
   ],
   "source": [
    "# La ANOVA en detalle\n",
    "aov.m2<-aov(m.aov2)\n",
    "summary(aov.m2)"
   ]
  },
  {
   "cell_type": "markdown",
   "metadata": {
    "colab_type": "text",
    "id": "rhlQGbUv3oU-"
   },
   "source": [
    "Analizando lo anterior y teniendo en cuenta que para un modelo de efectos aleatorios\n",
    "\n",
    "\\begin{equation}\n",
    "Var_{(Y_{ij})} = \\sigma² + \\sigma²_{\\tau}\n",
    "\\end{equation}\n",
    "\n",
    "tenemos que un estimado de $\\sigma²$ es $MS_{Error}$ = 1.896, y un estimador de $\\sigma² + 4\\sigma²_{\\tau}$ es $MS_{Tratamientos}$ = 29.729. En otras palabras,\n",
    "\n",
    "\\begin{equation}\n",
    "1.896 + 4\\sigma²_{\\tau} = 29.729\n",
    "\\end{equation}\n",
    "\n",
    "\\begin{equation}\n",
    "\\sigma²_{\\tau} = \\frac{29.729-1.896}{4} = 6.95825\n",
    "\\end{equation}\n",
    "\n",
    "Entonces un estimador de la varianza en las resistencias es\n",
    "\n",
    "\\begin{equation}\n",
    "Var_{(Y_{ij})} = 1.896 + 6.95825 = 8.85425\n",
    "\\end{equation}\n",
    "\n",
    "de la cual el \n",
    "\\begin{equation}\n",
    "6.95825/8.85425 = 78.586\\%\n",
    "\\end{equation}\n",
    "\n",
    "se debe a diferencias entre los telares.\n",
    "\n",
    "En conclusión, este análisis nos indica que la mayor parte de la variabilidad se debe a diferencias entre telares. Si el ingeniero logra disminuir la variabilidad entre telares la producción de telas sería más homogénea."
   ]
  },
  {
   "cell_type": "markdown",
   "metadata": {
    "colab_type": "text",
    "id": "-sL2QbEI3oU-"
   },
   "source": [
    "### Diseño por bloques - Factores\n",
    "Supongamos que queremos determinar si cinco laboratorios miden la misma resistencia característica del hormigón a compresión. Para ello se han considerado 4 amasadas diferentes que han sido analizadas por cada uno de los laboratorios. A los 28 días, se han roto las probetas a compresión simple y los resultados son los que hemos recogido en la tabla que sigue.\n",
    "\n",
    "| T\\B| Ams1 | Ams2 | Ams3   | Ams4 |\n",
    "|----|------|------|------|------|\n",
    "| L1 | 63.5 | 62.3 | 62.3 | 65.6|\n",
    "| L2 | 64.1 | 63.0 | 63.0 | 64.2|\n",
    "| L3 | 65.9 | 63.9 | 63.9 | 66.0|\n",
    "| L4 | 64.9 | 64.1 | 64.1 | 65.9|\n",
    "| L5 | 64.5 | 63.5 | 63.7 | 65.7|\n"
   ]
  },
  {
   "cell_type": "code",
   "execution_count": null,
   "metadata": {
    "colab": {},
    "colab_type": "code",
    "id": "HBTaBWhD3oU_",
    "outputId": "349270be-146d-4537-b719-51087e8654c3"
   },
   "outputs": [
    {
     "data": {
      "text/html": [
       "<table>\n",
       "<thead><tr><th scope=col>Factor</th><th scope=col>Bloque</th><th scope=col>Resistencia</th></tr></thead>\n",
       "<tbody>\n",
       "\t<tr><td>L1  </td><td>Ams1</td><td>63.5</td></tr>\n",
       "\t<tr><td>L1  </td><td>Ams2</td><td>62.3</td></tr>\n",
       "\t<tr><td>L1  </td><td>Ams3</td><td>62.3</td></tr>\n",
       "\t<tr><td>L1  </td><td>Ams4</td><td>65.6</td></tr>\n",
       "\t<tr><td>L2  </td><td>Ams1</td><td>64.1</td></tr>\n",
       "\t<tr><td>L2  </td><td>Ams2</td><td>63.0</td></tr>\n",
       "</tbody>\n",
       "</table>\n"
      ],
      "text/latex": [
       "\\begin{tabular}{r|lll}\n",
       " Factor & Bloque & Resistencia\\\\\n",
       "\\hline\n",
       "\t L1   & Ams1 & 63.5\\\\\n",
       "\t L1   & Ams2 & 62.3\\\\\n",
       "\t L1   & Ams3 & 62.3\\\\\n",
       "\t L1   & Ams4 & 65.6\\\\\n",
       "\t L2   & Ams1 & 64.1\\\\\n",
       "\t L2   & Ams2 & 63.0\\\\\n",
       "\\end{tabular}\n"
      ],
      "text/markdown": [
       "\n",
       "| Factor | Bloque | Resistencia |\n",
       "|---|---|---|\n",
       "| L1   | Ams1 | 63.5 |\n",
       "| L1   | Ams2 | 62.3 |\n",
       "| L1   | Ams3 | 62.3 |\n",
       "| L1   | Ams4 | 65.6 |\n",
       "| L2   | Ams1 | 64.1 |\n",
       "| L2   | Ams2 | 63.0 |\n",
       "\n"
      ],
      "text/plain": [
       "  Factor Bloque Resistencia\n",
       "1 L1     Ams1   63.5       \n",
       "2 L1     Ams2   62.3       \n",
       "3 L1     Ams3   62.3       \n",
       "4 L1     Ams4   65.6       \n",
       "5 L2     Ams1   64.1       \n",
       "6 L2     Ams2   63.0       "
      ]
     },
     "metadata": {
      "tags": []
     },
     "output_type": "display_data"
    }
   ],
   "source": [
    "#Conjunto de datos\n",
    "Input3 = (\" Factor Bloque Resistencia\n",
    "'L1'  Ams1 63.5\n",
    "'L1'  Ams2 62.3\n",
    "'L1'  Ams3 62.3\n",
    "'L1'  Ams4 65.6\n",
    "'L2'  Ams1 64.1\n",
    "'L2'  Ams2 63.0\n",
    "'L2'  Ams3 63.0\n",
    "'L2'  Ams4 64.2\n",
    "'L3'  Ams1 65.9\n",
    "'L3'  Ams2 63.9\n",
    "'L3'  Ams3 63.9\n",
    "'L3'  Ams4 66.0\n",
    "'L4'  Ams1 64.9\n",
    "'L4'  Ams2 64.1\n",
    "'L4'  Ams3 64.1\n",
    "'L4'  Ams4 65.9\n",
    "'L5'  Ams1 64.5\n",
    "'L5'  Ams2 63.5\n",
    "'L5'  Ams3 63.7\n",
    "'L5'  Ams4 65.7\n",
    "\")\n",
    "\n",
    "datos3<-read.table(textConnection(Input3),header=TRUE)\n",
    "head(datos3)"
   ]
  },
  {
   "cell_type": "code",
   "execution_count": null,
   "metadata": {
    "colab": {},
    "colab_type": "code",
    "id": "xaY0vyc13oVB",
    "outputId": "2a999a03-d7fb-4239-c649-86de852bc9b3"
   },
   "outputs": [
    {
     "data": {
      "text/plain": [
       "            Df Sum Sq Mean Sq F value   Pr(>F)    \n",
       "Factor       4  7.367   1.842   9.441  0.00109 ** \n",
       "Bloque       3 15.642   5.214  26.726 1.35e-05 ***\n",
       "Residuals   12  2.341   0.195                     \n",
       "---\n",
       "Signif. codes:  0 '***' 0.001 '**' 0.01 '*' 0.05 '.' 0.1 ' ' 1"
      ]
     },
     "metadata": {
      "tags": []
     },
     "output_type": "display_data"
    }
   ],
   "source": [
    "# Hacemos la prueba\n",
    "test<-aov(Resistencia~Factor+Bloque,data=datos3)\n",
    "summary(test)"
   ]
  },
  {
   "cell_type": "markdown",
   "metadata": {
    "colab_type": "text",
    "id": "EQD3q70O3oVE"
   },
   "source": [
    "Desde aquí podemos ver claramente gracias al p-valor que las diferencias significativas se deben al factor y no al bloque."
   ]
  },
  {
   "cell_type": "code",
   "execution_count": null,
   "metadata": {
    "colab": {},
    "colab_type": "code",
    "id": "5ayiW23K3oVE",
    "outputId": "90536fc7-768f-451b-abcb-e7114517f622"
   },
   "outputs": [
    {
     "data": {
      "text/plain": [
       "\n",
       "Call:\n",
       "lm(formula = Resistencia ~ Factor + Bloque, data = datos3)\n",
       "\n",
       "Residuals:\n",
       "   Min     1Q Median     3Q    Max \n",
       "-0.650 -0.225 -0.065  0.165  0.900 \n",
       "\n",
       "Coefficients:\n",
       "            Estimate Std. Error t value Pr(>|t|)    \n",
       "(Intercept)  63.8000     0.2793 228.392  < 2e-16 ***\n",
       "FactorL2      0.1500     0.3123   0.480 0.639663    \n",
       "FactorL3      1.5000     0.3123   4.803 0.000431 ***\n",
       "FactorL4      1.3250     0.3123   4.242 0.001142 ** \n",
       "FactorL5      0.9250     0.3123   2.962 0.011882 *  \n",
       "BloqueAms2   -1.2200     0.2793  -4.367 0.000916 ***\n",
       "BloqueAms3   -1.1800     0.2793  -4.224 0.001180 ** \n",
       "BloqueAms4    0.9000     0.2793   3.222 0.007330 ** \n",
       "---\n",
       "Signif. codes:  0 '***' 0.001 '**' 0.01 '*' 0.05 '.' 0.1 ' ' 1\n",
       "\n",
       "Residual standard error: 0.4417 on 12 degrees of freedom\n",
       "Multiple R-squared:  0.9077,\tAdjusted R-squared:  0.8538 \n",
       "F-statistic: 16.85 on 7 and 12 DF,  p-value: 2.517e-05\n"
      ]
     },
     "metadata": {
      "tags": []
     },
     "output_type": "display_data"
    }
   ],
   "source": [
    "# El modelo\n",
    "summary(lm(Resistencia~Factor+Bloque,data=datos3))"
   ]
  },
  {
   "cell_type": "markdown",
   "metadata": {
    "colab_type": "text",
    "id": "BURV1gSV3oVH"
   },
   "source": [
    "En este caso el intercepto se hace con el laboratorio 1. Vemos que las diferencias más significativas en la resistencia son con los laboratorios 3 y 4.\n"
   ]
  },
  {
   "cell_type": "code",
   "execution_count": null,
   "metadata": {
    "colab": {},
    "colab_type": "code",
    "id": "szZdkVzI3oVH",
    "outputId": "e0ee49ff-e449-45e2-ce76-1caa408407b6"
   },
   "outputs": [
    {
     "data": {
      "image/png": "[encoded data removed]",
      "text/plain": [
       "plot without title"
      ]
     },
     "metadata": {
      "tags": []
     },
     "output_type": "display_data"
    }
   ],
   "source": [
    "# Hay algo que debemos procurar mirar, la interacción\n",
    "interaction.plot(datos3$Factor,datos3$Bloque,datos3$Resistencia,type=\"b\",col=c(2:4))"
   ]
  },
  {
   "cell_type": "markdown",
   "metadata": {
    "colab_type": "text",
    "id": "w4shKiIF3oVL"
   },
   "source": [
    "En la gráfica no podemos observar de forma clara puntos de convergencia que indiquen una interacción entre los factores y los bloques."
   ]
  },
  {
   "cell_type": "code",
   "execution_count": null,
   "metadata": {
    "colab": {},
    "colab_type": "code",
    "id": "bKmZwyke3oVL",
    "outputId": "650fc0c0-d32f-43fd-a2a9-f8798c97bc5c"
   },
   "outputs": [
    {
     "data": {
      "text/plain": [
       "\n",
       "Call:\n",
       "lm(formula = Resistencia ~ Factor:Bloque, data = datos3)\n",
       "\n",
       "Residuals:\n",
       "ALL 20 residuals are 0: no residual degrees of freedom!\n",
       "\n",
       "Coefficients: (1 not defined because of singularities)\n",
       "                    Estimate Std. Error t value Pr(>|t|)\n",
       "(Intercept)             65.7         NA      NA       NA\n",
       "FactorL1:BloqueAms1     -2.2         NA      NA       NA\n",
       "FactorL2:BloqueAms1     -1.6         NA      NA       NA\n",
       "FactorL3:BloqueAms1      0.2         NA      NA       NA\n",
       "FactorL4:BloqueAms1     -0.8         NA      NA       NA\n",
       "FactorL5:BloqueAms1     -1.2         NA      NA       NA\n",
       "FactorL1:BloqueAms2     -3.4         NA      NA       NA\n",
       "FactorL2:BloqueAms2     -2.7         NA      NA       NA\n",
       "FactorL3:BloqueAms2     -1.8         NA      NA       NA\n",
       "FactorL4:BloqueAms2     -1.6         NA      NA       NA\n",
       "FactorL5:BloqueAms2     -2.2         NA      NA       NA\n",
       "FactorL1:BloqueAms3     -3.4         NA      NA       NA\n",
       "FactorL2:BloqueAms3     -2.7         NA      NA       NA\n",
       "FactorL3:BloqueAms3     -1.8         NA      NA       NA\n",
       "FactorL4:BloqueAms3     -1.6         NA      NA       NA\n",
       "FactorL5:BloqueAms3     -2.0         NA      NA       NA\n",
       "FactorL1:BloqueAms4     -0.1         NA      NA       NA\n",
       "FactorL2:BloqueAms4     -1.5         NA      NA       NA\n",
       "FactorL3:BloqueAms4      0.3         NA      NA       NA\n",
       "FactorL4:BloqueAms4      0.2         NA      NA       NA\n",
       "FactorL5:BloqueAms4       NA         NA      NA       NA\n",
       "\n",
       "Residual standard error: NaN on 0 degrees of freedom\n",
       "Multiple R-squared:      1,\tAdjusted R-squared:    NaN \n",
       "F-statistic:   NaN on 19 and 0 DF,  p-value: NA\n"
      ]
     },
     "metadata": {
      "tags": []
     },
     "output_type": "display_data"
    }
   ],
   "source": [
    "summary(lm(Resistencia~Factor:Bloque,data=datos3))"
   ]
  },
  {
   "cell_type": "markdown",
   "metadata": {
    "colab_type": "text",
    "id": "G_VPfnGM3oVN"
   },
   "source": [
    "Los valores perdidos del modelo reafirman la falta de interacción entre los factores y los bloques."
   ]
  },
  {
   "cell_type": "markdown",
   "metadata": {
    "colab_type": "text",
    "id": "FtMlE14Z3oVO"
   },
   "source": [
    "### Cuadrado Latino\n",
    "\n",
    "Un ingeniero industrial está investigando el efecto de cuatro métodos de ensamblaje (A, B, C, D) en el tiempo de montaje de componentes de televisiones en color. Se han seleccionado cuatro operarios. Por otro lardo, el ingeniero sabe que cada método de ensamblaje produce fatiga, de manera que el tiempo requerido para el último montaje es mayor que el tiempo requerido para el primero. Para contemplar esta fuente de variabilidad, el ingeniero usa un diseño de cuadrados latinos:\n",
    "\n",
    "                \n",
    "| Orden de Montaje | OP1  | OP2  | OP3  | OP4  |\n",
    "|----------|----|----|----|----|\n",
    "| 1        | C  | D  | A  | B  |\n",
    "| _        | 10 | 14 | 7 | 8 |\n",
    "| 2        | B  | C  | D  | A  |\n",
    "| _        | 7 | 18 | 11 | 8 |\n",
    "| 3        | A  | B  | C  | D  |\n",
    "| _        | 5 | 10 | 11 | 9 |\n",
    "| 4        | D  | A  | B  | C  |\n",
    "| _        | 10 | 10 | 12 | 14 |"
   ]
  },
  {
   "cell_type": "code",
   "execution_count": null,
   "metadata": {
    "colab": {},
    "colab_type": "code",
    "id": "yFzuRo0a3oVO",
    "outputId": "d26d3c50-0d1c-45e4-fc7a-8cd1180843e2"
   },
   "outputs": [
    {
     "data": {
      "text/html": [
       "<table>\n",
       "<thead><tr><th scope=col>Metodo</th><th scope=col>Orden</th><th scope=col>Operario</th><th scope=col>Respuesta</th></tr></thead>\n",
       "<tbody>\n",
       "\t<tr><td>C </td><td>1 </td><td>1 </td><td>10</td></tr>\n",
       "\t<tr><td>D </td><td>1 </td><td>2 </td><td>14</td></tr>\n",
       "\t<tr><td>A </td><td>1 </td><td>3 </td><td> 7</td></tr>\n",
       "\t<tr><td>B </td><td>1 </td><td>4 </td><td> 8</td></tr>\n",
       "\t<tr><td>B </td><td>2 </td><td>1 </td><td> 7</td></tr>\n",
       "\t<tr><td>C </td><td>2 </td><td>2 </td><td>18</td></tr>\n",
       "</tbody>\n",
       "</table>\n"
      ],
      "text/latex": [
       "\\begin{tabular}{r|llll}\n",
       " Metodo & Orden & Operario & Respuesta\\\\\n",
       "\\hline\n",
       "\t C  & 1  & 1  & 10\\\\\n",
       "\t D  & 1  & 2  & 14\\\\\n",
       "\t A  & 1  & 3  &  7\\\\\n",
       "\t B  & 1  & 4  &  8\\\\\n",
       "\t B  & 2  & 1  &  7\\\\\n",
       "\t C  & 2  & 2  & 18\\\\\n",
       "\\end{tabular}\n"
      ],
      "text/markdown": [
       "\n",
       "| Metodo | Orden | Operario | Respuesta |\n",
       "|---|---|---|---|\n",
       "| C  | 1  | 1  | 10 |\n",
       "| D  | 1  | 2  | 14 |\n",
       "| A  | 1  | 3  |  7 |\n",
       "| B  | 1  | 4  |  8 |\n",
       "| B  | 2  | 1  |  7 |\n",
       "| C  | 2  | 2  | 18 |\n",
       "\n"
      ],
      "text/plain": [
       "  Metodo Orden Operario Respuesta\n",
       "1 C      1     1        10       \n",
       "2 D      1     2        14       \n",
       "3 A      1     3         7       \n",
       "4 B      1     4         8       \n",
       "5 B      2     1         7       \n",
       "6 C      2     2        18       "
      ]
     },
     "metadata": {
      "tags": []
     },
     "output_type": "display_data"
    }
   ],
   "source": [
    "#Conjunto de datos\n",
    "Input4 = (\" Metodo Orden Operario Respuesta\n",
    "'C'  1 1 10\n",
    "'D'  1 2 14\n",
    "'A'  1 3 7\n",
    "'B'  1 4 8\n",
    "'B'  2 1 7\n",
    "'C'  2 2 18\n",
    "'D'  2 3 11\n",
    "'A'  2 4 8\n",
    "'A'  3 1 5\n",
    "'B'  3 2 10\n",
    "'C'  3 3 11\n",
    "'D'  3 4 9\n",
    "'D'  4 1 10\n",
    "'A'  4 2 10\n",
    "'B'  4 3 12\n",
    "'C'  4 4 14\n",
    "\")\n",
    "\n",
    "read.table(textConnection(Input4),header=TRUE)->datos4\n",
    "head(datos4)"
   ]
  },
  {
   "cell_type": "markdown",
   "metadata": {
    "colab_type": "text",
    "id": "xzv2k4FQ3oVQ"
   },
   "source": [
    "Cuando hay n factores en el modelo, es difícil identificar a simple vista en una tabla nxn cuáles factores podrían proporcionar diferencias estadísticamente significativas. Por lo tanto, procederemos a hacer el análisis con los modelos usados anteriormente."
   ]
  },
  {
   "cell_type": "code",
   "execution_count": null,
   "metadata": {
    "colab": {},
    "colab_type": "code",
    "id": "j-Gc_9RI3oVR"
   },
   "outputs": [],
   "source": [
    "# Convertimos en factor Operario y Orden\n",
    "attach(datos4)\n",
    "Operario<-as.factor(Operario)\n",
    "Orden<-as.factor(Orden)"
   ]
  },
  {
   "cell_type": "code",
   "execution_count": null,
   "metadata": {
    "colab": {},
    "colab_type": "code",
    "id": "OEYCFY_k3oVT",
    "outputId": "00805ea5-f8aa-4fc3-bba4-2186a04ae204"
   },
   "outputs": [
    {
     "data": {
      "text/plain": [
       "            Df Sum Sq Mean Sq F value  Pr(>F)   \n",
       "Operario     3   51.5  17.167   9.810 0.00993 **\n",
       "Orden        3   18.5   6.167   3.524 0.08852 . \n",
       "Metodo       3   72.5  24.167  13.810 0.00421 **\n",
       "Residuals    6   10.5   1.750                   \n",
       "---\n",
       "Signif. codes:  0 '***' 0.001 '**' 0.01 '*' 0.05 '.' 0.1 ' ' 1"
      ]
     },
     "metadata": {
      "tags": []
     },
     "output_type": "display_data"
    }
   ],
   "source": [
    "# Modelo anova\n",
    "model4<-aov(Respuesta~Operario+Orden+Metodo)\n",
    "summary(model4)"
   ]
  },
  {
   "cell_type": "markdown",
   "metadata": {
    "colab_type": "text",
    "id": "ifKgN-1q3oVV"
   },
   "source": [
    "Podemos observar gracias al p-valor que el Orden es el único factor que no influye significativamente en la variación del desempeño de los tests. Para reforzar la hipótesis, podemos analizar las medias de cada factor."
   ]
  },
  {
   "cell_type": "code",
   "execution_count": null,
   "metadata": {
    "colab": {},
    "colab_type": "code",
    "id": "lfqNep7z3oVW",
    "outputId": "bd7db8eb-2ff0-456e-c85e-f310e6e6b037"
   },
   "outputs": [
    {
     "data": {
      "text/plain": [
       "Tables of means\n",
       "Grand mean\n",
       "      \n",
       "10.25 \n",
       "\n",
       " Operario \n",
       "Operario\n",
       "    1     2     3     4 \n",
       " 8.00 13.00 10.25  9.75 \n",
       "\n",
       " Orden \n",
       "Orden\n",
       "    1     2     3     4 \n",
       " 9.75 11.00  8.75 11.50 \n",
       "\n",
       " Metodo \n",
       "Metodo\n",
       "    A     B     C     D \n",
       " 7.50  9.25 13.25 11.00 "
      ]
     },
     "metadata": {
      "tags": []
     },
     "output_type": "display_data"
    }
   ],
   "source": [
    "# Las tablas de medias\n",
    "model.tables(model4, \"mean\")"
   ]
  },
  {
   "cell_type": "markdown",
   "metadata": {
    "colab_type": "text",
    "id": "swhHbBfl3oVY"
   },
   "source": [
    "Las medias de Orden son mucho mas homogeneas que las de Metodo y Operario por lo tanto estos dos ultimos representan mayor variacion en los valores de desempeño"
   ]
  },
  {
   "cell_type": "code",
   "execution_count": null,
   "metadata": {
    "colab": {},
    "colab_type": "code",
    "id": "zZvlPkW-3oVY",
    "outputId": "46dcd8c6-d456-47d6-86c1-f1767db99ac9"
   },
   "outputs": [
    {
     "data": {
      "text/plain": [
       "  Tukey multiple comparisons of means\n",
       "    95% family-wise confidence level\n",
       "\n",
       "Fit: aov(formula = Respuesta ~ Operario + Orden + Metodo)\n",
       "\n",
       "$Operario\n",
       "     diff        lwr         upr     p adj\n",
       "2-1  5.00  1.7618655  8.23813449 0.0070204\n",
       "3-1  2.25 -0.9881345  5.48813449 0.1761447\n",
       "4-1  1.75 -1.4881345  4.98813449 0.3304308\n",
       "3-2 -2.75 -5.9881345  0.48813449 0.0924529\n",
       "4-2 -3.25 -6.4881345 -0.01186551 0.0492740\n",
       "4-3 -0.50 -3.7381345  2.73813449 0.9474067\n",
       "\n",
       "$Orden\n",
       "     diff        lwr       upr     p adj\n",
       "2-1  1.25 -1.9881345 4.4881345 0.5756823\n",
       "3-1 -1.00 -4.2381345 2.2381345 0.7191024\n",
       "4-1  1.75 -1.4881345 4.9881345 0.3304308\n",
       "3-2 -2.25 -5.4881345 0.9881345 0.1761447\n",
       "4-2  0.50 -2.7381345 3.7381345 0.9474067\n",
       "4-3  2.75 -0.4881345 5.9881345 0.0924529\n",
       "\n",
       "$Metodo\n",
       "     diff        lwr       upr     p adj\n",
       "B-A  1.75 -1.4881345 4.9881345 0.3304308\n",
       "C-A  5.75  2.5118655 8.9881345 0.0034505\n",
       "D-A  3.50  0.2618655 6.7381345 0.0363534\n",
       "C-B  4.00  0.7618655 7.2381345 0.0202927\n",
       "D-B  1.75 -1.4881345 4.9881345 0.3304308\n",
       "D-C -2.25 -5.4881345 0.9881345 0.1761447\n"
      ]
     },
     "metadata": {
      "tags": []
     },
     "output_type": "display_data"
    }
   ],
   "source": [
    "# La prueba de Tukey\n",
    "TukeyHSD(model4)"
   ]
  },
  {
   "cell_type": "markdown",
   "metadata": {
    "colab_type": "text",
    "id": "ojTJpk733oVb"
   },
   "source": [
    "Por último vemos en la prueba de Tukey que los factores con p-valores menores a 0.05 son Operario y Metodo. Debido a esto, podemos asumir que estos factores tienen un efecto estadísticamente significativo en el desempeño de los tests."
   ]
  },
  {
   "cell_type": "code",
   "execution_count": null,
   "metadata": {
    "colab": {},
    "colab_type": "code",
    "id": "b3dhRUj23oVb",
    "outputId": "a42ca172-1f8a-4ef8-dfd8-955ba1762bf3"
   },
   "outputs": [
    {
     "data": {
      "image/png": "[encoded data removed]",
      "text/plain": [
       "Plot with title \"95% family-wise confidence level\n",
       "\""
      ]
     },
     "metadata": {
      "tags": []
     },
     "output_type": "display_data"
    },
    {
     "data": {
      "image/png": "[encoded data removed]",
      "text/plain": [
       "Plot with title \"95% family-wise confidence level\n",
       "\""
      ]
     },
     "metadata": {
      "tags": []
     },
     "output_type": "display_data"
    },
    {
     "data": {
      "image/png": "[encoded data removed]",
      "text/plain": [
       "Plot with title \"95% family-wise confidence level\n",
       "\""
      ]
     },
     "metadata": {
      "tags": []
     },
     "output_type": "display_data"
    }
   ],
   "source": [
    "#Gráfica de medias\n",
    "plot(TukeyHSD(model4))"
   ]
  },
  {
   "cell_type": "markdown",
   "metadata": {
    "colab_type": "text",
    "id": "t9kORFXD3oVe"
   },
   "source": [
    "Estos mismos resultados se pueden observar en la gráfica de las medias de una manera más sencilla ,en la cual solo el par de Operario 2-1 no es interceptado por la línea. De igual forma, los pares de Metodo C-A, D-A y C-B tampoco son interceptados."
   ]
  }
 ],
 "metadata": {
  "colab": {
   "collapsed_sections": [
    "MTakekWvLiyn"
   ],
   "name": "Taller 3.ipynb",
   "provenance": []
  },
  "kernelspec": {
   "display_name": "R",
   "language": "R",
   "name": "ir"
  },
  "language_info": {
   "codemirror_mode": "r",
   "file_extension": ".r",
   "mimetype": "text/x-r-source",
   "name": "R",
   "pygments_lexer": "r",
   "version": "3.6.1"
  }
 },
 "nbformat": 4,
 "nbformat_minor": 4
}
