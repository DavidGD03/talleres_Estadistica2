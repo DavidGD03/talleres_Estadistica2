{
 "cells": [
  {
   "cell_type": "markdown",
   "metadata": {},
   "source": [
    "# ESTADÍSTICA II"
   ]
  },
  {
   "cell_type": "markdown",
   "metadata": {},
   "source": [
    "## TRABAJO MUESTREO - INTERFERENCIA"
   ]
  },
  {
   "cell_type": "markdown",
   "metadata": {},
   "source": [
    "### Integrantes:\n",
    "* Christian Ruiz Lagos\n",
    "* Nicolás Galván\n",
    "* David Rojas"
   ]
  },
  {
   "cell_type": "markdown",
   "metadata": {},
   "source": [
    " En los siguientes enlaces encontrará los datos relacionados con los resultados de las pruebas de estado para las Instituciones de Educación Superior (IES) colombianas de carácter universitario de los últimos tres (3) años:\n",
    "\n",
    "https://www.dropbox.com/s/xgsf3l5gjw0h0q4/saberpro.RData?dl=1\n",
    "\n",
    "Considere estos datos como una población finita. Las variables que componen la tabla son:\n",
    "\n",
    "- **periodo:** año de realización de la prueba. La variable se presenta fragmentada debido al origen de los datos. Requiere agruparse adecuadamente. Para ello, consulte la función revalue y describa, brevemente, su funcionamiento.\n",
    "- **apli_consecutivo:** consecutivo asignado al estudiante en el momento de presentar la prueba. Único por estudiante. \n",
    "- **estu_depto_reside:** departamento de residencia del estudiante.\n",
    "- **estu_cod_reside_depto:** código DANE del departamento de residencia del estudiante.\n",
    "- **inst_cod_institucion:** código de la IES ante el ministerio. Único por Institución.\n",
    "- **inst_nombre_institucion:** Nombre de la Institución. Algunas presentan sedes y subsedes.\n",
    "- **raz_cuant_punt:** Puntaje Razonamiento Cuantitativo.\n",
    "- **raz_cuant_des:** Nivel de Desempeño Razonamiento Cuantitativo (categórica).\n",
    "- **lect_crit_punt:** Puntaje Lectura Crítica.\n",
    "- **lect_crit_des:** Nivel de Desempeño Lectura Crítica (categórica).\n",
    "- **comp_ciud_punt:** Puntaje Competencias Ciudadanas.\n",
    "- **comp_ciud_des:** Nivel de Desempeño Competencias Ciudadanas (categórica).\n",
    "- **ingles_punt:** Puntaje Inglés.\n",
    "- **ingles_desem:** Nivel de Desempeño en Inglés (categórica).\n",
    "- **comu_escr_punt:** Puntaje Comunicación Escrita.\n",
    "- **comu_escr_des:** Nivel de Desempeño Comunicación Escrita (categórica).\n",
    "\n",
    "Tenga en cuenta que algunas variables categóricas figuran como numéricas, haga la correspondiente transformación.\n",
    "\n",
    "Los puntos a desarrollar son:\n",
    "\n",
    "1. Realice muestreo aleatorio simple y realice las estimaciones (inferencia) correspondientes. Tenga en cuenta que son múltiples variables\n",
    "2. Realice los correspondientes muestreos estratificados y compare los resultados con los anteriores. Explique las diferencias y/o similitudes\n",
    "3. Realice los correspondientes muestreos por conglomerados y compare los resultados con los puntos 1 y 2. Explique las diferencias y/o similitudes\n",
    "4. ¿Considera que es procedente realizar un muestreo sistemático? Argumente su respuesta\n",
    "5. Si la respuesta del punto 4 fue positiva, realice el correspondiente muestreo y compare con los anteriores\n",
    "6. Para las estimaciones emplee los siguientes niveles de confianza: 90%, 95% y 99%.\n",
    "\n",
    "El trabajo puede entregarse en formato PDF o como notebook de jupyter\n",
    "\n",
    "**Recomendaciones:**\n",
    "\n",
    "- Procure tabular de manera adecuada las estimaciones para optimizar espacio\n",
    "- Evite extenderse en las explicaciones\n",
    "- Trate de optimizar el uso de gráficas (visite el siguiente repositorio si desea una guía: https://github.com/karlosmantilla/graficas-basicas-descriptivas-\n",
    "- Referencie las fórmulas empleadas en los cálculos"
   ]
  },
  {
   "cell_type": "code",
   "execution_count": 1,
   "metadata": {},
   "outputs": [
    {
     "name": "stderr",
     "output_type": "stream",
     "text": [
      "Warning message:\n",
      "\"package 'samplingbook' was built under R version 3.6.3\"Loading required package: pps\n",
      "Loading required package: sampling\n",
      "Warning message:\n",
      "\"package 'sampling' was built under R version 3.6.3\"Loading required package: survey\n",
      "Warning message:\n",
      "\"package 'survey' was built under R version 3.6.3\"Loading required package: grid\n",
      "Loading required package: Matrix\n",
      "Loading required package: survival\n",
      "\n",
      "Attaching package: 'survival'\n",
      "\n",
      "The following objects are masked from 'package:sampling':\n",
      "\n",
      "    cluster, strata\n",
      "\n",
      "\n",
      "Attaching package: 'survey'\n",
      "\n",
      "The following object is masked from 'package:graphics':\n",
      "\n",
      "    dotchart\n",
      "\n"
     ]
    }
   ],
   "source": [
    "#Llamado de librerías a utilizar\n",
    "library(plyr, warn.conflicts = FALSE)\n",
    "library(dplyr, warn.conflicts = FALSE)\n",
    "library(SamplingUtil)\n",
    "library(samplingbook)\n",
    "library(repr)\n",
    "options(repr.plot.width=12, repr.plot.height=12)"
   ]
  },
  {
   "cell_type": "code",
   "execution_count": 2,
   "metadata": {},
   "outputs": [
    {
     "data": {
      "text/html": [
       "<ol class=list-inline>\n",
       "\t<li>'data'</li>\n",
       "\t<li>'sp161718'</li>\n",
       "</ol>\n"
      ],
      "text/latex": [
       "\\begin{enumerate*}\n",
       "\\item 'data'\n",
       "\\item 'sp161718'\n",
       "\\end{enumerate*}\n"
      ],
      "text/markdown": [
       "1. 'data'\n",
       "2. 'sp161718'\n",
       "\n",
       "\n"
      ],
      "text/plain": [
       "[1] \"data\"     \"sp161718\""
      ]
     },
     "metadata": {},
     "output_type": "display_data"
    }
   ],
   "source": [
    "data <- get(load(url('https://www.dropbox.com/s/xgsf3l5gjw0h0q4/saberpro.RData?dl=1')))\n",
    "ls() # Con esta función podemos revisar los objetos que tenemos en el área de trabajo"
   ]
  },
  {
   "cell_type": "code",
   "execution_count": 3,
   "metadata": {},
   "outputs": [
    {
     "data": {
      "text/html": [
       "<ol class=list-inline>\n",
       "\t<li>725295</li>\n",
       "\t<li>16</li>\n",
       "</ol>\n"
      ],
      "text/latex": [
       "\\begin{enumerate*}\n",
       "\\item 725295\n",
       "\\item 16\n",
       "\\end{enumerate*}\n"
      ],
      "text/markdown": [
       "1. 725295\n",
       "2. 16\n",
       "\n",
       "\n"
      ],
      "text/plain": [
       "[1] 725295     16"
      ]
     },
     "metadata": {},
     "output_type": "display_data"
    }
   ],
   "source": [
    "dim(data) # Cuáles son las dimensiones de data.frame"
   ]
  },
  {
   "cell_type": "code",
   "execution_count": 4,
   "metadata": {},
   "outputs": [
    {
     "data": {
      "text/html": [
       "<ol class=list-inline>\n",
       "\t<li>'periodo'</li>\n",
       "\t<li>'apli_consecutivo'</li>\n",
       "\t<li>'estu_depto_reside'</li>\n",
       "\t<li>'estu_cod_reside_depto'</li>\n",
       "\t<li>'inst_cod_institucion'</li>\n",
       "\t<li>'inst_nombre_institucion'</li>\n",
       "\t<li>'raz_cuant_punt'</li>\n",
       "\t<li>'raz_cuant_des'</li>\n",
       "\t<li>'lect_crit_punt'</li>\n",
       "\t<li>'lect_crit_des'</li>\n",
       "\t<li>'comp_ciud_punt'</li>\n",
       "\t<li>'comp_ciud_des'</li>\n",
       "\t<li>'ingles_punt'</li>\n",
       "\t<li>'ingles_desem'</li>\n",
       "\t<li>'comu_escr_punt'</li>\n",
       "\t<li>'comu_escr_des'</li>\n",
       "</ol>\n"
      ],
      "text/latex": [
       "\\begin{enumerate*}\n",
       "\\item 'periodo'\n",
       "\\item 'apli\\_consecutivo'\n",
       "\\item 'estu\\_depto\\_reside'\n",
       "\\item 'estu\\_cod\\_reside\\_depto'\n",
       "\\item 'inst\\_cod\\_institucion'\n",
       "\\item 'inst\\_nombre\\_institucion'\n",
       "\\item 'raz\\_cuant\\_punt'\n",
       "\\item 'raz\\_cuant\\_des'\n",
       "\\item 'lect\\_crit\\_punt'\n",
       "\\item 'lect\\_crit\\_des'\n",
       "\\item 'comp\\_ciud\\_punt'\n",
       "\\item 'comp\\_ciud\\_des'\n",
       "\\item 'ingles\\_punt'\n",
       "\\item 'ingles\\_desem'\n",
       "\\item 'comu\\_escr\\_punt'\n",
       "\\item 'comu\\_escr\\_des'\n",
       "\\end{enumerate*}\n"
      ],
      "text/markdown": [
       "1. 'periodo'\n",
       "2. 'apli_consecutivo'\n",
       "3. 'estu_depto_reside'\n",
       "4. 'estu_cod_reside_depto'\n",
       "5. 'inst_cod_institucion'\n",
       "6. 'inst_nombre_institucion'\n",
       "7. 'raz_cuant_punt'\n",
       "8. 'raz_cuant_des'\n",
       "9. 'lect_crit_punt'\n",
       "10. 'lect_crit_des'\n",
       "11. 'comp_ciud_punt'\n",
       "12. 'comp_ciud_des'\n",
       "13. 'ingles_punt'\n",
       "14. 'ingles_desem'\n",
       "15. 'comu_escr_punt'\n",
       "16. 'comu_escr_des'\n",
       "\n",
       "\n"
      ],
      "text/plain": [
       " [1] \"periodo\"                 \"apli_consecutivo\"       \n",
       " [3] \"estu_depto_reside\"       \"estu_cod_reside_depto\"  \n",
       " [5] \"inst_cod_institucion\"    \"inst_nombre_institucion\"\n",
       " [7] \"raz_cuant_punt\"          \"raz_cuant_des\"          \n",
       " [9] \"lect_crit_punt\"          \"lect_crit_des\"          \n",
       "[11] \"comp_ciud_punt\"          \"comp_ciud_des\"          \n",
       "[13] \"ingles_punt\"             \"ingles_desem\"           \n",
       "[15] \"comu_escr_punt\"          \"comu_escr_des\"          "
      ]
     },
     "metadata": {},
     "output_type": "display_data"
    }
   ],
   "source": [
    "names(data) # Los nombres de las variables del conjunto de datos"
   ]
  },
  {
   "cell_type": "code",
   "execution_count": 5,
   "metadata": {},
   "outputs": [],
   "source": [
    "data_ordenada_por_periodo <- arrange(data, periodo) #Para ordenar los registros por periodo (requiere library(dplyr))"
   ]
  },
  {
   "cell_type": "markdown",
   "metadata": {},
   "source": [
    "## Agrupación de la variable periodo "
   ]
  },
  {
   "cell_type": "code",
   "execution_count": 6,
   "metadata": {},
   "outputs": [
    {
     "data": {
      "text/html": [
       "<table>\n",
       "<thead><tr><th></th><th scope=col>periodo</th></tr></thead>\n",
       "<tbody>\n",
       "\t<tr><th scope=row>1</th><td>20162</td></tr>\n",
       "\t<tr><th scope=row>1309</th><td>20163</td></tr>\n",
       "\t<tr><th scope=row>242629</th><td>20172</td></tr>\n",
       "\t<tr><th scope=row>244037</th><td>20173</td></tr>\n",
       "\t<tr><th scope=row>488195</th><td>20182</td></tr>\n",
       "\t<tr><th scope=row>489722</th><td>20183</td></tr>\n",
       "\t<tr><th scope=row>724923</th><td>20184</td></tr>\n",
       "</tbody>\n",
       "</table>\n"
      ],
      "text/latex": [
       "\\begin{tabular}{r|l}\n",
       "  & periodo\\\\\n",
       "\\hline\n",
       "\t1 & 20162\\\\\n",
       "\t1309 & 20163\\\\\n",
       "\t242629 & 20172\\\\\n",
       "\t244037 & 20173\\\\\n",
       "\t488195 & 20182\\\\\n",
       "\t489722 & 20183\\\\\n",
       "\t724923 & 20184\\\\\n",
       "\\end{tabular}\n"
      ],
      "text/markdown": [
       "\n",
       "| <!--/--> | periodo |\n",
       "|---|---|\n",
       "| 1 | 20162 |\n",
       "| 1309 | 20163 |\n",
       "| 242629 | 20172 |\n",
       "| 244037 | 20173 |\n",
       "| 488195 | 20182 |\n",
       "| 489722 | 20183 |\n",
       "| 724923 | 20184 |\n",
       "\n"
      ],
      "text/plain": [
       "       periodo\n",
       "1      20162  \n",
       "1309   20163  \n",
       "242629 20172  \n",
       "244037 20173  \n",
       "488195 20182  \n",
       "489722 20183  \n",
       "724923 20184  "
      ]
     },
     "metadata": {},
     "output_type": "display_data"
    }
   ],
   "source": [
    "unique(data_ordenada_por_periodo['periodo']) #Imprimiendo la columna periodo del dataframe ordenado SIN valores duplicados"
   ]
  },
  {
   "cell_type": "code",
   "execution_count": 7,
   "metadata": {},
   "outputs": [],
   "source": [
    "#Se puede observar como por cada año la información está fragmentada en dos periodos. Por esto se hará un REVALUE\n",
    "#para agrupar la información.\n",
    "\n",
    "data$periodo <- revalue(as.factor(data$periodo),c(\"20162\" = \"2016\", \"20163\" = \"2016\", '20172' = \"2017\", '20173' = \"2017\", '20182' = \"2018\", '20183' = \"2018\", '20184' = '2018'))"
   ]
  },
  {
   "cell_type": "code",
   "execution_count": 8,
   "metadata": {},
   "outputs": [
    {
     "data": {
      "text/html": [
       "<table>\n",
       "<thead><tr><th></th><th scope=col>periodo</th></tr></thead>\n",
       "<tbody>\n",
       "\t<tr><th scope=row>1</th><td>2016</td></tr>\n",
       "\t<tr><th scope=row>242629</th><td>2017</td></tr>\n",
       "\t<tr><th scope=row>488195</th><td>2018</td></tr>\n",
       "</tbody>\n",
       "</table>\n"
      ],
      "text/latex": [
       "\\begin{tabular}{r|l}\n",
       "  & periodo\\\\\n",
       "\\hline\n",
       "\t1 & 2016\\\\\n",
       "\t242629 & 2017\\\\\n",
       "\t488195 & 2018\\\\\n",
       "\\end{tabular}\n"
      ],
      "text/markdown": [
       "\n",
       "| <!--/--> | periodo |\n",
       "|---|---|\n",
       "| 1 | 2016 |\n",
       "| 242629 | 2017 |\n",
       "| 488195 | 2018 |\n",
       "\n"
      ],
      "text/plain": [
       "       periodo\n",
       "1      2016   \n",
       "242629 2017   \n",
       "488195 2018   "
      ]
     },
     "metadata": {},
     "output_type": "display_data"
    }
   ],
   "source": [
    "unique(data['periodo']) #Imprimiendo la columna periodo del dataframe ordenado SIN valores duplicados después del REVALUE"
   ]
  },
  {
   "cell_type": "code",
   "execution_count": 9,
   "metadata": {
    "scrolled": false
   },
   "outputs": [
    {
     "data": {
      "text/html": [
       "<table>\n",
       "<thead><tr><th scope=col>periodo</th></tr></thead>\n",
       "<tbody>\n",
       "\t<tr><td>2016</td></tr>\n",
       "\t<tr><td>2016</td></tr>\n",
       "\t<tr><td>2016</td></tr>\n",
       "\t<tr><td>2016</td></tr>\n",
       "\t<tr><td>2016</td></tr>\n",
       "\t<tr><td>2016</td></tr>\n",
       "\t<tr><td>2016</td></tr>\n",
       "\t<tr><td>2016</td></tr>\n",
       "\t<tr><td>2016</td></tr>\n",
       "\t<tr><td>2016</td></tr>\n",
       "\t<tr><td>2016</td></tr>\n",
       "\t<tr><td>2016</td></tr>\n",
       "\t<tr><td>2016</td></tr>\n",
       "\t<tr><td>2016</td></tr>\n",
       "\t<tr><td>2016</td></tr>\n",
       "\t<tr><td>2016</td></tr>\n",
       "\t<tr><td>2016</td></tr>\n",
       "\t<tr><td>2016</td></tr>\n",
       "\t<tr><td>2016</td></tr>\n",
       "\t<tr><td>2016</td></tr>\n",
       "\t<tr><td>2016</td></tr>\n",
       "\t<tr><td>2016</td></tr>\n",
       "\t<tr><td>2016</td></tr>\n",
       "\t<tr><td>2016</td></tr>\n",
       "\t<tr><td>2016</td></tr>\n",
       "\t<tr><td>2016</td></tr>\n",
       "\t<tr><td>2016</td></tr>\n",
       "\t<tr><td>2016</td></tr>\n",
       "\t<tr><td>2016</td></tr>\n",
       "\t<tr><td>2016</td></tr>\n",
       "\t<tr><td>...</td></tr>\n",
       "\t<tr><td>2016</td></tr>\n",
       "\t<tr><td>2016</td></tr>\n",
       "\t<tr><td>2016</td></tr>\n",
       "\t<tr><td>2016</td></tr>\n",
       "\t<tr><td>2016</td></tr>\n",
       "\t<tr><td>2016</td></tr>\n",
       "\t<tr><td>2016</td></tr>\n",
       "\t<tr><td>2016</td></tr>\n",
       "\t<tr><td>2016</td></tr>\n",
       "\t<tr><td>2016</td></tr>\n",
       "\t<tr><td>2016</td></tr>\n",
       "\t<tr><td>2016</td></tr>\n",
       "\t<tr><td>2016</td></tr>\n",
       "\t<tr><td>2016</td></tr>\n",
       "\t<tr><td>2016</td></tr>\n",
       "\t<tr><td>2016</td></tr>\n",
       "\t<tr><td>2016</td></tr>\n",
       "\t<tr><td>2016</td></tr>\n",
       "\t<tr><td>2016</td></tr>\n",
       "\t<tr><td>2016</td></tr>\n",
       "\t<tr><td>2016</td></tr>\n",
       "\t<tr><td>2016</td></tr>\n",
       "\t<tr><td>2016</td></tr>\n",
       "\t<tr><td>2016</td></tr>\n",
       "\t<tr><td>2016</td></tr>\n",
       "\t<tr><td>2016</td></tr>\n",
       "\t<tr><td>2016</td></tr>\n",
       "\t<tr><td>2016</td></tr>\n",
       "\t<tr><td>2017</td></tr>\n",
       "\t<tr><td>2017</td></tr>\n",
       "</tbody>\n",
       "</table>\n"
      ],
      "text/latex": [
       "\\begin{tabular}{r|l}\n",
       " periodo\\\\\n",
       "\\hline\n",
       "\t 2016\\\\\n",
       "\t 2016\\\\\n",
       "\t 2016\\\\\n",
       "\t 2016\\\\\n",
       "\t 2016\\\\\n",
       "\t 2016\\\\\n",
       "\t 2016\\\\\n",
       "\t 2016\\\\\n",
       "\t 2016\\\\\n",
       "\t 2016\\\\\n",
       "\t 2016\\\\\n",
       "\t 2016\\\\\n",
       "\t 2016\\\\\n",
       "\t 2016\\\\\n",
       "\t 2016\\\\\n",
       "\t 2016\\\\\n",
       "\t 2016\\\\\n",
       "\t 2016\\\\\n",
       "\t 2016\\\\\n",
       "\t 2016\\\\\n",
       "\t 2016\\\\\n",
       "\t 2016\\\\\n",
       "\t 2016\\\\\n",
       "\t 2016\\\\\n",
       "\t 2016\\\\\n",
       "\t 2016\\\\\n",
       "\t 2016\\\\\n",
       "\t 2016\\\\\n",
       "\t 2016\\\\\n",
       "\t 2016\\\\\n",
       "\t ...\\\\\n",
       "\t 2016\\\\\n",
       "\t 2016\\\\\n",
       "\t 2016\\\\\n",
       "\t 2016\\\\\n",
       "\t 2016\\\\\n",
       "\t 2016\\\\\n",
       "\t 2016\\\\\n",
       "\t 2016\\\\\n",
       "\t 2016\\\\\n",
       "\t 2016\\\\\n",
       "\t 2016\\\\\n",
       "\t 2016\\\\\n",
       "\t 2016\\\\\n",
       "\t 2016\\\\\n",
       "\t 2016\\\\\n",
       "\t 2016\\\\\n",
       "\t 2016\\\\\n",
       "\t 2016\\\\\n",
       "\t 2016\\\\\n",
       "\t 2016\\\\\n",
       "\t 2016\\\\\n",
       "\t 2016\\\\\n",
       "\t 2016\\\\\n",
       "\t 2016\\\\\n",
       "\t 2016\\\\\n",
       "\t 2016\\\\\n",
       "\t 2016\\\\\n",
       "\t 2016\\\\\n",
       "\t 2017\\\\\n",
       "\t 2017\\\\\n",
       "\\end{tabular}\n"
      ],
      "text/markdown": [
       "\n",
       "| periodo |\n",
       "|---|\n",
       "| 2016 |\n",
       "| 2016 |\n",
       "| 2016 |\n",
       "| 2016 |\n",
       "| 2016 |\n",
       "| 2016 |\n",
       "| 2016 |\n",
       "| 2016 |\n",
       "| 2016 |\n",
       "| 2016 |\n",
       "| 2016 |\n",
       "| 2016 |\n",
       "| 2016 |\n",
       "| 2016 |\n",
       "| 2016 |\n",
       "| 2016 |\n",
       "| 2016 |\n",
       "| 2016 |\n",
       "| 2016 |\n",
       "| 2016 |\n",
       "| 2016 |\n",
       "| 2016 |\n",
       "| 2016 |\n",
       "| 2016 |\n",
       "| 2016 |\n",
       "| 2016 |\n",
       "| 2016 |\n",
       "| 2016 |\n",
       "| 2016 |\n",
       "| 2016 |\n",
       "| ... |\n",
       "| 2016 |\n",
       "| 2016 |\n",
       "| 2016 |\n",
       "| 2016 |\n",
       "| 2016 |\n",
       "| 2016 |\n",
       "| 2016 |\n",
       "| 2016 |\n",
       "| 2016 |\n",
       "| 2016 |\n",
       "| 2016 |\n",
       "| 2016 |\n",
       "| 2016 |\n",
       "| 2016 |\n",
       "| 2016 |\n",
       "| 2016 |\n",
       "| 2016 |\n",
       "| 2016 |\n",
       "| 2016 |\n",
       "| 2016 |\n",
       "| 2016 |\n",
       "| 2016 |\n",
       "| 2016 |\n",
       "| 2016 |\n",
       "| 2016 |\n",
       "| 2016 |\n",
       "| 2016 |\n",
       "| 2016 |\n",
       "| 2017 |\n",
       "| 2017 |\n",
       "\n"
      ],
      "text/plain": [
       "       periodo\n",
       "1      2016   \n",
       "2      2016   \n",
       "3      2016   \n",
       "4      2016   \n",
       "5      2016   \n",
       "6      2016   \n",
       "7      2016   \n",
       "8      2016   \n",
       "9      2016   \n",
       "10     2016   \n",
       "11     2016   \n",
       "12     2016   \n",
       "13     2016   \n",
       "14     2016   \n",
       "15     2016   \n",
       "16     2016   \n",
       "17     2016   \n",
       "18     2016   \n",
       "19     2016   \n",
       "20     2016   \n",
       "21     2016   \n",
       "22     2016   \n",
       "23     2016   \n",
       "24     2016   \n",
       "25     2016   \n",
       "26     2016   \n",
       "27     2016   \n",
       "28     2016   \n",
       "29     2016   \n",
       "30     2016   \n",
       "...    ...    \n",
       "242601 2016   \n",
       "242602 2016   \n",
       "242603 2016   \n",
       "242604 2016   \n",
       "242605 2016   \n",
       "242606 2016   \n",
       "242607 2016   \n",
       "242608 2016   \n",
       "242609 2016   \n",
       "242610 2016   \n",
       "242611 2016   \n",
       "242612 2016   \n",
       "242613 2016   \n",
       "242614 2016   \n",
       "242615 2016   \n",
       "242616 2016   \n",
       "242617 2016   \n",
       "242618 2016   \n",
       "242619 2016   \n",
       "242620 2016   \n",
       "242621 2016   \n",
       "242622 2016   \n",
       "242623 2016   \n",
       "242624 2016   \n",
       "242625 2016   \n",
       "242626 2016   \n",
       "242627 2016   \n",
       "242628 2016   \n",
       "242629 2017   \n",
       "242630 2017   "
      ]
     },
     "metadata": {},
     "output_type": "display_data"
    },
    {
     "data": {
      "text/html": [
       "<table>\n",
       "<thead><tr><th></th><th scope=col>periodo</th></tr></thead>\n",
       "<tbody>\n",
       "\t<tr><th scope=row>488194</th><td>2017</td></tr>\n",
       "\t<tr><th scope=row>488195</th><td>2018</td></tr>\n",
       "\t<tr><th scope=row>488196</th><td>2018</td></tr>\n",
       "\t<tr><th scope=row>488197</th><td>2018</td></tr>\n",
       "\t<tr><th scope=row>488198</th><td>2018</td></tr>\n",
       "\t<tr><th scope=row>488199</th><td>2018</td></tr>\n",
       "\t<tr><th scope=row>488200</th><td>2018</td></tr>\n",
       "\t<tr><th scope=row>488201</th><td>2018</td></tr>\n",
       "\t<tr><th scope=row>488202</th><td>2018</td></tr>\n",
       "\t<tr><th scope=row>488203</th><td>2018</td></tr>\n",
       "\t<tr><th scope=row>488204</th><td>2018</td></tr>\n",
       "\t<tr><th scope=row>488205</th><td>2018</td></tr>\n",
       "\t<tr><th scope=row>488206</th><td>2018</td></tr>\n",
       "\t<tr><th scope=row>488207</th><td>2018</td></tr>\n",
       "\t<tr><th scope=row>488208</th><td>2018</td></tr>\n",
       "\t<tr><th scope=row>488209</th><td>2018</td></tr>\n",
       "\t<tr><th scope=row>488210</th><td>2018</td></tr>\n",
       "\t<tr><th scope=row>488211</th><td>2018</td></tr>\n",
       "\t<tr><th scope=row>488212</th><td>2018</td></tr>\n",
       "\t<tr><th scope=row>488213</th><td>2018</td></tr>\n",
       "\t<tr><th scope=row>488214</th><td>2018</td></tr>\n",
       "\t<tr><th scope=row>488215</th><td>2018</td></tr>\n",
       "\t<tr><th scope=row>488216</th><td>2018</td></tr>\n",
       "\t<tr><th scope=row>488217</th><td>2018</td></tr>\n",
       "\t<tr><th scope=row>488218</th><td>2018</td></tr>\n",
       "\t<tr><th scope=row>488219</th><td>2018</td></tr>\n",
       "\t<tr><th scope=row>488220</th><td>2018</td></tr>\n",
       "\t<tr><th scope=row>488221</th><td>2018</td></tr>\n",
       "\t<tr><th scope=row>488222</th><td>2018</td></tr>\n",
       "\t<tr><th scope=row>488223</th><td>2018</td></tr>\n",
       "\t<tr><th scope=row>...</th><td>...</td></tr>\n",
       "\t<tr><th scope=row>725266</th><td>2018</td></tr>\n",
       "\t<tr><th scope=row>725267</th><td>2018</td></tr>\n",
       "\t<tr><th scope=row>725268</th><td>2018</td></tr>\n",
       "\t<tr><th scope=row>725269</th><td>2018</td></tr>\n",
       "\t<tr><th scope=row>725270</th><td>2018</td></tr>\n",
       "\t<tr><th scope=row>725271</th><td>2018</td></tr>\n",
       "\t<tr><th scope=row>725272</th><td>2018</td></tr>\n",
       "\t<tr><th scope=row>725273</th><td>2018</td></tr>\n",
       "\t<tr><th scope=row>725274</th><td>2018</td></tr>\n",
       "\t<tr><th scope=row>725275</th><td>2018</td></tr>\n",
       "\t<tr><th scope=row>725276</th><td>2018</td></tr>\n",
       "\t<tr><th scope=row>725277</th><td>2018</td></tr>\n",
       "\t<tr><th scope=row>725278</th><td>2018</td></tr>\n",
       "\t<tr><th scope=row>725279</th><td>2018</td></tr>\n",
       "\t<tr><th scope=row>725280</th><td>2018</td></tr>\n",
       "\t<tr><th scope=row>725281</th><td>2018</td></tr>\n",
       "\t<tr><th scope=row>725282</th><td>2018</td></tr>\n",
       "\t<tr><th scope=row>725283</th><td>2018</td></tr>\n",
       "\t<tr><th scope=row>725284</th><td>2018</td></tr>\n",
       "\t<tr><th scope=row>725285</th><td>2018</td></tr>\n",
       "\t<tr><th scope=row>725286</th><td>2018</td></tr>\n",
       "\t<tr><th scope=row>725287</th><td>2018</td></tr>\n",
       "\t<tr><th scope=row>725288</th><td>2018</td></tr>\n",
       "\t<tr><th scope=row>725289</th><td>2018</td></tr>\n",
       "\t<tr><th scope=row>725290</th><td>2018</td></tr>\n",
       "\t<tr><th scope=row>725291</th><td>2018</td></tr>\n",
       "\t<tr><th scope=row>725292</th><td>2018</td></tr>\n",
       "\t<tr><th scope=row>725293</th><td>2018</td></tr>\n",
       "\t<tr><th scope=row>725294</th><td>2018</td></tr>\n",
       "\t<tr><th scope=row>725295</th><td>2018</td></tr>\n",
       "</tbody>\n",
       "</table>\n"
      ],
      "text/latex": [
       "\\begin{tabular}{r|l}\n",
       "  & periodo\\\\\n",
       "\\hline\n",
       "\t488194 & 2017\\\\\n",
       "\t488195 & 2018\\\\\n",
       "\t488196 & 2018\\\\\n",
       "\t488197 & 2018\\\\\n",
       "\t488198 & 2018\\\\\n",
       "\t488199 & 2018\\\\\n",
       "\t488200 & 2018\\\\\n",
       "\t488201 & 2018\\\\\n",
       "\t488202 & 2018\\\\\n",
       "\t488203 & 2018\\\\\n",
       "\t488204 & 2018\\\\\n",
       "\t488205 & 2018\\\\\n",
       "\t488206 & 2018\\\\\n",
       "\t488207 & 2018\\\\\n",
       "\t488208 & 2018\\\\\n",
       "\t488209 & 2018\\\\\n",
       "\t488210 & 2018\\\\\n",
       "\t488211 & 2018\\\\\n",
       "\t488212 & 2018\\\\\n",
       "\t488213 & 2018\\\\\n",
       "\t488214 & 2018\\\\\n",
       "\t488215 & 2018\\\\\n",
       "\t488216 & 2018\\\\\n",
       "\t488217 & 2018\\\\\n",
       "\t488218 & 2018\\\\\n",
       "\t488219 & 2018\\\\\n",
       "\t488220 & 2018\\\\\n",
       "\t488221 & 2018\\\\\n",
       "\t488222 & 2018\\\\\n",
       "\t488223 & 2018\\\\\n",
       "\t... & ...\\\\\n",
       "\t725266 & 2018\\\\\n",
       "\t725267 & 2018\\\\\n",
       "\t725268 & 2018\\\\\n",
       "\t725269 & 2018\\\\\n",
       "\t725270 & 2018\\\\\n",
       "\t725271 & 2018\\\\\n",
       "\t725272 & 2018\\\\\n",
       "\t725273 & 2018\\\\\n",
       "\t725274 & 2018\\\\\n",
       "\t725275 & 2018\\\\\n",
       "\t725276 & 2018\\\\\n",
       "\t725277 & 2018\\\\\n",
       "\t725278 & 2018\\\\\n",
       "\t725279 & 2018\\\\\n",
       "\t725280 & 2018\\\\\n",
       "\t725281 & 2018\\\\\n",
       "\t725282 & 2018\\\\\n",
       "\t725283 & 2018\\\\\n",
       "\t725284 & 2018\\\\\n",
       "\t725285 & 2018\\\\\n",
       "\t725286 & 2018\\\\\n",
       "\t725287 & 2018\\\\\n",
       "\t725288 & 2018\\\\\n",
       "\t725289 & 2018\\\\\n",
       "\t725290 & 2018\\\\\n",
       "\t725291 & 2018\\\\\n",
       "\t725292 & 2018\\\\\n",
       "\t725293 & 2018\\\\\n",
       "\t725294 & 2018\\\\\n",
       "\t725295 & 2018\\\\\n",
       "\\end{tabular}\n"
      ],
      "text/markdown": [
       "\n",
       "| <!--/--> | periodo |\n",
       "|---|---|\n",
       "| 488194 | 2017 |\n",
       "| 488195 | 2018 |\n",
       "| 488196 | 2018 |\n",
       "| 488197 | 2018 |\n",
       "| 488198 | 2018 |\n",
       "| 488199 | 2018 |\n",
       "| 488200 | 2018 |\n",
       "| 488201 | 2018 |\n",
       "| 488202 | 2018 |\n",
       "| 488203 | 2018 |\n",
       "| 488204 | 2018 |\n",
       "| 488205 | 2018 |\n",
       "| 488206 | 2018 |\n",
       "| 488207 | 2018 |\n",
       "| 488208 | 2018 |\n",
       "| 488209 | 2018 |\n",
       "| 488210 | 2018 |\n",
       "| 488211 | 2018 |\n",
       "| 488212 | 2018 |\n",
       "| 488213 | 2018 |\n",
       "| 488214 | 2018 |\n",
       "| 488215 | 2018 |\n",
       "| 488216 | 2018 |\n",
       "| 488217 | 2018 |\n",
       "| 488218 | 2018 |\n",
       "| 488219 | 2018 |\n",
       "| 488220 | 2018 |\n",
       "| 488221 | 2018 |\n",
       "| 488222 | 2018 |\n",
       "| 488223 | 2018 |\n",
       "| ... | ... |\n",
       "| 725266 | 2018 |\n",
       "| 725267 | 2018 |\n",
       "| 725268 | 2018 |\n",
       "| 725269 | 2018 |\n",
       "| 725270 | 2018 |\n",
       "| 725271 | 2018 |\n",
       "| 725272 | 2018 |\n",
       "| 725273 | 2018 |\n",
       "| 725274 | 2018 |\n",
       "| 725275 | 2018 |\n",
       "| 725276 | 2018 |\n",
       "| 725277 | 2018 |\n",
       "| 725278 | 2018 |\n",
       "| 725279 | 2018 |\n",
       "| 725280 | 2018 |\n",
       "| 725281 | 2018 |\n",
       "| 725282 | 2018 |\n",
       "| 725283 | 2018 |\n",
       "| 725284 | 2018 |\n",
       "| 725285 | 2018 |\n",
       "| 725286 | 2018 |\n",
       "| 725287 | 2018 |\n",
       "| 725288 | 2018 |\n",
       "| 725289 | 2018 |\n",
       "| 725290 | 2018 |\n",
       "| 725291 | 2018 |\n",
       "| 725292 | 2018 |\n",
       "| 725293 | 2018 |\n",
       "| 725294 | 2018 |\n",
       "| 725295 | 2018 |\n",
       "\n"
      ],
      "text/plain": [
       "       periodo\n",
       "488194 2017   \n",
       "488195 2018   \n",
       "488196 2018   \n",
       "488197 2018   \n",
       "488198 2018   \n",
       "488199 2018   \n",
       "488200 2018   \n",
       "488201 2018   \n",
       "488202 2018   \n",
       "488203 2018   \n",
       "488204 2018   \n",
       "488205 2018   \n",
       "488206 2018   \n",
       "488207 2018   \n",
       "488208 2018   \n",
       "488209 2018   \n",
       "488210 2018   \n",
       "488211 2018   \n",
       "488212 2018   \n",
       "488213 2018   \n",
       "488214 2018   \n",
       "488215 2018   \n",
       "488216 2018   \n",
       "488217 2018   \n",
       "488218 2018   \n",
       "488219 2018   \n",
       "488220 2018   \n",
       "488221 2018   \n",
       "488222 2018   \n",
       "488223 2018   \n",
       "...    ...    \n",
       "725266 2018   \n",
       "725267 2018   \n",
       "725268 2018   \n",
       "725269 2018   \n",
       "725270 2018   \n",
       "725271 2018   \n",
       "725272 2018   \n",
       "725273 2018   \n",
       "725274 2018   \n",
       "725275 2018   \n",
       "725276 2018   \n",
       "725277 2018   \n",
       "725278 2018   \n",
       "725279 2018   \n",
       "725280 2018   \n",
       "725281 2018   \n",
       "725282 2018   \n",
       "725283 2018   \n",
       "725284 2018   \n",
       "725285 2018   \n",
       "725286 2018   \n",
       "725287 2018   \n",
       "725288 2018   \n",
       "725289 2018   \n",
       "725290 2018   \n",
       "725291 2018   \n",
       "725292 2018   \n",
       "725293 2018   \n",
       "725294 2018   \n",
       "725295 2018   "
      ]
     },
     "metadata": {},
     "output_type": "display_data"
    }
   ],
   "source": [
    "#Comprobando que los registros han sido agrupados por años (2016, 2017, 2018)\n",
    "head(data['periodo'], 242630); #Imprimiendo los primeros 242630 registros\n",
    "tail(data['periodo'], 237102); #Imprimiendo los últimos 237102 registros"
   ]
  },
  {
   "cell_type": "markdown",
   "metadata": {},
   "source": [
    "## Arreglando la variable departamento"
   ]
  },
  {
   "cell_type": "code",
   "execution_count": 10,
   "metadata": {},
   "outputs": [
    {
     "data": {
      "text/html": [
       "<ol class=list-inline>\n",
       "\t<li>ATLANTICO</li>\n",
       "\t<li>CUNDINAMARCA</li>\n",
       "\t<li>CALDAS</li>\n",
       "\t<li>MAGDALENA</li>\n",
       "\t<li>CORDOBA</li>\n",
       "\t<li>CAUCA</li>\n",
       "\t<li>BOGOTA</li>\n",
       "\t<li>ANTIOQUIA</li>\n",
       "\t<li>META</li>\n",
       "\t<li>CESAR</li>\n",
       "\t<li>VALLE</li>\n",
       "\t<li>TOLIMA</li>\n",
       "\t<li>BOYACA</li>\n",
       "\t<li>SANTANDER</li>\n",
       "\t<li>BOLIVAR</li>\n",
       "\t<li></li>\n",
       "\t<li>HUILA</li>\n",
       "\t<li>NORTE SANTANDER</li>\n",
       "\t<li>SUCRE</li>\n",
       "\t<li>QUINDIO</li>\n",
       "\t<li>VAUPES</li>\n",
       "\t<li>RISARALDA</li>\n",
       "\t<li>NARIÃ‘O</li>\n",
       "\t<li>CAQUETA</li>\n",
       "\t<li>CASANARE</li>\n",
       "\t<li>CHOCO</li>\n",
       "\t<li>PUTUMAYO</li>\n",
       "\t<li>LA GUAJIRA</li>\n",
       "\t<li>GUAVIARE</li>\n",
       "\t<li>ARAUCA</li>\n",
       "\t<li>SAN ANDRES</li>\n",
       "\t<li>VICHADA</li>\n",
       "\t<li>AMAZONAS</li>\n",
       "\t<li>EXTRANJERO</li>\n",
       "\t<li>GUAINIA</li>\n",
       "\t<li>NARIÃƒâ\\200\\230O</li>\n",
       "</ol>\n",
       "\n",
       "<details>\n",
       "\t<summary style=display:list-item;cursor:pointer>\n",
       "\t\t<strong>Levels</strong>:\n",
       "\t</summary>\n",
       "\t<ol class=list-inline>\n",
       "\t\t<li>''</li>\n",
       "\t\t<li>'AMAZONAS'</li>\n",
       "\t\t<li>'ANTIOQUIA'</li>\n",
       "\t\t<li>'ARAUCA'</li>\n",
       "\t\t<li>'ATLANTICO'</li>\n",
       "\t\t<li>'BOGOTA'</li>\n",
       "\t\t<li>'BOLIVAR'</li>\n",
       "\t\t<li>'BOYACA'</li>\n",
       "\t\t<li>'CALDAS'</li>\n",
       "\t\t<li>'CAQUETA'</li>\n",
       "\t\t<li>'CASANARE'</li>\n",
       "\t\t<li>'CAUCA'</li>\n",
       "\t\t<li>'CESAR'</li>\n",
       "\t\t<li>'CHOCO'</li>\n",
       "\t\t<li>'CORDOBA'</li>\n",
       "\t\t<li>'CUNDINAMARCA'</li>\n",
       "\t\t<li>'EXTRANJERO'</li>\n",
       "\t\t<li>'GUAINIA'</li>\n",
       "\t\t<li>'GUAVIARE'</li>\n",
       "\t\t<li>'HUILA'</li>\n",
       "\t\t<li>'LA GUAJIRA'</li>\n",
       "\t\t<li>'MAGDALENA'</li>\n",
       "\t\t<li>'META'</li>\n",
       "\t\t<li>'NARIÃ‘O'</li>\n",
       "\t\t<li>'NORTE SANTANDER'</li>\n",
       "\t\t<li>'PUTUMAYO'</li>\n",
       "\t\t<li>'QUINDIO'</li>\n",
       "\t\t<li>'RISARALDA'</li>\n",
       "\t\t<li>'SAN ANDRES'</li>\n",
       "\t\t<li>'SANTANDER'</li>\n",
       "\t\t<li>'SUCRE'</li>\n",
       "\t\t<li>'TOLIMA'</li>\n",
       "\t\t<li>'VALLE'</li>\n",
       "\t\t<li>'VAUPES'</li>\n",
       "\t\t<li>'VICHADA'</li>\n",
       "\t\t<li>'NARIÃƒâ\\200\\230O'</li>\n",
       "\t</ol>\n",
       "</details>"
      ],
      "text/latex": [
       "\\begin{enumerate*}\n",
       "\\item ATLANTICO\n",
       "\\item CUNDINAMARCA\n",
       "\\item CALDAS\n",
       "\\item MAGDALENA\n",
       "\\item CORDOBA\n",
       "\\item CAUCA\n",
       "\\item BOGOTA\n",
       "\\item ANTIOQUIA\n",
       "\\item META\n",
       "\\item CESAR\n",
       "\\item VALLE\n",
       "\\item TOLIMA\n",
       "\\item BOYACA\n",
       "\\item SANTANDER\n",
       "\\item BOLIVAR\n",
       "\\item \n",
       "\\item HUILA\n",
       "\\item NORTE SANTANDER\n",
       "\\item SUCRE\n",
       "\\item QUINDIO\n",
       "\\item VAUPES\n",
       "\\item RISARALDA\n",
       "\\item NARIÃ‘O\n",
       "\\item CAQUETA\n",
       "\\item CASANARE\n",
       "\\item CHOCO\n",
       "\\item PUTUMAYO\n",
       "\\item LA GUAJIRA\n",
       "\\item GUAVIARE\n",
       "\\item ARAUCA\n",
       "\\item SAN ANDRES\n",
       "\\item VICHADA\n",
       "\\item AMAZONAS\n",
       "\\item EXTRANJERO\n",
       "\\item GUAINIA\n",
       "\\item NARIÃƒâ\\textbackslash{}200\\textbackslash{}230O\n",
       "\\end{enumerate*}\n",
       "\n",
       "\\emph{Levels}: \\begin{enumerate*}\n",
       "\\item ''\n",
       "\\item 'AMAZONAS'\n",
       "\\item 'ANTIOQUIA'\n",
       "\\item 'ARAUCA'\n",
       "\\item 'ATLANTICO'\n",
       "\\item 'BOGOTA'\n",
       "\\item 'BOLIVAR'\n",
       "\\item 'BOYACA'\n",
       "\\item 'CALDAS'\n",
       "\\item 'CAQUETA'\n",
       "\\item 'CASANARE'\n",
       "\\item 'CAUCA'\n",
       "\\item 'CESAR'\n",
       "\\item 'CHOCO'\n",
       "\\item 'CORDOBA'\n",
       "\\item 'CUNDINAMARCA'\n",
       "\\item 'EXTRANJERO'\n",
       "\\item 'GUAINIA'\n",
       "\\item 'GUAVIARE'\n",
       "\\item 'HUILA'\n",
       "\\item 'LA GUAJIRA'\n",
       "\\item 'MAGDALENA'\n",
       "\\item 'META'\n",
       "\\item 'NARIÃ‘O'\n",
       "\\item 'NORTE SANTANDER'\n",
       "\\item 'PUTUMAYO'\n",
       "\\item 'QUINDIO'\n",
       "\\item 'RISARALDA'\n",
       "\\item 'SAN ANDRES'\n",
       "\\item 'SANTANDER'\n",
       "\\item 'SUCRE'\n",
       "\\item 'TOLIMA'\n",
       "\\item 'VALLE'\n",
       "\\item 'VAUPES'\n",
       "\\item 'VICHADA'\n",
       "\\item 'NARIÃƒâ\\textbackslash{}200\\textbackslash{}230O'\n",
       "\\end{enumerate*}\n"
      ],
      "text/markdown": [
       "1. ATLANTICO\n",
       "2. CUNDINAMARCA\n",
       "3. CALDAS\n",
       "4. MAGDALENA\n",
       "5. CORDOBA\n",
       "6. CAUCA\n",
       "7. BOGOTA\n",
       "8. ANTIOQUIA\n",
       "9. META\n",
       "10. CESAR\n",
       "11. VALLE\n",
       "12. TOLIMA\n",
       "13. BOYACA\n",
       "14. SANTANDER\n",
       "15. BOLIVAR\n",
       "16. \n",
       "17. HUILA\n",
       "18. NORTE SANTANDER\n",
       "19. SUCRE\n",
       "20. QUINDIO\n",
       "21. VAUPES\n",
       "22. RISARALDA\n",
       "23. NARIÃ‘O\n",
       "24. CAQUETA\n",
       "25. CASANARE\n",
       "26. CHOCO\n",
       "27. PUTUMAYO\n",
       "28. LA GUAJIRA\n",
       "29. GUAVIARE\n",
       "30. ARAUCA\n",
       "31. SAN ANDRES\n",
       "32. VICHADA\n",
       "33. AMAZONAS\n",
       "34. EXTRANJERO\n",
       "35. GUAINIA\n",
       "36. NARIÃƒâ\\200\\230O\n",
       "\n",
       "\n",
       "\n",
       "**Levels**: 1. ''\n",
       "2. 'AMAZONAS'\n",
       "3. 'ANTIOQUIA'\n",
       "4. 'ARAUCA'\n",
       "5. 'ATLANTICO'\n",
       "6. 'BOGOTA'\n",
       "7. 'BOLIVAR'\n",
       "8. 'BOYACA'\n",
       "9. 'CALDAS'\n",
       "10. 'CAQUETA'\n",
       "11. 'CASANARE'\n",
       "12. 'CAUCA'\n",
       "13. 'CESAR'\n",
       "14. 'CHOCO'\n",
       "15. 'CORDOBA'\n",
       "16. 'CUNDINAMARCA'\n",
       "17. 'EXTRANJERO'\n",
       "18. 'GUAINIA'\n",
       "19. 'GUAVIARE'\n",
       "20. 'HUILA'\n",
       "21. 'LA GUAJIRA'\n",
       "22. 'MAGDALENA'\n",
       "23. 'META'\n",
       "24. 'NARIÃ‘O'\n",
       "25. 'NORTE SANTANDER'\n",
       "26. 'PUTUMAYO'\n",
       "27. 'QUINDIO'\n",
       "28. 'RISARALDA'\n",
       "29. 'SAN ANDRES'\n",
       "30. 'SANTANDER'\n",
       "31. 'SUCRE'\n",
       "32. 'TOLIMA'\n",
       "33. 'VALLE'\n",
       "34. 'VAUPES'\n",
       "35. 'VICHADA'\n",
       "36. 'NARIÃƒâ\\200\\230O'\n",
       "\n",
       "\n"
      ],
      "text/plain": [
       " [1] ATLANTICO       CUNDINAMARCA    CALDAS          MAGDALENA      \n",
       " [5] CORDOBA         CAUCA           BOGOTA          ANTIOQUIA      \n",
       " [9] META            CESAR           VALLE           TOLIMA         \n",
       "[13] BOYACA          SANTANDER       BOLIVAR                        \n",
       "[17] HUILA           NORTE SANTANDER SUCRE           QUINDIO        \n",
       "[21] VAUPES          RISARALDA       NARIÃ‘O         CAQUETA        \n",
       "[25] CASANARE        CHOCO           PUTUMAYO        LA GUAJIRA     \n",
       "[29] GUAVIARE        ARAUCA          SAN ANDRES      VICHADA        \n",
       "[33] AMAZONAS        EXTRANJERO      GUAINIA         NARIÃƒâ\\200\\230O     \n",
       "36 Levels:  AMAZONAS ANTIOQUIA ARAUCA ATLANTICO BOGOTA BOLIVAR ... NARIÃƒâ\\200\\230O"
      ]
     },
     "metadata": {},
     "output_type": "display_data"
    }
   ],
   "source": [
    "unique(data$estu_depto_reside)"
   ]
  },
  {
   "cell_type": "code",
   "execution_count": 11,
   "metadata": {
    "scrolled": true
   },
   "outputs": [
    {
     "data": {
      "text/html": [
       "<ol class=list-inline>\n",
       "\t<li>ATLANTICO</li>\n",
       "\t<li>CUNDINAMARCA</li>\n",
       "\t<li>CALDAS</li>\n",
       "\t<li>MAGDALENA</li>\n",
       "\t<li>CORDOBA</li>\n",
       "\t<li>CAUCA</li>\n",
       "\t<li>BOGOTA</li>\n",
       "\t<li>ANTIOQUIA</li>\n",
       "\t<li>META</li>\n",
       "\t<li>CESAR</li>\n",
       "\t<li>VALLE</li>\n",
       "\t<li>TOLIMA</li>\n",
       "\t<li>BOYACA</li>\n",
       "\t<li>SANTANDER</li>\n",
       "\t<li>BOLIVAR</li>\n",
       "\t<li></li>\n",
       "\t<li>HUILA</li>\n",
       "\t<li>NORTE SANTANDER</li>\n",
       "\t<li>SUCRE</li>\n",
       "\t<li>QUINDIO</li>\n",
       "\t<li>VAUPES</li>\n",
       "\t<li>RISARALDA</li>\n",
       "\t<li>NARINO</li>\n",
       "\t<li>CAQUETA</li>\n",
       "\t<li>CASANARE</li>\n",
       "\t<li>CHOCO</li>\n",
       "\t<li>PUTUMAYO</li>\n",
       "\t<li>LA GUAJIRA</li>\n",
       "\t<li>GUAVIARE</li>\n",
       "\t<li>ARAUCA</li>\n",
       "\t<li>SAN ANDRES</li>\n",
       "\t<li>VICHADA</li>\n",
       "\t<li>AMAZONAS</li>\n",
       "\t<li>EXTRANJERO</li>\n",
       "\t<li>GUAINIA</li>\n",
       "</ol>\n",
       "\n",
       "<details>\n",
       "\t<summary style=display:list-item;cursor:pointer>\n",
       "\t\t<strong>Levels</strong>:\n",
       "\t</summary>\n",
       "\t<ol class=list-inline>\n",
       "\t\t<li>''</li>\n",
       "\t\t<li>'AMAZONAS'</li>\n",
       "\t\t<li>'ANTIOQUIA'</li>\n",
       "\t\t<li>'ARAUCA'</li>\n",
       "\t\t<li>'ATLANTICO'</li>\n",
       "\t\t<li>'BOGOTA'</li>\n",
       "\t\t<li>'BOLIVAR'</li>\n",
       "\t\t<li>'BOYACA'</li>\n",
       "\t\t<li>'CALDAS'</li>\n",
       "\t\t<li>'CAQUETA'</li>\n",
       "\t\t<li>'CASANARE'</li>\n",
       "\t\t<li>'CAUCA'</li>\n",
       "\t\t<li>'CESAR'</li>\n",
       "\t\t<li>'CHOCO'</li>\n",
       "\t\t<li>'CORDOBA'</li>\n",
       "\t\t<li>'CUNDINAMARCA'</li>\n",
       "\t\t<li>'EXTRANJERO'</li>\n",
       "\t\t<li>'GUAINIA'</li>\n",
       "\t\t<li>'GUAVIARE'</li>\n",
       "\t\t<li>'HUILA'</li>\n",
       "\t\t<li>'LA GUAJIRA'</li>\n",
       "\t\t<li>'MAGDALENA'</li>\n",
       "\t\t<li>'META'</li>\n",
       "\t\t<li>'NARINO'</li>\n",
       "\t\t<li>'NORTE SANTANDER'</li>\n",
       "\t\t<li>'PUTUMAYO'</li>\n",
       "\t\t<li>'QUINDIO'</li>\n",
       "\t\t<li>'RISARALDA'</li>\n",
       "\t\t<li>'SAN ANDRES'</li>\n",
       "\t\t<li>'SANTANDER'</li>\n",
       "\t\t<li>'SUCRE'</li>\n",
       "\t\t<li>'TOLIMA'</li>\n",
       "\t\t<li>'VALLE'</li>\n",
       "\t\t<li>'VAUPES'</li>\n",
       "\t\t<li>'VICHADA'</li>\n",
       "\t</ol>\n",
       "</details>"
      ],
      "text/latex": [
       "\\begin{enumerate*}\n",
       "\\item ATLANTICO\n",
       "\\item CUNDINAMARCA\n",
       "\\item CALDAS\n",
       "\\item MAGDALENA\n",
       "\\item CORDOBA\n",
       "\\item CAUCA\n",
       "\\item BOGOTA\n",
       "\\item ANTIOQUIA\n",
       "\\item META\n",
       "\\item CESAR\n",
       "\\item VALLE\n",
       "\\item TOLIMA\n",
       "\\item BOYACA\n",
       "\\item SANTANDER\n",
       "\\item BOLIVAR\n",
       "\\item \n",
       "\\item HUILA\n",
       "\\item NORTE SANTANDER\n",
       "\\item SUCRE\n",
       "\\item QUINDIO\n",
       "\\item VAUPES\n",
       "\\item RISARALDA\n",
       "\\item NARINO\n",
       "\\item CAQUETA\n",
       "\\item CASANARE\n",
       "\\item CHOCO\n",
       "\\item PUTUMAYO\n",
       "\\item LA GUAJIRA\n",
       "\\item GUAVIARE\n",
       "\\item ARAUCA\n",
       "\\item SAN ANDRES\n",
       "\\item VICHADA\n",
       "\\item AMAZONAS\n",
       "\\item EXTRANJERO\n",
       "\\item GUAINIA\n",
       "\\end{enumerate*}\n",
       "\n",
       "\\emph{Levels}: \\begin{enumerate*}\n",
       "\\item ''\n",
       "\\item 'AMAZONAS'\n",
       "\\item 'ANTIOQUIA'\n",
       "\\item 'ARAUCA'\n",
       "\\item 'ATLANTICO'\n",
       "\\item 'BOGOTA'\n",
       "\\item 'BOLIVAR'\n",
       "\\item 'BOYACA'\n",
       "\\item 'CALDAS'\n",
       "\\item 'CAQUETA'\n",
       "\\item 'CASANARE'\n",
       "\\item 'CAUCA'\n",
       "\\item 'CESAR'\n",
       "\\item 'CHOCO'\n",
       "\\item 'CORDOBA'\n",
       "\\item 'CUNDINAMARCA'\n",
       "\\item 'EXTRANJERO'\n",
       "\\item 'GUAINIA'\n",
       "\\item 'GUAVIARE'\n",
       "\\item 'HUILA'\n",
       "\\item 'LA GUAJIRA'\n",
       "\\item 'MAGDALENA'\n",
       "\\item 'META'\n",
       "\\item 'NARINO'\n",
       "\\item 'NORTE SANTANDER'\n",
       "\\item 'PUTUMAYO'\n",
       "\\item 'QUINDIO'\n",
       "\\item 'RISARALDA'\n",
       "\\item 'SAN ANDRES'\n",
       "\\item 'SANTANDER'\n",
       "\\item 'SUCRE'\n",
       "\\item 'TOLIMA'\n",
       "\\item 'VALLE'\n",
       "\\item 'VAUPES'\n",
       "\\item 'VICHADA'\n",
       "\\end{enumerate*}\n"
      ],
      "text/markdown": [
       "1. ATLANTICO\n",
       "2. CUNDINAMARCA\n",
       "3. CALDAS\n",
       "4. MAGDALENA\n",
       "5. CORDOBA\n",
       "6. CAUCA\n",
       "7. BOGOTA\n",
       "8. ANTIOQUIA\n",
       "9. META\n",
       "10. CESAR\n",
       "11. VALLE\n",
       "12. TOLIMA\n",
       "13. BOYACA\n",
       "14. SANTANDER\n",
       "15. BOLIVAR\n",
       "16. \n",
       "17. HUILA\n",
       "18. NORTE SANTANDER\n",
       "19. SUCRE\n",
       "20. QUINDIO\n",
       "21. VAUPES\n",
       "22. RISARALDA\n",
       "23. NARINO\n",
       "24. CAQUETA\n",
       "25. CASANARE\n",
       "26. CHOCO\n",
       "27. PUTUMAYO\n",
       "28. LA GUAJIRA\n",
       "29. GUAVIARE\n",
       "30. ARAUCA\n",
       "31. SAN ANDRES\n",
       "32. VICHADA\n",
       "33. AMAZONAS\n",
       "34. EXTRANJERO\n",
       "35. GUAINIA\n",
       "\n",
       "\n",
       "\n",
       "**Levels**: 1. ''\n",
       "2. 'AMAZONAS'\n",
       "3. 'ANTIOQUIA'\n",
       "4. 'ARAUCA'\n",
       "5. 'ATLANTICO'\n",
       "6. 'BOGOTA'\n",
       "7. 'BOLIVAR'\n",
       "8. 'BOYACA'\n",
       "9. 'CALDAS'\n",
       "10. 'CAQUETA'\n",
       "11. 'CASANARE'\n",
       "12. 'CAUCA'\n",
       "13. 'CESAR'\n",
       "14. 'CHOCO'\n",
       "15. 'CORDOBA'\n",
       "16. 'CUNDINAMARCA'\n",
       "17. 'EXTRANJERO'\n",
       "18. 'GUAINIA'\n",
       "19. 'GUAVIARE'\n",
       "20. 'HUILA'\n",
       "21. 'LA GUAJIRA'\n",
       "22. 'MAGDALENA'\n",
       "23. 'META'\n",
       "24. 'NARINO'\n",
       "25. 'NORTE SANTANDER'\n",
       "26. 'PUTUMAYO'\n",
       "27. 'QUINDIO'\n",
       "28. 'RISARALDA'\n",
       "29. 'SAN ANDRES'\n",
       "30. 'SANTANDER'\n",
       "31. 'SUCRE'\n",
       "32. 'TOLIMA'\n",
       "33. 'VALLE'\n",
       "34. 'VAUPES'\n",
       "35. 'VICHADA'\n",
       "\n",
       "\n"
      ],
      "text/plain": [
       " [1] ATLANTICO       CUNDINAMARCA    CALDAS          MAGDALENA      \n",
       " [5] CORDOBA         CAUCA           BOGOTA          ANTIOQUIA      \n",
       " [9] META            CESAR           VALLE           TOLIMA         \n",
       "[13] BOYACA          SANTANDER       BOLIVAR                        \n",
       "[17] HUILA           NORTE SANTANDER SUCRE           QUINDIO        \n",
       "[21] VAUPES          RISARALDA       NARINO          CAQUETA        \n",
       "[25] CASANARE        CHOCO           PUTUMAYO        LA GUAJIRA     \n",
       "[29] GUAVIARE        ARAUCA          SAN ANDRES      VICHADA        \n",
       "[33] AMAZONAS        EXTRANJERO      GUAINIA        \n",
       "35 Levels:  AMAZONAS ANTIOQUIA ARAUCA ATLANTICO BOGOTA BOLIVAR ... VICHADA"
      ]
     },
     "metadata": {},
     "output_type": "display_data"
    }
   ],
   "source": [
    "temp<-factor(data$estu_depto_reside)\n",
    "data$estu_depto_reside<-revalue(temp, c(\"NARIÃ‘O\"=\"NARINO\", \"NARIÃƒâ\\200\\230O\"=\"NARINO\"))\n",
    "## Renombramos algunos departamentos mal escritos\n",
    "unique(data$estu_depto_reside) # Verificamos que se solucionó"
   ]
  },
  {
   "cell_type": "markdown",
   "metadata": {},
   "source": [
    "Tenga en cuenta que algunas variables categóricas figuran como numéricas, haga la correspondiente transformación."
   ]
  },
  {
   "cell_type": "code",
   "execution_count": 12,
   "metadata": {},
   "outputs": [
    {
     "data": {
      "text/html": [
       "<ol class=list-inline>\n",
       "\t<li>3</li>\n",
       "\t<li>2</li>\n",
       "\t<li>1</li>\n",
       "\t<li>4</li>\n",
       "</ol>\n"
      ],
      "text/latex": [
       "\\begin{enumerate*}\n",
       "\\item 3\n",
       "\\item 2\n",
       "\\item 1\n",
       "\\item 4\n",
       "\\end{enumerate*}\n"
      ],
      "text/markdown": [
       "1. 3\n",
       "2. 2\n",
       "3. 1\n",
       "4. 4\n",
       "\n",
       "\n"
      ],
      "text/plain": [
       "[1] 3 2 1 4"
      ]
     },
     "metadata": {},
     "output_type": "display_data"
    },
    {
     "data": {
      "text/html": [
       "<ol class=list-inline>\n",
       "\t<li>2</li>\n",
       "\t<li>3</li>\n",
       "\t<li>1</li>\n",
       "\t<li>4</li>\n",
       "</ol>\n"
      ],
      "text/latex": [
       "\\begin{enumerate*}\n",
       "\\item 2\n",
       "\\item 3\n",
       "\\item 1\n",
       "\\item 4\n",
       "\\end{enumerate*}\n"
      ],
      "text/markdown": [
       "1. 2\n",
       "2. 3\n",
       "3. 1\n",
       "4. 4\n",
       "\n",
       "\n"
      ],
      "text/plain": [
       "[1] 2 3 1 4"
      ]
     },
     "metadata": {},
     "output_type": "display_data"
    },
    {
     "data": {
      "text/html": [
       "<ol class=list-inline>\n",
       "\t<li>3</li>\n",
       "\t<li>1</li>\n",
       "\t<li>2</li>\n",
       "\t<li>4</li>\n",
       "</ol>\n"
      ],
      "text/latex": [
       "\\begin{enumerate*}\n",
       "\\item 3\n",
       "\\item 1\n",
       "\\item 2\n",
       "\\item 4\n",
       "\\end{enumerate*}\n"
      ],
      "text/markdown": [
       "1. 3\n",
       "2. 1\n",
       "3. 2\n",
       "4. 4\n",
       "\n",
       "\n"
      ],
      "text/plain": [
       "[1] 3 1 2 4"
      ]
     },
     "metadata": {},
     "output_type": "display_data"
    },
    {
     "data": {
      "text/html": [
       "<ol class=list-inline>\n",
       "\t<li>A2</li>\n",
       "\t<li>A1</li>\n",
       "\t<li>A1-</li>\n",
       "\t<li>B1</li>\n",
       "\t<li>B2</li>\n",
       "</ol>\n",
       "\n",
       "<details>\n",
       "\t<summary style=display:list-item;cursor:pointer>\n",
       "\t\t<strong>Levels</strong>:\n",
       "\t</summary>\n",
       "\t<ol class=list-inline>\n",
       "\t\t<li>'A1'</li>\n",
       "\t\t<li>'A1-'</li>\n",
       "\t\t<li>'A2'</li>\n",
       "\t\t<li>'B1'</li>\n",
       "\t\t<li>'B2'</li>\n",
       "\t</ol>\n",
       "</details>"
      ],
      "text/latex": [
       "\\begin{enumerate*}\n",
       "\\item A2\n",
       "\\item A1\n",
       "\\item A1-\n",
       "\\item B1\n",
       "\\item B2\n",
       "\\end{enumerate*}\n",
       "\n",
       "\\emph{Levels}: \\begin{enumerate*}\n",
       "\\item 'A1'\n",
       "\\item 'A1-'\n",
       "\\item 'A2'\n",
       "\\item 'B1'\n",
       "\\item 'B2'\n",
       "\\end{enumerate*}\n"
      ],
      "text/markdown": [
       "1. A2\n",
       "2. A1\n",
       "3. A1-\n",
       "4. B1\n",
       "5. B2\n",
       "\n",
       "\n",
       "\n",
       "**Levels**: 1. 'A1'\n",
       "2. 'A1-'\n",
       "3. 'A2'\n",
       "4. 'B1'\n",
       "5. 'B2'\n",
       "\n",
       "\n"
      ],
      "text/plain": [
       "[1] A2  A1  A1- B1  B2 \n",
       "Levels: A1 A1- A2 B1 B2"
      ]
     },
     "metadata": {},
     "output_type": "display_data"
    },
    {
     "data": {
      "text/html": [
       "<ol class=list-inline>\n",
       "\t<li>3</li>\n",
       "\t<li>2</li>\n",
       "\t<li>4</li>\n",
       "\t<li>1</li>\n",
       "\t<li>&lt;NA&gt;</li>\n",
       "</ol>\n"
      ],
      "text/latex": [
       "\\begin{enumerate*}\n",
       "\\item 3\n",
       "\\item 2\n",
       "\\item 4\n",
       "\\item 1\n",
       "\\item <NA>\n",
       "\\end{enumerate*}\n"
      ],
      "text/markdown": [
       "1. 3\n",
       "2. 2\n",
       "3. 4\n",
       "4. 1\n",
       "5. &lt;NA&gt;\n",
       "\n",
       "\n"
      ],
      "text/plain": [
       "[1]  3  2  4  1 NA"
      ]
     },
     "metadata": {},
     "output_type": "display_data"
    }
   ],
   "source": [
    "#Verificando los valores de las variables categóricas\n",
    "unique(data$raz_cuant_des)\n",
    "unique(data$lect_crit_des) \n",
    "unique(data$comp_ciud_des)\n",
    "unique(data$ingles_desem) \n",
    "unique(data$comu_escr_des) "
   ]
  },
  {
   "cell_type": "code",
   "execution_count": 13,
   "metadata": {},
   "outputs": [],
   "source": [
    "#Cuatro de las cinco variables categóricas tienen valores numéricos, procedemos a cambiarlo a través de la función\n",
    "#factor\n",
    "\n",
    "data$raz_cuant_des <- factor(data$raz_cuant_des, levels = c(1,2,3,4), labels = c(\"Deficiente\",\"Regular\",\"Sobresaliente\",\"Excelente\"))\n",
    "data$lect_crit_des <- factor(data$lect_crit_des, levels = c(1,2,3,4), labels = c(\"Deficiente\",\"Regular\",\"Sobresaliente\",\"Excelente\")) \n",
    "data$comp_ciud_des <- factor(data$comp_ciud_des, levels = c(1,2,3,4), labels = c(\"Deficiente\",\"Regular\",\"Sobresaliente\",\"Excelente\")) \n",
    "data$comu_escr_des <- factor(data$comu_escr_des, levels = c(1,2,3,4), labels = c(\"Deficiente\",\"Regular\",\"Sobresaliente\",\"Excelente\")) "
   ]
  },
  {
   "cell_type": "code",
   "execution_count": 14,
   "metadata": {},
   "outputs": [
    {
     "data": {
      "text/html": [
       "<table>\n",
       "<thead><tr><th scope=col>raz_cuant_des</th><th scope=col>lect_crit_des</th><th scope=col>comp_ciud_des</th><th scope=col>ingles_desem</th><th scope=col>comu_escr_des</th></tr></thead>\n",
       "<tbody>\n",
       "\t<tr><td>Sobresaliente</td><td>Regular      </td><td>Sobresaliente</td><td>A2           </td><td>Sobresaliente</td></tr>\n",
       "\t<tr><td>Regular      </td><td>Regular      </td><td>Deficiente   </td><td>A1           </td><td>Sobresaliente</td></tr>\n",
       "\t<tr><td>Regular      </td><td>Regular      </td><td>Regular      </td><td>A1-          </td><td>Regular      </td></tr>\n",
       "\t<tr><td>Sobresaliente</td><td>Sobresaliente</td><td>Regular      </td><td>A2           </td><td>Excelente    </td></tr>\n",
       "\t<tr><td>Regular      </td><td>Deficiente   </td><td>Regular      </td><td>B1           </td><td>Regular      </td></tr>\n",
       "\t<tr><td>Sobresaliente</td><td>Regular      </td><td>Regular      </td><td>A1-          </td><td>Sobresaliente</td></tr>\n",
       "</tbody>\n",
       "</table>\n"
      ],
      "text/latex": [
       "\\begin{tabular}{r|lllll}\n",
       " raz\\_cuant\\_des & lect\\_crit\\_des & comp\\_ciud\\_des & ingles\\_desem & comu\\_escr\\_des\\\\\n",
       "\\hline\n",
       "\t Sobresaliente & Regular       & Sobresaliente & A2            & Sobresaliente\\\\\n",
       "\t Regular       & Regular       & Deficiente    & A1            & Sobresaliente\\\\\n",
       "\t Regular       & Regular       & Regular       & A1-           & Regular      \\\\\n",
       "\t Sobresaliente & Sobresaliente & Regular       & A2            & Excelente    \\\\\n",
       "\t Regular       & Deficiente    & Regular       & B1            & Regular      \\\\\n",
       "\t Sobresaliente & Regular       & Regular       & A1-           & Sobresaliente\\\\\n",
       "\\end{tabular}\n"
      ],
      "text/markdown": [
       "\n",
       "| raz_cuant_des | lect_crit_des | comp_ciud_des | ingles_desem | comu_escr_des |\n",
       "|---|---|---|---|---|\n",
       "| Sobresaliente | Regular       | Sobresaliente | A2            | Sobresaliente |\n",
       "| Regular       | Regular       | Deficiente    | A1            | Sobresaliente |\n",
       "| Regular       | Regular       | Regular       | A1-           | Regular       |\n",
       "| Sobresaliente | Sobresaliente | Regular       | A2            | Excelente     |\n",
       "| Regular       | Deficiente    | Regular       | B1            | Regular       |\n",
       "| Sobresaliente | Regular       | Regular       | A1-           | Sobresaliente |\n",
       "\n"
      ],
      "text/plain": [
       "  raz_cuant_des lect_crit_des comp_ciud_des ingles_desem comu_escr_des\n",
       "1 Sobresaliente Regular       Sobresaliente A2           Sobresaliente\n",
       "2 Regular       Regular       Deficiente    A1           Sobresaliente\n",
       "3 Regular       Regular       Regular       A1-          Regular      \n",
       "4 Sobresaliente Sobresaliente Regular       A2           Excelente    \n",
       "5 Regular       Deficiente    Regular       B1           Regular      \n",
       "6 Sobresaliente Regular       Regular       A1-          Sobresaliente"
      ]
     },
     "metadata": {},
     "output_type": "display_data"
    }
   ],
   "source": [
    "head(data[, c('raz_cuant_des', 'lect_crit_des', 'comp_ciud_des', 'ingles_desem','comu_escr_des')]);#Head de las variables categóricas\n",
    "#del dataframe"
   ]
  },
  {
   "cell_type": "markdown",
   "metadata": {},
   "source": [
    "Vamos a centrarnos en las variables cuántitativas de los puntajes obtenidos, estas son:"
   ]
  },
  {
   "cell_type": "code",
   "execution_count": 15,
   "metadata": {
    "scrolled": true
   },
   "outputs": [
    {
     "data": {
      "text/html": [
       "<table>\n",
       "<thead><tr><th scope=col>raz_cuant_punt</th><th scope=col>lect_crit_punt</th><th scope=col>comp_ciud_punt</th><th scope=col>ingles_punt</th><th scope=col>comu_escr_punt</th></tr></thead>\n",
       "<tbody>\n",
       "\t<tr><td>160</td><td>130</td><td>167</td><td>160</td><td>155</td></tr>\n",
       "\t<tr><td>138</td><td>132</td><td> 77</td><td>125</td><td>164</td></tr>\n",
       "\t<tr><td>146</td><td>157</td><td>150</td><td>104</td><td>122</td></tr>\n",
       "\t<tr><td>160</td><td>172</td><td>151</td><td>160</td><td>192</td></tr>\n",
       "\t<tr><td>130</td><td>122</td><td>144</td><td>192</td><td>131</td></tr>\n",
       "\t<tr><td>159</td><td>129</td><td>147</td><td>108</td><td>154</td></tr>\n",
       "</tbody>\n",
       "</table>\n"
      ],
      "text/latex": [
       "\\begin{tabular}{r|lllll}\n",
       " raz\\_cuant\\_punt & lect\\_crit\\_punt & comp\\_ciud\\_punt & ingles\\_punt & comu\\_escr\\_punt\\\\\n",
       "\\hline\n",
       "\t 160 & 130 & 167 & 160 & 155\\\\\n",
       "\t 138 & 132 &  77 & 125 & 164\\\\\n",
       "\t 146 & 157 & 150 & 104 & 122\\\\\n",
       "\t 160 & 172 & 151 & 160 & 192\\\\\n",
       "\t 130 & 122 & 144 & 192 & 131\\\\\n",
       "\t 159 & 129 & 147 & 108 & 154\\\\\n",
       "\\end{tabular}\n"
      ],
      "text/markdown": [
       "\n",
       "| raz_cuant_punt | lect_crit_punt | comp_ciud_punt | ingles_punt | comu_escr_punt |\n",
       "|---|---|---|---|---|\n",
       "| 160 | 130 | 167 | 160 | 155 |\n",
       "| 138 | 132 |  77 | 125 | 164 |\n",
       "| 146 | 157 | 150 | 104 | 122 |\n",
       "| 160 | 172 | 151 | 160 | 192 |\n",
       "| 130 | 122 | 144 | 192 | 131 |\n",
       "| 159 | 129 | 147 | 108 | 154 |\n",
       "\n"
      ],
      "text/plain": [
       "  raz_cuant_punt lect_crit_punt comp_ciud_punt ingles_punt comu_escr_punt\n",
       "1 160            130            167            160         155           \n",
       "2 138            132             77            125         164           \n",
       "3 146            157            150            104         122           \n",
       "4 160            172            151            160         192           \n",
       "5 130            122            144            192         131           \n",
       "6 159            129            147            108         154           "
      ]
     },
     "metadata": {},
     "output_type": "display_data"
    }
   ],
   "source": [
    "head(data[, c('raz_cuant_punt', 'lect_crit_punt', 'comp_ciud_punt', 'ingles_punt', 'comu_escr_punt')])#Head de las variables\n",
    "#cuántitativas y sobre las cuales haremos un muestreo aleatorio simple (MAS)."
   ]
  },
  {
   "cell_type": "code",
   "execution_count": 16,
   "metadata": {},
   "outputs": [],
   "source": [
    "#eliminamos los NA\n",
    "datoslimpios = na.omit(data)\n",
    "Lcomu_escr=round(mean(datoslimpios$comu_escr_punt))\n",
    "data$comu_escr_punt[is.na(data$comu_escr_punt)]=Lcomu_escr"
   ]
  },
  {
   "cell_type": "code",
   "execution_count": 17,
   "metadata": {},
   "outputs": [],
   "source": [
    "#Definimos un dataframe más compacto con el que trabajar\n",
    "\n",
    "df <- data.frame(Periodo = data$periodo, Departamento = data$estu_depto_reside, RC_Puntaje= data$raz_cuant_punt, LC_Puntaje = data$lect_crit_punt, CC_Puntaje = data$comp_ciud_punt, Ingles_Puntaje = data$ingles_punt, CE_Puntaje = data$comu_escr_punt)\n"
   ]
  },
  {
   "cell_type": "code",
   "execution_count": 18,
   "metadata": {},
   "outputs": [
    {
     "data": {
      "text/html": [
       "<table>\n",
       "<thead><tr><th scope=col>Periodo</th><th scope=col>Departamento</th><th scope=col>RC_Puntaje</th><th scope=col>LC_Puntaje</th><th scope=col>CC_Puntaje</th><th scope=col>Ingles_Puntaje</th><th scope=col>CE_Puntaje</th></tr></thead>\n",
       "<tbody>\n",
       "\t<tr><td>2016        </td><td>ATLANTICO   </td><td>160         </td><td>130         </td><td>167         </td><td>160         </td><td>155         </td></tr>\n",
       "\t<tr><td>2016        </td><td>CUNDINAMARCA</td><td>138         </td><td>132         </td><td> 77         </td><td>125         </td><td>164         </td></tr>\n",
       "\t<tr><td>2016        </td><td>CALDAS      </td><td>146         </td><td>157         </td><td>150         </td><td>104         </td><td>122         </td></tr>\n",
       "\t<tr><td>2016        </td><td>MAGDALENA   </td><td>160         </td><td>172         </td><td>151         </td><td>160         </td><td>192         </td></tr>\n",
       "\t<tr><td>2016        </td><td>CORDOBA     </td><td>130         </td><td>122         </td><td>144         </td><td>192         </td><td>131         </td></tr>\n",
       "\t<tr><td>2016        </td><td>CAUCA       </td><td>159         </td><td>129         </td><td>147         </td><td>108         </td><td>154         </td></tr>\n",
       "</tbody>\n",
       "</table>\n"
      ],
      "text/latex": [
       "\\begin{tabular}{r|lllllll}\n",
       " Periodo & Departamento & RC\\_Puntaje & LC\\_Puntaje & CC\\_Puntaje & Ingles\\_Puntaje & CE\\_Puntaje\\\\\n",
       "\\hline\n",
       "\t 2016         & ATLANTICO    & 160          & 130          & 167          & 160          & 155         \\\\\n",
       "\t 2016         & CUNDINAMARCA & 138          & 132          &  77          & 125          & 164         \\\\\n",
       "\t 2016         & CALDAS       & 146          & 157          & 150          & 104          & 122         \\\\\n",
       "\t 2016         & MAGDALENA    & 160          & 172          & 151          & 160          & 192         \\\\\n",
       "\t 2016         & CORDOBA      & 130          & 122          & 144          & 192          & 131         \\\\\n",
       "\t 2016         & CAUCA        & 159          & 129          & 147          & 108          & 154         \\\\\n",
       "\\end{tabular}\n"
      ],
      "text/markdown": [
       "\n",
       "| Periodo | Departamento | RC_Puntaje | LC_Puntaje | CC_Puntaje | Ingles_Puntaje | CE_Puntaje |\n",
       "|---|---|---|---|---|---|---|\n",
       "| 2016         | ATLANTICO    | 160          | 130          | 167          | 160          | 155          |\n",
       "| 2016         | CUNDINAMARCA | 138          | 132          |  77          | 125          | 164          |\n",
       "| 2016         | CALDAS       | 146          | 157          | 150          | 104          | 122          |\n",
       "| 2016         | MAGDALENA    | 160          | 172          | 151          | 160          | 192          |\n",
       "| 2016         | CORDOBA      | 130          | 122          | 144          | 192          | 131          |\n",
       "| 2016         | CAUCA        | 159          | 129          | 147          | 108          | 154          |\n",
       "\n"
      ],
      "text/plain": [
       "  Periodo Departamento RC_Puntaje LC_Puntaje CC_Puntaje Ingles_Puntaje\n",
       "1 2016    ATLANTICO    160        130        167        160           \n",
       "2 2016    CUNDINAMARCA 138        132         77        125           \n",
       "3 2016    CALDAS       146        157        150        104           \n",
       "4 2016    MAGDALENA    160        172        151        160           \n",
       "5 2016    CORDOBA      130        122        144        192           \n",
       "6 2016    CAUCA        159        129        147        108           \n",
       "  CE_Puntaje\n",
       "1 155       \n",
       "2 164       \n",
       "3 122       \n",
       "4 192       \n",
       "5 131       \n",
       "6 154       "
      ]
     },
     "metadata": {},
     "output_type": "display_data"
    }
   ],
   "source": [
    "head(df)"
   ]
  },
  {
   "cell_type": "code",
   "execution_count": 19,
   "metadata": {},
   "outputs": [],
   "source": [
    "mystats <- function(x, na.omit=FALSE){\n",
    "  if (na.omit)\n",
    "    x <- x[!is.na(x)]\n",
    "  m <- mean(x)\n",
    "  n <- length(x)\n",
    "  s <- sd(x)\n",
    "  skew <- sum((x-m)^3/s^3)/n\n",
    "  kurt <- sum((x-m)^4/s^4)/n - 3\n",
    "  return(c(\"tamaño\"=n, \"media\"=m, \"desviación estándar\"=s, \"simetría\"=skew, \"kurtosis\"=kurt))\n",
    "}"
   ]
  },
  {
   "cell_type": "markdown",
   "metadata": {},
   "source": [
    "## 1. Realice muestreo aleatorio simple y realice las estimaciones (inferencia) correspondientes. Tenga en cuenta que son múltiples variables"
   ]
  },
  {
   "cell_type": "markdown",
   "metadata": {},
   "source": [
    "## Tamaño de muestra"
   ]
  },
  {
   "cell_type": "code",
   "execution_count": 20,
   "metadata": {
    "scrolled": true
   },
   "outputs": [
    {
     "name": "stdout",
     "output_type": "stream",
     "text": [
      "\n",
      "sample.size.prop object: Sample size for proportion estimate\n",
      "With finite population correction: N=725295, precision e=0.05 and expected proportion P=0.5\n",
      "\n",
      "Sample size needed: 271\n",
      "\n",
      "\n",
      "sample.size.prop object: Sample size for proportion estimate\n",
      "With finite population correction: N=725295, precision e=0.05 and expected proportion P=0.5\n",
      "\n",
      "Sample size needed: 384\n",
      "\n",
      "\n",
      "sample.size.prop object: Sample size for proportion estimate\n",
      "With finite population correction: N=725295, precision e=0.05 and expected proportion P=0.5\n",
      "\n",
      "Sample size needed: 663\n",
      "\n"
     ]
    }
   ],
   "source": [
    "tmuestra1<-sample.size.prop(e=0.05, P = 0.5, N = nrow(df), level = 0.90)\n",
    "tmuestra2<-sample.size.prop(e=0.05, P = 0.5, N = nrow(df), level = 0.95)\n",
    "tmuestra3<-sample.size.prop(e=0.05, P = 0.5, N = nrow(df), level = 0.99)\n",
    "print(tmuestra1)\n",
    "print(tmuestra2)\n",
    "print(tmuestra3)"
   ]
  },
  {
   "cell_type": "markdown",
   "metadata": {},
   "source": [
    "Por lo visto en clase, necesitamos conocer el tamaño de muestra adecuado para la población. Para esto se toma un nivel de confianza de 95% y la proporción predeterminada de 0.5."
   ]
  },
  {
   "cell_type": "code",
   "execution_count": 21,
   "metadata": {},
   "outputs": [],
   "source": [
    "#Creamos las muestras para el n=384\n",
    "n1<-384\n",
    "s1<- sample(1:nrow(df),size=n1,replace=FALSE)\n",
    "n2<-663\n",
    "s2<- sample(1:nrow(df),size=n2,replace=FALSE)\n",
    "n3<-1000\n",
    "s3<- sample(1:nrow(df),size=n3,replace=FALSE)"
   ]
  },
  {
   "cell_type": "code",
   "execution_count": 22,
   "metadata": {
    "scrolled": true
   },
   "outputs": [
    {
     "data": {
      "image/png": "[encoded data removed]",
      "text/plain": [
       "Plot with title \"Competencias Ciudadanas\""
      ]
     },
     "metadata": {},
     "output_type": "display_data"
    }
   ],
   "source": [
    "par(mfrow=c(2,3))\n",
    "\n",
    "with(df[s1,], boxplot(RC_Puntaje, main = 'Razonamiento Cuantitativo'))\n",
    "with(df[s1,], boxplot(LC_Puntaje, main = 'Lectura Crítica'))\n",
    "with(df[s1,], boxplot(CC_Puntaje, main = 'Competencias Ciudadanas'))\n",
    "\n",
    "with(df[s1,], hist(RC_Puntaje, nclass = 50, main = 'Razonamiento Cuantitativo'))\n",
    "with(df[s1,], hist(LC_Puntaje, nclass = 50, main = 'Lectura Crítica'))\n",
    "with(df[s1,], hist(CC_Puntaje, nclass = 50, main = 'Competencias Ciudadanas'))\n",
    "\n",
    "par(mfrow=c(1,1))"
   ]
  },
  {
   "cell_type": "code",
   "execution_count": 23,
   "metadata": {
    "scrolled": true
   },
   "outputs": [
    {
     "data": {
      "text/html": [
       "<table>\n",
       "<thead><tr><th></th><th scope=col>poblacion</th><th scope=col>m1</th><th scope=col>m2</th><th scope=col>m3</th></tr></thead>\n",
       "<tbody>\n",
       "\t<tr><th scope=row>tamaño</th><td>725295.0</td><td>384.0   </td><td>663.0   </td><td>1000.0  </td></tr>\n",
       "\t<tr><th scope=row>media</th><td>   149.5</td><td>151.4   </td><td>149.2   </td><td> 148.9  </td></tr>\n",
       "\t<tr><th scope=row>desviación estándar</th><td>    30.7</td><td> 32.3   </td><td> 31.3   </td><td>  30.5  </td></tr>\n",
       "\t<tr><th scope=row>simetría</th><td>     0.2</td><td>  0.3   </td><td>  0.3   </td><td>   0.2  </td></tr>\n",
       "\t<tr><th scope=row>kurtosis</th><td>     0.1</td><td>  0.4   </td><td>  0.1   </td><td>   0.0  </td></tr>\n",
       "</tbody>\n",
       "</table>\n"
      ],
      "text/latex": [
       "\\begin{tabular}{r|llll}\n",
       "  & poblacion & m1 & m2 & m3\\\\\n",
       "\\hline\n",
       "\ttamaño & 725295.0 & 384.0    & 663.0    & 1000.0  \\\\\n",
       "\tmedia &    149.5 & 151.4    & 149.2    &  148.9  \\\\\n",
       "\tdesviación estándar &     30.7 &  32.3    &  31.3    &   30.5  \\\\\n",
       "\tsimetría &      0.2 &   0.3    &   0.3    &    0.2  \\\\\n",
       "\tkurtosis &      0.1 &   0.4    &   0.1    &    0.0  \\\\\n",
       "\\end{tabular}\n"
      ],
      "text/markdown": [
       "\n",
       "| <!--/--> | poblacion | m1 | m2 | m3 |\n",
       "|---|---|---|---|---|\n",
       "| tamaño | 725295.0 | 384.0    | 663.0    | 1000.0   |\n",
       "| media |    149.5 | 151.4    | 149.2    |  148.9   |\n",
       "| desviación estándar |     30.7 |  32.3    |  31.3    |   30.5   |\n",
       "| simetría |      0.2 |   0.3    |   0.3    |    0.2   |\n",
       "| kurtosis |      0.1 |   0.4    |   0.1    |    0.0   |\n",
       "\n"
      ],
      "text/plain": [
       "                    poblacion m1    m2    m3    \n",
       "tamaño              725295.0  384.0 663.0 1000.0\n",
       "media                  149.5  151.4 149.2  148.9\n",
       "desviación estándar     30.7   32.3  31.3   30.5\n",
       "simetría                 0.2    0.3   0.3    0.2\n",
       "kurtosis                 0.1    0.4   0.1    0.0"
      ]
     },
     "metadata": {},
     "output_type": "display_data"
    },
    {
     "data": {
      "text/html": [
       "<table>\n",
       "<thead><tr><th></th><th scope=col>poblacion</th><th scope=col>m1</th><th scope=col>m2</th><th scope=col>m3</th></tr></thead>\n",
       "<tbody>\n",
       "\t<tr><th scope=row>tamaño</th><td>725295.0</td><td>384.0   </td><td>663.0   </td><td>1000.0  </td></tr>\n",
       "\t<tr><th scope=row>media</th><td>   150.1</td><td>151.6   </td><td>149.6   </td><td> 149.2  </td></tr>\n",
       "\t<tr><th scope=row>desviación estándar</th><td>    31.0</td><td> 31.8   </td><td> 31.8   </td><td>  31.1  </td></tr>\n",
       "\t<tr><th scope=row>simetría</th><td>     0.0</td><td>  0.1   </td><td>  0.0   </td><td>   0.1  </td></tr>\n",
       "\t<tr><th scope=row>kurtosis</th><td>    -0.3</td><td> -0.6   </td><td> -0.6   </td><td>  -0.4  </td></tr>\n",
       "</tbody>\n",
       "</table>\n"
      ],
      "text/latex": [
       "\\begin{tabular}{r|llll}\n",
       "  & poblacion & m1 & m2 & m3\\\\\n",
       "\\hline\n",
       "\ttamaño & 725295.0 & 384.0    & 663.0    & 1000.0  \\\\\n",
       "\tmedia &    150.1 & 151.6    & 149.6    &  149.2  \\\\\n",
       "\tdesviación estándar &     31.0 &  31.8    &  31.8    &   31.1  \\\\\n",
       "\tsimetría &      0.0 &   0.1    &   0.0    &    0.1  \\\\\n",
       "\tkurtosis &     -0.3 &  -0.6    &  -0.6    &   -0.4  \\\\\n",
       "\\end{tabular}\n"
      ],
      "text/markdown": [
       "\n",
       "| <!--/--> | poblacion | m1 | m2 | m3 |\n",
       "|---|---|---|---|---|\n",
       "| tamaño | 725295.0 | 384.0    | 663.0    | 1000.0   |\n",
       "| media |    150.1 | 151.6    | 149.6    |  149.2   |\n",
       "| desviación estándar |     31.0 |  31.8    |  31.8    |   31.1   |\n",
       "| simetría |      0.0 |   0.1    |   0.0    |    0.1   |\n",
       "| kurtosis |     -0.3 |  -0.6    |  -0.6    |   -0.4   |\n",
       "\n"
      ],
      "text/plain": [
       "                    poblacion m1    m2    m3    \n",
       "tamaño              725295.0  384.0 663.0 1000.0\n",
       "media                  150.1  151.6 149.6  149.2\n",
       "desviación estándar     31.0   31.8  31.8   31.1\n",
       "simetría                 0.0    0.1   0.0    0.1\n",
       "kurtosis                -0.3   -0.6  -0.6   -0.4"
      ]
     },
     "metadata": {},
     "output_type": "display_data"
    },
    {
     "data": {
      "text/html": [
       "<table>\n",
       "<thead><tr><th></th><th scope=col>poblacion</th><th scope=col>m1</th><th scope=col>m2</th><th scope=col>m3</th></tr></thead>\n",
       "<tbody>\n",
       "\t<tr><th scope=row>tamaño</th><td>725295.0</td><td>384.0   </td><td>663.0   </td><td>1000.0  </td></tr>\n",
       "\t<tr><th scope=row>media</th><td>   144.8</td><td>145.4   </td><td>144.1   </td><td> 144.4  </td></tr>\n",
       "\t<tr><th scope=row>desviación estándar</th><td>    32.5</td><td> 32.6   </td><td> 32.7   </td><td>  32.6  </td></tr>\n",
       "\t<tr><th scope=row>simetría</th><td>    -0.1</td><td> -0.2   </td><td>  0.1   </td><td>   0.0  </td></tr>\n",
       "\t<tr><th scope=row>kurtosis</th><td>     0.0</td><td>  0.3   </td><td>  0.1   </td><td>  -0.5  </td></tr>\n",
       "</tbody>\n",
       "</table>\n"
      ],
      "text/latex": [
       "\\begin{tabular}{r|llll}\n",
       "  & poblacion & m1 & m2 & m3\\\\\n",
       "\\hline\n",
       "\ttamaño & 725295.0 & 384.0    & 663.0    & 1000.0  \\\\\n",
       "\tmedia &    144.8 & 145.4    & 144.1    &  144.4  \\\\\n",
       "\tdesviación estándar &     32.5 &  32.6    &  32.7    &   32.6  \\\\\n",
       "\tsimetría &     -0.1 &  -0.2    &   0.1    &    0.0  \\\\\n",
       "\tkurtosis &      0.0 &   0.3    &   0.1    &   -0.5  \\\\\n",
       "\\end{tabular}\n"
      ],
      "text/markdown": [
       "\n",
       "| <!--/--> | poblacion | m1 | m2 | m3 |\n",
       "|---|---|---|---|---|\n",
       "| tamaño | 725295.0 | 384.0    | 663.0    | 1000.0   |\n",
       "| media |    144.8 | 145.4    | 144.1    |  144.4   |\n",
       "| desviación estándar |     32.5 |  32.6    |  32.7    |   32.6   |\n",
       "| simetría |     -0.1 |  -0.2    |   0.1    |    0.0   |\n",
       "| kurtosis |      0.0 |   0.3    |   0.1    |   -0.5   |\n",
       "\n"
      ],
      "text/plain": [
       "                    poblacion m1    m2    m3    \n",
       "tamaño              725295.0  384.0 663.0 1000.0\n",
       "media                  144.8  145.4 144.1  144.4\n",
       "desviación estándar     32.5   32.6  32.7   32.6\n",
       "simetría                -0.1   -0.2   0.1    0.0\n",
       "kurtosis                 0.0    0.3   0.1   -0.5"
      ]
     },
     "metadata": {},
     "output_type": "display_data"
    }
   ],
   "source": [
    "#Inferencias razonamiento cuantitativo\n",
    "poblacion <- round(mystats(df[,'RC_Puntaje']),1)\n",
    "m1 <- round(mystats(df[s1,'RC_Puntaje']),1)\n",
    "m2 <- round(mystats(df[s2,'RC_Puntaje']),1)\n",
    "m3 <- round(mystats(df[s3,'RC_Puntaje']),1)\n",
    "data.frame(poblacion,m1,m2,m3)\n",
    "\n",
    "#Inferencias lectura crítica\n",
    "poblacion <- round(mystats(df[,'LC_Puntaje']),1)\n",
    "m1 <- round(mystats(df[s1,'LC_Puntaje']),1)\n",
    "m2 <- round(mystats(df[s2,'LC_Puntaje']),1)\n",
    "m3 <- round(mystats(df[s3,'LC_Puntaje']),1)\n",
    "data.frame(poblacion,m1,m2,m3)\n",
    "\n",
    "#Inferencias competencias ciudadanas\n",
    "poblacion <- round(mystats(df[,'CC_Puntaje']),1)\n",
    "m1 <- round(mystats(df[s1,'CC_Puntaje']),1)\n",
    "m2 <- round(mystats(df[s2,'CC_Puntaje']),1)\n",
    "m3 <- round(mystats(df[s3,'CC_Puntaje']),1)\n",
    "data.frame(poblacion,m1,m2,m3)"
   ]
  },
  {
   "cell_type": "code",
   "execution_count": 24,
   "metadata": {},
   "outputs": [
    {
     "data": {
      "image/png": "[encoded data removed]",
      "text/plain": [
       "Plot with title \"n=1000\""
      ]
     },
     "metadata": {},
     "output_type": "display_data"
    }
   ],
   "source": [
    "par(mfrow=c(2,4))\n",
    "with(df, boxplot(RC_Puntaje, main = 'Población'))\n",
    "with(df[s1,], boxplot(RC_Puntaje, main = 'n=384'))\n",
    "with(df[s2,], boxplot(RC_Puntaje, main = 'n=663'))\n",
    "with(df[s3,], boxplot(RC_Puntaje, main = 'n=1000'))\n",
    "with(df, hist(RC_Puntaje, nclass = 50, main = 'Población'))\n",
    "with(df[s1,], hist(RC_Puntaje, nclass = 50, main = 'n=384'))\n",
    "with(df[s2,], hist(RC_Puntaje, nclass = 50, main = 'n=663'))\n",
    "with(df[s3,], hist(RC_Puntaje, nclass = 50, main = 'n=1000'))\n",
    "par(mfrow=c(1,1))\n"
   ]
  },
  {
   "cell_type": "markdown",
   "metadata": {},
   "source": [
    "### Inferencias: "
   ]
  },
  {
   "cell_type": "markdown",
   "metadata": {},
   "source": [
    "Usaremos la segunda muestra para las respectivas inferencias, la cual tiene n=384 y un intervalo de confianza del 95%"
   ]
  },
  {
   "cell_type": "code",
   "execution_count": 25,
   "metadata": {},
   "outputs": [],
   "source": [
    "inferencia <- function(data, n_conf){\n",
    "    media <- mean(na.omit(data)) # Pedimos la media\n",
    "    desv <- sd(na.omit(data)) # La desviación estándar\n",
    "    N <- length(na.omit(data)) # El tamaño válido de la muestra\n",
    "    error.est <- desv/sqrt(N) # Calculamos el error estándar\n",
    "    error <- n_conf*error.est # Fijamos Z=2 para indicar un nivel de confianza de 95%\n",
    "    lim.inf <- media-error # Límite inferior del intervalo\n",
    "    lim.sup <- media+error # Límite superior del intervalo\n",
    "    inferencia<- data.frame(media, desv, N, error.est, error, lim.inf, lim.sup)\n",
    "  return(inferencia)\n",
    "}"
   ]
  },
  {
   "cell_type": "code",
   "execution_count": 26,
   "metadata": {
    "scrolled": true
   },
   "outputs": [
    {
     "name": "stdout",
     "output_type": "stream",
     "text": [
      "[1] \"Razonamiento Cuantitativo\"\n"
     ]
    },
    {
     "data": {
      "text/html": [
       "<table>\n",
       "<thead><tr><th scope=col>media</th><th scope=col>desv</th><th scope=col>N</th><th scope=col>error.est</th><th scope=col>error</th><th scope=col>lim.inf</th><th scope=col>lim.sup</th></tr></thead>\n",
       "<tbody>\n",
       "\t<tr><td>151.38</td><td>32.26 </td><td>384   </td><td>1.65  </td><td>2.7   </td><td>148.68</td><td>154.08</td></tr>\n",
       "</tbody>\n",
       "</table>\n"
      ],
      "text/latex": [
       "\\begin{tabular}{r|lllllll}\n",
       " media & desv & N & error.est & error & lim.inf & lim.sup\\\\\n",
       "\\hline\n",
       "\t 151.38 & 32.26  & 384    & 1.65   & 2.7    & 148.68 & 154.08\\\\\n",
       "\\end{tabular}\n"
      ],
      "text/markdown": [
       "\n",
       "| media | desv | N | error.est | error | lim.inf | lim.sup |\n",
       "|---|---|---|---|---|---|---|\n",
       "| 151.38 | 32.26  | 384    | 1.65   | 2.7    | 148.68 | 154.08 |\n",
       "\n"
      ],
      "text/plain": [
       "  media  desv  N   error.est error lim.inf lim.sup\n",
       "1 151.38 32.26 384 1.65      2.7   148.68  154.08 "
      ]
     },
     "metadata": {},
     "output_type": "display_data"
    },
    {
     "name": "stdout",
     "output_type": "stream",
     "text": [
      "[1] \"Lectura Crítica\"\n"
     ]
    },
    {
     "data": {
      "text/html": [
       "<table>\n",
       "<thead><tr><th scope=col>media</th><th scope=col>desv</th><th scope=col>N</th><th scope=col>error.est</th><th scope=col>error</th><th scope=col>lim.inf</th><th scope=col>lim.sup</th></tr></thead>\n",
       "<tbody>\n",
       "\t<tr><td>151.58</td><td>31.75 </td><td>384   </td><td>1.62  </td><td>2.66  </td><td>148.93</td><td>154.24</td></tr>\n",
       "</tbody>\n",
       "</table>\n"
      ],
      "text/latex": [
       "\\begin{tabular}{r|lllllll}\n",
       " media & desv & N & error.est & error & lim.inf & lim.sup\\\\\n",
       "\\hline\n",
       "\t 151.58 & 31.75  & 384    & 1.62   & 2.66   & 148.93 & 154.24\\\\\n",
       "\\end{tabular}\n"
      ],
      "text/markdown": [
       "\n",
       "| media | desv | N | error.est | error | lim.inf | lim.sup |\n",
       "|---|---|---|---|---|---|---|\n",
       "| 151.58 | 31.75  | 384    | 1.62   | 2.66   | 148.93 | 154.24 |\n",
       "\n"
      ],
      "text/plain": [
       "  media  desv  N   error.est error lim.inf lim.sup\n",
       "1 151.58 31.75 384 1.62      2.66  148.93  154.24 "
      ]
     },
     "metadata": {},
     "output_type": "display_data"
    },
    {
     "name": "stdout",
     "output_type": "stream",
     "text": [
      "[1] \"Competencias Ciudadanas\"\n"
     ]
    },
    {
     "data": {
      "text/html": [
       "<table>\n",
       "<thead><tr><th scope=col>media</th><th scope=col>desv</th><th scope=col>N</th><th scope=col>error.est</th><th scope=col>error</th><th scope=col>lim.inf</th><th scope=col>lim.sup</th></tr></thead>\n",
       "<tbody>\n",
       "\t<tr><td>145.41</td><td>32.62 </td><td>384   </td><td>1.66  </td><td>2.73  </td><td>142.68</td><td>148.14</td></tr>\n",
       "</tbody>\n",
       "</table>\n"
      ],
      "text/latex": [
       "\\begin{tabular}{r|lllllll}\n",
       " media & desv & N & error.est & error & lim.inf & lim.sup\\\\\n",
       "\\hline\n",
       "\t 145.41 & 32.62  & 384    & 1.66   & 2.73   & 142.68 & 148.14\\\\\n",
       "\\end{tabular}\n"
      ],
      "text/markdown": [
       "\n",
       "| media | desv | N | error.est | error | lim.inf | lim.sup |\n",
       "|---|---|---|---|---|---|---|\n",
       "| 145.41 | 32.62  | 384    | 1.66   | 2.73   | 142.68 | 148.14 |\n",
       "\n"
      ],
      "text/plain": [
       "  media  desv  N   error.est error lim.inf lim.sup\n",
       "1 145.41 32.62 384 1.66      2.73  142.68  148.14 "
      ]
     },
     "metadata": {},
     "output_type": "display_data"
    }
   ],
   "source": [
    "print('Razonamiento Cuantitativo')\n",
    "inf_RC_90<- inferencia(df[s1,]$RC_Puntaje,1.64)\n",
    "round(inf_RC_90,2)\n",
    "print('Lectura Crítica')\n",
    "inf_LC_90<- inferencia(df[s1,]$LC_Puntaje,1.64)\n",
    "round(inf_LC_90,2)\n",
    "print(\"Competencias Ciudadanas\")\n",
    "inf_CC_90<- inferencia(df[s1,]$CC_Puntaje,1.64)\n",
    "round(inf_CC_90,2)\n"
   ]
  },
  {
   "cell_type": "code",
   "execution_count": 27,
   "metadata": {
    "scrolled": true
   },
   "outputs": [
    {
     "name": "stdout",
     "output_type": "stream",
     "text": [
      "[1] \"Razonamiento Cuantitativo\"\n"
     ]
    },
    {
     "data": {
      "text/html": [
       "<table>\n",
       "<thead><tr><th scope=col>media</th><th scope=col>desv</th><th scope=col>N</th><th scope=col>error.est</th><th scope=col>error</th><th scope=col>lim.inf</th><th scope=col>lim.sup</th></tr></thead>\n",
       "<tbody>\n",
       "\t<tr><td>151.38</td><td>32.26 </td><td>384   </td><td>1.65  </td><td>3.23  </td><td>148.15</td><td>154.6 </td></tr>\n",
       "</tbody>\n",
       "</table>\n"
      ],
      "text/latex": [
       "\\begin{tabular}{r|lllllll}\n",
       " media & desv & N & error.est & error & lim.inf & lim.sup\\\\\n",
       "\\hline\n",
       "\t 151.38 & 32.26  & 384    & 1.65   & 3.23   & 148.15 & 154.6 \\\\\n",
       "\\end{tabular}\n"
      ],
      "text/markdown": [
       "\n",
       "| media | desv | N | error.est | error | lim.inf | lim.sup |\n",
       "|---|---|---|---|---|---|---|\n",
       "| 151.38 | 32.26  | 384    | 1.65   | 3.23   | 148.15 | 154.6  |\n",
       "\n"
      ],
      "text/plain": [
       "  media  desv  N   error.est error lim.inf lim.sup\n",
       "1 151.38 32.26 384 1.65      3.23  148.15  154.6  "
      ]
     },
     "metadata": {},
     "output_type": "display_data"
    },
    {
     "name": "stdout",
     "output_type": "stream",
     "text": [
      "[1] \"Lectura Crítica\"\n"
     ]
    },
    {
     "data": {
      "text/html": [
       "<table>\n",
       "<thead><tr><th scope=col>media</th><th scope=col>desv</th><th scope=col>N</th><th scope=col>error.est</th><th scope=col>error</th><th scope=col>lim.inf</th><th scope=col>lim.sup</th></tr></thead>\n",
       "<tbody>\n",
       "\t<tr><td>151.58</td><td>31.75 </td><td>384   </td><td>1.62  </td><td>3.18  </td><td>148.41</td><td>154.76</td></tr>\n",
       "</tbody>\n",
       "</table>\n"
      ],
      "text/latex": [
       "\\begin{tabular}{r|lllllll}\n",
       " media & desv & N & error.est & error & lim.inf & lim.sup\\\\\n",
       "\\hline\n",
       "\t 151.58 & 31.75  & 384    & 1.62   & 3.18   & 148.41 & 154.76\\\\\n",
       "\\end{tabular}\n"
      ],
      "text/markdown": [
       "\n",
       "| media | desv | N | error.est | error | lim.inf | lim.sup |\n",
       "|---|---|---|---|---|---|---|\n",
       "| 151.58 | 31.75  | 384    | 1.62   | 3.18   | 148.41 | 154.76 |\n",
       "\n"
      ],
      "text/plain": [
       "  media  desv  N   error.est error lim.inf lim.sup\n",
       "1 151.58 31.75 384 1.62      3.18  148.41  154.76 "
      ]
     },
     "metadata": {},
     "output_type": "display_data"
    },
    {
     "name": "stdout",
     "output_type": "stream",
     "text": [
      "[1] \"Competencias Ciudadanas\"\n"
     ]
    },
    {
     "data": {
      "text/html": [
       "<table>\n",
       "<thead><tr><th scope=col>media</th><th scope=col>desv</th><th scope=col>N</th><th scope=col>error.est</th><th scope=col>error</th><th scope=col>lim.inf</th><th scope=col>lim.sup</th></tr></thead>\n",
       "<tbody>\n",
       "\t<tr><td>145.41</td><td>32.62 </td><td>384   </td><td>1.66  </td><td>3.26  </td><td>142.15</td><td>148.67</td></tr>\n",
       "</tbody>\n",
       "</table>\n"
      ],
      "text/latex": [
       "\\begin{tabular}{r|lllllll}\n",
       " media & desv & N & error.est & error & lim.inf & lim.sup\\\\\n",
       "\\hline\n",
       "\t 145.41 & 32.62  & 384    & 1.66   & 3.26   & 142.15 & 148.67\\\\\n",
       "\\end{tabular}\n"
      ],
      "text/markdown": [
       "\n",
       "| media | desv | N | error.est | error | lim.inf | lim.sup |\n",
       "|---|---|---|---|---|---|---|\n",
       "| 145.41 | 32.62  | 384    | 1.66   | 3.26   | 142.15 | 148.67 |\n",
       "\n"
      ],
      "text/plain": [
       "  media  desv  N   error.est error lim.inf lim.sup\n",
       "1 145.41 32.62 384 1.66      3.26  142.15  148.67 "
      ]
     },
     "metadata": {},
     "output_type": "display_data"
    }
   ],
   "source": [
    "print('Razonamiento Cuantitativo')\n",
    "inf_RC_95<- inferencia(df[s1,]$RC_Puntaje,1.96)\n",
    "round(inf_RC_95,2)\n",
    "print('Lectura Crítica')\n",
    "inf_LC_95<- inferencia(df[s1,]$LC_Puntaje,1.96)\n",
    "round(inf_LC_95,2)\n",
    "print(\"Competencias Ciudadanas\")\n",
    "inf_CC_95<- inferencia(df[s1,]$CC_Puntaje,1.96)\n",
    "round(inf_CC_95,2)"
   ]
  },
  {
   "cell_type": "code",
   "execution_count": 28,
   "metadata": {},
   "outputs": [
    {
     "name": "stdout",
     "output_type": "stream",
     "text": [
      "[1] \"Razonamiento Cuantitativo\"\n"
     ]
    },
    {
     "data": {
      "text/html": [
       "<table>\n",
       "<thead><tr><th scope=col>media</th><th scope=col>desv</th><th scope=col>N</th><th scope=col>error.est</th><th scope=col>error</th><th scope=col>lim.inf</th><th scope=col>lim.sup</th></tr></thead>\n",
       "<tbody>\n",
       "\t<tr><td>151.38</td><td>32.26 </td><td>384   </td><td>1.65  </td><td>4.23  </td><td>147.15</td><td>155.61</td></tr>\n",
       "</tbody>\n",
       "</table>\n"
      ],
      "text/latex": [
       "\\begin{tabular}{r|lllllll}\n",
       " media & desv & N & error.est & error & lim.inf & lim.sup\\\\\n",
       "\\hline\n",
       "\t 151.38 & 32.26  & 384    & 1.65   & 4.23   & 147.15 & 155.61\\\\\n",
       "\\end{tabular}\n"
      ],
      "text/markdown": [
       "\n",
       "| media | desv | N | error.est | error | lim.inf | lim.sup |\n",
       "|---|---|---|---|---|---|---|\n",
       "| 151.38 | 32.26  | 384    | 1.65   | 4.23   | 147.15 | 155.61 |\n",
       "\n"
      ],
      "text/plain": [
       "  media  desv  N   error.est error lim.inf lim.sup\n",
       "1 151.38 32.26 384 1.65      4.23  147.15  155.61 "
      ]
     },
     "metadata": {},
     "output_type": "display_data"
    },
    {
     "name": "stdout",
     "output_type": "stream",
     "text": [
      "[1] \"Lectura Crítica\"\n"
     ]
    },
    {
     "data": {
      "text/html": [
       "<table>\n",
       "<thead><tr><th scope=col>media</th><th scope=col>desv</th><th scope=col>N</th><th scope=col>error.est</th><th scope=col>error</th><th scope=col>lim.inf</th><th scope=col>lim.sup</th></tr></thead>\n",
       "<tbody>\n",
       "\t<tr><td>151.58</td><td>31.75 </td><td>384   </td><td>1.62  </td><td>4.16  </td><td>147.42</td><td>155.75</td></tr>\n",
       "</tbody>\n",
       "</table>\n"
      ],
      "text/latex": [
       "\\begin{tabular}{r|lllllll}\n",
       " media & desv & N & error.est & error & lim.inf & lim.sup\\\\\n",
       "\\hline\n",
       "\t 151.58 & 31.75  & 384    & 1.62   & 4.16   & 147.42 & 155.75\\\\\n",
       "\\end{tabular}\n"
      ],
      "text/markdown": [
       "\n",
       "| media | desv | N | error.est | error | lim.inf | lim.sup |\n",
       "|---|---|---|---|---|---|---|\n",
       "| 151.58 | 31.75  | 384    | 1.62   | 4.16   | 147.42 | 155.75 |\n",
       "\n"
      ],
      "text/plain": [
       "  media  desv  N   error.est error lim.inf lim.sup\n",
       "1 151.58 31.75 384 1.62      4.16  147.42  155.75 "
      ]
     },
     "metadata": {},
     "output_type": "display_data"
    },
    {
     "name": "stdout",
     "output_type": "stream",
     "text": [
      "[1] \"Competencias Ciudadanas\"\n"
     ]
    },
    {
     "data": {
      "text/html": [
       "<table>\n",
       "<thead><tr><th scope=col>media</th><th scope=col>desv</th><th scope=col>N</th><th scope=col>error.est</th><th scope=col>error</th><th scope=col>lim.inf</th><th scope=col>lim.sup</th></tr></thead>\n",
       "<tbody>\n",
       "\t<tr><td>145.41</td><td>32.62 </td><td>384   </td><td>1.66  </td><td>4.28  </td><td>141.13</td><td>149.69</td></tr>\n",
       "</tbody>\n",
       "</table>\n"
      ],
      "text/latex": [
       "\\begin{tabular}{r|lllllll}\n",
       " media & desv & N & error.est & error & lim.inf & lim.sup\\\\\n",
       "\\hline\n",
       "\t 145.41 & 32.62  & 384    & 1.66   & 4.28   & 141.13 & 149.69\\\\\n",
       "\\end{tabular}\n"
      ],
      "text/markdown": [
       "\n",
       "| media | desv | N | error.est | error | lim.inf | lim.sup |\n",
       "|---|---|---|---|---|---|---|\n",
       "| 145.41 | 32.62  | 384    | 1.66   | 4.28   | 141.13 | 149.69 |\n",
       "\n"
      ],
      "text/plain": [
       "  media  desv  N   error.est error lim.inf lim.sup\n",
       "1 145.41 32.62 384 1.66      4.28  141.13  149.69 "
      ]
     },
     "metadata": {},
     "output_type": "display_data"
    }
   ],
   "source": [
    "print('Razonamiento Cuantitativo')\n",
    "inf_RC_99<- inferencia(df[s1,]$RC_Puntaje,2.57)\n",
    "round(inf_RC_99,2)\n",
    "print('Lectura Crítica')\n",
    "inf_LC_99<- inferencia(df[s1,]$LC_Puntaje,2.57)\n",
    "round(inf_LC_99,2)\n",
    "print(\"Competencias Ciudadanas\")\n",
    "inf_CC_99<- inferencia(df[s1,]$CC_Puntaje,2.57)\n",
    "round(inf_CC_99,2)"
   ]
  },
  {
   "cell_type": "markdown",
   "metadata": {},
   "source": [
    "## Análisis "
   ]
  },
  {
   "cell_type": "markdown",
   "metadata": {},
   "source": [
    "Con los histogramas podemos observar que a medida que se aumentan la cantidad de muestras la gráfica se va haciendo más fiel a la población real, pareciéndose a una distribución normal. También, se aprecia que esta muestra de 1000 tiene los datos con una menor dispersión por lo que su desviación estándar es menor. En conclusión, a mayor número de muestras los datos deberían estar más agrupados respecto a la media.\n",
    "\n",
    "De igual forma, podemos ver que cuando se tiene un intervalo del 95% de confianza la cantidad de la muestra por defecto (384) se asemeja en gran manera a la población completa.\n",
    "\n",
    "Por otro lado, en las tablas podemos notar que el valor de la simetría en la muestra mayor es idéntica a la población en todos los casos, por lo que no hay ningún tipo de sesgo."
   ]
  },
  {
   "cell_type": "markdown",
   "metadata": {},
   "source": [
    "## 2. Realice los correspondientes muestreos estratificados y compare los resultados con los anteriores. Explique las diferencias y/o similitudes"
   ]
  },
  {
   "cell_type": "markdown",
   "metadata": {},
   "source": [
    "Para las variables raz_cuant_punt y raz_cuant_des:"
   ]
  },
  {
   "cell_type": "code",
   "execution_count": 29,
   "metadata": {},
   "outputs": [
    {
     "data": {
      "text/html": [
       "<table>\n",
       "<thead><tr><th scope=col>raz_cuant_des</th><th scope=col>n</th><th scope=col>s</th><th scope=col>p</th></tr></thead>\n",
       "<tbody>\n",
       "\t<tr><td>Deficiente   </td><td>168183       </td><td>12.148419    </td><td>0.23188220   </td></tr>\n",
       "\t<tr><td>Regular      </td><td>234534       </td><td> 7.978031    </td><td>0.32336360   </td></tr>\n",
       "\t<tr><td>Sobresaliente</td><td>292264       </td><td>13.121279    </td><td>0.40295880   </td></tr>\n",
       "\t<tr><td>Excelente    </td><td> 30314       </td><td>15.831535    </td><td>0.04179541   </td></tr>\n",
       "</tbody>\n",
       "</table>\n"
      ],
      "text/latex": [
       "\\begin{tabular}{r|llll}\n",
       " raz\\_cuant\\_des & n & s & p\\\\\n",
       "\\hline\n",
       "\t Deficiente    & 168183        & 12.148419     & 0.23188220   \\\\\n",
       "\t Regular       & 234534        &  7.978031     & 0.32336360   \\\\\n",
       "\t Sobresaliente & 292264        & 13.121279     & 0.40295880   \\\\\n",
       "\t Excelente     &  30314        & 15.831535     & 0.04179541   \\\\\n",
       "\\end{tabular}\n"
      ],
      "text/markdown": [
       "\n",
       "| raz_cuant_des | n | s | p |\n",
       "|---|---|---|---|\n",
       "| Deficiente    | 168183        | 12.148419     | 0.23188220    |\n",
       "| Regular       | 234534        |  7.978031     | 0.32336360    |\n",
       "| Sobresaliente | 292264        | 13.121279     | 0.40295880    |\n",
       "| Excelente     |  30314        | 15.831535     | 0.04179541    |\n",
       "\n"
      ],
      "text/plain": [
       "  raz_cuant_des n      s         p         \n",
       "1 Deficiente    168183 12.148419 0.23188220\n",
       "2 Regular       234534  7.978031 0.32336360\n",
       "3 Sobresaliente 292264 13.121279 0.40295880\n",
       "4 Excelente      30314 15.831535 0.04179541"
      ]
     },
     "metadata": {},
     "output_type": "display_data"
    }
   ],
   "source": [
    "EstratosRaz <- data %>%\n",
    "  select(raz_cuant_punt,raz_cuant_des) %>%\n",
    "  group_by(raz_cuant_des) %>%\n",
    "  summarise(n=n(),\n",
    "            s=sd(raz_cuant_punt)) %>%\n",
    "  mutate(p=n/sum(n))\n",
    "EstratosRaz"
   ]
  },
  {
   "cell_type": "markdown",
   "metadata": {},
   "source": [
    "Para las variables lect_crit_punt y lect_crit_des:"
   ]
  },
  {
   "cell_type": "code",
   "execution_count": 30,
   "metadata": {},
   "outputs": [
    {
     "data": {
      "text/html": [
       "<table>\n",
       "<thead><tr><th scope=col>lect_crit_des</th><th scope=col>n</th><th scope=col>s</th><th scope=col>p</th></tr></thead>\n",
       "<tbody>\n",
       "\t<tr><td>Deficiente   </td><td>157557       </td><td>12.949062    </td><td>0.21723161   </td></tr>\n",
       "\t<tr><td>Regular      </td><td>270686       </td><td> 9.385729    </td><td>0.37320814   </td></tr>\n",
       "\t<tr><td>Sobresaliente</td><td>255418       </td><td>11.562116    </td><td>0.35215740   </td></tr>\n",
       "\t<tr><td>Excelente    </td><td> 41634       </td><td>10.098844    </td><td>0.05740285   </td></tr>\n",
       "</tbody>\n",
       "</table>\n"
      ],
      "text/latex": [
       "\\begin{tabular}{r|llll}\n",
       " lect\\_crit\\_des & n & s & p\\\\\n",
       "\\hline\n",
       "\t Deficiente    & 157557        & 12.949062     & 0.21723161   \\\\\n",
       "\t Regular       & 270686        &  9.385729     & 0.37320814   \\\\\n",
       "\t Sobresaliente & 255418        & 11.562116     & 0.35215740   \\\\\n",
       "\t Excelente     &  41634        & 10.098844     & 0.05740285   \\\\\n",
       "\\end{tabular}\n"
      ],
      "text/markdown": [
       "\n",
       "| lect_crit_des | n | s | p |\n",
       "|---|---|---|---|\n",
       "| Deficiente    | 157557        | 12.949062     | 0.21723161    |\n",
       "| Regular       | 270686        |  9.385729     | 0.37320814    |\n",
       "| Sobresaliente | 255418        | 11.562116     | 0.35215740    |\n",
       "| Excelente     |  41634        | 10.098844     | 0.05740285    |\n",
       "\n"
      ],
      "text/plain": [
       "  lect_crit_des n      s         p         \n",
       "1 Deficiente    157557 12.949062 0.21723161\n",
       "2 Regular       270686  9.385729 0.37320814\n",
       "3 Sobresaliente 255418 11.562116 0.35215740\n",
       "4 Excelente      41634 10.098844 0.05740285"
      ]
     },
     "metadata": {},
     "output_type": "display_data"
    }
   ],
   "source": [
    "EstratosLect<- data %>%\n",
    "  select(lect_crit_punt,lect_crit_des) %>%\n",
    "  group_by(lect_crit_des) %>%\n",
    "  summarise(n=n(),\n",
    "            s=sd(lect_crit_punt)) %>%\n",
    "  mutate(p=n/sum(n))\n",
    "EstratosLect"
   ]
  },
  {
   "cell_type": "markdown",
   "metadata": {},
   "source": [
    "Para las variables comp_ciud_punt y comp_ciud_des:"
   ]
  },
  {
   "cell_type": "code",
   "execution_count": 31,
   "metadata": {},
   "outputs": [
    {
     "data": {
      "text/html": [
       "<table>\n",
       "<thead><tr><th scope=col>comp_ciud_des</th><th scope=col>n</th><th scope=col>s</th><th scope=col>p</th></tr></thead>\n",
       "<tbody>\n",
       "\t<tr><td>Deficiente   </td><td>202064       </td><td>15.354723    </td><td>0.27859561   </td></tr>\n",
       "\t<tr><td>Regular      </td><td>248924       </td><td> 9.157064    </td><td>0.34320380   </td></tr>\n",
       "\t<tr><td>Sobresaliente</td><td>246438       </td><td>11.539646    </td><td>0.33977623   </td></tr>\n",
       "\t<tr><td>Excelente    </td><td> 27869       </td><td>13.287947    </td><td>0.03842437   </td></tr>\n",
       "</tbody>\n",
       "</table>\n"
      ],
      "text/latex": [
       "\\begin{tabular}{r|llll}\n",
       " comp\\_ciud\\_des & n & s & p\\\\\n",
       "\\hline\n",
       "\t Deficiente    & 202064        & 15.354723     & 0.27859561   \\\\\n",
       "\t Regular       & 248924        &  9.157064     & 0.34320380   \\\\\n",
       "\t Sobresaliente & 246438        & 11.539646     & 0.33977623   \\\\\n",
       "\t Excelente     &  27869        & 13.287947     & 0.03842437   \\\\\n",
       "\\end{tabular}\n"
      ],
      "text/markdown": [
       "\n",
       "| comp_ciud_des | n | s | p |\n",
       "|---|---|---|---|\n",
       "| Deficiente    | 202064        | 15.354723     | 0.27859561    |\n",
       "| Regular       | 248924        |  9.157064     | 0.34320380    |\n",
       "| Sobresaliente | 246438        | 11.539646     | 0.33977623    |\n",
       "| Excelente     |  27869        | 13.287947     | 0.03842437    |\n",
       "\n"
      ],
      "text/plain": [
       "  comp_ciud_des n      s         p         \n",
       "1 Deficiente    202064 15.354723 0.27859561\n",
       "2 Regular       248924  9.157064 0.34320380\n",
       "3 Sobresaliente 246438 11.539646 0.33977623\n",
       "4 Excelente      27869 13.287947 0.03842437"
      ]
     },
     "metadata": {},
     "output_type": "display_data"
    }
   ],
   "source": [
    "EstratosCiud<- data %>%\n",
    "  select(comp_ciud_punt,comp_ciud_des) %>%\n",
    "  group_by(comp_ciud_des) %>%\n",
    "  summarise(n=n(),\n",
    "            s=sd(comp_ciud_punt)) %>%\n",
    "  mutate(p=n/sum(n))\n",
    "EstratosCiud"
   ]
  },
  {
   "cell_type": "code",
   "execution_count": 32,
   "metadata": {},
   "outputs": [
    {
     "data": {
      "text/html": [
       "<table>\n",
       "<thead><tr><th scope=col>des</th><th scope=col>p</th></tr></thead>\n",
       "<tbody>\n",
       "\t<tr><td>Deficiente   </td><td> 90          </td></tr>\n",
       "\t<tr><td>Regular      </td><td>125          </td></tr>\n",
       "\t<tr><td>Sobresaliente</td><td>155          </td></tr>\n",
       "\t<tr><td>Excelente    </td><td> 17          </td></tr>\n",
       "</tbody>\n",
       "</table>\n"
      ],
      "text/latex": [
       "\\begin{tabular}{r|ll}\n",
       " des & p\\\\\n",
       "\\hline\n",
       "\t Deficiente    &  90          \\\\\n",
       "\t Regular       & 125          \\\\\n",
       "\t Sobresaliente & 155          \\\\\n",
       "\t Excelente     &  17          \\\\\n",
       "\\end{tabular}\n"
      ],
      "text/markdown": [
       "\n",
       "| des | p |\n",
       "|---|---|\n",
       "| Deficiente    |  90           |\n",
       "| Regular       | 125           |\n",
       "| Sobresaliente | 155           |\n",
       "| Excelente     |  17           |\n",
       "\n"
      ],
      "text/plain": [
       "  des           p  \n",
       "1 Deficiente     90\n",
       "2 Regular       125\n",
       "3 Sobresaliente 155\n",
       "4 Excelente      17"
      ]
     },
     "metadata": {},
     "output_type": "display_data"
    }
   ],
   "source": [
    "nsizeProp384RC<-nstrata(n=384,wh=EstratosRaz[,4],method=\"proportional\")\n",
    "data.frame(des=EstratosRaz$raz_cuant_des,nsizeProp384RC)"
   ]
  },
  {
   "cell_type": "code",
   "execution_count": 33,
   "metadata": {},
   "outputs": [
    {
     "data": {
      "text/html": [
       "<table>\n",
       "<thead><tr><th scope=col>des</th><th scope=col>p</th></tr></thead>\n",
       "<tbody>\n",
       "\t<tr><td>Deficiente   </td><td> 84          </td></tr>\n",
       "\t<tr><td>Regular      </td><td>144          </td></tr>\n",
       "\t<tr><td>Sobresaliente</td><td>136          </td></tr>\n",
       "\t<tr><td>Excelente    </td><td> 23          </td></tr>\n",
       "</tbody>\n",
       "</table>\n"
      ],
      "text/latex": [
       "\\begin{tabular}{r|ll}\n",
       " des & p\\\\\n",
       "\\hline\n",
       "\t Deficiente    &  84          \\\\\n",
       "\t Regular       & 144          \\\\\n",
       "\t Sobresaliente & 136          \\\\\n",
       "\t Excelente     &  23          \\\\\n",
       "\\end{tabular}\n"
      ],
      "text/markdown": [
       "\n",
       "| des | p |\n",
       "|---|---|\n",
       "| Deficiente    |  84           |\n",
       "| Regular       | 144           |\n",
       "| Sobresaliente | 136           |\n",
       "| Excelente     |  23           |\n",
       "\n"
      ],
      "text/plain": [
       "  des           p  \n",
       "1 Deficiente     84\n",
       "2 Regular       144\n",
       "3 Sobresaliente 136\n",
       "4 Excelente      23"
      ]
     },
     "metadata": {},
     "output_type": "display_data"
    }
   ],
   "source": [
    "nsizeProp384LC<-nstrata(n=384,wh=EstratosLect[,4],method=\"proportional\")\n",
    "data.frame(des=EstratosLect$lect_crit_des,nsizeProp384LC)"
   ]
  },
  {
   "cell_type": "code",
   "execution_count": 34,
   "metadata": {},
   "outputs": [
    {
     "data": {
      "text/html": [
       "<table>\n",
       "<thead><tr><th scope=col>des</th><th scope=col>p</th></tr></thead>\n",
       "<tbody>\n",
       "\t<tr><td>Deficiente   </td><td>107          </td></tr>\n",
       "\t<tr><td>Regular      </td><td>132          </td></tr>\n",
       "\t<tr><td>Sobresaliente</td><td>131          </td></tr>\n",
       "\t<tr><td>Excelente    </td><td> 15          </td></tr>\n",
       "</tbody>\n",
       "</table>\n"
      ],
      "text/latex": [
       "\\begin{tabular}{r|ll}\n",
       " des & p\\\\\n",
       "\\hline\n",
       "\t Deficiente    & 107          \\\\\n",
       "\t Regular       & 132          \\\\\n",
       "\t Sobresaliente & 131          \\\\\n",
       "\t Excelente     &  15          \\\\\n",
       "\\end{tabular}\n"
      ],
      "text/markdown": [
       "\n",
       "| des | p |\n",
       "|---|---|\n",
       "| Deficiente    | 107           |\n",
       "| Regular       | 132           |\n",
       "| Sobresaliente | 131           |\n",
       "| Excelente     |  15           |\n",
       "\n"
      ],
      "text/plain": [
       "  des           p  \n",
       "1 Deficiente    107\n",
       "2 Regular       132\n",
       "3 Sobresaliente 131\n",
       "4 Excelente      15"
      ]
     },
     "metadata": {},
     "output_type": "display_data"
    }
   ],
   "source": [
    "nsizeProp384CC<-nstrata(n=384,wh=EstratosCiud[,4],method=\"proportional\")\n",
    "data.frame(des=EstratosCiud$comp_ciud_des,nsizeProp384CC)"
   ]
  },
  {
   "cell_type": "code",
   "execution_count": 35,
   "metadata": {},
   "outputs": [],
   "source": [
    "muestra_deficienteRC<- sample(1:nrow(data[data$raz_cuant_des=='Deficiente',]),size=90,replace=FALSE)\n",
    "muestra_regularRC<- sample(1:nrow(data[data$raz_cuant_des=='Regular',]),size=125,replace=FALSE)\n",
    "muestra_sobresalienteRC<- sample(1:nrow(data[data$raz_cuant_des=='Sobresaliente',]),size=155,replace=FALSE)\n",
    "muestra_excelenteRC<- sample(1:nrow(data[data$raz_cuant_des=='Excelente',]),size=17,replace=FALSE)\n",
    "\n",
    "mestratoRC<-c(muestra_deficienteRC,muestra_regularRC,muestra_sobresalienteRC,muestra_excelenteRC)\n",
    "\n",
    "muestra_deficienteLC<- sample(1:nrow(data[data$lect_crit_des=='Deficiente',]),size=84,replace=FALSE)\n",
    "muestra_regularRC<- sample(1:nrow(data[data$lect_crit_des=='Regular',]),size=144,replace=FALSE)\n",
    "muestra_sobresalienteLC<- sample(1:nrow(data[data$lect_crit_des=='Sobresaliente',]),size=136,replace=FALSE)\n",
    "muestra_excelenteLC<- sample(1:nrow(data[data$lect_crit_des=='Excelente',]),size=23,replace=FALSE)\n",
    "\n",
    "mestratoLC<-c(muestra_deficienteLC,muestra_regularRC,muestra_sobresalienteLC,muestra_excelenteLC)\n",
    "\n",
    "muestra_deficienteCC<- sample(1:nrow(data[data$comp_ciud_des=='Deficiente',]),size=107,replace=FALSE)\n",
    "muestra_regularCC<- sample(1:nrow(data[data$comp_ciud_des=='Regular',]),size=132,replace=FALSE)\n",
    "muestra_sobresalienteCC<- sample(1:nrow(data[data$comp_ciud_des=='Sobresaliente',]),size=131,replace=FALSE)\n",
    "muestra_excelenteCC<- sample(1:nrow(data[data$comp_ciud_des=='Excelente',]),size=15,replace=FALSE)\n",
    "\n",
    "mestratoCC<-c(muestra_deficienteCC,muestra_regularCC,muestra_sobresalienteCC,muestra_excelenteCC)"
   ]
  },
  {
   "cell_type": "code",
   "execution_count": 36,
   "metadata": {
    "scrolled": false
   },
   "outputs": [
    {
     "data": {
      "image/png": "[encoded data removed]",
      "text/plain": [
       "Plot with title \"ME CC\""
      ]
     },
     "metadata": {},
     "output_type": "display_data"
    }
   ],
   "source": [
    "par(mfrow=c(2,3))\n",
    "with(data[s2,], hist(raz_cuant_punt, nclass = 50, main = 'MAS RC'))\n",
    "with(data[s2,], hist(lect_crit_punt, nclass = 50, main = 'MAS LC'))\n",
    "with(data[s2,], hist(comp_ciud_punt, nclass = 50, main = 'MAS CC'))\n",
    "\n",
    "with(data[mestratoRC,], hist(raz_cuant_punt, nclass = 50, main = 'ME RC'))\n",
    "with(data[mestratoLC,], hist(lect_crit_punt, nclass = 50, main = 'ME LC'))\n",
    "with(data[mestratoCC,], hist(comp_ciud_punt, nclass = 50, main = 'ME CC'))\n",
    "par(mfrow=c(1,1))"
   ]
  },
  {
   "cell_type": "code",
   "execution_count": 37,
   "metadata": {},
   "outputs": [],
   "source": [
    "estrato_RC<-data[mestratoRC,]\n",
    "estrato_LC<-data[mestratoLC,]\n",
    "estrato_CC<-data[mestratoCC,]"
   ]
  },
  {
   "cell_type": "code",
   "execution_count": 38,
   "metadata": {},
   "outputs": [
    {
     "data": {
      "text/html": [
       "<table>\n",
       "<thead><tr><th scope=col>media</th><th scope=col>desv</th><th scope=col>N</th><th scope=col>error.est</th><th scope=col>error</th><th scope=col>lim.inf</th><th scope=col>lim.sup</th></tr></thead>\n",
       "<tbody>\n",
       "\t<tr><td>148.76</td><td>29.51 </td><td>387   </td><td>1.5   </td><td>2.46  </td><td>146.3 </td><td>151.22</td></tr>\n",
       "</tbody>\n",
       "</table>\n"
      ],
      "text/latex": [
       "\\begin{tabular}{r|lllllll}\n",
       " media & desv & N & error.est & error & lim.inf & lim.sup\\\\\n",
       "\\hline\n",
       "\t 148.76 & 29.51  & 387    & 1.5    & 2.46   & 146.3  & 151.22\\\\\n",
       "\\end{tabular}\n"
      ],
      "text/markdown": [
       "\n",
       "| media | desv | N | error.est | error | lim.inf | lim.sup |\n",
       "|---|---|---|---|---|---|---|\n",
       "| 148.76 | 29.51  | 387    | 1.5    | 2.46   | 146.3  | 151.22 |\n",
       "\n"
      ],
      "text/plain": [
       "  media  desv  N   error.est error lim.inf lim.sup\n",
       "1 148.76 29.51 387 1.5       2.46  146.3   151.22 "
      ]
     },
     "metadata": {},
     "output_type": "display_data"
    },
    {
     "data": {
      "text/html": [
       "<table>\n",
       "<thead><tr><th scope=col>media</th><th scope=col>desv</th><th scope=col>N</th><th scope=col>error.est</th><th scope=col>error</th><th scope=col>lim.inf</th><th scope=col>lim.sup</th></tr></thead>\n",
       "<tbody>\n",
       "\t<tr><td>151.18</td><td>31.12 </td><td>387   </td><td>1.58  </td><td>2.59  </td><td>148.58</td><td>153.77</td></tr>\n",
       "</tbody>\n",
       "</table>\n"
      ],
      "text/latex": [
       "\\begin{tabular}{r|lllllll}\n",
       " media & desv & N & error.est & error & lim.inf & lim.sup\\\\\n",
       "\\hline\n",
       "\t 151.18 & 31.12  & 387    & 1.58   & 2.59   & 148.58 & 153.77\\\\\n",
       "\\end{tabular}\n"
      ],
      "text/markdown": [
       "\n",
       "| media | desv | N | error.est | error | lim.inf | lim.sup |\n",
       "|---|---|---|---|---|---|---|\n",
       "| 151.18 | 31.12  | 387    | 1.58   | 2.59   | 148.58 | 153.77 |\n",
       "\n"
      ],
      "text/plain": [
       "  media  desv  N   error.est error lim.inf lim.sup\n",
       "1 151.18 31.12 387 1.58      2.59  148.58  153.77 "
      ]
     },
     "metadata": {},
     "output_type": "display_data"
    },
    {
     "data": {
      "text/html": [
       "<table>\n",
       "<thead><tr><th scope=col>media</th><th scope=col>desv</th><th scope=col>N</th><th scope=col>error.est</th><th scope=col>error</th><th scope=col>lim.inf</th><th scope=col>lim.sup</th></tr></thead>\n",
       "<tbody>\n",
       "\t<tr><td>148.48</td><td>30.71 </td><td>385   </td><td>1.57  </td><td>2.57  </td><td>145.91</td><td>151.04</td></tr>\n",
       "</tbody>\n",
       "</table>\n"
      ],
      "text/latex": [
       "\\begin{tabular}{r|lllllll}\n",
       " media & desv & N & error.est & error & lim.inf & lim.sup\\\\\n",
       "\\hline\n",
       "\t 148.48 & 30.71  & 385    & 1.57   & 2.57   & 145.91 & 151.04\\\\\n",
       "\\end{tabular}\n"
      ],
      "text/markdown": [
       "\n",
       "| media | desv | N | error.est | error | lim.inf | lim.sup |\n",
       "|---|---|---|---|---|---|---|\n",
       "| 148.48 | 30.71  | 385    | 1.57   | 2.57   | 145.91 | 151.04 |\n",
       "\n"
      ],
      "text/plain": [
       "  media  desv  N   error.est error lim.inf lim.sup\n",
       "1 148.48 30.71 385 1.57      2.57  145.91  151.04 "
      ]
     },
     "metadata": {},
     "output_type": "display_data"
    }
   ],
   "source": [
    "infme_RC90<- inferencia(estrato_RC$raz_cuant_punt,1.64)\n",
    "round(infme_RC90,2)\n",
    "\n",
    "infme_LC90<-inferencia(estrato_LC$lect_crit_punt,1.64)\n",
    "round(infme_LC90,2)\n",
    "\n",
    "infme_CC90<-inferencia(estrato_CC$comp_ciud_punt,1.64)\n",
    "round(infme_CC90,2)"
   ]
  },
  {
   "cell_type": "code",
   "execution_count": 39,
   "metadata": {},
   "outputs": [
    {
     "data": {
      "text/html": [
       "<table>\n",
       "<thead><tr><th scope=col>media</th><th scope=col>desv</th><th scope=col>N</th><th scope=col>error.est</th><th scope=col>error</th><th scope=col>lim.inf</th><th scope=col>lim.sup</th></tr></thead>\n",
       "<tbody>\n",
       "\t<tr><td>148.76</td><td>29.51 </td><td>387   </td><td>1.5   </td><td>2.94  </td><td>145.82</td><td>151.7 </td></tr>\n",
       "</tbody>\n",
       "</table>\n"
      ],
      "text/latex": [
       "\\begin{tabular}{r|lllllll}\n",
       " media & desv & N & error.est & error & lim.inf & lim.sup\\\\\n",
       "\\hline\n",
       "\t 148.76 & 29.51  & 387    & 1.5    & 2.94   & 145.82 & 151.7 \\\\\n",
       "\\end{tabular}\n"
      ],
      "text/markdown": [
       "\n",
       "| media | desv | N | error.est | error | lim.inf | lim.sup |\n",
       "|---|---|---|---|---|---|---|\n",
       "| 148.76 | 29.51  | 387    | 1.5    | 2.94   | 145.82 | 151.7  |\n",
       "\n"
      ],
      "text/plain": [
       "  media  desv  N   error.est error lim.inf lim.sup\n",
       "1 148.76 29.51 387 1.5       2.94  145.82  151.7  "
      ]
     },
     "metadata": {},
     "output_type": "display_data"
    },
    {
     "data": {
      "text/html": [
       "<table>\n",
       "<thead><tr><th scope=col>media</th><th scope=col>desv</th><th scope=col>N</th><th scope=col>error.est</th><th scope=col>error</th><th scope=col>lim.inf</th><th scope=col>lim.sup</th></tr></thead>\n",
       "<tbody>\n",
       "\t<tr><td>151.18</td><td>31.12 </td><td>387   </td><td>1.58  </td><td>3.1   </td><td>148.08</td><td>154.28</td></tr>\n",
       "</tbody>\n",
       "</table>\n"
      ],
      "text/latex": [
       "\\begin{tabular}{r|lllllll}\n",
       " media & desv & N & error.est & error & lim.inf & lim.sup\\\\\n",
       "\\hline\n",
       "\t 151.18 & 31.12  & 387    & 1.58   & 3.1    & 148.08 & 154.28\\\\\n",
       "\\end{tabular}\n"
      ],
      "text/markdown": [
       "\n",
       "| media | desv | N | error.est | error | lim.inf | lim.sup |\n",
       "|---|---|---|---|---|---|---|\n",
       "| 151.18 | 31.12  | 387    | 1.58   | 3.1    | 148.08 | 154.28 |\n",
       "\n"
      ],
      "text/plain": [
       "  media  desv  N   error.est error lim.inf lim.sup\n",
       "1 151.18 31.12 387 1.58      3.1   148.08  154.28 "
      ]
     },
     "metadata": {},
     "output_type": "display_data"
    },
    {
     "data": {
      "text/html": [
       "<table>\n",
       "<thead><tr><th scope=col>media</th><th scope=col>desv</th><th scope=col>N</th><th scope=col>error.est</th><th scope=col>error</th><th scope=col>lim.inf</th><th scope=col>lim.sup</th></tr></thead>\n",
       "<tbody>\n",
       "\t<tr><td>148.48</td><td>30.71 </td><td>385   </td><td>1.57  </td><td>3.07  </td><td>145.41</td><td>151.55</td></tr>\n",
       "</tbody>\n",
       "</table>\n"
      ],
      "text/latex": [
       "\\begin{tabular}{r|lllllll}\n",
       " media & desv & N & error.est & error & lim.inf & lim.sup\\\\\n",
       "\\hline\n",
       "\t 148.48 & 30.71  & 385    & 1.57   & 3.07   & 145.41 & 151.55\\\\\n",
       "\\end{tabular}\n"
      ],
      "text/markdown": [
       "\n",
       "| media | desv | N | error.est | error | lim.inf | lim.sup |\n",
       "|---|---|---|---|---|---|---|\n",
       "| 148.48 | 30.71  | 385    | 1.57   | 3.07   | 145.41 | 151.55 |\n",
       "\n"
      ],
      "text/plain": [
       "  media  desv  N   error.est error lim.inf lim.sup\n",
       "1 148.48 30.71 385 1.57      3.07  145.41  151.55 "
      ]
     },
     "metadata": {},
     "output_type": "display_data"
    }
   ],
   "source": [
    "infme_RC95<- inferencia(estrato_RC$raz_cuant_punt,1.96)\n",
    "round(infme_RC95,2)\n",
    "\n",
    "infme_LC95<-inferencia(estrato_LC$lect_crit_punt,1.96)\n",
    "round(infme_LC95,2)\n",
    "\n",
    "infme_CC95<-inferencia(estrato_CC$comp_ciud_punt,1.96)\n",
    "round(infme_CC95,2)"
   ]
  },
  {
   "cell_type": "code",
   "execution_count": 40,
   "metadata": {},
   "outputs": [
    {
     "data": {
      "text/html": [
       "<table>\n",
       "<thead><tr><th scope=col>media</th><th scope=col>desv</th><th scope=col>N</th><th scope=col>error.est</th><th scope=col>error</th><th scope=col>lim.inf</th><th scope=col>lim.sup</th></tr></thead>\n",
       "<tbody>\n",
       "\t<tr><td>148.76</td><td>29.51 </td><td>387   </td><td>1.5   </td><td>3.86  </td><td>144.9 </td><td>152.62</td></tr>\n",
       "</tbody>\n",
       "</table>\n"
      ],
      "text/latex": [
       "\\begin{tabular}{r|lllllll}\n",
       " media & desv & N & error.est & error & lim.inf & lim.sup\\\\\n",
       "\\hline\n",
       "\t 148.76 & 29.51  & 387    & 1.5    & 3.86   & 144.9  & 152.62\\\\\n",
       "\\end{tabular}\n"
      ],
      "text/markdown": [
       "\n",
       "| media | desv | N | error.est | error | lim.inf | lim.sup |\n",
       "|---|---|---|---|---|---|---|\n",
       "| 148.76 | 29.51  | 387    | 1.5    | 3.86   | 144.9  | 152.62 |\n",
       "\n"
      ],
      "text/plain": [
       "  media  desv  N   error.est error lim.inf lim.sup\n",
       "1 148.76 29.51 387 1.5       3.86  144.9   152.62 "
      ]
     },
     "metadata": {},
     "output_type": "display_data"
    },
    {
     "data": {
      "text/html": [
       "<table>\n",
       "<thead><tr><th scope=col>media</th><th scope=col>desv</th><th scope=col>N</th><th scope=col>error.est</th><th scope=col>error</th><th scope=col>lim.inf</th><th scope=col>lim.sup</th></tr></thead>\n",
       "<tbody>\n",
       "\t<tr><td>151.18</td><td>31.12 </td><td>387   </td><td>1.58  </td><td>4.07  </td><td>147.11</td><td>155.24</td></tr>\n",
       "</tbody>\n",
       "</table>\n"
      ],
      "text/latex": [
       "\\begin{tabular}{r|lllllll}\n",
       " media & desv & N & error.est & error & lim.inf & lim.sup\\\\\n",
       "\\hline\n",
       "\t 151.18 & 31.12  & 387    & 1.58   & 4.07   & 147.11 & 155.24\\\\\n",
       "\\end{tabular}\n"
      ],
      "text/markdown": [
       "\n",
       "| media | desv | N | error.est | error | lim.inf | lim.sup |\n",
       "|---|---|---|---|---|---|---|\n",
       "| 151.18 | 31.12  | 387    | 1.58   | 4.07   | 147.11 | 155.24 |\n",
       "\n"
      ],
      "text/plain": [
       "  media  desv  N   error.est error lim.inf lim.sup\n",
       "1 151.18 31.12 387 1.58      4.07  147.11  155.24 "
      ]
     },
     "metadata": {},
     "output_type": "display_data"
    },
    {
     "data": {
      "text/html": [
       "<table>\n",
       "<thead><tr><th scope=col>media</th><th scope=col>desv</th><th scope=col>N</th><th scope=col>error.est</th><th scope=col>error</th><th scope=col>lim.inf</th><th scope=col>lim.sup</th></tr></thead>\n",
       "<tbody>\n",
       "\t<tr><td>148.48</td><td>30.71 </td><td>385   </td><td>1.57  </td><td>4.02  </td><td>144.46</td><td>152.5 </td></tr>\n",
       "</tbody>\n",
       "</table>\n"
      ],
      "text/latex": [
       "\\begin{tabular}{r|lllllll}\n",
       " media & desv & N & error.est & error & lim.inf & lim.sup\\\\\n",
       "\\hline\n",
       "\t 148.48 & 30.71  & 385    & 1.57   & 4.02   & 144.46 & 152.5 \\\\\n",
       "\\end{tabular}\n"
      ],
      "text/markdown": [
       "\n",
       "| media | desv | N | error.est | error | lim.inf | lim.sup |\n",
       "|---|---|---|---|---|---|---|\n",
       "| 148.48 | 30.71  | 385    | 1.57   | 4.02   | 144.46 | 152.5  |\n",
       "\n"
      ],
      "text/plain": [
       "  media  desv  N   error.est error lim.inf lim.sup\n",
       "1 148.48 30.71 385 1.57      4.02  144.46  152.5  "
      ]
     },
     "metadata": {},
     "output_type": "display_data"
    }
   ],
   "source": [
    "infme_RC99<- inferencia(estrato_RC$raz_cuant_punt,2.57)\n",
    "round(infme_RC99,2)\n",
    "\n",
    "infme_LC99<-inferencia(estrato_LC$lect_crit_punt,2.57)\n",
    "round(infme_LC99,2)\n",
    "\n",
    "infme_CC99<-inferencia(estrato_CC$comp_ciud_punt,2.57)\n",
    "round(infme_CC99,2)"
   ]
  },
  {
   "cell_type": "markdown",
   "metadata": {},
   "source": [
    "## Análisis"
   ]
  },
  {
   "cell_type": "markdown",
   "metadata": {},
   "source": [
    "Gracias a las tablas podemos observar que la asignatura que peor les fue, en todos los periodos, fue la de competencias ciudadanas, con 202064 deficientes en toda la población. \n",
    "\n",
    "La diferencia principal entre los resultados obtenidos en el Muestreo Aleatorio Simple (MAS) y el Muestreo Estratificado (ME) es que en el primero se escogía una muestra de manera aleatoria sin tener en cuenta ninguna característica de la población, y en el segundo se escogieron a las categorías de las notas de las asignaturas (deficiente, regular, sobresaliente y excelente) como el respectivo estrato a seguir y se logró que todos esos estratos estuvieran representados de manera adecuada en la muestra.\n",
    "\n",
    "De igual forma, el ME permite que la muestra abarque los datos de manera más homogénea y se tenga en cuenta cierta información que con el MAS no se podía."
   ]
  },
  {
   "cell_type": "markdown",
   "metadata": {},
   "source": [
    "## 3. Realice los correspondientes muestreos por conglomerados y compare los resultados con los puntos 1 y 2. Explique las diferencias y/o similitudes"
   ]
  },
  {
   "cell_type": "code",
   "execution_count": 41,
   "metadata": {},
   "outputs": [],
   "source": [
    "datos_Congl<-data.frame(Depto=data$estu_depto_reside\n",
    "                    ,PuntosComp=data$comp_ciud_punt\n",
    "                    ,PuntosIng=data$ingles_punt, PuntosLC=data$lect_crit_punt,\n",
    "                     PuntosRC=data$raz_cuant_punt,PuntosCE=data$comu_escr_punt)"
   ]
  },
  {
   "cell_type": "code",
   "execution_count": 42,
   "metadata": {},
   "outputs": [
    {
     "data": {
      "text/html": [
       "<ol class=list-inline>\n",
       "\t<li>ATLANTICO</li>\n",
       "\t<li>CUNDINAMARCA</li>\n",
       "\t<li>CALDAS</li>\n",
       "\t<li>MAGDALENA</li>\n",
       "\t<li>CORDOBA</li>\n",
       "\t<li>CAUCA</li>\n",
       "\t<li>BOGOTA</li>\n",
       "\t<li>ANTIOQUIA</li>\n",
       "\t<li>META</li>\n",
       "\t<li>CESAR</li>\n",
       "\t<li>VALLE</li>\n",
       "\t<li>TOLIMA</li>\n",
       "\t<li>BOYACA</li>\n",
       "\t<li>SANTANDER</li>\n",
       "\t<li>BOLIVAR</li>\n",
       "\t<li></li>\n",
       "\t<li>HUILA</li>\n",
       "\t<li>NORTE SANTANDER</li>\n",
       "\t<li>SUCRE</li>\n",
       "\t<li>QUINDIO</li>\n",
       "\t<li>VAUPES</li>\n",
       "\t<li>RISARALDA</li>\n",
       "\t<li>NARINO</li>\n",
       "\t<li>CAQUETA</li>\n",
       "\t<li>CASANARE</li>\n",
       "\t<li>CHOCO</li>\n",
       "\t<li>PUTUMAYO</li>\n",
       "\t<li>LA GUAJIRA</li>\n",
       "\t<li>GUAVIARE</li>\n",
       "\t<li>ARAUCA</li>\n",
       "\t<li>SAN ANDRES</li>\n",
       "\t<li>VICHADA</li>\n",
       "\t<li>AMAZONAS</li>\n",
       "\t<li>EXTRANJERO</li>\n",
       "\t<li>GUAINIA</li>\n",
       "</ol>\n",
       "\n",
       "<details>\n",
       "\t<summary style=display:list-item;cursor:pointer>\n",
       "\t\t<strong>Levels</strong>:\n",
       "\t</summary>\n",
       "\t<ol class=list-inline>\n",
       "\t\t<li>''</li>\n",
       "\t\t<li>'AMAZONAS'</li>\n",
       "\t\t<li>'ANTIOQUIA'</li>\n",
       "\t\t<li>'ARAUCA'</li>\n",
       "\t\t<li>'ATLANTICO'</li>\n",
       "\t\t<li>'BOGOTA'</li>\n",
       "\t\t<li>'BOLIVAR'</li>\n",
       "\t\t<li>'BOYACA'</li>\n",
       "\t\t<li>'CALDAS'</li>\n",
       "\t\t<li>'CAQUETA'</li>\n",
       "\t\t<li>'CASANARE'</li>\n",
       "\t\t<li>'CAUCA'</li>\n",
       "\t\t<li>'CESAR'</li>\n",
       "\t\t<li>'CHOCO'</li>\n",
       "\t\t<li>'CORDOBA'</li>\n",
       "\t\t<li>'CUNDINAMARCA'</li>\n",
       "\t\t<li>'EXTRANJERO'</li>\n",
       "\t\t<li>'GUAINIA'</li>\n",
       "\t\t<li>'GUAVIARE'</li>\n",
       "\t\t<li>'HUILA'</li>\n",
       "\t\t<li>'LA GUAJIRA'</li>\n",
       "\t\t<li>'MAGDALENA'</li>\n",
       "\t\t<li>'META'</li>\n",
       "\t\t<li>'NARINO'</li>\n",
       "\t\t<li>'NORTE SANTANDER'</li>\n",
       "\t\t<li>'PUTUMAYO'</li>\n",
       "\t\t<li>'QUINDIO'</li>\n",
       "\t\t<li>'RISARALDA'</li>\n",
       "\t\t<li>'SAN ANDRES'</li>\n",
       "\t\t<li>'SANTANDER'</li>\n",
       "\t\t<li>'SUCRE'</li>\n",
       "\t\t<li>'TOLIMA'</li>\n",
       "\t\t<li>'VALLE'</li>\n",
       "\t\t<li>'VAUPES'</li>\n",
       "\t\t<li>'VICHADA'</li>\n",
       "\t</ol>\n",
       "</details>"
      ],
      "text/latex": [
       "\\begin{enumerate*}\n",
       "\\item ATLANTICO\n",
       "\\item CUNDINAMARCA\n",
       "\\item CALDAS\n",
       "\\item MAGDALENA\n",
       "\\item CORDOBA\n",
       "\\item CAUCA\n",
       "\\item BOGOTA\n",
       "\\item ANTIOQUIA\n",
       "\\item META\n",
       "\\item CESAR\n",
       "\\item VALLE\n",
       "\\item TOLIMA\n",
       "\\item BOYACA\n",
       "\\item SANTANDER\n",
       "\\item BOLIVAR\n",
       "\\item \n",
       "\\item HUILA\n",
       "\\item NORTE SANTANDER\n",
       "\\item SUCRE\n",
       "\\item QUINDIO\n",
       "\\item VAUPES\n",
       "\\item RISARALDA\n",
       "\\item NARINO\n",
       "\\item CAQUETA\n",
       "\\item CASANARE\n",
       "\\item CHOCO\n",
       "\\item PUTUMAYO\n",
       "\\item LA GUAJIRA\n",
       "\\item GUAVIARE\n",
       "\\item ARAUCA\n",
       "\\item SAN ANDRES\n",
       "\\item VICHADA\n",
       "\\item AMAZONAS\n",
       "\\item EXTRANJERO\n",
       "\\item GUAINIA\n",
       "\\end{enumerate*}\n",
       "\n",
       "\\emph{Levels}: \\begin{enumerate*}\n",
       "\\item ''\n",
       "\\item 'AMAZONAS'\n",
       "\\item 'ANTIOQUIA'\n",
       "\\item 'ARAUCA'\n",
       "\\item 'ATLANTICO'\n",
       "\\item 'BOGOTA'\n",
       "\\item 'BOLIVAR'\n",
       "\\item 'BOYACA'\n",
       "\\item 'CALDAS'\n",
       "\\item 'CAQUETA'\n",
       "\\item 'CASANARE'\n",
       "\\item 'CAUCA'\n",
       "\\item 'CESAR'\n",
       "\\item 'CHOCO'\n",
       "\\item 'CORDOBA'\n",
       "\\item 'CUNDINAMARCA'\n",
       "\\item 'EXTRANJERO'\n",
       "\\item 'GUAINIA'\n",
       "\\item 'GUAVIARE'\n",
       "\\item 'HUILA'\n",
       "\\item 'LA GUAJIRA'\n",
       "\\item 'MAGDALENA'\n",
       "\\item 'META'\n",
       "\\item 'NARINO'\n",
       "\\item 'NORTE SANTANDER'\n",
       "\\item 'PUTUMAYO'\n",
       "\\item 'QUINDIO'\n",
       "\\item 'RISARALDA'\n",
       "\\item 'SAN ANDRES'\n",
       "\\item 'SANTANDER'\n",
       "\\item 'SUCRE'\n",
       "\\item 'TOLIMA'\n",
       "\\item 'VALLE'\n",
       "\\item 'VAUPES'\n",
       "\\item 'VICHADA'\n",
       "\\end{enumerate*}\n"
      ],
      "text/markdown": [
       "1. ATLANTICO\n",
       "2. CUNDINAMARCA\n",
       "3. CALDAS\n",
       "4. MAGDALENA\n",
       "5. CORDOBA\n",
       "6. CAUCA\n",
       "7. BOGOTA\n",
       "8. ANTIOQUIA\n",
       "9. META\n",
       "10. CESAR\n",
       "11. VALLE\n",
       "12. TOLIMA\n",
       "13. BOYACA\n",
       "14. SANTANDER\n",
       "15. BOLIVAR\n",
       "16. \n",
       "17. HUILA\n",
       "18. NORTE SANTANDER\n",
       "19. SUCRE\n",
       "20. QUINDIO\n",
       "21. VAUPES\n",
       "22. RISARALDA\n",
       "23. NARINO\n",
       "24. CAQUETA\n",
       "25. CASANARE\n",
       "26. CHOCO\n",
       "27. PUTUMAYO\n",
       "28. LA GUAJIRA\n",
       "29. GUAVIARE\n",
       "30. ARAUCA\n",
       "31. SAN ANDRES\n",
       "32. VICHADA\n",
       "33. AMAZONAS\n",
       "34. EXTRANJERO\n",
       "35. GUAINIA\n",
       "\n",
       "\n",
       "\n",
       "**Levels**: 1. ''\n",
       "2. 'AMAZONAS'\n",
       "3. 'ANTIOQUIA'\n",
       "4. 'ARAUCA'\n",
       "5. 'ATLANTICO'\n",
       "6. 'BOGOTA'\n",
       "7. 'BOLIVAR'\n",
       "8. 'BOYACA'\n",
       "9. 'CALDAS'\n",
       "10. 'CAQUETA'\n",
       "11. 'CASANARE'\n",
       "12. 'CAUCA'\n",
       "13. 'CESAR'\n",
       "14. 'CHOCO'\n",
       "15. 'CORDOBA'\n",
       "16. 'CUNDINAMARCA'\n",
       "17. 'EXTRANJERO'\n",
       "18. 'GUAINIA'\n",
       "19. 'GUAVIARE'\n",
       "20. 'HUILA'\n",
       "21. 'LA GUAJIRA'\n",
       "22. 'MAGDALENA'\n",
       "23. 'META'\n",
       "24. 'NARINO'\n",
       "25. 'NORTE SANTANDER'\n",
       "26. 'PUTUMAYO'\n",
       "27. 'QUINDIO'\n",
       "28. 'RISARALDA'\n",
       "29. 'SAN ANDRES'\n",
       "30. 'SANTANDER'\n",
       "31. 'SUCRE'\n",
       "32. 'TOLIMA'\n",
       "33. 'VALLE'\n",
       "34. 'VAUPES'\n",
       "35. 'VICHADA'\n",
       "\n",
       "\n"
      ],
      "text/plain": [
       " [1] ATLANTICO       CUNDINAMARCA    CALDAS          MAGDALENA      \n",
       " [5] CORDOBA         CAUCA           BOGOTA          ANTIOQUIA      \n",
       " [9] META            CESAR           VALLE           TOLIMA         \n",
       "[13] BOYACA          SANTANDER       BOLIVAR                        \n",
       "[17] HUILA           NORTE SANTANDER SUCRE           QUINDIO        \n",
       "[21] VAUPES          RISARALDA       NARINO          CAQUETA        \n",
       "[25] CASANARE        CHOCO           PUTUMAYO        LA GUAJIRA     \n",
       "[29] GUAVIARE        ARAUCA          SAN ANDRES      VICHADA        \n",
       "[33] AMAZONAS        EXTRANJERO      GUAINIA        \n",
       "35 Levels:  AMAZONAS ANTIOQUIA ARAUCA ATLANTICO BOGOTA BOLIVAR ... VICHADA"
      ]
     },
     "metadata": {},
     "output_type": "display_data"
    }
   ],
   "source": [
    "unique(datos_Congl$Depto) # Miramos cuántos departamentos hay\n"
   ]
  },
  {
   "cell_type": "code",
   "execution_count": 43,
   "metadata": {},
   "outputs": [
    {
     "data": {
      "text/html": [
       "<table>\n",
       "<thead><tr><th scope=col>Depto</th><th scope=col>n</th><th scope=col>s</th><th scope=col>p</th></tr></thead>\n",
       "<tbody>\n",
       "\t<tr><td>            </td><td>  1997      </td><td>30.86974    </td><td>0.0027533624</td></tr>\n",
       "\t<tr><td>AMAZONAS    </td><td>   195      </td><td>29.87807    </td><td>0.0002688561</td></tr>\n",
       "\t<tr><td>ANTIOQUIA   </td><td> 86465      </td><td>32.25236    </td><td>0.1192135614</td></tr>\n",
       "\t<tr><td>ARAUCA      </td><td>  1863      </td><td>26.66001    </td><td>0.0025686100</td></tr>\n",
       "\t<tr><td>ATLANTICO   </td><td> 41127      </td><td>30.34594    </td><td>0.0567038240</td></tr>\n",
       "\t<tr><td>BOGOTA      </td><td>210798      </td><td>30.12218    </td><td>0.2906376026</td></tr>\n",
       "</tbody>\n",
       "</table>\n"
      ],
      "text/latex": [
       "\\begin{tabular}{r|llll}\n",
       " Depto & n & s & p\\\\\n",
       "\\hline\n",
       "\t              &   1997       & 30.86974     & 0.0027533624\\\\\n",
       "\t AMAZONAS     &    195       & 29.87807     & 0.0002688561\\\\\n",
       "\t ANTIOQUIA    &  86465       & 32.25236     & 0.1192135614\\\\\n",
       "\t ARAUCA       &   1863       & 26.66001     & 0.0025686100\\\\\n",
       "\t ATLANTICO    &  41127       & 30.34594     & 0.0567038240\\\\\n",
       "\t BOGOTA       & 210798       & 30.12218     & 0.2906376026\\\\\n",
       "\\end{tabular}\n"
      ],
      "text/markdown": [
       "\n",
       "| Depto | n | s | p |\n",
       "|---|---|---|---|\n",
       "|              |   1997       | 30.86974     | 0.0027533624 |\n",
       "| AMAZONAS     |    195       | 29.87807     | 0.0002688561 |\n",
       "| ANTIOQUIA    |  86465       | 32.25236     | 0.1192135614 |\n",
       "| ARAUCA       |   1863       | 26.66001     | 0.0025686100 |\n",
       "| ATLANTICO    |  41127       | 30.34594     | 0.0567038240 |\n",
       "| BOGOTA       | 210798       | 30.12218     | 0.2906376026 |\n",
       "\n"
      ],
      "text/plain": [
       "  Depto     n      s        p           \n",
       "1             1997 30.86974 0.0027533624\n",
       "2 AMAZONAS     195 29.87807 0.0002688561\n",
       "3 ANTIOQUIA  86465 32.25236 0.1192135614\n",
       "4 ARAUCA      1863 26.66001 0.0025686100\n",
       "5 ATLANTICO  41127 30.34594 0.0567038240\n",
       "6 BOGOTA    210798 30.12218 0.2906376026"
      ]
     },
     "metadata": {},
     "output_type": "display_data"
    }
   ],
   "source": [
    "Conglomerados <- datos_Congl %>% ## Para las variables departamento y razonamiento cuantitativo\n",
    "  select(Depto, PuntosRC) %>%\n",
    "  group_by(Depto) %>%\n",
    "  summarise(n=n(), \n",
    "            s=sd(PuntosRC)) %>%\n",
    "  mutate(p=n/sum(n))\n",
    "\n",
    "head(Conglomerados)"
   ]
  },
  {
   "cell_type": "code",
   "execution_count": 44,
   "metadata": {},
   "outputs": [],
   "source": [
    "nsProp384<-nstrata(n=384,wh=Conglomerados[,4],method=\"proportional\")"
   ]
  },
  {
   "cell_type": "code",
   "execution_count": 45,
   "metadata": {},
   "outputs": [
    {
     "data": {
      "text/html": [
       "<table>\n",
       "<thead><tr><th scope=col>des</th><th scope=col>p</th></tr></thead>\n",
       "<tbody>\n",
       "\t<tr><td>               </td><td>  2            </td></tr>\n",
       "\t<tr><td>AMAZONAS       </td><td>  1            </td></tr>\n",
       "\t<tr><td>ANTIOQUIA      </td><td> 46            </td></tr>\n",
       "\t<tr><td>ARAUCA         </td><td>  1            </td></tr>\n",
       "\t<tr><td>ATLANTICO      </td><td> 22            </td></tr>\n",
       "\t<tr><td>BOGOTA         </td><td>112            </td></tr>\n",
       "\t<tr><td>BOLIVAR        </td><td> 13            </td></tr>\n",
       "\t<tr><td>BOYACA         </td><td> 10            </td></tr>\n",
       "\t<tr><td>CALDAS         </td><td>  8            </td></tr>\n",
       "\t<tr><td>CAQUETA        </td><td>  3            </td></tr>\n",
       "\t<tr><td>CASANARE       </td><td>  2            </td></tr>\n",
       "\t<tr><td>CAUCA          </td><td>  9            </td></tr>\n",
       "\t<tr><td>CESAR          </td><td>  6            </td></tr>\n",
       "\t<tr><td>CHOCO          </td><td>  3            </td></tr>\n",
       "\t<tr><td>CORDOBA        </td><td> 10            </td></tr>\n",
       "\t<tr><td>CUNDINAMARCA   </td><td> 21            </td></tr>\n",
       "\t<tr><td>EXTRANJERO     </td><td>  1            </td></tr>\n",
       "\t<tr><td>GUAINIA        </td><td>  1            </td></tr>\n",
       "\t<tr><td>GUAVIARE       </td><td>  1            </td></tr>\n",
       "\t<tr><td>HUILA          </td><td>  8            </td></tr>\n",
       "\t<tr><td>LA GUAJIRA     </td><td>  4            </td></tr>\n",
       "\t<tr><td>MAGDALENA      </td><td>  6            </td></tr>\n",
       "\t<tr><td>META           </td><td>  8            </td></tr>\n",
       "\t<tr><td>NARINO         </td><td>  9            </td></tr>\n",
       "\t<tr><td>NORTE SANTANDER</td><td> 12            </td></tr>\n",
       "\t<tr><td>PUTUMAYO       </td><td>  2            </td></tr>\n",
       "\t<tr><td>QUINDIO        </td><td>  5            </td></tr>\n",
       "\t<tr><td>RISARALDA      </td><td>  9            </td></tr>\n",
       "\t<tr><td>SAN ANDRES     </td><td>  1            </td></tr>\n",
       "\t<tr><td>SANTANDER      </td><td> 20            </td></tr>\n",
       "\t<tr><td>SUCRE          </td><td>  6            </td></tr>\n",
       "\t<tr><td>TOLIMA         </td><td> 10            </td></tr>\n",
       "\t<tr><td>VALLE          </td><td> 30            </td></tr>\n",
       "\t<tr><td>VAUPES         </td><td>  1            </td></tr>\n",
       "\t<tr><td>VICHADA        </td><td>  1            </td></tr>\n",
       "</tbody>\n",
       "</table>\n"
      ],
      "text/latex": [
       "\\begin{tabular}{r|ll}\n",
       " des & p\\\\\n",
       "\\hline\n",
       "\t                 &   2            \\\\\n",
       "\t AMAZONAS        &   1            \\\\\n",
       "\t ANTIOQUIA       &  46            \\\\\n",
       "\t ARAUCA          &   1            \\\\\n",
       "\t ATLANTICO       &  22            \\\\\n",
       "\t BOGOTA          & 112            \\\\\n",
       "\t BOLIVAR         &  13            \\\\\n",
       "\t BOYACA          &  10            \\\\\n",
       "\t CALDAS          &   8            \\\\\n",
       "\t CAQUETA         &   3            \\\\\n",
       "\t CASANARE        &   2            \\\\\n",
       "\t CAUCA           &   9            \\\\\n",
       "\t CESAR           &   6            \\\\\n",
       "\t CHOCO           &   3            \\\\\n",
       "\t CORDOBA         &  10            \\\\\n",
       "\t CUNDINAMARCA    &  21            \\\\\n",
       "\t EXTRANJERO      &   1            \\\\\n",
       "\t GUAINIA         &   1            \\\\\n",
       "\t GUAVIARE        &   1            \\\\\n",
       "\t HUILA           &   8            \\\\\n",
       "\t LA GUAJIRA      &   4            \\\\\n",
       "\t MAGDALENA       &   6            \\\\\n",
       "\t META            &   8            \\\\\n",
       "\t NARINO          &   9            \\\\\n",
       "\t NORTE SANTANDER &  12            \\\\\n",
       "\t PUTUMAYO        &   2            \\\\\n",
       "\t QUINDIO         &   5            \\\\\n",
       "\t RISARALDA       &   9            \\\\\n",
       "\t SAN ANDRES      &   1            \\\\\n",
       "\t SANTANDER       &  20            \\\\\n",
       "\t SUCRE           &   6            \\\\\n",
       "\t TOLIMA          &  10            \\\\\n",
       "\t VALLE           &  30            \\\\\n",
       "\t VAUPES          &   1            \\\\\n",
       "\t VICHADA         &   1            \\\\\n",
       "\\end{tabular}\n"
      ],
      "text/markdown": [
       "\n",
       "| des | p |\n",
       "|---|---|\n",
       "|                 |   2             |\n",
       "| AMAZONAS        |   1             |\n",
       "| ANTIOQUIA       |  46             |\n",
       "| ARAUCA          |   1             |\n",
       "| ATLANTICO       |  22             |\n",
       "| BOGOTA          | 112             |\n",
       "| BOLIVAR         |  13             |\n",
       "| BOYACA          |  10             |\n",
       "| CALDAS          |   8             |\n",
       "| CAQUETA         |   3             |\n",
       "| CASANARE        |   2             |\n",
       "| CAUCA           |   9             |\n",
       "| CESAR           |   6             |\n",
       "| CHOCO           |   3             |\n",
       "| CORDOBA         |  10             |\n",
       "| CUNDINAMARCA    |  21             |\n",
       "| EXTRANJERO      |   1             |\n",
       "| GUAINIA         |   1             |\n",
       "| GUAVIARE        |   1             |\n",
       "| HUILA           |   8             |\n",
       "| LA GUAJIRA      |   4             |\n",
       "| MAGDALENA       |   6             |\n",
       "| META            |   8             |\n",
       "| NARINO          |   9             |\n",
       "| NORTE SANTANDER |  12             |\n",
       "| PUTUMAYO        |   2             |\n",
       "| QUINDIO         |   5             |\n",
       "| RISARALDA       |   9             |\n",
       "| SAN ANDRES      |   1             |\n",
       "| SANTANDER       |  20             |\n",
       "| SUCRE           |   6             |\n",
       "| TOLIMA          |  10             |\n",
       "| VALLE           |  30             |\n",
       "| VAUPES          |   1             |\n",
       "| VICHADA         |   1             |\n",
       "\n"
      ],
      "text/plain": [
       "   des             p  \n",
       "1                    2\n",
       "2  AMAZONAS          1\n",
       "3  ANTIOQUIA        46\n",
       "4  ARAUCA            1\n",
       "5  ATLANTICO        22\n",
       "6  BOGOTA          112\n",
       "7  BOLIVAR          13\n",
       "8  BOYACA           10\n",
       "9  CALDAS            8\n",
       "10 CAQUETA           3\n",
       "11 CASANARE          2\n",
       "12 CAUCA             9\n",
       "13 CESAR             6\n",
       "14 CHOCO             3\n",
       "15 CORDOBA          10\n",
       "16 CUNDINAMARCA     21\n",
       "17 EXTRANJERO        1\n",
       "18 GUAINIA           1\n",
       "19 GUAVIARE          1\n",
       "20 HUILA             8\n",
       "21 LA GUAJIRA        4\n",
       "22 MAGDALENA         6\n",
       "23 META              8\n",
       "24 NARINO            9\n",
       "25 NORTE SANTANDER  12\n",
       "26 PUTUMAYO          2\n",
       "27 QUINDIO           5\n",
       "28 RISARALDA         9\n",
       "29 SAN ANDRES        1\n",
       "30 SANTANDER        20\n",
       "31 SUCRE             6\n",
       "32 TOLIMA           10\n",
       "33 VALLE            30\n",
       "34 VAUPES            1\n",
       "35 VICHADA           1"
      ]
     },
     "metadata": {},
     "output_type": "display_data"
    }
   ],
   "source": [
    "data.frame(des=Conglomerados$Depto,nsProp384)"
   ]
  },
  {
   "cell_type": "code",
   "execution_count": 46,
   "metadata": {},
   "outputs": [
    {
     "data": {
      "text/html": [
       "<table>\n",
       "<thead><tr><th></th><th scope=col>Depto</th><th scope=col>PuntosComp</th><th scope=col>PuntosIng</th><th scope=col>PuntosLC</th><th scope=col>PuntosRC</th><th scope=col>PuntosCE</th></tr></thead>\n",
       "<tbody>\n",
       "\t<tr><th scope=row>175</th><td>VALLE    </td><td>185      </td><td>127      </td><td>180      </td><td>189      </td><td>163      </td></tr>\n",
       "\t<tr><th scope=row>79819</th><td>BOGOTA   </td><td>126      </td><td>217      </td><td>227      </td><td>103      </td><td>125      </td></tr>\n",
       "\t<tr><th scope=row>77910</th><td>BOGOTA   </td><td>142      </td><td>171      </td><td>148      </td><td>183      </td><td>157      </td></tr>\n",
       "\t<tr><th scope=row>19717</th><td>ANTIOQUIA</td><td>164      </td><td>122      </td><td>139      </td><td>170      </td><td>156      </td></tr>\n",
       "\t<tr><th scope=row>4893</th><td>BOGOTA   </td><td>174      </td><td>182      </td><td>199      </td><td>218      </td><td>158      </td></tr>\n",
       "\t<tr><th scope=row>53723</th><td>BOGOTA   </td><td>143      </td><td>146      </td><td>149      </td><td>144      </td><td> 78      </td></tr>\n",
       "</tbody>\n",
       "</table>\n"
      ],
      "text/latex": [
       "\\begin{tabular}{r|llllll}\n",
       "  & Depto & PuntosComp & PuntosIng & PuntosLC & PuntosRC & PuntosCE\\\\\n",
       "\\hline\n",
       "\t175 & VALLE     & 185       & 127       & 180       & 189       & 163      \\\\\n",
       "\t79819 & BOGOTA    & 126       & 217       & 227       & 103       & 125      \\\\\n",
       "\t77910 & BOGOTA    & 142       & 171       & 148       & 183       & 157      \\\\\n",
       "\t19717 & ANTIOQUIA & 164       & 122       & 139       & 170       & 156      \\\\\n",
       "\t4893 & BOGOTA    & 174       & 182       & 199       & 218       & 158      \\\\\n",
       "\t53723 & BOGOTA    & 143       & 146       & 149       & 144       &  78      \\\\\n",
       "\\end{tabular}\n"
      ],
      "text/markdown": [
       "\n",
       "| <!--/--> | Depto | PuntosComp | PuntosIng | PuntosLC | PuntosRC | PuntosCE |\n",
       "|---|---|---|---|---|---|---|\n",
       "| 175 | VALLE     | 185       | 127       | 180       | 189       | 163       |\n",
       "| 79819 | BOGOTA    | 126       | 217       | 227       | 103       | 125       |\n",
       "| 77910 | BOGOTA    | 142       | 171       | 148       | 183       | 157       |\n",
       "| 19717 | ANTIOQUIA | 164       | 122       | 139       | 170       | 156       |\n",
       "| 4893 | BOGOTA    | 174       | 182       | 199       | 218       | 158       |\n",
       "| 53723 | BOGOTA    | 143       | 146       | 149       | 144       |  78       |\n",
       "\n"
      ],
      "text/plain": [
       "      Depto     PuntosComp PuntosIng PuntosLC PuntosRC PuntosCE\n",
       "175   VALLE     185        127       180      189      163     \n",
       "79819 BOGOTA    126        217       227      103      125     \n",
       "77910 BOGOTA    142        171       148      183      157     \n",
       "19717 ANTIOQUIA 164        122       139      170      156     \n",
       "4893  BOGOTA    174        182       199      218      158     \n",
       "53723 BOGOTA    143        146       149      144       78     "
      ]
     },
     "metadata": {},
     "output_type": "display_data"
    }
   ],
   "source": [
    "num_AMAZONAS<-1 # Número de estudiantes en AMAZONAS\n",
    "meAMAZONAS_cong<- sample(1:nrow(datos_Congl[datos_Congl$Depto=='AMAZONAS',]),size=num_AMAZONAS,replace=FALSE)\n",
    "\n",
    "num_ANTIOQUIA<-46 # Número de estudiantes en ANTIOQUIA\n",
    "meANTIOQUIA_cong<- sample(1:nrow(datos_Congl[datos_Congl$Depto=='ANTIOQUIA',]),size=num_ANTIOQUIA,replace=FALSE)\n",
    "\n",
    "num_ARAUCA<-1 # Número de estudiantes en ARAUCA\n",
    "meARAUCA_cong<- sample(1:nrow(datos_Congl[datos_Congl$Depto=='ARAUCA',]),size=num_ARAUCA,replace=FALSE)\n",
    "\n",
    "num_ATLANTICO<-22 # Número de estudiantes en ATLANTICO\n",
    "meATLANTICO_cong<- sample(1:nrow(datos_Congl[datos_Congl$Depto=='ATLANTICO',]),size=num_ATLANTICO,replace=FALSE)\n",
    "\n",
    "num_BOGOTA<-112 # Número de estudiantes en BOGOTA\n",
    "meBOGOTA_cong<- sample(1:nrow(datos_Congl[datos_Congl$Depto=='BOGOTA',]),size=num_BOGOTA,replace=FALSE)\n",
    "\n",
    "num_BOLIVAR<-13 # Número de estudiantes en BOLIVAR\n",
    "meBOLIVAR_cong<- sample(1:nrow(datos_Congl[datos_Congl$Depto=='BOLIVAR',]),size=num_BOLIVAR,replace=FALSE)\n",
    "\n",
    "num_BOYACA<-10 # Número de estudiantes en BOYACA\n",
    "meBOYACA_cong<- sample(1:nrow(datos_Congl[datos_Congl$Depto=='BOYACA',]),size=num_BOYACA,replace=FALSE)\n",
    "\n",
    "num_CALDAS<-8 # Número de estudiantes en CALDAS\n",
    "meCALDAS_cong<- sample(1:nrow(datos_Congl[datos_Congl$Depto=='CALDAS',]),size=num_CALDAS,replace=FALSE)\n",
    "\n",
    "num_CAQUETA<-3 # Número de estudiantes en CAQUETA\n",
    "meCAQUETA_cong<- sample(1:nrow(datos_Congl[datos_Congl$Depto=='CAQUETA',]),size=num_CAQUETA,replace=FALSE)\n",
    "\n",
    "num_CASANARE<-2 # Número de estudiantes en CASANARE\n",
    "meCASANARE_cong<- sample(1:nrow(datos_Congl[datos_Congl$Depto=='CASANARE',]),size=num_CASANARE,replace=FALSE)\n",
    "\n",
    "num_CAUCA<-9 # Número de estudiantes en CAUCA\n",
    "meCAUCA_cong<- sample(1:nrow(datos_Congl[datos_Congl$Depto=='CAUCA',]),size=num_CAUCA,replace=FALSE)\n",
    "\n",
    "num_CESAR<-6 # Número de estudiantes en CESAR\n",
    "meCESAR_cong<- sample(1:nrow(datos_Congl[datos_Congl$Depto=='CESAR',]),size=num_CESAR,replace=FALSE)\n",
    "\n",
    "num_CHOCO<-3 # Número de estudiantes en CHOCO\n",
    "meCHOCO_cong<- sample(1:nrow(datos_Congl[datos_Congl$Depto=='CHOCO',]),size=num_CHOCO,replace=FALSE)\n",
    "\n",
    "num_CORDOBA<-10 # Número de estudiantes en CORDOBA\n",
    "meCORDOBA_cong<- sample(1:nrow(datos_Congl[datos_Congl$Depto=='CORDOBA',]),size=num_CORDOBA,replace=FALSE)\n",
    "\n",
    "num_CUNDINAMARCA<-21 # Número de estudiantes en CUNDINAMARCA\n",
    "meCUNDINAMARCA_cong<- sample(1:nrow(datos_Congl[datos_Congl$Depto=='CUNDINAMARCA',]),size=num_CUNDINAMARCA,replace=FALSE)\n",
    "\n",
    "num_EXTRANJERO<-1 # Número de estudiantes en EXTRANJERO\n",
    "meEXTRANJERO_cong<- sample(1:nrow(datos_Congl[datos_Congl$Depto=='EXTRANJERO',]),size=num_EXTRANJERO,replace=FALSE)\n",
    "\n",
    "num_GUAINIA<-1 # Número de estudiantes en GUAINIA\n",
    "meGUAINIA_cong<- sample(1:nrow(datos_Congl[datos_Congl$Depto=='GUAINIA',]),size=num_GUAINIA,replace=FALSE)\n",
    "\n",
    "num_GUAVIARE<-1 # Número de estudiantes en GUAVIARE\n",
    "meGUAVIARE_cong<- sample(1:nrow(datos_Congl[datos_Congl$Depto=='GUAVIARE',]),size=num_GUAVIARE,replace=FALSE)\n",
    "\n",
    "num_HUILA<-8 # Número de estudiantes en HUILA\n",
    "meHUILA_cong<- sample(1:nrow(datos_Congl[datos_Congl$Depto=='HUILA',]),size=num_HUILA,replace=FALSE)\n",
    "\n",
    "num_GUAJIRA<-4 # Número de estudiantes en GUAJIRA\n",
    "meGUAJIRA_cong<- sample(1:nrow(datos_Congl[datos_Congl$Depto=='LA GUAJIRA',]),size=num_GUAJIRA,replace=FALSE)\n",
    "\n",
    "num_MAGDALENA<-6 # Número de estudiantes en MAGDALENA\n",
    "meMAGDALENA_cong<- sample(1:nrow(datos_Congl[datos_Congl$Depto=='MAGDALENA',]),size=num_MAGDALENA,replace=FALSE)\n",
    "\n",
    "num_META<-8 # Número de estudiantes en META\n",
    "meMETA_cong<- sample(1:nrow(datos_Congl[datos_Congl$Depto=='META',]),size=num_META,replace=FALSE)\n",
    "\n",
    "num_NARINO<-9 # Número de estudiantes en NARINO\n",
    "meNARINO_cong<- sample(1:nrow(datos_Congl[datos_Congl$Depto=='NARINO',]),size=num_NARINO,replace=FALSE)\n",
    "\n",
    "num_NORTE_SANTANDER<-12 # Número de estudiantes en NORTE_SANTANDER\n",
    "meNORTE_SANTANDER_cong<- sample(1:nrow(datos_Congl[datos_Congl$Depto=='NORTE SANTANDER',]),size=num_NORTE_SANTANDER,replace=FALSE)\n",
    "\n",
    "num_PUTUMAYO<-2 # Número de estudiantes en PUTUMAYO\n",
    "mePUTUMAYO_cong<- sample(1:nrow(datos_Congl[datos_Congl$departamento=='PUTUMAYO',]),size=num_PUTUMAYO,replace=FALSE)\n",
    "\n",
    "num_QUINDIO<-5 # Número de estudiantes en QUINDIO\n",
    "meQUINDIO_cong<- sample(1:nrow(datos_Congl[datos_Congl$Depto=='QUINDIO',]),size=num_QUINDIO,replace=FALSE)\n",
    "\n",
    "num_RISARALDA<-9 # Número de estudiantes en RISARALDA\n",
    "meRISARALDA_cong<- sample(1:nrow(datos_Congl[datos_Congl$Depto=='RISARALDA',]),size=num_RISARALDA,replace=FALSE)\n",
    "\n",
    "num_SAN_ANDRES<-1 # Número de estudiantes en SAN_ANDRES\n",
    "meSAN_ANDRES_cong<- sample(1:nrow(datos_Congl[datos_Congl$Depto=='SAN ANDRES',]),size=num_SAN_ANDRES,replace=FALSE)\n",
    "\n",
    "num_SANTANDER<-20 # Número de estudiantes en SANTANDER\n",
    "meSANTANDER_cong<- sample(1:nrow(datos_Congl[datos_Congl$Depto=='SANTANDER',]),size=num_SANTANDER,replace=FALSE)\n",
    "\n",
    "num_SUCRE<-6 # Número de estudiantes en SUCRE\n",
    "meSUCRE_cong<- sample(1:nrow(datos_Congl[datos_Congl$Depto=='SUCRE',]),size=num_SUCRE,replace=FALSE)\n",
    "\n",
    "num_TOLIMA<-10 # Número de estudiantes en TOLIMA\n",
    "meTOLIMA_cong<- sample(1:nrow(datos_Congl[datos_Congl$Depto=='TOLIMA',]),size=num_TOLIMA,replace=FALSE)\n",
    "\n",
    "num_VALLE<-30 # Número de estudiantes en VALLE\n",
    "meVALLE_cong<- sample(1:nrow(datos_Congl[datos_Congl$Depto=='VALLE',]),size=num_VALLE,replace=FALSE)\n",
    "\n",
    "num_VAUPES<-1 # Número de estudiantes en VAUPES\n",
    "meVAUPES_cong<- sample(1:nrow(datos_Congl[datos_Congl$Depto=='VAUPES',]),size=num_VAUPES,replace=FALSE)\n",
    "\n",
    "num_VICHADA<-1 # Número de estudiantes en VICHADA\n",
    "meVICHADA_cong<- sample(1:nrow(datos_Congl[datos_Congl$Depto=='VICHADA',]),size=num_VICHADA,replace=FALSE)\n",
    "\n",
    "muestra_cong<-c( meAMAZONAS_cong,meANTIOQUIA_cong,meARAUCA_cong,meATLANTICO_cong,meBOGOTA_cong,meBOLIVAR_cong,meBOYACA_cong,meCALDAS_cong,meCAQUETA_cong,meCASANARE_cong,meCAUCA_cong,meCESAR_cong,meCHOCO_cong,meCORDOBA_cong,meCUNDINAMARCA_cong,meEXTRANJERO_cong,meGUAINIA_cong,meGUAVIARE_cong,meHUILA_cong,meGUAJIRA_cong,meMAGDALENA_cong,meMETA_cong,meNARINO_cong,meNORTE_SANTANDER_cong,mePUTUMAYO_cong,meQUINDIO_cong,meRISARALDA_cong,meSAN_ANDRES_cong,meSANTANDER_cong,meSUCRE_cong,meTOLIMA_cong,meVALLE_cong,meVAUPES_cong,meVICHADA_cong) # Unimos los tres vectores                                                                       \n",
    "\n",
    "SC <- datos_Congl[muestra_cong,]\n",
    "head(SC)"
   ]
  },
  {
   "cell_type": "code",
   "execution_count": 49,
   "metadata": {},
   "outputs": [
    {
     "data": {
      "image/png": "[encoded data removed]",
      "text/plain": [
       "Plot with title \"ATLANTICO\""
      ]
     },
     "metadata": {},
     "output_type": "display_data"
    }
   ],
   "source": [
    "datos_Santander<-SC[SC$Depto==\"SANTANDER\",]\n",
    "datos_Bog<-SC[SC$Depto==\"BOGOTA\",]\n",
    "datos_Antioquia<-SC[SC$Depto==\"ANTIOQUIA\",]\n",
    "datos_Atlantico<-SC[SC$Depto==\"ATLANTICO\",]\n",
    "#Procedemos a realizar el diagrama de Cajas\n",
    "par(mfrow=c(2,2))\n",
    "with(datos_Santander, boxplot(PuntosLC, pch = 20, main = 'SANTANDER'))\n",
    "with(datos_Bog, boxplot(PuntosLC, pch = 20, main = 'BOGOTA'))\n",
    "with(datos_Antioquia, boxplot(PuntosLC, pch = 20, main = 'ANTIOQUIA'))\n",
    "with(datos_Atlantico, boxplot(PuntosLC, pch = 20, main = 'ATLANTICO'))"
   ]
  },
  {
   "cell_type": "code",
   "execution_count": 50,
   "metadata": {},
   "outputs": [
    {
     "data": {
      "image/png": "[encoded data removed]",
      "text/plain": [
       "Plot with title \"ATLANTICO\""
      ]
     },
     "metadata": {},
     "output_type": "display_data"
    }
   ],
   "source": [
    "par(mfrow=c(2,2))\n",
    "with(datos_Santander, hist(PuntosLC, main = 'SANTANDER',xlab=\"Puntaje en Lectura\"))\n",
    "with(datos_Bog, hist(PuntosLC, main = 'BOGOTA',xlab=\"Puntaje en Lectura\"))\n",
    "with(datos_Antioquia, hist(PuntosLC, main = 'ANTIOQUIA',xlab=\"Puntaje en Lectura\"))\n",
    "with(datos_Atlantico, hist(PuntosLC, main = 'ATLANTICO',xlab=\"Puntaje en Lectura\"))"
   ]
  },
  {
   "cell_type": "code",
   "execution_count": 52,
   "metadata": {
    "scrolled": false
   },
   "outputs": [
    {
     "data": {
      "image/png": "[encoded data removed]",
      "text/plain": [
       "Plot with title \"MC(384)\""
      ]
     },
     "metadata": {},
     "output_type": "display_data"
    }
   ],
   "source": [
    "par(mfrow=c(1,4))\n",
    "\n",
    "\n",
    "with(df, hist(LC_Puntaje, nclass = 50, main = 'Población'))\n",
    "with(df[s1,], hist(LC_Puntaje, nclass = 50, main = 'MAS (384)'))\n",
    "with(df[mestratoLC,], hist(LC_Puntaje, nclass = 50, main = 'ME (384)'))\n",
    "with(SC,hist(PuntosLC, nclass = 50, main = 'MC(384)'))"
   ]
  },
  {
   "cell_type": "code",
   "execution_count": 53,
   "metadata": {},
   "outputs": [
    {
     "data": {
      "text/html": [
       "<table>\n",
       "<thead><tr><th></th><th scope=col>poblacion</th><th scope=col>MAS</th><th scope=col>ME</th><th scope=col>MC</th></tr></thead>\n",
       "<tbody>\n",
       "\t<tr><th scope=row>tamaño</th><td>725295.0000</td><td>384.0000   </td><td>387.0000   </td><td>401.0000   </td></tr>\n",
       "\t<tr><th scope=row>media</th><td>   149.4512</td><td>151.3776   </td><td>148.7597   </td><td>150.4090   </td></tr>\n",
       "\t<tr><th scope=row>desviación estándar</th><td>    30.6923</td><td> 32.2601   </td><td> 29.5134   </td><td> 30.7014   </td></tr>\n",
       "\t<tr><th scope=row>simetría</th><td>     0.1637</td><td>  0.3389   </td><td>  0.1878   </td><td>  0.1929   </td></tr>\n",
       "\t<tr><th scope=row>kurtosis</th><td>     0.0840</td><td>  0.4272   </td><td> -0.3112   </td><td> -0.6082   </td></tr>\n",
       "</tbody>\n",
       "</table>\n"
      ],
      "text/latex": [
       "\\begin{tabular}{r|llll}\n",
       "  & poblacion & MAS & ME & MC\\\\\n",
       "\\hline\n",
       "\ttamaño & 725295.0000 & 384.0000    & 387.0000    & 401.0000   \\\\\n",
       "\tmedia &    149.4512 & 151.3776    & 148.7597    & 150.4090   \\\\\n",
       "\tdesviación estándar &     30.6923 &  32.2601    &  29.5134    &  30.7014   \\\\\n",
       "\tsimetría &      0.1637 &   0.3389    &   0.1878    &   0.1929   \\\\\n",
       "\tkurtosis &      0.0840 &   0.4272    &  -0.3112    &  -0.6082   \\\\\n",
       "\\end{tabular}\n"
      ],
      "text/markdown": [
       "\n",
       "| <!--/--> | poblacion | MAS | ME | MC |\n",
       "|---|---|---|---|---|\n",
       "| tamaño | 725295.0000 | 384.0000    | 387.0000    | 401.0000    |\n",
       "| media |    149.4512 | 151.3776    | 148.7597    | 150.4090    |\n",
       "| desviación estándar |     30.6923 |  32.2601    |  29.5134    |  30.7014    |\n",
       "| simetría |      0.1637 |   0.3389    |   0.1878    |   0.1929    |\n",
       "| kurtosis |      0.0840 |   0.4272    |  -0.3112    |  -0.6082    |\n",
       "\n"
      ],
      "text/plain": [
       "                    poblacion   MAS      ME       MC      \n",
       "tamaño              725295.0000 384.0000 387.0000 401.0000\n",
       "media                  149.4512 151.3776 148.7597 150.4090\n",
       "desviación estándar     30.6923  32.2601  29.5134  30.7014\n",
       "simetría                 0.1637   0.3389   0.1878   0.1929\n",
       "kurtosis                 0.0840   0.4272  -0.3112  -0.6082"
      ]
     },
     "metadata": {},
     "output_type": "display_data"
    },
    {
     "data": {
      "text/html": [
       "<table>\n",
       "<thead><tr><th></th><th scope=col>poblacion</th><th scope=col>MAS</th><th scope=col>ME</th><th scope=col>MC</th></tr></thead>\n",
       "<tbody>\n",
       "\t<tr><th scope=row>tamaño</th><td>725295.0000</td><td>384.0000   </td><td>387.0000   </td><td>401.0000   </td></tr>\n",
       "\t<tr><th scope=row>media</th><td>   150.1223</td><td>151.5833   </td><td>151.1783   </td><td>150.5536   </td></tr>\n",
       "\t<tr><th scope=row>desviación estándar</th><td>    30.9895</td><td> 31.7533   </td><td> 31.1231   </td><td> 30.7792   </td></tr>\n",
       "\t<tr><th scope=row>simetría</th><td>     0.0245</td><td>  0.0509   </td><td> -0.1563   </td><td>  0.0661   </td></tr>\n",
       "\t<tr><th scope=row>kurtosis</th><td>    -0.2912</td><td> -0.5824   </td><td> -0.5873   </td><td> -0.4813   </td></tr>\n",
       "</tbody>\n",
       "</table>\n"
      ],
      "text/latex": [
       "\\begin{tabular}{r|llll}\n",
       "  & poblacion & MAS & ME & MC\\\\\n",
       "\\hline\n",
       "\ttamaño & 725295.0000 & 384.0000    & 387.0000    & 401.0000   \\\\\n",
       "\tmedia &    150.1223 & 151.5833    & 151.1783    & 150.5536   \\\\\n",
       "\tdesviación estándar &     30.9895 &  31.7533    &  31.1231    &  30.7792   \\\\\n",
       "\tsimetría &      0.0245 &   0.0509    &  -0.1563    &   0.0661   \\\\\n",
       "\tkurtosis &     -0.2912 &  -0.5824    &  -0.5873    &  -0.4813   \\\\\n",
       "\\end{tabular}\n"
      ],
      "text/markdown": [
       "\n",
       "| <!--/--> | poblacion | MAS | ME | MC |\n",
       "|---|---|---|---|---|\n",
       "| tamaño | 725295.0000 | 384.0000    | 387.0000    | 401.0000    |\n",
       "| media |    150.1223 | 151.5833    | 151.1783    | 150.5536    |\n",
       "| desviación estándar |     30.9895 |  31.7533    |  31.1231    |  30.7792    |\n",
       "| simetría |      0.0245 |   0.0509    |  -0.1563    |   0.0661    |\n",
       "| kurtosis |     -0.2912 |  -0.5824    |  -0.5873    |  -0.4813    |\n",
       "\n"
      ],
      "text/plain": [
       "                    poblacion   MAS      ME       MC      \n",
       "tamaño              725295.0000 384.0000 387.0000 401.0000\n",
       "media                  150.1223 151.5833 151.1783 150.5536\n",
       "desviación estándar     30.9895  31.7533  31.1231  30.7792\n",
       "simetría                 0.0245   0.0509  -0.1563   0.0661\n",
       "kurtosis                -0.2912  -0.5824  -0.5873  -0.4813"
      ]
     },
     "metadata": {},
     "output_type": "display_data"
    },
    {
     "data": {
      "text/html": [
       "<table>\n",
       "<thead><tr><th></th><th scope=col>poblacion</th><th scope=col>MAS</th><th scope=col>ME</th><th scope=col>MC</th></tr></thead>\n",
       "<tbody>\n",
       "\t<tr><th scope=row>tamaño</th><td>725295.0000</td><td>384.0000   </td><td>385.0000   </td><td>401.0000   </td></tr>\n",
       "\t<tr><th scope=row>media</th><td>   144.7592</td><td>145.4115   </td><td>148.4779   </td><td>151.0648   </td></tr>\n",
       "\t<tr><th scope=row>desviación estándar</th><td>    32.4643</td><td> 32.6191   </td><td> 30.7116   </td><td> 29.4962   </td></tr>\n",
       "\t<tr><th scope=row>simetría</th><td>    -0.0732</td><td> -0.2181   </td><td> -0.1201   </td><td> -0.1638   </td></tr>\n",
       "\t<tr><th scope=row>kurtosis</th><td>    -0.0420</td><td>  0.2781   </td><td> -0.6040   </td><td> -0.5277   </td></tr>\n",
       "</tbody>\n",
       "</table>\n"
      ],
      "text/latex": [
       "\\begin{tabular}{r|llll}\n",
       "  & poblacion & MAS & ME & MC\\\\\n",
       "\\hline\n",
       "\ttamaño & 725295.0000 & 384.0000    & 385.0000    & 401.0000   \\\\\n",
       "\tmedia &    144.7592 & 145.4115    & 148.4779    & 151.0648   \\\\\n",
       "\tdesviación estándar &     32.4643 &  32.6191    &  30.7116    &  29.4962   \\\\\n",
       "\tsimetría &     -0.0732 &  -0.2181    &  -0.1201    &  -0.1638   \\\\\n",
       "\tkurtosis &     -0.0420 &   0.2781    &  -0.6040    &  -0.5277   \\\\\n",
       "\\end{tabular}\n"
      ],
      "text/markdown": [
       "\n",
       "| <!--/--> | poblacion | MAS | ME | MC |\n",
       "|---|---|---|---|---|\n",
       "| tamaño | 725295.0000 | 384.0000    | 385.0000    | 401.0000    |\n",
       "| media |    144.7592 | 145.4115    | 148.4779    | 151.0648    |\n",
       "| desviación estándar |     32.4643 |  32.6191    |  30.7116    |  29.4962    |\n",
       "| simetría |     -0.0732 |  -0.2181    |  -0.1201    |  -0.1638    |\n",
       "| kurtosis |     -0.0420 |   0.2781    |  -0.6040    |  -0.5277    |\n",
       "\n"
      ],
      "text/plain": [
       "                    poblacion   MAS      ME       MC      \n",
       "tamaño              725295.0000 384.0000 385.0000 401.0000\n",
       "media                  144.7592 145.4115 148.4779 151.0648\n",
       "desviación estándar     32.4643  32.6191  30.7116  29.4962\n",
       "simetría                -0.0732  -0.2181  -0.1201  -0.1638\n",
       "kurtosis                -0.0420   0.2781  -0.6040  -0.5277"
      ]
     },
     "metadata": {},
     "output_type": "display_data"
    }
   ],
   "source": [
    "#MAS n=384\n",
    "#Para razonamiento cuantitativo\n",
    "poblacion <- round(mystats(df[,'RC_Puntaje']),4)\n",
    "MAS <- round(mystats(df[s1,'RC_Puntaje']),4)\n",
    "ME <- round(mystats(df[mestratoRC,'RC_Puntaje']),4)\n",
    "MC <- round(mystats(df[muestra_cong,'RC_Puntaje']),4)\n",
    "data.frame(poblacion,MAS,ME,MC)\n",
    "\n",
    "#Para lectura crítica\n",
    "poblacion <- round(mystats(df[,'LC_Puntaje']),4)\n",
    "MAS <- round(mystats(df[s1,'LC_Puntaje']),4)\n",
    "ME <- round(mystats(df[mestratoLC,'LC_Puntaje']),4)\n",
    "MC <- round(mystats(df[muestra_cong,'LC_Puntaje']),4)\n",
    "data.frame(poblacion,MAS,ME,MC)\n",
    "\n",
    "#Para competencias ciudadanas\n",
    "poblacion <- round(mystats(df[,'CC_Puntaje']),4)\n",
    "MAS <- round(mystats(df[s1,'CC_Puntaje']),4)\n",
    "ME <- round(mystats(df[mestratoCC,'CC_Puntaje']),4)\n",
    "MC <- round(mystats(df[muestra_cong,'CC_Puntaje']),4)\n",
    "data.frame(poblacion,MAS,ME,MC)"
   ]
  },
  {
   "cell_type": "markdown",
   "metadata": {},
   "source": [
    "## 4. ¿Considera que es procedente realizar un muestreo sistemático? Argumente su respuesta "
   ]
  },
  {
   "cell_type": "markdown",
   "metadata": {},
   "source": [
    "Consideramos pertinente realizarlo debido a que nos permite que la totalidad de los datos sean tenidos en cuenta, además que en este caso tenemos los datos organizados por años (2016,2017,2018) por lo que obtendríamos información de todos los periodos."
   ]
  },
  {
   "cell_type": "markdown",
   "metadata": {},
   "source": [
    "## 5. Realice el correspondiente muestreo y compare con los anteriores"
   ]
  },
  {
   "cell_type": "code",
   "execution_count": 54,
   "metadata": {},
   "outputs": [
    {
     "data": {
      "image/png": "[encoded data removed]",
      "text/plain": [
       "Plot with title \"MS (384)\""
      ]
     },
     "metadata": {},
     "output_type": "display_data"
    }
   ],
   "source": [
    "muestreo_Sis<- sys.sample(N=nrow(data),n=n1)\n",
    "msis<-data[muestreo_Sis,]\n",
    "par(mfrow=c(3,3))\n",
    "with(data[s1,], hist(raz_cuant_punt, nclass = 50 , main = 'MAS (384)'))\n",
    "with(data[s1,], hist(lect_crit_punt, nclass = 50 , main = 'MAS (384)'))\n",
    "with(data[s1,], hist(comp_ciud_punt, nclass = 50, main = 'MAS (384)'))\n",
    "\n",
    "with(data[mestratoRC,], hist(raz_cuant_punt, nclass = 50, main = 'ME (384)' ))\n",
    "with(data[mestratoLC,], hist(lect_crit_punt, nclass = 50, main = 'ME (384)' ))\n",
    "with(data[mestratoCC,], hist(comp_ciud_punt, nclass = 50 , main = 'ME (384)'))\n",
    "\n",
    "with(msis, hist(raz_cuant_punt, nclass = 50, main = 'MS (384)' ))\n",
    "with(msis, hist(lect_crit_punt, nclass = 50 , main = 'MS (384)'))\n",
    "with(msis, hist(comp_ciud_punt, nclass = 50, main = 'MS (384)' ))\n",
    "\n",
    "par(mfrow=c(1,1))"
   ]
  },
  {
   "cell_type": "markdown",
   "metadata": {},
   "source": [
    "### Inferencias"
   ]
  },
  {
   "cell_type": "code",
   "execution_count": 55,
   "metadata": {},
   "outputs": [
    {
     "name": "stdout",
     "output_type": "stream",
     "text": [
      "[1] \"Razonamiento Cuantitativo\"\n"
     ]
    },
    {
     "data": {
      "text/html": [
       "<table>\n",
       "<thead><tr><th scope=col>media</th><th scope=col>desv</th><th scope=col>N</th><th scope=col>error.est</th><th scope=col>error</th><th scope=col>lim.inf</th><th scope=col>lim.sup</th></tr></thead>\n",
       "<tbody>\n",
       "\t<tr><td>147.97</td><td>29.47 </td><td>384   </td><td>1.5   </td><td>2.47  </td><td>145.51</td><td>150.44</td></tr>\n",
       "</tbody>\n",
       "</table>\n"
      ],
      "text/latex": [
       "\\begin{tabular}{r|lllllll}\n",
       " media & desv & N & error.est & error & lim.inf & lim.sup\\\\\n",
       "\\hline\n",
       "\t 147.97 & 29.47  & 384    & 1.5    & 2.47   & 145.51 & 150.44\\\\\n",
       "\\end{tabular}\n"
      ],
      "text/markdown": [
       "\n",
       "| media | desv | N | error.est | error | lim.inf | lim.sup |\n",
       "|---|---|---|---|---|---|---|\n",
       "| 147.97 | 29.47  | 384    | 1.5    | 2.47   | 145.51 | 150.44 |\n",
       "\n"
      ],
      "text/plain": [
       "  media  desv  N   error.est error lim.inf lim.sup\n",
       "1 147.97 29.47 384 1.5       2.47  145.51  150.44 "
      ]
     },
     "metadata": {},
     "output_type": "display_data"
    },
    {
     "name": "stdout",
     "output_type": "stream",
     "text": [
      "[1] \"Lectura Crítica\"\n"
     ]
    },
    {
     "data": {
      "text/html": [
       "<table>\n",
       "<thead><tr><th scope=col>media</th><th scope=col>desv</th><th scope=col>N</th><th scope=col>error.est</th><th scope=col>error</th><th scope=col>lim.inf</th><th scope=col>lim.sup</th></tr></thead>\n",
       "<tbody>\n",
       "\t<tr><td>148.78</td><td>31.53 </td><td>384   </td><td>1.61  </td><td>2.64  </td><td>146.14</td><td>151.42</td></tr>\n",
       "</tbody>\n",
       "</table>\n"
      ],
      "text/latex": [
       "\\begin{tabular}{r|lllllll}\n",
       " media & desv & N & error.est & error & lim.inf & lim.sup\\\\\n",
       "\\hline\n",
       "\t 148.78 & 31.53  & 384    & 1.61   & 2.64   & 146.14 & 151.42\\\\\n",
       "\\end{tabular}\n"
      ],
      "text/markdown": [
       "\n",
       "| media | desv | N | error.est | error | lim.inf | lim.sup |\n",
       "|---|---|---|---|---|---|---|\n",
       "| 148.78 | 31.53  | 384    | 1.61   | 2.64   | 146.14 | 151.42 |\n",
       "\n"
      ],
      "text/plain": [
       "  media  desv  N   error.est error lim.inf lim.sup\n",
       "1 148.78 31.53 384 1.61      2.64  146.14  151.42 "
      ]
     },
     "metadata": {},
     "output_type": "display_data"
    },
    {
     "name": "stdout",
     "output_type": "stream",
     "text": [
      "[1] \"Competencias Ciudadanas\"\n"
     ]
    },
    {
     "data": {
      "text/html": [
       "<table>\n",
       "<thead><tr><th scope=col>media</th><th scope=col>desv</th><th scope=col>N</th><th scope=col>error.est</th><th scope=col>error</th><th scope=col>lim.inf</th><th scope=col>lim.sup</th></tr></thead>\n",
       "<tbody>\n",
       "\t<tr><td>144.55</td><td>32.82 </td><td>384   </td><td>1.68  </td><td>2.75  </td><td>141.8 </td><td>147.29</td></tr>\n",
       "</tbody>\n",
       "</table>\n"
      ],
      "text/latex": [
       "\\begin{tabular}{r|lllllll}\n",
       " media & desv & N & error.est & error & lim.inf & lim.sup\\\\\n",
       "\\hline\n",
       "\t 144.55 & 32.82  & 384    & 1.68   & 2.75   & 141.8  & 147.29\\\\\n",
       "\\end{tabular}\n"
      ],
      "text/markdown": [
       "\n",
       "| media | desv | N | error.est | error | lim.inf | lim.sup |\n",
       "|---|---|---|---|---|---|---|\n",
       "| 144.55 | 32.82  | 384    | 1.68   | 2.75   | 141.8  | 147.29 |\n",
       "\n"
      ],
      "text/plain": [
       "  media  desv  N   error.est error lim.inf lim.sup\n",
       "1 144.55 32.82 384 1.68      2.75  141.8   147.29 "
      ]
     },
     "metadata": {},
     "output_type": "display_data"
    }
   ],
   "source": [
    "print('Razonamiento Cuantitativo')\n",
    "inf_RC_90<- inferencia(msis$raz_cuant_punt,1.64)\n",
    "round(inf_RC_90,2)\n",
    "print('Lectura Crítica')\n",
    "inf_LC_90<- inferencia(msis$lect_crit_punt,1.64)\n",
    "round(inf_LC_90,2)\n",
    "print(\"Competencias Ciudadanas\")\n",
    "inf_CC_90<- inferencia(msis$comp_ciud_punt,1.64)\n",
    "round(inf_CC_90,2)"
   ]
  },
  {
   "cell_type": "code",
   "execution_count": 56,
   "metadata": {},
   "outputs": [
    {
     "name": "stdout",
     "output_type": "stream",
     "text": [
      "[1] \"Razonamiento Cuantitativo\"\n"
     ]
    },
    {
     "data": {
      "text/html": [
       "<table>\n",
       "<thead><tr><th scope=col>media</th><th scope=col>desv</th><th scope=col>N</th><th scope=col>error.est</th><th scope=col>error</th><th scope=col>lim.inf</th><th scope=col>lim.sup</th></tr></thead>\n",
       "<tbody>\n",
       "\t<tr><td>147.97</td><td>29.47 </td><td>384   </td><td>1.5   </td><td>2.95  </td><td>145.03</td><td>150.92</td></tr>\n",
       "</tbody>\n",
       "</table>\n"
      ],
      "text/latex": [
       "\\begin{tabular}{r|lllllll}\n",
       " media & desv & N & error.est & error & lim.inf & lim.sup\\\\\n",
       "\\hline\n",
       "\t 147.97 & 29.47  & 384    & 1.5    & 2.95   & 145.03 & 150.92\\\\\n",
       "\\end{tabular}\n"
      ],
      "text/markdown": [
       "\n",
       "| media | desv | N | error.est | error | lim.inf | lim.sup |\n",
       "|---|---|---|---|---|---|---|\n",
       "| 147.97 | 29.47  | 384    | 1.5    | 2.95   | 145.03 | 150.92 |\n",
       "\n"
      ],
      "text/plain": [
       "  media  desv  N   error.est error lim.inf lim.sup\n",
       "1 147.97 29.47 384 1.5       2.95  145.03  150.92 "
      ]
     },
     "metadata": {},
     "output_type": "display_data"
    },
    {
     "name": "stdout",
     "output_type": "stream",
     "text": [
      "[1] \"Lectura Crítica\"\n"
     ]
    },
    {
     "data": {
      "text/html": [
       "<table>\n",
       "<thead><tr><th scope=col>media</th><th scope=col>desv</th><th scope=col>N</th><th scope=col>error.est</th><th scope=col>error</th><th scope=col>lim.inf</th><th scope=col>lim.sup</th></tr></thead>\n",
       "<tbody>\n",
       "\t<tr><td>148.78</td><td>31.53 </td><td>384   </td><td>1.61  </td><td>3.15  </td><td>145.63</td><td>151.93</td></tr>\n",
       "</tbody>\n",
       "</table>\n"
      ],
      "text/latex": [
       "\\begin{tabular}{r|lllllll}\n",
       " media & desv & N & error.est & error & lim.inf & lim.sup\\\\\n",
       "\\hline\n",
       "\t 148.78 & 31.53  & 384    & 1.61   & 3.15   & 145.63 & 151.93\\\\\n",
       "\\end{tabular}\n"
      ],
      "text/markdown": [
       "\n",
       "| media | desv | N | error.est | error | lim.inf | lim.sup |\n",
       "|---|---|---|---|---|---|---|\n",
       "| 148.78 | 31.53  | 384    | 1.61   | 3.15   | 145.63 | 151.93 |\n",
       "\n"
      ],
      "text/plain": [
       "  media  desv  N   error.est error lim.inf lim.sup\n",
       "1 148.78 31.53 384 1.61      3.15  145.63  151.93 "
      ]
     },
     "metadata": {},
     "output_type": "display_data"
    },
    {
     "name": "stdout",
     "output_type": "stream",
     "text": [
      "[1] \"Competencias Ciudadanas\"\n"
     ]
    },
    {
     "data": {
      "text/html": [
       "<table>\n",
       "<thead><tr><th scope=col>media</th><th scope=col>desv</th><th scope=col>N</th><th scope=col>error.est</th><th scope=col>error</th><th scope=col>lim.inf</th><th scope=col>lim.sup</th></tr></thead>\n",
       "<tbody>\n",
       "\t<tr><td>144.55</td><td>32.82 </td><td>384   </td><td>1.68  </td><td>3.28  </td><td>141.26</td><td>147.83</td></tr>\n",
       "</tbody>\n",
       "</table>\n"
      ],
      "text/latex": [
       "\\begin{tabular}{r|lllllll}\n",
       " media & desv & N & error.est & error & lim.inf & lim.sup\\\\\n",
       "\\hline\n",
       "\t 144.55 & 32.82  & 384    & 1.68   & 3.28   & 141.26 & 147.83\\\\\n",
       "\\end{tabular}\n"
      ],
      "text/markdown": [
       "\n",
       "| media | desv | N | error.est | error | lim.inf | lim.sup |\n",
       "|---|---|---|---|---|---|---|\n",
       "| 144.55 | 32.82  | 384    | 1.68   | 3.28   | 141.26 | 147.83 |\n",
       "\n"
      ],
      "text/plain": [
       "  media  desv  N   error.est error lim.inf lim.sup\n",
       "1 144.55 32.82 384 1.68      3.28  141.26  147.83 "
      ]
     },
     "metadata": {},
     "output_type": "display_data"
    }
   ],
   "source": [
    "print('Razonamiento Cuantitativo')\n",
    "inf_RC_90<- inferencia(msis$raz_cuant_punt,1.96)\n",
    "round(inf_RC_90,2)\n",
    "print('Lectura Crítica')\n",
    "inf_LC_90<- inferencia(msis$lect_crit_punt,1.96)\n",
    "round(inf_LC_90,2)\n",
    "print(\"Competencias Ciudadanas\")\n",
    "inf_CC_90<- inferencia(msis$comp_ciud_punt,1.96)\n",
    "round(inf_CC_90,2)"
   ]
  },
  {
   "cell_type": "code",
   "execution_count": 57,
   "metadata": {},
   "outputs": [
    {
     "name": "stdout",
     "output_type": "stream",
     "text": [
      "[1] \"Razonamiento Cuantitativo\"\n"
     ]
    },
    {
     "data": {
      "text/html": [
       "<table>\n",
       "<thead><tr><th scope=col>media</th><th scope=col>desv</th><th scope=col>N</th><th scope=col>error.est</th><th scope=col>error</th><th scope=col>lim.inf</th><th scope=col>lim.sup</th></tr></thead>\n",
       "<tbody>\n",
       "\t<tr><td>147.97</td><td>29.47 </td><td>384   </td><td>1.5   </td><td>3.86  </td><td>144.11</td><td>151.84</td></tr>\n",
       "</tbody>\n",
       "</table>\n"
      ],
      "text/latex": [
       "\\begin{tabular}{r|lllllll}\n",
       " media & desv & N & error.est & error & lim.inf & lim.sup\\\\\n",
       "\\hline\n",
       "\t 147.97 & 29.47  & 384    & 1.5    & 3.86   & 144.11 & 151.84\\\\\n",
       "\\end{tabular}\n"
      ],
      "text/markdown": [
       "\n",
       "| media | desv | N | error.est | error | lim.inf | lim.sup |\n",
       "|---|---|---|---|---|---|---|\n",
       "| 147.97 | 29.47  | 384    | 1.5    | 3.86   | 144.11 | 151.84 |\n",
       "\n"
      ],
      "text/plain": [
       "  media  desv  N   error.est error lim.inf lim.sup\n",
       "1 147.97 29.47 384 1.5       3.86  144.11  151.84 "
      ]
     },
     "metadata": {},
     "output_type": "display_data"
    },
    {
     "name": "stdout",
     "output_type": "stream",
     "text": [
      "[1] \"Lectura Crítica\"\n"
     ]
    },
    {
     "data": {
      "text/html": [
       "<table>\n",
       "<thead><tr><th scope=col>media</th><th scope=col>desv</th><th scope=col>N</th><th scope=col>error.est</th><th scope=col>error</th><th scope=col>lim.inf</th><th scope=col>lim.sup</th></tr></thead>\n",
       "<tbody>\n",
       "\t<tr><td>148.78</td><td>31.53 </td><td>384   </td><td>1.61  </td><td>4.13  </td><td>144.64</td><td>152.91</td></tr>\n",
       "</tbody>\n",
       "</table>\n"
      ],
      "text/latex": [
       "\\begin{tabular}{r|lllllll}\n",
       " media & desv & N & error.est & error & lim.inf & lim.sup\\\\\n",
       "\\hline\n",
       "\t 148.78 & 31.53  & 384    & 1.61   & 4.13   & 144.64 & 152.91\\\\\n",
       "\\end{tabular}\n"
      ],
      "text/markdown": [
       "\n",
       "| media | desv | N | error.est | error | lim.inf | lim.sup |\n",
       "|---|---|---|---|---|---|---|\n",
       "| 148.78 | 31.53  | 384    | 1.61   | 4.13   | 144.64 | 152.91 |\n",
       "\n"
      ],
      "text/plain": [
       "  media  desv  N   error.est error lim.inf lim.sup\n",
       "1 148.78 31.53 384 1.61      4.13  144.64  152.91 "
      ]
     },
     "metadata": {},
     "output_type": "display_data"
    },
    {
     "name": "stdout",
     "output_type": "stream",
     "text": [
      "[1] \"Competencias Ciudadanas\"\n"
     ]
    },
    {
     "data": {
      "text/html": [
       "<table>\n",
       "<thead><tr><th scope=col>media</th><th scope=col>desv</th><th scope=col>N</th><th scope=col>error.est</th><th scope=col>error</th><th scope=col>lim.inf</th><th scope=col>lim.sup</th></tr></thead>\n",
       "<tbody>\n",
       "\t<tr><td>144.55</td><td>32.82 </td><td>384   </td><td>1.68  </td><td>4.3   </td><td>140.24</td><td>148.85</td></tr>\n",
       "</tbody>\n",
       "</table>\n"
      ],
      "text/latex": [
       "\\begin{tabular}{r|lllllll}\n",
       " media & desv & N & error.est & error & lim.inf & lim.sup\\\\\n",
       "\\hline\n",
       "\t 144.55 & 32.82  & 384    & 1.68   & 4.3    & 140.24 & 148.85\\\\\n",
       "\\end{tabular}\n"
      ],
      "text/markdown": [
       "\n",
       "| media | desv | N | error.est | error | lim.inf | lim.sup |\n",
       "|---|---|---|---|---|---|---|\n",
       "| 144.55 | 32.82  | 384    | 1.68   | 4.3    | 140.24 | 148.85 |\n",
       "\n"
      ],
      "text/plain": [
       "  media  desv  N   error.est error lim.inf lim.sup\n",
       "1 144.55 32.82 384 1.68      4.3   140.24  148.85 "
      ]
     },
     "metadata": {},
     "output_type": "display_data"
    }
   ],
   "source": [
    "print('Razonamiento Cuantitativo')\n",
    "inf_RC_90<- inferencia(msis$raz_cuant_punt,2.57)\n",
    "round(inf_RC_90,2)\n",
    "print('Lectura Crítica')\n",
    "inf_LC_90<- inferencia(msis$lect_crit_punt,2.57)\n",
    "round(inf_LC_90,2)\n",
    "print(\"Competencias Ciudadanas\")\n",
    "inf_CC_90<- inferencia(msis$comp_ciud_punt,2.57)\n",
    "round(inf_CC_90,2)"
   ]
  },
  {
   "cell_type": "markdown",
   "metadata": {},
   "source": [
    "### Comparaciones entre muestreos "
   ]
  },
  {
   "cell_type": "code",
   "execution_count": 58,
   "metadata": {},
   "outputs": [
    {
     "data": {
      "text/html": [
       "<table>\n",
       "<thead><tr><th></th><th scope=col>poblacion</th><th scope=col>MAS</th><th scope=col>ME</th><th scope=col>MC</th><th scope=col>MS</th></tr></thead>\n",
       "<tbody>\n",
       "\t<tr><th scope=row>tamaño</th><td>725295.0000</td><td>384.0000   </td><td>387.0000   </td><td>401.0000   </td><td>384.0000   </td></tr>\n",
       "\t<tr><th scope=row>media</th><td>   149.4512</td><td>151.3776   </td><td>148.7597   </td><td>150.4090   </td><td>147.9740   </td></tr>\n",
       "\t<tr><th scope=row>desviación estándar</th><td>    30.6923</td><td> 32.2601   </td><td> 29.5134   </td><td> 30.7014   </td><td> 29.4656   </td></tr>\n",
       "\t<tr><th scope=row>simetría</th><td>     0.1637</td><td>  0.3389   </td><td>  0.1878   </td><td>  0.1929   </td><td>  0.0155   </td></tr>\n",
       "\t<tr><th scope=row>kurtosis</th><td>     0.0840</td><td>  0.4272   </td><td> -0.3112   </td><td> -0.6082   </td><td> -0.3776   </td></tr>\n",
       "</tbody>\n",
       "</table>\n"
      ],
      "text/latex": [
       "\\begin{tabular}{r|lllll}\n",
       "  & poblacion & MAS & ME & MC & MS\\\\\n",
       "\\hline\n",
       "\ttamaño & 725295.0000 & 384.0000    & 387.0000    & 401.0000    & 384.0000   \\\\\n",
       "\tmedia &    149.4512 & 151.3776    & 148.7597    & 150.4090    & 147.9740   \\\\\n",
       "\tdesviación estándar &     30.6923 &  32.2601    &  29.5134    &  30.7014    &  29.4656   \\\\\n",
       "\tsimetría &      0.1637 &   0.3389    &   0.1878    &   0.1929    &   0.0155   \\\\\n",
       "\tkurtosis &      0.0840 &   0.4272    &  -0.3112    &  -0.6082    &  -0.3776   \\\\\n",
       "\\end{tabular}\n"
      ],
      "text/markdown": [
       "\n",
       "| <!--/--> | poblacion | MAS | ME | MC | MS |\n",
       "|---|---|---|---|---|---|\n",
       "| tamaño | 725295.0000 | 384.0000    | 387.0000    | 401.0000    | 384.0000    |\n",
       "| media |    149.4512 | 151.3776    | 148.7597    | 150.4090    | 147.9740    |\n",
       "| desviación estándar |     30.6923 |  32.2601    |  29.5134    |  30.7014    |  29.4656    |\n",
       "| simetría |      0.1637 |   0.3389    |   0.1878    |   0.1929    |   0.0155    |\n",
       "| kurtosis |      0.0840 |   0.4272    |  -0.3112    |  -0.6082    |  -0.3776    |\n",
       "\n"
      ],
      "text/plain": [
       "                    poblacion   MAS      ME       MC       MS      \n",
       "tamaño              725295.0000 384.0000 387.0000 401.0000 384.0000\n",
       "media                  149.4512 151.3776 148.7597 150.4090 147.9740\n",
       "desviación estándar     30.6923  32.2601  29.5134  30.7014  29.4656\n",
       "simetría                 0.1637   0.3389   0.1878   0.1929   0.0155\n",
       "kurtosis                 0.0840   0.4272  -0.3112  -0.6082  -0.3776"
      ]
     },
     "metadata": {},
     "output_type": "display_data"
    }
   ],
   "source": [
    "#n=384\n",
    "#Para razonamiento cuantitativo\n",
    "poblacion <- round(mystats(df[,'RC_Puntaje']),4)\n",
    "MAS <- round(mystats(df[s1,'RC_Puntaje']),4)\n",
    "ME <- round(mystats(df[mestratoRC,'RC_Puntaje']),4)\n",
    "MC <- round(mystats(df[muestra_cong,'RC_Puntaje']),4)\n",
    "MS <- round(mystats(df[muestreo_Sis,'RC_Puntaje']),4)\n",
    "data.frame(poblacion,MAS,ME,MC,MS)"
   ]
  },
  {
   "cell_type": "markdown",
   "metadata": {},
   "source": [
    "Finalmente, podemos observar que en este caso el Muestreo Estratificado es el que más se acerca a la media y simetría de la población total. Esto puede ser debido a que toma muestras de una manera más homogénea y tiene en cuenta el estrato escogido. \n",
    "\n",
    "Por otro lado, el Muestreo por Conglomerados es el que más se aproxima a la desviación estándar de la población original, porque en este caso el departamento nos permite agrupar de manera natural todos los datos y que se repartan de forma relativamente homogénea.\n",
    "\n",
    "También, podemos ver que ningún valor de la kurtosis de los distintos muestreos se asemeja al de la población real, esto debido a que se necesitarían una mayor cantidad de datos en la muestra para que la forma de la distribución sea más parecida a la original."
   ]
  }
 ],
 "metadata": {
  "kernelspec": {
   "display_name": "R",
   "language": "R",
   "name": "ir"
  },
  "language_info": {
   "codemirror_mode": "r",
   "file_extension": ".r",
   "mimetype": "text/x-r-source",
   "name": "R",
   "pygments_lexer": "r",
   "version": "3.6.1"
  }
 },
 "nbformat": 4,
 "nbformat_minor": 4
}
